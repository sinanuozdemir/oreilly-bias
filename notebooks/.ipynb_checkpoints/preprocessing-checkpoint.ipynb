{
 "cells": [
  {
   "cell_type": "markdown",
   "id": "ready-silly",
   "metadata": {},
   "source": [
    "COMPAS (Correctional Offender Management Profiling for Alternative Sanctions) "
   ]
  },
  {
   "cell_type": "code",
   "execution_count": 1,
   "id": "surprising-drove",
   "metadata": {},
   "outputs": [],
   "source": [
    "import pandas as pd\n",
    "import numpy as np"
   ]
  },
  {
   "cell_type": "code",
   "execution_count": 2,
   "id": "cross-ethics",
   "metadata": {},
   "outputs": [],
   "source": [
    "compas_df = pd.read_csv('../data/compas-scores-two-years.csv')"
   ]
  },
  {
   "cell_type": "code",
   "execution_count": 3,
   "id": "laughing-reggae",
   "metadata": {},
   "outputs": [
    {
     "data": {
      "text/html": [
       "<div>\n",
       "<style scoped>\n",
       "    .dataframe tbody tr th:only-of-type {\n",
       "        vertical-align: middle;\n",
       "    }\n",
       "\n",
       "    .dataframe tbody tr th {\n",
       "        vertical-align: top;\n",
       "    }\n",
       "\n",
       "    .dataframe thead th {\n",
       "        text-align: right;\n",
       "    }\n",
       "</style>\n",
       "<table border=\"1\" class=\"dataframe\">\n",
       "  <thead>\n",
       "    <tr style=\"text-align: right;\">\n",
       "      <th></th>\n",
       "      <th>id</th>\n",
       "      <th>name</th>\n",
       "      <th>first</th>\n",
       "      <th>last</th>\n",
       "      <th>compas_screening_date</th>\n",
       "      <th>sex</th>\n",
       "      <th>dob</th>\n",
       "      <th>age</th>\n",
       "      <th>age_cat</th>\n",
       "      <th>race</th>\n",
       "      <th>...</th>\n",
       "      <th>v_decile_score</th>\n",
       "      <th>v_score_text</th>\n",
       "      <th>v_screening_date</th>\n",
       "      <th>in_custody</th>\n",
       "      <th>out_custody</th>\n",
       "      <th>priors_count.1</th>\n",
       "      <th>start</th>\n",
       "      <th>end</th>\n",
       "      <th>event</th>\n",
       "      <th>two_year_recid</th>\n",
       "    </tr>\n",
       "  </thead>\n",
       "  <tbody>\n",
       "    <tr>\n",
       "      <th>0</th>\n",
       "      <td>1</td>\n",
       "      <td>miguel hernandez</td>\n",
       "      <td>miguel</td>\n",
       "      <td>hernandez</td>\n",
       "      <td>2013-08-14</td>\n",
       "      <td>Male</td>\n",
       "      <td>1947-04-18</td>\n",
       "      <td>69</td>\n",
       "      <td>Greater than 45</td>\n",
       "      <td>Other</td>\n",
       "      <td>...</td>\n",
       "      <td>1</td>\n",
       "      <td>Low</td>\n",
       "      <td>2013-08-14</td>\n",
       "      <td>2014-07-07</td>\n",
       "      <td>2014-07-14</td>\n",
       "      <td>0</td>\n",
       "      <td>0</td>\n",
       "      <td>327</td>\n",
       "      <td>0</td>\n",
       "      <td>0</td>\n",
       "    </tr>\n",
       "    <tr>\n",
       "      <th>1</th>\n",
       "      <td>3</td>\n",
       "      <td>kevon dixon</td>\n",
       "      <td>kevon</td>\n",
       "      <td>dixon</td>\n",
       "      <td>2013-01-27</td>\n",
       "      <td>Male</td>\n",
       "      <td>1982-01-22</td>\n",
       "      <td>34</td>\n",
       "      <td>25 - 45</td>\n",
       "      <td>African-American</td>\n",
       "      <td>...</td>\n",
       "      <td>1</td>\n",
       "      <td>Low</td>\n",
       "      <td>2013-01-27</td>\n",
       "      <td>2013-01-26</td>\n",
       "      <td>2013-02-05</td>\n",
       "      <td>0</td>\n",
       "      <td>9</td>\n",
       "      <td>159</td>\n",
       "      <td>1</td>\n",
       "      <td>1</td>\n",
       "    </tr>\n",
       "    <tr>\n",
       "      <th>2</th>\n",
       "      <td>4</td>\n",
       "      <td>ed philo</td>\n",
       "      <td>ed</td>\n",
       "      <td>philo</td>\n",
       "      <td>2013-04-14</td>\n",
       "      <td>Male</td>\n",
       "      <td>1991-05-14</td>\n",
       "      <td>24</td>\n",
       "      <td>Less than 25</td>\n",
       "      <td>African-American</td>\n",
       "      <td>...</td>\n",
       "      <td>3</td>\n",
       "      <td>Low</td>\n",
       "      <td>2013-04-14</td>\n",
       "      <td>2013-06-16</td>\n",
       "      <td>2013-06-16</td>\n",
       "      <td>4</td>\n",
       "      <td>0</td>\n",
       "      <td>63</td>\n",
       "      <td>0</td>\n",
       "      <td>1</td>\n",
       "    </tr>\n",
       "    <tr>\n",
       "      <th>3</th>\n",
       "      <td>5</td>\n",
       "      <td>marcu brown</td>\n",
       "      <td>marcu</td>\n",
       "      <td>brown</td>\n",
       "      <td>2013-01-13</td>\n",
       "      <td>Male</td>\n",
       "      <td>1993-01-21</td>\n",
       "      <td>23</td>\n",
       "      <td>Less than 25</td>\n",
       "      <td>African-American</td>\n",
       "      <td>...</td>\n",
       "      <td>6</td>\n",
       "      <td>Medium</td>\n",
       "      <td>2013-01-13</td>\n",
       "      <td>NaN</td>\n",
       "      <td>NaN</td>\n",
       "      <td>1</td>\n",
       "      <td>0</td>\n",
       "      <td>1174</td>\n",
       "      <td>0</td>\n",
       "      <td>0</td>\n",
       "    </tr>\n",
       "    <tr>\n",
       "      <th>4</th>\n",
       "      <td>6</td>\n",
       "      <td>bouthy pierrelouis</td>\n",
       "      <td>bouthy</td>\n",
       "      <td>pierrelouis</td>\n",
       "      <td>2013-03-26</td>\n",
       "      <td>Male</td>\n",
       "      <td>1973-01-22</td>\n",
       "      <td>43</td>\n",
       "      <td>25 - 45</td>\n",
       "      <td>Other</td>\n",
       "      <td>...</td>\n",
       "      <td>1</td>\n",
       "      <td>Low</td>\n",
       "      <td>2013-03-26</td>\n",
       "      <td>NaN</td>\n",
       "      <td>NaN</td>\n",
       "      <td>2</td>\n",
       "      <td>0</td>\n",
       "      <td>1102</td>\n",
       "      <td>0</td>\n",
       "      <td>0</td>\n",
       "    </tr>\n",
       "  </tbody>\n",
       "</table>\n",
       "<p>5 rows × 53 columns</p>\n",
       "</div>"
      ],
      "text/plain": [
       "   id                name   first         last compas_screening_date   sex  \\\n",
       "0   1    miguel hernandez  miguel    hernandez            2013-08-14  Male   \n",
       "1   3         kevon dixon   kevon        dixon            2013-01-27  Male   \n",
       "2   4            ed philo      ed        philo            2013-04-14  Male   \n",
       "3   5         marcu brown   marcu        brown            2013-01-13  Male   \n",
       "4   6  bouthy pierrelouis  bouthy  pierrelouis            2013-03-26  Male   \n",
       "\n",
       "          dob  age          age_cat              race  ...  v_decile_score  \\\n",
       "0  1947-04-18   69  Greater than 45             Other  ...               1   \n",
       "1  1982-01-22   34          25 - 45  African-American  ...               1   \n",
       "2  1991-05-14   24     Less than 25  African-American  ...               3   \n",
       "3  1993-01-21   23     Less than 25  African-American  ...               6   \n",
       "4  1973-01-22   43          25 - 45             Other  ...               1   \n",
       "\n",
       "   v_score_text  v_screening_date  in_custody  out_custody  priors_count.1  \\\n",
       "0           Low        2013-08-14  2014-07-07   2014-07-14               0   \n",
       "1           Low        2013-01-27  2013-01-26   2013-02-05               0   \n",
       "2           Low        2013-04-14  2013-06-16   2013-06-16               4   \n",
       "3        Medium        2013-01-13         NaN          NaN               1   \n",
       "4           Low        2013-03-26         NaN          NaN               2   \n",
       "\n",
       "  start   end event two_year_recid  \n",
       "0     0   327     0              0  \n",
       "1     9   159     1              1  \n",
       "2     0    63     0              1  \n",
       "3     0  1174     0              0  \n",
       "4     0  1102     0              0  \n",
       "\n",
       "[5 rows x 53 columns]"
      ]
     },
     "execution_count": 3,
     "metadata": {},
     "output_type": "execute_result"
    }
   ],
   "source": [
    "compas_df.head()"
   ]
  },
  {
   "cell_type": "code",
   "execution_count": 4,
   "id": "rubber-silver",
   "metadata": {},
   "outputs": [
    {
     "data": {
      "text/plain": [
       "<AxesSubplot:title={'center':'Decile Score Histogram by Race'}, xlabel='race', ylabel='% with Decile Score'>"
      ]
     },
     "execution_count": 4,
     "metadata": {},
     "output_type": "execute_result"
    },
    {
     "data": {
      "image/png": "[encoded data removed]",
      "text/plain": [
       "<Figure size 1440x504 with 1 Axes>"
      ]
     },
     "metadata": {
      "needs_background": "light"
     },
     "output_type": "display_data"
    }
   ],
   "source": [
    "compas_df.groupby('race')['decile_score'].value_counts(\n",
    "    normalize=True\n",
    ").unstack().plot(\n",
    "    kind='bar', figsize=(20, 7),\n",
    "    title='Decile Score Histogram by Race', ylabel='% with Decile Score'\n",
    ")"
   ]
  },
  {
   "cell_type": "code",
   "execution_count": 5,
   "id": "47421352",
   "metadata": {},
   "outputs": [
    {
     "data": {
      "text/plain": [
       "race\n",
       "African-American    0.514340\n",
       "Asian               0.281250\n",
       "Caucasian           0.393643\n",
       "Hispanic            0.364207\n",
       "Native American     0.555556\n",
       "Other               0.352785\n",
       "Name: two_year_recid, dtype: float64"
      ]
     },
     "execution_count": 5,
     "metadata": {},
     "output_type": "execute_result"
    }
   ],
   "source": [
    "compas_df.groupby('race')['two_year_recid'].mean()"
   ]
  },
  {
   "cell_type": "code",
   "execution_count": 6,
   "id": "arctic-accounting",
   "metadata": {},
   "outputs": [],
   "source": [
    "# Courts generally use  a decile score of 5 to label someone as being medium risk.\n",
    "compas_df['is_med_or_high_risk'] = (compas_df['decile_score']>=5).astype(bool)\n"
   ]
  },
  {
   "cell_type": "code",
   "execution_count": 7,
   "id": "british-makeup",
   "metadata": {},
   "outputs": [
    {
     "data": {
      "text/plain": [
       "0.6537288605489326"
      ]
     },
     "execution_count": 7,
     "metadata": {},
     "output_type": "execute_result"
    }
   ],
   "source": [
    "# Hmm, not great if the court's system of 5 or higher on the decile score is only accurate 65% of the time\n",
    "(compas_df['is_med_or_high_risk']==compas_df['two_year_recid']).mean()\n"
   ]
  },
  {
   "cell_type": "code",
   "execution_count": null,
   "id": "fdd72bf1",
   "metadata": {},
   "outputs": [],
   "source": []
  },
  {
   "cell_type": "code",
   "execution_count": null,
   "id": "b86e41fa",
   "metadata": {},
   "outputs": [],
   "source": []
  },
  {
   "cell_type": "code",
   "execution_count": 8,
   "id": "legislative-sword",
   "metadata": {},
   "outputs": [
    {
     "data": {
      "image/png": "[encoded data removed]",
      "text/plain": [
       "<Figure size 504x432 with 2 Axes>"
      ]
     },
     "metadata": {
      "needs_background": "light"
     },
     "output_type": "display_data"
    }
   ],
   "source": [
    "import seaborn as sns\n",
    "import matplotlib.pyplot as plt\n",
    "\n",
    "# heatmap of recidivism\n",
    "cm = pd.crosstab(\n",
    "    compas_df['is_med_or_high_risk'], compas_df['two_year_recid'], \n",
    "    rownames=['Predicted Recidivism'], colnames=['Actual Recidivism']\n",
    ")\n",
    "p = plt.figure(figsize=(7,6))\n",
    "p = sns.heatmap(cm, annot=True, fmt='d')"
   ]
  },
  {
   "cell_type": "code",
   "execution_count": 9,
   "id": "raised-excess",
   "metadata": {},
   "outputs": [
    {
     "data": {
      "text/plain": [
       "<AxesSubplot:title={'center':'Recidivism vs Decile Score'}, xlabel='Decile Score', ylabel='Recidivism Rate'>"
      ]
     },
     "execution_count": 9,
     "metadata": {},
     "output_type": "execute_result"
    },
    {
     "data": {
      "image/png": "[encoded data removed]",
      "text/plain": [
       "<Figure size 1440x504 with 1 Axes>"
      ]
     },
     "metadata": {
      "needs_background": "light"
     },
     "output_type": "display_data"
    }
   ],
   "source": [
    "# scatter plot \n",
    "compas_df.groupby('decile_score')[['two_year_recid']].mean().unstack().T.plot(\n",
    "    xlabel='Decile Score', ylabel='Recidivism Rate', title='Recidivism vs Decile Score',\n",
    "    style='.', figsize=(20, 7),\n",
    "    ms=20\n",
    ")"
   ]
  },
  {
   "cell_type": "code",
   "execution_count": 10,
   "id": "lightweight-chorus",
   "metadata": {},
   "outputs": [
    {
     "data": {
      "text/html": [
       "<div>\n",
       "<style scoped>\n",
       "    .dataframe tbody tr th:only-of-type {\n",
       "        vertical-align: middle;\n",
       "    }\n",
       "\n",
       "    .dataframe tbody tr th {\n",
       "        vertical-align: top;\n",
       "    }\n",
       "\n",
       "    .dataframe thead tr th {\n",
       "        text-align: left;\n",
       "    }\n",
       "\n",
       "    .dataframe thead tr:last-of-type th {\n",
       "        text-align: right;\n",
       "    }\n",
       "</style>\n",
       "<table border=\"1\" class=\"dataframe\">\n",
       "  <thead>\n",
       "    <tr>\n",
       "      <th></th>\n",
       "      <th colspan=\"10\" halign=\"left\">two_year_recid</th>\n",
       "    </tr>\n",
       "    <tr>\n",
       "      <th>decile_score</th>\n",
       "      <th>1</th>\n",
       "      <th>2</th>\n",
       "      <th>3</th>\n",
       "      <th>4</th>\n",
       "      <th>5</th>\n",
       "      <th>6</th>\n",
       "      <th>7</th>\n",
       "      <th>8</th>\n",
       "      <th>9</th>\n",
       "      <th>10</th>\n",
       "    </tr>\n",
       "    <tr>\n",
       "      <th>race</th>\n",
       "      <th></th>\n",
       "      <th></th>\n",
       "      <th></th>\n",
       "      <th></th>\n",
       "      <th></th>\n",
       "      <th></th>\n",
       "      <th></th>\n",
       "      <th></th>\n",
       "      <th></th>\n",
       "      <th></th>\n",
       "    </tr>\n",
       "  </thead>\n",
       "  <tbody>\n",
       "    <tr>\n",
       "      <th>African-American</th>\n",
       "      <td>0.228643</td>\n",
       "      <td>0.302799</td>\n",
       "      <td>0.419075</td>\n",
       "      <td>0.459740</td>\n",
       "      <td>0.482192</td>\n",
       "      <td>0.559896</td>\n",
       "      <td>0.592500</td>\n",
       "      <td>0.682451</td>\n",
       "      <td>0.707895</td>\n",
       "      <td>0.793706</td>\n",
       "    </tr>\n",
       "    <tr>\n",
       "      <th>Asian</th>\n",
       "      <td>0.066667</td>\n",
       "      <td>0.000000</td>\n",
       "      <td>0.400000</td>\n",
       "      <td>NaN</td>\n",
       "      <td>1.000000</td>\n",
       "      <td>0.666667</td>\n",
       "      <td>1.000000</td>\n",
       "      <td>0.500000</td>\n",
       "      <td>NaN</td>\n",
       "      <td>1.000000</td>\n",
       "    </tr>\n",
       "    <tr>\n",
       "      <th>Caucasian</th>\n",
       "      <td>0.208517</td>\n",
       "      <td>0.313019</td>\n",
       "      <td>0.340659</td>\n",
       "      <td>0.396491</td>\n",
       "      <td>0.460581</td>\n",
       "      <td>0.572165</td>\n",
       "      <td>0.615385</td>\n",
       "      <td>0.719298</td>\n",
       "      <td>0.693878</td>\n",
       "      <td>0.703125</td>\n",
       "    </tr>\n",
       "    <tr>\n",
       "      <th>Hispanic</th>\n",
       "      <td>0.244898</td>\n",
       "      <td>0.318584</td>\n",
       "      <td>0.313953</td>\n",
       "      <td>0.346154</td>\n",
       "      <td>0.538462</td>\n",
       "      <td>0.567568</td>\n",
       "      <td>0.470588</td>\n",
       "      <td>0.500000</td>\n",
       "      <td>0.550000</td>\n",
       "      <td>0.666667</td>\n",
       "    </tr>\n",
       "    <tr>\n",
       "      <th>Native American</th>\n",
       "      <td>NaN</td>\n",
       "      <td>0.000000</td>\n",
       "      <td>0.000000</td>\n",
       "      <td>1.000000</td>\n",
       "      <td>NaN</td>\n",
       "      <td>0.500000</td>\n",
       "      <td>0.750000</td>\n",
       "      <td>1.000000</td>\n",
       "      <td>0.500000</td>\n",
       "      <td>1.000000</td>\n",
       "    </tr>\n",
       "    <tr>\n",
       "      <th>Other</th>\n",
       "      <td>0.173333</td>\n",
       "      <td>0.378788</td>\n",
       "      <td>0.388889</td>\n",
       "      <td>0.543478</td>\n",
       "      <td>0.454545</td>\n",
       "      <td>0.380952</td>\n",
       "      <td>0.500000</td>\n",
       "      <td>0.800000</td>\n",
       "      <td>0.750000</td>\n",
       "      <td>0.750000</td>\n",
       "    </tr>\n",
       "  </tbody>\n",
       "</table>\n",
       "</div>"
      ],
      "text/plain": [
       "                 two_year_recid                                          \\\n",
       "decile_score                 1         2         3         4         5    \n",
       "race                                                                      \n",
       "African-American       0.228643  0.302799  0.419075  0.459740  0.482192   \n",
       "Asian                  0.066667  0.000000  0.400000       NaN  1.000000   \n",
       "Caucasian              0.208517  0.313019  0.340659  0.396491  0.460581   \n",
       "Hispanic               0.244898  0.318584  0.313953  0.346154  0.538462   \n",
       "Native American             NaN  0.000000  0.000000  1.000000       NaN   \n",
       "Other                  0.173333  0.378788  0.388889  0.543478  0.454545   \n",
       "\n",
       "                                                                    \n",
       "decile_score            6         7         8         9         10  \n",
       "race                                                                \n",
       "African-American  0.559896  0.592500  0.682451  0.707895  0.793706  \n",
       "Asian             0.666667  1.000000  0.500000       NaN  1.000000  \n",
       "Caucasian         0.572165  0.615385  0.719298  0.693878  0.703125  \n",
       "Hispanic          0.567568  0.470588  0.500000  0.550000  0.666667  \n",
       "Native American   0.500000  0.750000  1.000000  0.500000  1.000000  \n",
       "Other             0.380952  0.500000  0.800000  0.750000  0.750000  "
      ]
     },
     "execution_count": 10,
     "metadata": {},
     "output_type": "execute_result"
    }
   ],
   "source": [
    "# scatter plot \n",
    "compas_df.groupby(\n",
    "    ['race', 'decile_score']\n",
    ")[['two_year_recid']].mean().unstack()"
   ]
  },
  {
   "cell_type": "code",
   "execution_count": 11,
   "id": "black-program",
   "metadata": {},
   "outputs": [
    {
     "data": {
      "text/plain": [
       "<AxesSubplot:title={'center':'Recidivism vs Decile Score by Race'}, xlabel='Decile Score', ylabel='Recidivism Rate'>"
      ]
     },
     "execution_count": 11,
     "metadata": {},
     "output_type": "execute_result"
    },
    {
     "data": {
      "image/png": "[encoded data removed]",
      "text/plain": [
       "<Figure size 1440x504 with 1 Axes>"
      ]
     },
     "metadata": {
      "needs_background": "light"
     },
     "output_type": "display_data"
    }
   ],
   "source": [
    "# scatter plot \n",
    "compas_df.groupby(\n",
    "    ['race', 'decile_score']\n",
    ")[['two_year_recid']].mean().unstack().T.plot(\n",
    "    xlabel='Decile Score', ylabel='Recidivism Rate', title='Recidivism vs Decile Score by Race',\n",
    "    style='.', figsize=(20, 7),\n",
    "    ms=20\n",
    ")"
   ]
  },
  {
   "cell_type": "code",
   "execution_count": 12,
   "id": "bridal-nitrogen",
   "metadata": {},
   "outputs": [
    {
     "data": {
      "text/html": [
       "<div>\n",
       "<style scoped>\n",
       "    .dataframe tbody tr th:only-of-type {\n",
       "        vertical-align: middle;\n",
       "    }\n",
       "\n",
       "    .dataframe tbody tr th {\n",
       "        vertical-align: top;\n",
       "    }\n",
       "\n",
       "    .dataframe thead th {\n",
       "        text-align: right;\n",
       "    }\n",
       "</style>\n",
       "<table border=\"1\" class=\"dataframe\">\n",
       "  <thead>\n",
       "    <tr style=\"text-align: right;\">\n",
       "      <th></th>\n",
       "      <th>sex</th>\n",
       "      <th>age</th>\n",
       "      <th>race</th>\n",
       "      <th>juv_fel_count</th>\n",
       "      <th>juv_misd_count</th>\n",
       "      <th>juv_other_count</th>\n",
       "      <th>priors_count</th>\n",
       "      <th>c_charge_degree</th>\n",
       "      <th>two_year_recid</th>\n",
       "    </tr>\n",
       "  </thead>\n",
       "  <tbody>\n",
       "    <tr>\n",
       "      <th>0</th>\n",
       "      <td>Male</td>\n",
       "      <td>69</td>\n",
       "      <td>Other</td>\n",
       "      <td>0</td>\n",
       "      <td>0</td>\n",
       "      <td>0</td>\n",
       "      <td>0</td>\n",
       "      <td>F</td>\n",
       "      <td>0</td>\n",
       "    </tr>\n",
       "    <tr>\n",
       "      <th>1</th>\n",
       "      <td>Male</td>\n",
       "      <td>34</td>\n",
       "      <td>African-American</td>\n",
       "      <td>0</td>\n",
       "      <td>0</td>\n",
       "      <td>0</td>\n",
       "      <td>0</td>\n",
       "      <td>F</td>\n",
       "      <td>1</td>\n",
       "    </tr>\n",
       "    <tr>\n",
       "      <th>2</th>\n",
       "      <td>Male</td>\n",
       "      <td>24</td>\n",
       "      <td>African-American</td>\n",
       "      <td>0</td>\n",
       "      <td>0</td>\n",
       "      <td>1</td>\n",
       "      <td>4</td>\n",
       "      <td>F</td>\n",
       "      <td>1</td>\n",
       "    </tr>\n",
       "    <tr>\n",
       "      <th>3</th>\n",
       "      <td>Male</td>\n",
       "      <td>23</td>\n",
       "      <td>African-American</td>\n",
       "      <td>0</td>\n",
       "      <td>1</td>\n",
       "      <td>0</td>\n",
       "      <td>1</td>\n",
       "      <td>F</td>\n",
       "      <td>0</td>\n",
       "    </tr>\n",
       "    <tr>\n",
       "      <th>4</th>\n",
       "      <td>Male</td>\n",
       "      <td>43</td>\n",
       "      <td>Other</td>\n",
       "      <td>0</td>\n",
       "      <td>0</td>\n",
       "      <td>0</td>\n",
       "      <td>2</td>\n",
       "      <td>F</td>\n",
       "      <td>0</td>\n",
       "    </tr>\n",
       "  </tbody>\n",
       "</table>\n",
       "</div>"
      ],
      "text/plain": [
       "    sex  age              race  juv_fel_count  juv_misd_count  \\\n",
       "0  Male   69             Other              0               0   \n",
       "1  Male   34  African-American              0               0   \n",
       "2  Male   24  African-American              0               0   \n",
       "3  Male   23  African-American              0               1   \n",
       "4  Male   43             Other              0               0   \n",
       "\n",
       "   juv_other_count  priors_count c_charge_degree  two_year_recid  \n",
       "0                0             0               F               0  \n",
       "1                0             0               F               1  \n",
       "2                1             4               F               1  \n",
       "3                0             1               F               0  \n",
       "4                0             2               F               0  "
      ]
     },
     "execution_count": 12,
     "metadata": {},
     "output_type": "execute_result"
    }
   ],
   "source": [
    "compas_df = compas_df[[\"sex\", \"age\", \"race\", \"juv_fel_count\", \"juv_misd_count\",\n",
    "                 \"juv_other_count\", \"priors_count\", \"c_charge_degree\", \"two_year_recid\"]]\n",
    "compas_df.head() "
   ]
  },
  {
   "cell_type": "code",
   "execution_count": 13,
   "id": "experimental-strengthening",
   "metadata": {},
   "outputs": [
    {
     "data": {
      "text/plain": [
       "African-American    0.512337\n",
       "Caucasian           0.340172\n",
       "Hispanic            0.088301\n",
       "Other               0.052259\n",
       "Asian               0.004436\n",
       "Native American     0.002495\n",
       "Name: race, dtype: float64"
      ]
     },
     "execution_count": 13,
     "metadata": {},
     "output_type": "execute_result"
    }
   ],
   "source": [
    "compas_df['race'].value_counts(normalize=True)"
   ]
  },
  {
   "cell_type": "code",
   "execution_count": 14,
   "id": "neural-calibration",
   "metadata": {},
   "outputs": [
    {
     "data": {
      "text/html": [
       "<div>\n",
       "<style scoped>\n",
       "    .dataframe tbody tr th:only-of-type {\n",
       "        vertical-align: middle;\n",
       "    }\n",
       "\n",
       "    .dataframe tbody tr th {\n",
       "        vertical-align: top;\n",
       "    }\n",
       "\n",
       "    .dataframe thead th {\n",
       "        text-align: right;\n",
       "    }\n",
       "</style>\n",
       "<table border=\"1\" class=\"dataframe\">\n",
       "  <thead>\n",
       "    <tr style=\"text-align: right;\">\n",
       "      <th></th>\n",
       "      <th>count</th>\n",
       "      <th>mean</th>\n",
       "      <th>std</th>\n",
       "      <th>min</th>\n",
       "      <th>25%</th>\n",
       "      <th>50%</th>\n",
       "      <th>75%</th>\n",
       "      <th>max</th>\n",
       "    </tr>\n",
       "    <tr>\n",
       "      <th>race</th>\n",
       "      <th></th>\n",
       "      <th></th>\n",
       "      <th></th>\n",
       "      <th></th>\n",
       "      <th></th>\n",
       "      <th></th>\n",
       "      <th></th>\n",
       "      <th></th>\n",
       "    </tr>\n",
       "  </thead>\n",
       "  <tbody>\n",
       "    <tr>\n",
       "      <th>African-American</th>\n",
       "      <td>3696.0</td>\n",
       "      <td>0.514340</td>\n",
       "      <td>0.499862</td>\n",
       "      <td>0.0</td>\n",
       "      <td>0.0</td>\n",
       "      <td>1.0</td>\n",
       "      <td>1.0</td>\n",
       "      <td>1.0</td>\n",
       "    </tr>\n",
       "    <tr>\n",
       "      <th>Asian</th>\n",
       "      <td>32.0</td>\n",
       "      <td>0.281250</td>\n",
       "      <td>0.456803</td>\n",
       "      <td>0.0</td>\n",
       "      <td>0.0</td>\n",
       "      <td>0.0</td>\n",
       "      <td>1.0</td>\n",
       "      <td>1.0</td>\n",
       "    </tr>\n",
       "    <tr>\n",
       "      <th>Caucasian</th>\n",
       "      <td>2454.0</td>\n",
       "      <td>0.393643</td>\n",
       "      <td>0.488657</td>\n",
       "      <td>0.0</td>\n",
       "      <td>0.0</td>\n",
       "      <td>0.0</td>\n",
       "      <td>1.0</td>\n",
       "      <td>1.0</td>\n",
       "    </tr>\n",
       "    <tr>\n",
       "      <th>Hispanic</th>\n",
       "      <td>637.0</td>\n",
       "      <td>0.364207</td>\n",
       "      <td>0.481585</td>\n",
       "      <td>0.0</td>\n",
       "      <td>0.0</td>\n",
       "      <td>0.0</td>\n",
       "      <td>1.0</td>\n",
       "      <td>1.0</td>\n",
       "    </tr>\n",
       "    <tr>\n",
       "      <th>Native American</th>\n",
       "      <td>18.0</td>\n",
       "      <td>0.555556</td>\n",
       "      <td>0.511310</td>\n",
       "      <td>0.0</td>\n",
       "      <td>0.0</td>\n",
       "      <td>1.0</td>\n",
       "      <td>1.0</td>\n",
       "      <td>1.0</td>\n",
       "    </tr>\n",
       "    <tr>\n",
       "      <th>Other</th>\n",
       "      <td>377.0</td>\n",
       "      <td>0.352785</td>\n",
       "      <td>0.478472</td>\n",
       "      <td>0.0</td>\n",
       "      <td>0.0</td>\n",
       "      <td>0.0</td>\n",
       "      <td>1.0</td>\n",
       "      <td>1.0</td>\n",
       "    </tr>\n",
       "  </tbody>\n",
       "</table>\n",
       "</div>"
      ],
      "text/plain": [
       "                   count      mean       std  min  25%  50%  75%  max\n",
       "race                                                                 \n",
       "African-American  3696.0  0.514340  0.499862  0.0  0.0  1.0  1.0  1.0\n",
       "Asian               32.0  0.281250  0.456803  0.0  0.0  0.0  1.0  1.0\n",
       "Caucasian         2454.0  0.393643  0.488657  0.0  0.0  0.0  1.0  1.0\n",
       "Hispanic           637.0  0.364207  0.481585  0.0  0.0  0.0  1.0  1.0\n",
       "Native American     18.0  0.555556  0.511310  0.0  0.0  1.0  1.0  1.0\n",
       "Other              377.0  0.352785  0.478472  0.0  0.0  0.0  1.0  1.0"
      ]
     },
     "execution_count": 14,
     "metadata": {},
     "output_type": "execute_result"
    }
   ],
   "source": [
    "compas_df.groupby('race')['two_year_recid'].describe()"
   ]
  },
  {
   "cell_type": "code",
   "execution_count": 15,
   "id": "color-bundle",
   "metadata": {},
   "outputs": [],
   "source": [
    "# re-label two races as Other. \n",
    "# This is done purely for educational reasons and to avoid addressing issues with a skewed sample in our data\n",
    "compas_df.loc[compas_df['race'].isin(['Native American', 'Asian']), 'race'] = 'Other'"
   ]
  },
  {
   "cell_type": "code",
   "execution_count": 16,
   "id": "appointed-advice",
   "metadata": {},
   "outputs": [
    {
     "data": {
      "text/html": [
       "<div>\n",
       "<style scoped>\n",
       "    .dataframe tbody tr th:only-of-type {\n",
       "        vertical-align: middle;\n",
       "    }\n",
       "\n",
       "    .dataframe tbody tr th {\n",
       "        vertical-align: top;\n",
       "    }\n",
       "\n",
       "    .dataframe thead th {\n",
       "        text-align: right;\n",
       "    }\n",
       "</style>\n",
       "<table border=\"1\" class=\"dataframe\">\n",
       "  <thead>\n",
       "    <tr style=\"text-align: right;\">\n",
       "      <th></th>\n",
       "      <th>count</th>\n",
       "      <th>mean</th>\n",
       "      <th>std</th>\n",
       "      <th>min</th>\n",
       "      <th>25%</th>\n",
       "      <th>50%</th>\n",
       "      <th>75%</th>\n",
       "      <th>max</th>\n",
       "    </tr>\n",
       "    <tr>\n",
       "      <th>race</th>\n",
       "      <th></th>\n",
       "      <th></th>\n",
       "      <th></th>\n",
       "      <th></th>\n",
       "      <th></th>\n",
       "      <th></th>\n",
       "      <th></th>\n",
       "      <th></th>\n",
       "    </tr>\n",
       "  </thead>\n",
       "  <tbody>\n",
       "    <tr>\n",
       "      <th>African-American</th>\n",
       "      <td>3696.0</td>\n",
       "      <td>0.514340</td>\n",
       "      <td>0.499862</td>\n",
       "      <td>0.0</td>\n",
       "      <td>0.0</td>\n",
       "      <td>1.0</td>\n",
       "      <td>1.0</td>\n",
       "      <td>1.0</td>\n",
       "    </tr>\n",
       "    <tr>\n",
       "      <th>Caucasian</th>\n",
       "      <td>2454.0</td>\n",
       "      <td>0.393643</td>\n",
       "      <td>0.488657</td>\n",
       "      <td>0.0</td>\n",
       "      <td>0.0</td>\n",
       "      <td>0.0</td>\n",
       "      <td>1.0</td>\n",
       "      <td>1.0</td>\n",
       "    </tr>\n",
       "    <tr>\n",
       "      <th>Hispanic</th>\n",
       "      <td>637.0</td>\n",
       "      <td>0.364207</td>\n",
       "      <td>0.481585</td>\n",
       "      <td>0.0</td>\n",
       "      <td>0.0</td>\n",
       "      <td>0.0</td>\n",
       "      <td>1.0</td>\n",
       "      <td>1.0</td>\n",
       "    </tr>\n",
       "    <tr>\n",
       "      <th>Other</th>\n",
       "      <td>427.0</td>\n",
       "      <td>0.355972</td>\n",
       "      <td>0.479368</td>\n",
       "      <td>0.0</td>\n",
       "      <td>0.0</td>\n",
       "      <td>0.0</td>\n",
       "      <td>1.0</td>\n",
       "      <td>1.0</td>\n",
       "    </tr>\n",
       "  </tbody>\n",
       "</table>\n",
       "</div>"
      ],
      "text/plain": [
       "                   count      mean       std  min  25%  50%  75%  max\n",
       "race                                                                 \n",
       "African-American  3696.0  0.514340  0.499862  0.0  0.0  1.0  1.0  1.0\n",
       "Caucasian         2454.0  0.393643  0.488657  0.0  0.0  0.0  1.0  1.0\n",
       "Hispanic           637.0  0.364207  0.481585  0.0  0.0  0.0  1.0  1.0\n",
       "Other              427.0  0.355972  0.479368  0.0  0.0  0.0  1.0  1.0"
      ]
     },
     "execution_count": 16,
     "metadata": {},
     "output_type": "execute_result"
    }
   ],
   "source": [
    "compas_df.groupby('race')['two_year_recid'].describe()"
   ]
  },
  {
   "cell_type": "code",
   "execution_count": 17,
   "id": "religious-convention",
   "metadata": {},
   "outputs": [
    {
     "data": {
      "text/plain": [
       "<AxesSubplot:title={'center':'Actual Recidivism Rates by Race'}, xlabel='race'>"
      ]
     },
     "execution_count": 17,
     "metadata": {},
     "output_type": "execute_result"
    },
    {
     "data": {
      "image/png": "[encoded data removed]",
      "text/plain": [
       "<Figure size 720x360 with 1 Axes>"
      ]
     },
     "metadata": {
      "needs_background": "light"
     },
     "output_type": "display_data"
    }
   ],
   "source": [
    "compas_df.groupby('race')['two_year_recid'].value_counts(\n",
    "    normalize=True\n",
    ").unstack().plot(\n",
    "    kind='bar', figsize=(10, 5), title='Actual Recidivism Rates by Race'\n",
    ")"
   ]
  },
  {
   "cell_type": "code",
   "execution_count": 18,
   "id": "professional-forest",
   "metadata": {},
   "outputs": [
    {
     "data": {
      "text/plain": [
       "<AxesSubplot:title={'center':'% of Charge Degree'}, xlabel='Charge Degree', ylabel='%'>"
      ]
     },
     "execution_count": 18,
     "metadata": {},
     "output_type": "execute_result"
    },
    {
     "data": {
      "image/png": "[encoded data removed]",
      "text/plain": [
       "<Figure size 432x288 with 1 Axes>"
      ]
     },
     "metadata": {
      "needs_background": "light"
     },
     "output_type": "display_data"
    }
   ],
   "source": [
    "compas_df['c_charge_degree'].value_counts(normalize=True).plot(\n",
    "    kind='bar', title='% of Charge Degree', ylabel='%', xlabel='Charge Degree'\n",
    ")"
   ]
  },
  {
   "cell_type": "code",
   "execution_count": 19,
   "id": "spanish-renewal",
   "metadata": {},
   "outputs": [
    {
     "data": {
      "text/plain": [
       "<AxesSubplot:title={'center':'Histogram of Age'}, ylabel='Frequency'>"
      ]
     },
     "execution_count": 19,
     "metadata": {},
     "output_type": "execute_result"
    },
    {
     "data": {
      "image/png": "[encoded data removed]",
      "text/plain": [
       "<Figure size 720x360 with 1 Axes>"
      ]
     },
     "metadata": {
      "needs_background": "light"
     },
     "output_type": "display_data"
    }
   ],
   "source": [
    "# Right skew on Age\n",
    "compas_df['age'].plot(\n",
    "    title='Histogram of Age', kind='hist', xlabel='Age', figsize=(10, 5)\n",
    ")"
   ]
  },
  {
   "cell_type": "code",
   "execution_count": null,
   "id": "brutal-facing",
   "metadata": {},
   "outputs": [],
   "source": []
  },
  {
   "cell_type": "code",
   "execution_count": 20,
   "id": "atmospheric-editor",
   "metadata": {},
   "outputs": [
    {
     "data": {
      "text/plain": [
       "<AxesSubplot:title={'center':'Histogram of Priors Count'}, ylabel='Frequency'>"
      ]
     },
     "execution_count": 20,
     "metadata": {},
     "output_type": "execute_result"
    },
    {
     "data": {
      "image/png": "[encoded data removed]",
      "text/plain": [
       "<Figure size 720x360 with 1 Axes>"
      ]
     },
     "metadata": {
      "needs_background": "light"
     },
     "output_type": "display_data"
    }
   ],
   "source": [
    "# Right skew on Priors as well\n",
    "compas_df['priors_count'].plot(\n",
    "    title='Histogram of Priors Count', kind='hist', xlabel='Priors', figsize=(10, 5)\n",
    ")"
   ]
  },
  {
   "cell_type": "code",
   "execution_count": null,
   "id": "indoor-slovenia",
   "metadata": {},
   "outputs": [],
   "source": []
  },
  {
   "cell_type": "code",
   "execution_count": 21,
   "id": "narrow-waters",
   "metadata": {},
   "outputs": [
    {
     "data": {
      "text/html": [
       "<div>\n",
       "<style scoped>\n",
       "    .dataframe tbody tr th:only-of-type {\n",
       "        vertical-align: middle;\n",
       "    }\n",
       "\n",
       "    .dataframe tbody tr th {\n",
       "        vertical-align: top;\n",
       "    }\n",
       "\n",
       "    .dataframe thead th {\n",
       "        text-align: right;\n",
       "    }\n",
       "</style>\n",
       "<table border=\"1\" class=\"dataframe\">\n",
       "  <thead>\n",
       "    <tr style=\"text-align: right;\">\n",
       "      <th></th>\n",
       "      <th>juv_fel_count</th>\n",
       "      <th>juv_misd_count</th>\n",
       "      <th>juv_other_count</th>\n",
       "    </tr>\n",
       "  </thead>\n",
       "  <tbody>\n",
       "    <tr>\n",
       "      <th>count</th>\n",
       "      <td>7214.000000</td>\n",
       "      <td>7214.000000</td>\n",
       "      <td>7214.000000</td>\n",
       "    </tr>\n",
       "    <tr>\n",
       "      <th>mean</th>\n",
       "      <td>0.067230</td>\n",
       "      <td>0.090934</td>\n",
       "      <td>0.109371</td>\n",
       "    </tr>\n",
       "    <tr>\n",
       "      <th>std</th>\n",
       "      <td>0.473972</td>\n",
       "      <td>0.485239</td>\n",
       "      <td>0.501586</td>\n",
       "    </tr>\n",
       "    <tr>\n",
       "      <th>min</th>\n",
       "      <td>0.000000</td>\n",
       "      <td>0.000000</td>\n",
       "      <td>0.000000</td>\n",
       "    </tr>\n",
       "    <tr>\n",
       "      <th>25%</th>\n",
       "      <td>0.000000</td>\n",
       "      <td>0.000000</td>\n",
       "      <td>0.000000</td>\n",
       "    </tr>\n",
       "    <tr>\n",
       "      <th>50%</th>\n",
       "      <td>0.000000</td>\n",
       "      <td>0.000000</td>\n",
       "      <td>0.000000</td>\n",
       "    </tr>\n",
       "    <tr>\n",
       "      <th>75%</th>\n",
       "      <td>0.000000</td>\n",
       "      <td>0.000000</td>\n",
       "      <td>0.000000</td>\n",
       "    </tr>\n",
       "    <tr>\n",
       "      <th>max</th>\n",
       "      <td>20.000000</td>\n",
       "      <td>13.000000</td>\n",
       "      <td>17.000000</td>\n",
       "    </tr>\n",
       "  </tbody>\n",
       "</table>\n",
       "</div>"
      ],
      "text/plain": [
       "       juv_fel_count  juv_misd_count  juv_other_count\n",
       "count    7214.000000     7214.000000      7214.000000\n",
       "mean        0.067230        0.090934         0.109371\n",
       "std         0.473972        0.485239         0.501586\n",
       "min         0.000000        0.000000         0.000000\n",
       "25%         0.000000        0.000000         0.000000\n",
       "50%         0.000000        0.000000         0.000000\n",
       "75%         0.000000        0.000000         0.000000\n",
       "max        20.000000       13.000000        17.000000"
      ]
     },
     "execution_count": 21,
     "metadata": {},
     "output_type": "execute_result"
    }
   ],
   "source": [
    "compas_df[[\"juv_fel_count\", \"juv_misd_count\", \"juv_other_count\"]].describe()"
   ]
  },
  {
   "cell_type": "code",
   "execution_count": 22,
   "id": "excellent-divorce",
   "metadata": {},
   "outputs": [
    {
     "data": {
      "text/html": [
       "<div>\n",
       "<style scoped>\n",
       "    .dataframe tbody tr th:only-of-type {\n",
       "        vertical-align: middle;\n",
       "    }\n",
       "\n",
       "    .dataframe tbody tr th {\n",
       "        vertical-align: top;\n",
       "    }\n",
       "\n",
       "    .dataframe thead th {\n",
       "        text-align: right;\n",
       "    }\n",
       "</style>\n",
       "<table border=\"1\" class=\"dataframe\">\n",
       "  <thead>\n",
       "    <tr style=\"text-align: right;\">\n",
       "      <th></th>\n",
       "      <th>juv_fel_count</th>\n",
       "      <th>juv_misd_count</th>\n",
       "      <th>juv_other_count</th>\n",
       "      <th>juv_count</th>\n",
       "    </tr>\n",
       "  </thead>\n",
       "  <tbody>\n",
       "    <tr>\n",
       "      <th>count</th>\n",
       "      <td>7214.000000</td>\n",
       "      <td>7214.000000</td>\n",
       "      <td>7214.000000</td>\n",
       "      <td>7214.000000</td>\n",
       "    </tr>\n",
       "    <tr>\n",
       "      <th>mean</th>\n",
       "      <td>0.067230</td>\n",
       "      <td>0.090934</td>\n",
       "      <td>0.109371</td>\n",
       "      <td>0.267535</td>\n",
       "    </tr>\n",
       "    <tr>\n",
       "      <th>std</th>\n",
       "      <td>0.473972</td>\n",
       "      <td>0.485239</td>\n",
       "      <td>0.501586</td>\n",
       "      <td>0.952763</td>\n",
       "    </tr>\n",
       "    <tr>\n",
       "      <th>min</th>\n",
       "      <td>0.000000</td>\n",
       "      <td>0.000000</td>\n",
       "      <td>0.000000</td>\n",
       "      <td>0.000000</td>\n",
       "    </tr>\n",
       "    <tr>\n",
       "      <th>25%</th>\n",
       "      <td>0.000000</td>\n",
       "      <td>0.000000</td>\n",
       "      <td>0.000000</td>\n",
       "      <td>0.000000</td>\n",
       "    </tr>\n",
       "    <tr>\n",
       "      <th>50%</th>\n",
       "      <td>0.000000</td>\n",
       "      <td>0.000000</td>\n",
       "      <td>0.000000</td>\n",
       "      <td>0.000000</td>\n",
       "    </tr>\n",
       "    <tr>\n",
       "      <th>75%</th>\n",
       "      <td>0.000000</td>\n",
       "      <td>0.000000</td>\n",
       "      <td>0.000000</td>\n",
       "      <td>0.000000</td>\n",
       "    </tr>\n",
       "    <tr>\n",
       "      <th>max</th>\n",
       "      <td>20.000000</td>\n",
       "      <td>13.000000</td>\n",
       "      <td>17.000000</td>\n",
       "      <td>21.000000</td>\n",
       "    </tr>\n",
       "  </tbody>\n",
       "</table>\n",
       "</div>"
      ],
      "text/plain": [
       "       juv_fel_count  juv_misd_count  juv_other_count    juv_count\n",
       "count    7214.000000     7214.000000      7214.000000  7214.000000\n",
       "mean        0.067230        0.090934         0.109371     0.267535\n",
       "std         0.473972        0.485239         0.501586     0.952763\n",
       "min         0.000000        0.000000         0.000000     0.000000\n",
       "25%         0.000000        0.000000         0.000000     0.000000\n",
       "50%         0.000000        0.000000         0.000000     0.000000\n",
       "75%         0.000000        0.000000         0.000000     0.000000\n",
       "max        20.000000       13.000000        17.000000    21.000000"
      ]
     },
     "execution_count": 22,
     "metadata": {},
     "output_type": "execute_result"
    }
   ],
   "source": [
    "# feature construction, add up our three juv columns and remove the original features\n",
    "compas_df['juv_count'] = compas_df[[\"juv_fel_count\", \"juv_misd_count\", \"juv_other_count\"]].sum(axis=1)\n",
    "\n",
    "compas_df[['juv_fel_count', 'juv_misd_count', 'juv_other_count', 'juv_count']].describe()"
   ]
  },
  {
   "cell_type": "code",
   "execution_count": 23,
   "id": "pursuant-shipping",
   "metadata": {},
   "outputs": [
    {
     "data": {
      "image/png": "[encoded data removed]",
      "text/plain": [
       "<Figure size 432x288 with 1 Axes>"
      ]
     },
     "metadata": {
      "needs_background": "light"
     },
     "output_type": "display_data"
    }
   ],
   "source": [
    "compas_df['juv_count'].plot(\n",
    "    title='Count of Juvenile Infractions', kind='hist', xlabel='Count'\n",
    ")\n",
    "\n",
    "name = 'juv_count'\n",
    "plt.savefig(f'{name}.svg', dpi=500)\n",
    "plt.savefig(f'{name}.png', dpi=500)"
   ]
  },
  {
   "cell_type": "code",
   "execution_count": 24,
   "id": "royal-juice",
   "metadata": {},
   "outputs": [
    {
     "data": {
      "text/plain": [
       "(0.2675353479345717, 0.952763227517296)"
      ]
     },
     "execution_count": 24,
     "metadata": {},
     "output_type": "execute_result"
    }
   ],
   "source": [
    "compas_df['juv_count'].mean(), compas_df['juv_count'].std()"
   ]
  },
  {
   "cell_type": "code",
   "execution_count": 25,
   "id": "coordinate-rocket",
   "metadata": {},
   "outputs": [],
   "source": [
    "compas_df = compas_df.drop([\"juv_fel_count\", \"juv_misd_count\", \"juv_other_count\"], axis=1)"
   ]
  },
  {
   "cell_type": "code",
   "execution_count": 26,
   "id": "anonymous-cambodia",
   "metadata": {},
   "outputs": [
    {
     "data": {
      "text/html": [
       "<div>\n",
       "<style scoped>\n",
       "    .dataframe tbody tr th:only-of-type {\n",
       "        vertical-align: middle;\n",
       "    }\n",
       "\n",
       "    .dataframe tbody tr th {\n",
       "        vertical-align: top;\n",
       "    }\n",
       "\n",
       "    .dataframe thead th {\n",
       "        text-align: right;\n",
       "    }\n",
       "</style>\n",
       "<table border=\"1\" class=\"dataframe\">\n",
       "  <thead>\n",
       "    <tr style=\"text-align: right;\">\n",
       "      <th></th>\n",
       "      <th>sex</th>\n",
       "      <th>age</th>\n",
       "      <th>race</th>\n",
       "      <th>priors_count</th>\n",
       "      <th>c_charge_degree</th>\n",
       "      <th>two_year_recid</th>\n",
       "      <th>juv_count</th>\n",
       "    </tr>\n",
       "  </thead>\n",
       "  <tbody>\n",
       "    <tr>\n",
       "      <th>0</th>\n",
       "      <td>Male</td>\n",
       "      <td>69</td>\n",
       "      <td>Other</td>\n",
       "      <td>0</td>\n",
       "      <td>F</td>\n",
       "      <td>0</td>\n",
       "      <td>0</td>\n",
       "    </tr>\n",
       "    <tr>\n",
       "      <th>1</th>\n",
       "      <td>Male</td>\n",
       "      <td>34</td>\n",
       "      <td>African-American</td>\n",
       "      <td>0</td>\n",
       "      <td>F</td>\n",
       "      <td>1</td>\n",
       "      <td>0</td>\n",
       "    </tr>\n",
       "    <tr>\n",
       "      <th>2</th>\n",
       "      <td>Male</td>\n",
       "      <td>24</td>\n",
       "      <td>African-American</td>\n",
       "      <td>4</td>\n",
       "      <td>F</td>\n",
       "      <td>1</td>\n",
       "      <td>1</td>\n",
       "    </tr>\n",
       "    <tr>\n",
       "      <th>3</th>\n",
       "      <td>Male</td>\n",
       "      <td>23</td>\n",
       "      <td>African-American</td>\n",
       "      <td>1</td>\n",
       "      <td>F</td>\n",
       "      <td>0</td>\n",
       "      <td>1</td>\n",
       "    </tr>\n",
       "    <tr>\n",
       "      <th>4</th>\n",
       "      <td>Male</td>\n",
       "      <td>43</td>\n",
       "      <td>Other</td>\n",
       "      <td>2</td>\n",
       "      <td>F</td>\n",
       "      <td>0</td>\n",
       "      <td>0</td>\n",
       "    </tr>\n",
       "  </tbody>\n",
       "</table>\n",
       "</div>"
      ],
      "text/plain": [
       "    sex  age              race  priors_count c_charge_degree  two_year_recid  \\\n",
       "0  Male   69             Other             0               F               0   \n",
       "1  Male   34  African-American             0               F               1   \n",
       "2  Male   24  African-American             4               F               1   \n",
       "3  Male   23  African-American             1               F               0   \n",
       "4  Male   43             Other             2               F               0   \n",
       "\n",
       "   juv_count  \n",
       "0          0  \n",
       "1          0  \n",
       "2          1  \n",
       "3          1  \n",
       "4          0  "
      ]
     },
     "execution_count": 26,
     "metadata": {},
     "output_type": "execute_result"
    }
   ],
   "source": [
    "compas_df.head()"
   ]
  },
  {
   "cell_type": "code",
   "execution_count": null,
   "id": "gentle-peoples",
   "metadata": {},
   "outputs": [],
   "source": []
  },
  {
   "cell_type": "code",
   "execution_count": 27,
   "id": "peaceful-intranet",
   "metadata": {},
   "outputs": [],
   "source": [
    "from sklearn.model_selection import train_test_split\n",
    "from sklearn.ensemble import RandomForestClassifier\n",
    "\n",
    "# Split up our data \n",
    "X_train, X_test, y_train, y_test, race_train, race_test = train_test_split(compas_df.drop('two_year_recid', axis=1),\n",
    "                                                    compas_df['two_year_recid'],\n",
    "                                                    compas_df['race'],\n",
    "                                                    stratify=compas_df['two_year_recid'],\n",
    "                                                    test_size=0.3,\n",
    "                                                    random_state=0)\n",
    "\n",
    "# our static classifier\n",
    "classifier = RandomForestClassifier(max_depth=10, n_estimators=20, random_state=0)"
   ]
  },
  {
   "cell_type": "code",
   "execution_count": null,
   "id": "elect-registrar",
   "metadata": {},
   "outputs": [],
   "source": []
  },
  {
   "cell_type": "code",
   "execution_count": 61,
   "id": "damaged-ready",
   "metadata": {},
   "outputs": [],
   "source": [
    "from sklearn.compose import ColumnTransformer\n",
    "from sklearn.pipeline import Pipeline, FeatureUnion\n",
    "from sklearn.preprocessing import OneHotEncoder, StandardScaler\n",
    "\n",
    "\n",
    "categorical_features = ['race', 'sex', 'c_charge_degree']\n",
    "categorical_transformer = Pipeline(steps=[\n",
    "    ('onehot', OneHotEncoder(drop='if_binary'))\n",
    "])\n",
    "\n",
    "numerical_features = [\"age\", \"priors_count\"]\n",
    "numerical_transformer = Pipeline(steps=[\n",
    "    ('scale', StandardScaler())\n",
    "])\n",
    "\n",
    "preprocessor = ColumnTransformer(transformers=[\n",
    "        ('cat', categorical_transformer, categorical_features),\n",
    "        ('num', numerical_transformer, numerical_features)\n",
    "])\n",
    "\n",
    "clf_tree = Pipeline(steps=[\n",
    "    ('preprocessor', preprocessor),\n",
    "    ('classifier', classifier)\n",
    "])\n",
    "\n",
    "\n",
    "clf_tree.fit(X_train, y_train)\n",
    "\n",
    "unaware_y_preds = clf_tree.predict(X_test)"
   ]
  },
  {
   "cell_type": "code",
   "execution_count": 62,
   "id": "typical-glass",
   "metadata": {},
   "outputs": [
    {
     "data": {
      "text/plain": [
       "(5049, 8)"
      ]
     },
     "execution_count": 62,
     "metadata": {},
     "output_type": "execute_result"
    }
   ],
   "source": [
    "preprocessor.fit_transform(X_train).shape"
   ]
  },
  {
   "cell_type": "code",
   "execution_count": null,
   "id": "finnish-married",
   "metadata": {},
   "outputs": [],
   "source": []
  },
  {
   "cell_type": "code",
   "execution_count": 63,
   "id": "alleged-editor",
   "metadata": {},
   "outputs": [
    {
     "name": "stdout",
     "output_type": "stream",
     "text": [
      "Preparation of a new explainer is initiated\n",
      "\n",
      "  -> data              : 2165 rows 6 cols\n",
      "  -> target variable   : Parameter 'y' was a pandas.Series. Converted to a numpy.ndarray.\n",
      "  -> target variable   : 2165 values\n",
      "  -> model_class       : sklearn.ensemble._forest.RandomForestClassifier (default)\n",
      "  -> label             : Random Forest Bias Unaware\n",
      "  -> predict function  : <function yhat_proba_default at 0x2863173a0> will be used (default)\n",
      "  -> predict function  : Accepts only pandas.DataFrame, numpy.ndarray causes problems.\n",
      "  -> predicted values  : min = 0.0, mean = 0.444, max = 1.0\n",
      "  -> model type        : classification will be used (default)\n",
      "  -> residual function : difference between y and yhat (default)\n",
      "  -> residuals         : min = -0.986, mean = 0.00662, max = 1.0\n",
      "  -> model_info        : package sklearn\n",
      "\n",
      "A new explainer has been created!\n"
     ]
    }
   ],
   "source": [
    "import dalex as dx\n",
    "\n",
    "exp_tree = dx.Explainer(clf_tree, X_test, y_test, label='Random Forest Bias Unaware', verbose=True)"
   ]
  },
  {
   "cell_type": "code",
   "execution_count": 64,
   "id": "careful-order",
   "metadata": {},
   "outputs": [
    {
     "name": "stderr",
     "output_type": "stream",
     "text": [
      "/opt/homebrew/Caskroom/miniforge/base/envs/pytorch_env/lib/python3.9/site-packages/dalex/model_explanations/_model_performance/utils.py:33: FutureWarning:\n",
      "\n",
      "The series.append method is deprecated and will be removed from pandas in a future version. Use pandas.concat instead.\n",
      "\n",
      "/opt/homebrew/Caskroom/miniforge/base/envs/pytorch_env/lib/python3.9/site-packages/dalex/model_explanations/_model_performance/utils.py:34: FutureWarning:\n",
      "\n",
      "The series.append method is deprecated and will be removed from pandas in a future version. Use pandas.concat instead.\n",
      "\n"
     ]
    },
    {
     "data": {
      "text/html": [
       "<div>\n",
       "<style scoped>\n",
       "    .dataframe tbody tr th:only-of-type {\n",
       "        vertical-align: middle;\n",
       "    }\n",
       "\n",
       "    .dataframe tbody tr th {\n",
       "        vertical-align: top;\n",
       "    }\n",
       "\n",
       "    .dataframe thead th {\n",
       "        text-align: right;\n",
       "    }\n",
       "</style>\n",
       "<table border=\"1\" class=\"dataframe\">\n",
       "  <thead>\n",
       "    <tr style=\"text-align: right;\">\n",
       "      <th></th>\n",
       "      <th>recall</th>\n",
       "      <th>precision</th>\n",
       "      <th>f1</th>\n",
       "      <th>accuracy</th>\n",
       "      <th>auc</th>\n",
       "    </tr>\n",
       "  </thead>\n",
       "  <tbody>\n",
       "    <tr>\n",
       "      <th>Random Forest Bias Unaware</th>\n",
       "      <td>0.560451</td>\n",
       "      <td>0.628736</td>\n",
       "      <td>0.592633</td>\n",
       "      <td>0.652656</td>\n",
       "      <td>0.69393</td>\n",
       "    </tr>\n",
       "  </tbody>\n",
       "</table>\n",
       "</div>"
      ],
      "text/plain": [
       "<dalex.model_explanations._model_performance.object.ModelPerformance at 0x17e70e5b0>"
      ]
     },
     "execution_count": 64,
     "metadata": {},
     "output_type": "execute_result"
    }
   ],
   "source": [
    "exp_tree.model_performance()"
   ]
  },
  {
   "cell_type": "code",
   "execution_count": 65,
   "id": "quick-terror",
   "metadata": {},
   "outputs": [
    {
     "name": "stdout",
     "output_type": "stream",
     "text": [
      "              precision    recall  f1-score   support\n",
      "\n",
      "           0       0.67      0.73      0.70      1189\n",
      "           1       0.63      0.56      0.59       976\n",
      "\n",
      "    accuracy                           0.65      2165\n",
      "   macro avg       0.65      0.64      0.65      2165\n",
      "weighted avg       0.65      0.65      0.65      2165\n",
      "\n"
     ]
    }
   ],
   "source": [
    "from sklearn.metrics import classification_report\n",
    "\n",
    "print(classification_report(y_true=y_test, y_pred=unaware_y_preds))"
   ]
  },
  {
   "cell_type": "code",
   "execution_count": 66,
   "id": "found-coupon",
   "metadata": {},
   "outputs": [
    {
     "name": "stderr",
     "output_type": "stream",
     "text": [
      "/opt/homebrew/Caskroom/miniforge/base/envs/pytorch_env/lib/python3.9/site-packages/dalex/model_explanations/_model_performance/utils.py:33: FutureWarning:\n",
      "\n",
      "The series.append method is deprecated and will be removed from pandas in a future version. Use pandas.concat instead.\n",
      "\n",
      "/opt/homebrew/Caskroom/miniforge/base/envs/pytorch_env/lib/python3.9/site-packages/dalex/model_explanations/_model_performance/utils.py:34: FutureWarning:\n",
      "\n",
      "The series.append method is deprecated and will be removed from pandas in a future version. Use pandas.concat instead.\n",
      "\n",
      "/opt/homebrew/Caskroom/miniforge/base/envs/pytorch_env/lib/python3.9/site-packages/dalex/model_explanations/_model_performance/utils.py:33: FutureWarning:\n",
      "\n",
      "The series.append method is deprecated and will be removed from pandas in a future version. Use pandas.concat instead.\n",
      "\n",
      "/opt/homebrew/Caskroom/miniforge/base/envs/pytorch_env/lib/python3.9/site-packages/dalex/model_explanations/_model_performance/utils.py:34: FutureWarning:\n",
      "\n",
      "The series.append method is deprecated and will be removed from pandas in a future version. Use pandas.concat instead.\n",
      "\n",
      "/opt/homebrew/Caskroom/miniforge/base/envs/pytorch_env/lib/python3.9/site-packages/dalex/model_explanations/_model_performance/utils.py:33: FutureWarning:\n",
      "\n",
      "The series.append method is deprecated and will be removed from pandas in a future version. Use pandas.concat instead.\n",
      "\n",
      "/opt/homebrew/Caskroom/miniforge/base/envs/pytorch_env/lib/python3.9/site-packages/dalex/model_explanations/_model_performance/utils.py:34: FutureWarning:\n",
      "\n",
      "The series.append method is deprecated and will be removed from pandas in a future version. Use pandas.concat instead.\n",
      "\n",
      "/opt/homebrew/Caskroom/miniforge/base/envs/pytorch_env/lib/python3.9/site-packages/dalex/model_explanations/_model_performance/utils.py:33: FutureWarning:\n",
      "\n",
      "The series.append method is deprecated and will be removed from pandas in a future version. Use pandas.concat instead.\n",
      "\n",
      "/opt/homebrew/Caskroom/miniforge/base/envs/pytorch_env/lib/python3.9/site-packages/dalex/model_explanations/_model_performance/utils.py:34: FutureWarning:\n",
      "\n",
      "The series.append method is deprecated and will be removed from pandas in a future version. Use pandas.concat instead.\n",
      "\n",
      "/opt/homebrew/Caskroom/miniforge/base/envs/pytorch_env/lib/python3.9/site-packages/dalex/model_explanations/_model_performance/utils.py:33: FutureWarning:\n",
      "\n",
      "The series.append method is deprecated and will be removed from pandas in a future version. Use pandas.concat instead.\n",
      "\n",
      "/opt/homebrew/Caskroom/miniforge/base/envs/pytorch_env/lib/python3.9/site-packages/dalex/model_explanations/_model_performance/utils.py:34: FutureWarning:\n",
      "\n",
      "The series.append method is deprecated and will be removed from pandas in a future version. Use pandas.concat instead.\n",
      "\n",
      "/opt/homebrew/Caskroom/miniforge/base/envs/pytorch_env/lib/python3.9/site-packages/dalex/model_explanations/_model_performance/utils.py:33: FutureWarning:\n",
      "\n",
      "The series.append method is deprecated and will be removed from pandas in a future version. Use pandas.concat instead.\n",
      "\n",
      "/opt/homebrew/Caskroom/miniforge/base/envs/pytorch_env/lib/python3.9/site-packages/dalex/model_explanations/_model_performance/utils.py:34: FutureWarning:\n",
      "\n",
      "The series.append method is deprecated and will be removed from pandas in a future version. Use pandas.concat instead.\n",
      "\n",
      "/opt/homebrew/Caskroom/miniforge/base/envs/pytorch_env/lib/python3.9/site-packages/dalex/model_explanations/_model_performance/utils.py:33: FutureWarning:\n",
      "\n",
      "The series.append method is deprecated and will be removed from pandas in a future version. Use pandas.concat instead.\n",
      "\n",
      "/opt/homebrew/Caskroom/miniforge/base/envs/pytorch_env/lib/python3.9/site-packages/dalex/model_explanations/_model_performance/utils.py:34: FutureWarning:\n",
      "\n",
      "The series.append method is deprecated and will be removed from pandas in a future version. Use pandas.concat instead.\n",
      "\n",
      "/opt/homebrew/Caskroom/miniforge/base/envs/pytorch_env/lib/python3.9/site-packages/dalex/model_explanations/_model_performance/utils.py:33: FutureWarning:\n",
      "\n",
      "The series.append method is deprecated and will be removed from pandas in a future version. Use pandas.concat instead.\n",
      "\n",
      "/opt/homebrew/Caskroom/miniforge/base/envs/pytorch_env/lib/python3.9/site-packages/dalex/model_explanations/_model_performance/utils.py:34: FutureWarning:\n",
      "\n",
      "The series.append method is deprecated and will be removed from pandas in a future version. Use pandas.concat instead.\n",
      "\n",
      "/opt/homebrew/Caskroom/miniforge/base/envs/pytorch_env/lib/python3.9/site-packages/dalex/model_explanations/_model_performance/utils.py:33: FutureWarning:\n",
      "\n",
      "The series.append method is deprecated and will be removed from pandas in a future version. Use pandas.concat instead.\n",
      "\n",
      "/opt/homebrew/Caskroom/miniforge/base/envs/pytorch_env/lib/python3.9/site-packages/dalex/model_explanations/_model_performance/utils.py:34: FutureWarning:\n",
      "\n",
      "The series.append method is deprecated and will be removed from pandas in a future version. Use pandas.concat instead.\n",
      "\n",
      "/opt/homebrew/Caskroom/miniforge/base/envs/pytorch_env/lib/python3.9/site-packages/dalex/model_explanations/_model_performance/utils.py:33: FutureWarning:\n",
      "\n",
      "The series.append method is deprecated and will be removed from pandas in a future version. Use pandas.concat instead.\n",
      "\n",
      "/opt/homebrew/Caskroom/miniforge/base/envs/pytorch_env/lib/python3.9/site-packages/dalex/model_explanations/_model_performance/utils.py:34: FutureWarning:\n",
      "\n",
      "The series.append method is deprecated and will be removed from pandas in a future version. Use pandas.concat instead.\n",
      "\n",
      "/opt/homebrew/Caskroom/miniforge/base/envs/pytorch_env/lib/python3.9/site-packages/dalex/model_explanations/_model_performance/utils.py:33: FutureWarning:\n",
      "\n",
      "The series.append method is deprecated and will be removed from pandas in a future version. Use pandas.concat instead.\n",
      "\n",
      "/opt/homebrew/Caskroom/miniforge/base/envs/pytorch_env/lib/python3.9/site-packages/dalex/model_explanations/_model_performance/utils.py:34: FutureWarning:\n",
      "\n",
      "The series.append method is deprecated and will be removed from pandas in a future version. Use pandas.concat instead.\n",
      "\n",
      "/opt/homebrew/Caskroom/miniforge/base/envs/pytorch_env/lib/python3.9/site-packages/dalex/model_explanations/_model_performance/utils.py:33: FutureWarning:\n",
      "\n",
      "The series.append method is deprecated and will be removed from pandas in a future version. Use pandas.concat instead.\n",
      "\n",
      "/opt/homebrew/Caskroom/miniforge/base/envs/pytorch_env/lib/python3.9/site-packages/dalex/model_explanations/_model_performance/utils.py:34: FutureWarning:\n",
      "\n",
      "The series.append method is deprecated and will be removed from pandas in a future version. Use pandas.concat instead.\n",
      "\n",
      "/opt/homebrew/Caskroom/miniforge/base/envs/pytorch_env/lib/python3.9/site-packages/dalex/model_explanations/_model_performance/utils.py:33: FutureWarning:\n",
      "\n",
      "The series.append method is deprecated and will be removed from pandas in a future version. Use pandas.concat instead.\n",
      "\n",
      "/opt/homebrew/Caskroom/miniforge/base/envs/pytorch_env/lib/python3.9/site-packages/dalex/model_explanations/_model_performance/utils.py:34: FutureWarning:\n",
      "\n",
      "The series.append method is deprecated and will be removed from pandas in a future version. Use pandas.concat instead.\n",
      "\n",
      "/opt/homebrew/Caskroom/miniforge/base/envs/pytorch_env/lib/python3.9/site-packages/dalex/model_explanations/_model_performance/utils.py:33: FutureWarning:\n",
      "\n",
      "The series.append method is deprecated and will be removed from pandas in a future version. Use pandas.concat instead.\n",
      "\n",
      "/opt/homebrew/Caskroom/miniforge/base/envs/pytorch_env/lib/python3.9/site-packages/dalex/model_explanations/_model_performance/utils.py:34: FutureWarning:\n",
      "\n",
      "The series.append method is deprecated and will be removed from pandas in a future version. Use pandas.concat instead.\n",
      "\n",
      "/opt/homebrew/Caskroom/miniforge/base/envs/pytorch_env/lib/python3.9/site-packages/dalex/model_explanations/_model_performance/utils.py:33: FutureWarning:\n",
      "\n",
      "The series.append method is deprecated and will be removed from pandas in a future version. Use pandas.concat instead.\n",
      "\n",
      "/opt/homebrew/Caskroom/miniforge/base/envs/pytorch_env/lib/python3.9/site-packages/dalex/model_explanations/_model_performance/utils.py:34: FutureWarning:\n",
      "\n",
      "The series.append method is deprecated and will be removed from pandas in a future version. Use pandas.concat instead.\n",
      "\n",
      "/opt/homebrew/Caskroom/miniforge/base/envs/pytorch_env/lib/python3.9/site-packages/dalex/model_explanations/_model_performance/utils.py:33: FutureWarning:\n",
      "\n",
      "The series.append method is deprecated and will be removed from pandas in a future version. Use pandas.concat instead.\n",
      "\n",
      "/opt/homebrew/Caskroom/miniforge/base/envs/pytorch_env/lib/python3.9/site-packages/dalex/model_explanations/_model_performance/utils.py:34: FutureWarning:\n",
      "\n",
      "The series.append method is deprecated and will be removed from pandas in a future version. Use pandas.concat instead.\n",
      "\n",
      "/opt/homebrew/Caskroom/miniforge/base/envs/pytorch_env/lib/python3.9/site-packages/dalex/model_explanations/_model_performance/utils.py:33: FutureWarning:\n",
      "\n",
      "The series.append method is deprecated and will be removed from pandas in a future version. Use pandas.concat instead.\n",
      "\n",
      "/opt/homebrew/Caskroom/miniforge/base/envs/pytorch_env/lib/python3.9/site-packages/dalex/model_explanations/_model_performance/utils.py:34: FutureWarning:\n",
      "\n",
      "The series.append method is deprecated and will be removed from pandas in a future version. Use pandas.concat instead.\n",
      "\n",
      "/opt/homebrew/Caskroom/miniforge/base/envs/pytorch_env/lib/python3.9/site-packages/dalex/model_explanations/_model_performance/utils.py:33: FutureWarning:\n",
      "\n",
      "The series.append method is deprecated and will be removed from pandas in a future version. Use pandas.concat instead.\n",
      "\n",
      "/opt/homebrew/Caskroom/miniforge/base/envs/pytorch_env/lib/python3.9/site-packages/dalex/model_explanations/_model_performance/utils.py:34: FutureWarning:\n",
      "\n",
      "The series.append method is deprecated and will be removed from pandas in a future version. Use pandas.concat instead.\n",
      "\n"
     ]
    },
    {
     "name": "stderr",
     "output_type": "stream",
     "text": [
      "/opt/homebrew/Caskroom/miniforge/base/envs/pytorch_env/lib/python3.9/site-packages/dalex/model_explanations/_model_performance/utils.py:33: FutureWarning:\n",
      "\n",
      "The series.append method is deprecated and will be removed from pandas in a future version. Use pandas.concat instead.\n",
      "\n",
      "/opt/homebrew/Caskroom/miniforge/base/envs/pytorch_env/lib/python3.9/site-packages/dalex/model_explanations/_model_performance/utils.py:34: FutureWarning:\n",
      "\n",
      "The series.append method is deprecated and will be removed from pandas in a future version. Use pandas.concat instead.\n",
      "\n",
      "/opt/homebrew/Caskroom/miniforge/base/envs/pytorch_env/lib/python3.9/site-packages/dalex/model_explanations/_model_performance/utils.py:33: FutureWarning:\n",
      "\n",
      "The series.append method is deprecated and will be removed from pandas in a future version. Use pandas.concat instead.\n",
      "\n",
      "/opt/homebrew/Caskroom/miniforge/base/envs/pytorch_env/lib/python3.9/site-packages/dalex/model_explanations/_model_performance/utils.py:34: FutureWarning:\n",
      "\n",
      "The series.append method is deprecated and will be removed from pandas in a future version. Use pandas.concat instead.\n",
      "\n",
      "/opt/homebrew/Caskroom/miniforge/base/envs/pytorch_env/lib/python3.9/site-packages/dalex/model_explanations/_model_performance/utils.py:33: FutureWarning:\n",
      "\n",
      "The series.append method is deprecated and will be removed from pandas in a future version. Use pandas.concat instead.\n",
      "\n",
      "/opt/homebrew/Caskroom/miniforge/base/envs/pytorch_env/lib/python3.9/site-packages/dalex/model_explanations/_model_performance/utils.py:34: FutureWarning:\n",
      "\n",
      "The series.append method is deprecated and will be removed from pandas in a future version. Use pandas.concat instead.\n",
      "\n",
      "/opt/homebrew/Caskroom/miniforge/base/envs/pytorch_env/lib/python3.9/site-packages/dalex/model_explanations/_model_performance/utils.py:33: FutureWarning:\n",
      "\n",
      "The series.append method is deprecated and will be removed from pandas in a future version. Use pandas.concat instead.\n",
      "\n",
      "/opt/homebrew/Caskroom/miniforge/base/envs/pytorch_env/lib/python3.9/site-packages/dalex/model_explanations/_model_performance/utils.py:34: FutureWarning:\n",
      "\n",
      "The series.append method is deprecated and will be removed from pandas in a future version. Use pandas.concat instead.\n",
      "\n",
      "/opt/homebrew/Caskroom/miniforge/base/envs/pytorch_env/lib/python3.9/site-packages/dalex/model_explanations/_model_performance/utils.py:33: FutureWarning:\n",
      "\n",
      "The series.append method is deprecated and will be removed from pandas in a future version. Use pandas.concat instead.\n",
      "\n",
      "/opt/homebrew/Caskroom/miniforge/base/envs/pytorch_env/lib/python3.9/site-packages/dalex/model_explanations/_model_performance/utils.py:34: FutureWarning:\n",
      "\n",
      "The series.append method is deprecated and will be removed from pandas in a future version. Use pandas.concat instead.\n",
      "\n",
      "/opt/homebrew/Caskroom/miniforge/base/envs/pytorch_env/lib/python3.9/site-packages/dalex/model_explanations/_model_performance/utils.py:33: FutureWarning:\n",
      "\n",
      "The series.append method is deprecated and will be removed from pandas in a future version. Use pandas.concat instead.\n",
      "\n",
      "/opt/homebrew/Caskroom/miniforge/base/envs/pytorch_env/lib/python3.9/site-packages/dalex/model_explanations/_model_performance/utils.py:34: FutureWarning:\n",
      "\n",
      "The series.append method is deprecated and will be removed from pandas in a future version. Use pandas.concat instead.\n",
      "\n",
      "/opt/homebrew/Caskroom/miniforge/base/envs/pytorch_env/lib/python3.9/site-packages/dalex/model_explanations/_model_performance/utils.py:33: FutureWarning:\n",
      "\n",
      "The series.append method is deprecated and will be removed from pandas in a future version. Use pandas.concat instead.\n",
      "\n",
      "/opt/homebrew/Caskroom/miniforge/base/envs/pytorch_env/lib/python3.9/site-packages/dalex/model_explanations/_model_performance/utils.py:34: FutureWarning:\n",
      "\n",
      "The series.append method is deprecated and will be removed from pandas in a future version. Use pandas.concat instead.\n",
      "\n",
      "/opt/homebrew/Caskroom/miniforge/base/envs/pytorch_env/lib/python3.9/site-packages/dalex/model_explanations/_model_performance/utils.py:33: FutureWarning:\n",
      "\n",
      "The series.append method is deprecated and will be removed from pandas in a future version. Use pandas.concat instead.\n",
      "\n",
      "/opt/homebrew/Caskroom/miniforge/base/envs/pytorch_env/lib/python3.9/site-packages/dalex/model_explanations/_model_performance/utils.py:34: FutureWarning:\n",
      "\n",
      "The series.append method is deprecated and will be removed from pandas in a future version. Use pandas.concat instead.\n",
      "\n",
      "/opt/homebrew/Caskroom/miniforge/base/envs/pytorch_env/lib/python3.9/site-packages/dalex/model_explanations/_model_performance/utils.py:33: FutureWarning:\n",
      "\n",
      "The series.append method is deprecated and will be removed from pandas in a future version. Use pandas.concat instead.\n",
      "\n",
      "/opt/homebrew/Caskroom/miniforge/base/envs/pytorch_env/lib/python3.9/site-packages/dalex/model_explanations/_model_performance/utils.py:34: FutureWarning:\n",
      "\n",
      "The series.append method is deprecated and will be removed from pandas in a future version. Use pandas.concat instead.\n",
      "\n",
      "/opt/homebrew/Caskroom/miniforge/base/envs/pytorch_env/lib/python3.9/site-packages/dalex/model_explanations/_model_performance/utils.py:33: FutureWarning:\n",
      "\n",
      "The series.append method is deprecated and will be removed from pandas in a future version. Use pandas.concat instead.\n",
      "\n",
      "/opt/homebrew/Caskroom/miniforge/base/envs/pytorch_env/lib/python3.9/site-packages/dalex/model_explanations/_model_performance/utils.py:34: FutureWarning:\n",
      "\n",
      "The series.append method is deprecated and will be removed from pandas in a future version. Use pandas.concat instead.\n",
      "\n",
      "/opt/homebrew/Caskroom/miniforge/base/envs/pytorch_env/lib/python3.9/site-packages/dalex/model_explanations/_model_performance/utils.py:33: FutureWarning:\n",
      "\n",
      "The series.append method is deprecated and will be removed from pandas in a future version. Use pandas.concat instead.\n",
      "\n",
      "/opt/homebrew/Caskroom/miniforge/base/envs/pytorch_env/lib/python3.9/site-packages/dalex/model_explanations/_model_performance/utils.py:34: FutureWarning:\n",
      "\n",
      "The series.append method is deprecated and will be removed from pandas in a future version. Use pandas.concat instead.\n",
      "\n",
      "/opt/homebrew/Caskroom/miniforge/base/envs/pytorch_env/lib/python3.9/site-packages/dalex/model_explanations/_model_performance/utils.py:33: FutureWarning:\n",
      "\n",
      "The series.append method is deprecated and will be removed from pandas in a future version. Use pandas.concat instead.\n",
      "\n",
      "/opt/homebrew/Caskroom/miniforge/base/envs/pytorch_env/lib/python3.9/site-packages/dalex/model_explanations/_model_performance/utils.py:34: FutureWarning:\n",
      "\n",
      "The series.append method is deprecated and will be removed from pandas in a future version. Use pandas.concat instead.\n",
      "\n",
      "/opt/homebrew/Caskroom/miniforge/base/envs/pytorch_env/lib/python3.9/site-packages/dalex/model_explanations/_model_performance/utils.py:33: FutureWarning:\n",
      "\n",
      "The series.append method is deprecated and will be removed from pandas in a future version. Use pandas.concat instead.\n",
      "\n",
      "/opt/homebrew/Caskroom/miniforge/base/envs/pytorch_env/lib/python3.9/site-packages/dalex/model_explanations/_model_performance/utils.py:34: FutureWarning:\n",
      "\n",
      "The series.append method is deprecated and will be removed from pandas in a future version. Use pandas.concat instead.\n",
      "\n",
      "/opt/homebrew/Caskroom/miniforge/base/envs/pytorch_env/lib/python3.9/site-packages/dalex/model_explanations/_model_performance/utils.py:33: FutureWarning:\n",
      "\n",
      "The series.append method is deprecated and will be removed from pandas in a future version. Use pandas.concat instead.\n",
      "\n",
      "/opt/homebrew/Caskroom/miniforge/base/envs/pytorch_env/lib/python3.9/site-packages/dalex/model_explanations/_model_performance/utils.py:34: FutureWarning:\n",
      "\n",
      "The series.append method is deprecated and will be removed from pandas in a future version. Use pandas.concat instead.\n",
      "\n",
      "/opt/homebrew/Caskroom/miniforge/base/envs/pytorch_env/lib/python3.9/site-packages/dalex/model_explanations/_model_performance/utils.py:33: FutureWarning:\n",
      "\n",
      "The series.append method is deprecated and will be removed from pandas in a future version. Use pandas.concat instead.\n",
      "\n",
      "/opt/homebrew/Caskroom/miniforge/base/envs/pytorch_env/lib/python3.9/site-packages/dalex/model_explanations/_model_performance/utils.py:34: FutureWarning:\n",
      "\n",
      "The series.append method is deprecated and will be removed from pandas in a future version. Use pandas.concat instead.\n",
      "\n",
      "/opt/homebrew/Caskroom/miniforge/base/envs/pytorch_env/lib/python3.9/site-packages/dalex/model_explanations/_model_performance/utils.py:33: FutureWarning:\n",
      "\n",
      "The series.append method is deprecated and will be removed from pandas in a future version. Use pandas.concat instead.\n",
      "\n",
      "/opt/homebrew/Caskroom/miniforge/base/envs/pytorch_env/lib/python3.9/site-packages/dalex/model_explanations/_model_performance/utils.py:34: FutureWarning:\n",
      "\n",
      "The series.append method is deprecated and will be removed from pandas in a future version. Use pandas.concat instead.\n",
      "\n",
      "/opt/homebrew/Caskroom/miniforge/base/envs/pytorch_env/lib/python3.9/site-packages/dalex/model_explanations/_model_performance/utils.py:33: FutureWarning:\n",
      "\n",
      "The series.append method is deprecated and will be removed from pandas in a future version. Use pandas.concat instead.\n",
      "\n",
      "/opt/homebrew/Caskroom/miniforge/base/envs/pytorch_env/lib/python3.9/site-packages/dalex/model_explanations/_model_performance/utils.py:34: FutureWarning:\n",
      "\n",
      "The series.append method is deprecated and will be removed from pandas in a future version. Use pandas.concat instead.\n",
      "\n",
      "/opt/homebrew/Caskroom/miniforge/base/envs/pytorch_env/lib/python3.9/site-packages/dalex/model_explanations/_model_performance/utils.py:33: FutureWarning:\n",
      "\n",
      "The series.append method is deprecated and will be removed from pandas in a future version. Use pandas.concat instead.\n",
      "\n",
      "/opt/homebrew/Caskroom/miniforge/base/envs/pytorch_env/lib/python3.9/site-packages/dalex/model_explanations/_model_performance/utils.py:34: FutureWarning:\n",
      "\n",
      "The series.append method is deprecated and will be removed from pandas in a future version. Use pandas.concat instead.\n",
      "\n",
      "/opt/homebrew/Caskroom/miniforge/base/envs/pytorch_env/lib/python3.9/site-packages/dalex/model_explanations/_model_performance/utils.py:33: FutureWarning:\n",
      "\n",
      "The series.append method is deprecated and will be removed from pandas in a future version. Use pandas.concat instead.\n",
      "\n"
     ]
    },
    {
     "name": "stderr",
     "output_type": "stream",
     "text": [
      "/opt/homebrew/Caskroom/miniforge/base/envs/pytorch_env/lib/python3.9/site-packages/dalex/model_explanations/_model_performance/utils.py:34: FutureWarning:\n",
      "\n",
      "The series.append method is deprecated and will be removed from pandas in a future version. Use pandas.concat instead.\n",
      "\n",
      "/opt/homebrew/Caskroom/miniforge/base/envs/pytorch_env/lib/python3.9/site-packages/dalex/model_explanations/_model_performance/utils.py:33: FutureWarning:\n",
      "\n",
      "The series.append method is deprecated and will be removed from pandas in a future version. Use pandas.concat instead.\n",
      "\n",
      "/opt/homebrew/Caskroom/miniforge/base/envs/pytorch_env/lib/python3.9/site-packages/dalex/model_explanations/_model_performance/utils.py:34: FutureWarning:\n",
      "\n",
      "The series.append method is deprecated and will be removed from pandas in a future version. Use pandas.concat instead.\n",
      "\n",
      "/opt/homebrew/Caskroom/miniforge/base/envs/pytorch_env/lib/python3.9/site-packages/dalex/model_explanations/_model_performance/utils.py:33: FutureWarning:\n",
      "\n",
      "The series.append method is deprecated and will be removed from pandas in a future version. Use pandas.concat instead.\n",
      "\n",
      "/opt/homebrew/Caskroom/miniforge/base/envs/pytorch_env/lib/python3.9/site-packages/dalex/model_explanations/_model_performance/utils.py:34: FutureWarning:\n",
      "\n",
      "The series.append method is deprecated and will be removed from pandas in a future version. Use pandas.concat instead.\n",
      "\n",
      "/opt/homebrew/Caskroom/miniforge/base/envs/pytorch_env/lib/python3.9/site-packages/dalex/model_explanations/_model_performance/utils.py:33: FutureWarning:\n",
      "\n",
      "The series.append method is deprecated and will be removed from pandas in a future version. Use pandas.concat instead.\n",
      "\n",
      "/opt/homebrew/Caskroom/miniforge/base/envs/pytorch_env/lib/python3.9/site-packages/dalex/model_explanations/_model_performance/utils.py:34: FutureWarning:\n",
      "\n",
      "The series.append method is deprecated and will be removed from pandas in a future version. Use pandas.concat instead.\n",
      "\n",
      "/opt/homebrew/Caskroom/miniforge/base/envs/pytorch_env/lib/python3.9/site-packages/dalex/model_explanations/_model_performance/utils.py:33: FutureWarning:\n",
      "\n",
      "The series.append method is deprecated and will be removed from pandas in a future version. Use pandas.concat instead.\n",
      "\n",
      "/opt/homebrew/Caskroom/miniforge/base/envs/pytorch_env/lib/python3.9/site-packages/dalex/model_explanations/_model_performance/utils.py:34: FutureWarning:\n",
      "\n",
      "The series.append method is deprecated and will be removed from pandas in a future version. Use pandas.concat instead.\n",
      "\n",
      "/opt/homebrew/Caskroom/miniforge/base/envs/pytorch_env/lib/python3.9/site-packages/dalex/model_explanations/_model_performance/utils.py:33: FutureWarning:\n",
      "\n",
      "The series.append method is deprecated and will be removed from pandas in a future version. Use pandas.concat instead.\n",
      "\n",
      "/opt/homebrew/Caskroom/miniforge/base/envs/pytorch_env/lib/python3.9/site-packages/dalex/model_explanations/_model_performance/utils.py:34: FutureWarning:\n",
      "\n",
      "The series.append method is deprecated and will be removed from pandas in a future version. Use pandas.concat instead.\n",
      "\n",
      "/opt/homebrew/Caskroom/miniforge/base/envs/pytorch_env/lib/python3.9/site-packages/dalex/model_explanations/_model_performance/utils.py:33: FutureWarning:\n",
      "\n",
      "The series.append method is deprecated and will be removed from pandas in a future version. Use pandas.concat instead.\n",
      "\n",
      "/opt/homebrew/Caskroom/miniforge/base/envs/pytorch_env/lib/python3.9/site-packages/dalex/model_explanations/_model_performance/utils.py:34: FutureWarning:\n",
      "\n",
      "The series.append method is deprecated and will be removed from pandas in a future version. Use pandas.concat instead.\n",
      "\n",
      "/opt/homebrew/Caskroom/miniforge/base/envs/pytorch_env/lib/python3.9/site-packages/dalex/model_explanations/_model_performance/utils.py:33: FutureWarning:\n",
      "\n",
      "The series.append method is deprecated and will be removed from pandas in a future version. Use pandas.concat instead.\n",
      "\n",
      "/opt/homebrew/Caskroom/miniforge/base/envs/pytorch_env/lib/python3.9/site-packages/dalex/model_explanations/_model_performance/utils.py:34: FutureWarning:\n",
      "\n",
      "The series.append method is deprecated and will be removed from pandas in a future version. Use pandas.concat instead.\n",
      "\n",
      "/opt/homebrew/Caskroom/miniforge/base/envs/pytorch_env/lib/python3.9/site-packages/dalex/model_explanations/_model_performance/utils.py:33: FutureWarning:\n",
      "\n",
      "The series.append method is deprecated and will be removed from pandas in a future version. Use pandas.concat instead.\n",
      "\n",
      "/opt/homebrew/Caskroom/miniforge/base/envs/pytorch_env/lib/python3.9/site-packages/dalex/model_explanations/_model_performance/utils.py:34: FutureWarning:\n",
      "\n",
      "The series.append method is deprecated and will be removed from pandas in a future version. Use pandas.concat instead.\n",
      "\n",
      "/opt/homebrew/Caskroom/miniforge/base/envs/pytorch_env/lib/python3.9/site-packages/dalex/model_explanations/_model_performance/utils.py:33: FutureWarning:\n",
      "\n",
      "The series.append method is deprecated and will be removed from pandas in a future version. Use pandas.concat instead.\n",
      "\n",
      "/opt/homebrew/Caskroom/miniforge/base/envs/pytorch_env/lib/python3.9/site-packages/dalex/model_explanations/_model_performance/utils.py:34: FutureWarning:\n",
      "\n",
      "The series.append method is deprecated and will be removed from pandas in a future version. Use pandas.concat instead.\n",
      "\n",
      "/opt/homebrew/Caskroom/miniforge/base/envs/pytorch_env/lib/python3.9/site-packages/dalex/model_explanations/_model_performance/utils.py:33: FutureWarning:\n",
      "\n",
      "The series.append method is deprecated and will be removed from pandas in a future version. Use pandas.concat instead.\n",
      "\n",
      "/opt/homebrew/Caskroom/miniforge/base/envs/pytorch_env/lib/python3.9/site-packages/dalex/model_explanations/_model_performance/utils.py:34: FutureWarning:\n",
      "\n",
      "The series.append method is deprecated and will be removed from pandas in a future version. Use pandas.concat instead.\n",
      "\n",
      "/opt/homebrew/Caskroom/miniforge/base/envs/pytorch_env/lib/python3.9/site-packages/dalex/model_explanations/_model_performance/utils.py:33: FutureWarning:\n",
      "\n",
      "The series.append method is deprecated and will be removed from pandas in a future version. Use pandas.concat instead.\n",
      "\n",
      "/opt/homebrew/Caskroom/miniforge/base/envs/pytorch_env/lib/python3.9/site-packages/dalex/model_explanations/_model_performance/utils.py:34: FutureWarning:\n",
      "\n",
      "The series.append method is deprecated and will be removed from pandas in a future version. Use pandas.concat instead.\n",
      "\n",
      "/opt/homebrew/Caskroom/miniforge/base/envs/pytorch_env/lib/python3.9/site-packages/dalex/model_explanations/_model_performance/utils.py:33: FutureWarning:\n",
      "\n",
      "The series.append method is deprecated and will be removed from pandas in a future version. Use pandas.concat instead.\n",
      "\n",
      "/opt/homebrew/Caskroom/miniforge/base/envs/pytorch_env/lib/python3.9/site-packages/dalex/model_explanations/_model_performance/utils.py:34: FutureWarning:\n",
      "\n",
      "The series.append method is deprecated and will be removed from pandas in a future version. Use pandas.concat instead.\n",
      "\n",
      "/opt/homebrew/Caskroom/miniforge/base/envs/pytorch_env/lib/python3.9/site-packages/dalex/model_explanations/_model_performance/utils.py:33: FutureWarning:\n",
      "\n",
      "The series.append method is deprecated and will be removed from pandas in a future version. Use pandas.concat instead.\n",
      "\n",
      "/opt/homebrew/Caskroom/miniforge/base/envs/pytorch_env/lib/python3.9/site-packages/dalex/model_explanations/_model_performance/utils.py:34: FutureWarning:\n",
      "\n",
      "The series.append method is deprecated and will be removed from pandas in a future version. Use pandas.concat instead.\n",
      "\n",
      "/opt/homebrew/Caskroom/miniforge/base/envs/pytorch_env/lib/python3.9/site-packages/dalex/model_explanations/_model_performance/utils.py:33: FutureWarning:\n",
      "\n",
      "The series.append method is deprecated and will be removed from pandas in a future version. Use pandas.concat instead.\n",
      "\n",
      "/opt/homebrew/Caskroom/miniforge/base/envs/pytorch_env/lib/python3.9/site-packages/dalex/model_explanations/_model_performance/utils.py:34: FutureWarning:\n",
      "\n",
      "The series.append method is deprecated and will be removed from pandas in a future version. Use pandas.concat instead.\n",
      "\n",
      "/opt/homebrew/Caskroom/miniforge/base/envs/pytorch_env/lib/python3.9/site-packages/dalex/model_explanations/_model_performance/utils.py:33: FutureWarning:\n",
      "\n",
      "The series.append method is deprecated and will be removed from pandas in a future version. Use pandas.concat instead.\n",
      "\n",
      "/opt/homebrew/Caskroom/miniforge/base/envs/pytorch_env/lib/python3.9/site-packages/dalex/model_explanations/_model_performance/utils.py:34: FutureWarning:\n",
      "\n",
      "The series.append method is deprecated and will be removed from pandas in a future version. Use pandas.concat instead.\n",
      "\n",
      "/opt/homebrew/Caskroom/miniforge/base/envs/pytorch_env/lib/python3.9/site-packages/dalex/model_explanations/_model_performance/utils.py:33: FutureWarning:\n",
      "\n",
      "The series.append method is deprecated and will be removed from pandas in a future version. Use pandas.concat instead.\n",
      "\n",
      "/opt/homebrew/Caskroom/miniforge/base/envs/pytorch_env/lib/python3.9/site-packages/dalex/model_explanations/_model_performance/utils.py:34: FutureWarning:\n",
      "\n",
      "The series.append method is deprecated and will be removed from pandas in a future version. Use pandas.concat instead.\n",
      "\n",
      "/opt/homebrew/Caskroom/miniforge/base/envs/pytorch_env/lib/python3.9/site-packages/dalex/model_explanations/_model_performance/utils.py:33: FutureWarning:\n",
      "\n",
      "The series.append method is deprecated and will be removed from pandas in a future version. Use pandas.concat instead.\n",
      "\n",
      "/opt/homebrew/Caskroom/miniforge/base/envs/pytorch_env/lib/python3.9/site-packages/dalex/model_explanations/_model_performance/utils.py:34: FutureWarning:\n",
      "\n",
      "The series.append method is deprecated and will be removed from pandas in a future version. Use pandas.concat instead.\n",
      "\n",
      "/opt/homebrew/Caskroom/miniforge/base/envs/pytorch_env/lib/python3.9/site-packages/dalex/model_explanations/_model_performance/utils.py:33: FutureWarning:\n",
      "\n",
      "The series.append method is deprecated and will be removed from pandas in a future version. Use pandas.concat instead.\n",
      "\n"
     ]
    },
    {
     "name": "stderr",
     "output_type": "stream",
     "text": [
      "/opt/homebrew/Caskroom/miniforge/base/envs/pytorch_env/lib/python3.9/site-packages/dalex/model_explanations/_model_performance/utils.py:34: FutureWarning:\n",
      "\n",
      "The series.append method is deprecated and will be removed from pandas in a future version. Use pandas.concat instead.\n",
      "\n",
      "/opt/homebrew/Caskroom/miniforge/base/envs/pytorch_env/lib/python3.9/site-packages/dalex/model_explanations/_model_performance/utils.py:33: FutureWarning:\n",
      "\n",
      "The series.append method is deprecated and will be removed from pandas in a future version. Use pandas.concat instead.\n",
      "\n",
      "/opt/homebrew/Caskroom/miniforge/base/envs/pytorch_env/lib/python3.9/site-packages/dalex/model_explanations/_model_performance/utils.py:34: FutureWarning:\n",
      "\n",
      "The series.append method is deprecated and will be removed from pandas in a future version. Use pandas.concat instead.\n",
      "\n",
      "/opt/homebrew/Caskroom/miniforge/base/envs/pytorch_env/lib/python3.9/site-packages/dalex/model_explanations/_model_performance/utils.py:33: FutureWarning:\n",
      "\n",
      "The series.append method is deprecated and will be removed from pandas in a future version. Use pandas.concat instead.\n",
      "\n",
      "/opt/homebrew/Caskroom/miniforge/base/envs/pytorch_env/lib/python3.9/site-packages/dalex/model_explanations/_model_performance/utils.py:34: FutureWarning:\n",
      "\n",
      "The series.append method is deprecated and will be removed from pandas in a future version. Use pandas.concat instead.\n",
      "\n",
      "/opt/homebrew/Caskroom/miniforge/base/envs/pytorch_env/lib/python3.9/site-packages/dalex/model_explanations/_model_performance/utils.py:33: FutureWarning:\n",
      "\n",
      "The series.append method is deprecated and will be removed from pandas in a future version. Use pandas.concat instead.\n",
      "\n",
      "/opt/homebrew/Caskroom/miniforge/base/envs/pytorch_env/lib/python3.9/site-packages/dalex/model_explanations/_model_performance/utils.py:34: FutureWarning:\n",
      "\n",
      "The series.append method is deprecated and will be removed from pandas in a future version. Use pandas.concat instead.\n",
      "\n",
      "/opt/homebrew/Caskroom/miniforge/base/envs/pytorch_env/lib/python3.9/site-packages/dalex/model_explanations/_model_performance/utils.py:33: FutureWarning:\n",
      "\n",
      "The series.append method is deprecated and will be removed from pandas in a future version. Use pandas.concat instead.\n",
      "\n",
      "/opt/homebrew/Caskroom/miniforge/base/envs/pytorch_env/lib/python3.9/site-packages/dalex/model_explanations/_model_performance/utils.py:34: FutureWarning:\n",
      "\n",
      "The series.append method is deprecated and will be removed from pandas in a future version. Use pandas.concat instead.\n",
      "\n",
      "/opt/homebrew/Caskroom/miniforge/base/envs/pytorch_env/lib/python3.9/site-packages/dalex/model_explanations/_model_performance/utils.py:33: FutureWarning:\n",
      "\n",
      "The series.append method is deprecated and will be removed from pandas in a future version. Use pandas.concat instead.\n",
      "\n",
      "/opt/homebrew/Caskroom/miniforge/base/envs/pytorch_env/lib/python3.9/site-packages/dalex/model_explanations/_model_performance/utils.py:34: FutureWarning:\n",
      "\n",
      "The series.append method is deprecated and will be removed from pandas in a future version. Use pandas.concat instead.\n",
      "\n",
      "/opt/homebrew/Caskroom/miniforge/base/envs/pytorch_env/lib/python3.9/site-packages/dalex/model_explanations/_model_performance/utils.py:33: FutureWarning:\n",
      "\n",
      "The series.append method is deprecated and will be removed from pandas in a future version. Use pandas.concat instead.\n",
      "\n",
      "/opt/homebrew/Caskroom/miniforge/base/envs/pytorch_env/lib/python3.9/site-packages/dalex/model_explanations/_model_performance/utils.py:34: FutureWarning:\n",
      "\n",
      "The series.append method is deprecated and will be removed from pandas in a future version. Use pandas.concat instead.\n",
      "\n",
      "/opt/homebrew/Caskroom/miniforge/base/envs/pytorch_env/lib/python3.9/site-packages/dalex/model_explanations/_model_performance/utils.py:33: FutureWarning:\n",
      "\n",
      "The series.append method is deprecated and will be removed from pandas in a future version. Use pandas.concat instead.\n",
      "\n",
      "/opt/homebrew/Caskroom/miniforge/base/envs/pytorch_env/lib/python3.9/site-packages/dalex/model_explanations/_model_performance/utils.py:34: FutureWarning:\n",
      "\n",
      "The series.append method is deprecated and will be removed from pandas in a future version. Use pandas.concat instead.\n",
      "\n",
      "/opt/homebrew/Caskroom/miniforge/base/envs/pytorch_env/lib/python3.9/site-packages/dalex/model_explanations/_model_performance/utils.py:33: FutureWarning:\n",
      "\n",
      "The series.append method is deprecated and will be removed from pandas in a future version. Use pandas.concat instead.\n",
      "\n",
      "/opt/homebrew/Caskroom/miniforge/base/envs/pytorch_env/lib/python3.9/site-packages/dalex/model_explanations/_model_performance/utils.py:34: FutureWarning:\n",
      "\n",
      "The series.append method is deprecated and will be removed from pandas in a future version. Use pandas.concat instead.\n",
      "\n",
      "/opt/homebrew/Caskroom/miniforge/base/envs/pytorch_env/lib/python3.9/site-packages/dalex/model_explanations/_model_performance/utils.py:33: FutureWarning:\n",
      "\n",
      "The series.append method is deprecated and will be removed from pandas in a future version. Use pandas.concat instead.\n",
      "\n",
      "/opt/homebrew/Caskroom/miniforge/base/envs/pytorch_env/lib/python3.9/site-packages/dalex/model_explanations/_model_performance/utils.py:34: FutureWarning:\n",
      "\n",
      "The series.append method is deprecated and will be removed from pandas in a future version. Use pandas.concat instead.\n",
      "\n",
      "/opt/homebrew/Caskroom/miniforge/base/envs/pytorch_env/lib/python3.9/site-packages/dalex/model_explanations/_model_performance/utils.py:33: FutureWarning:\n",
      "\n",
      "The series.append method is deprecated and will be removed from pandas in a future version. Use pandas.concat instead.\n",
      "\n",
      "/opt/homebrew/Caskroom/miniforge/base/envs/pytorch_env/lib/python3.9/site-packages/dalex/model_explanations/_model_performance/utils.py:34: FutureWarning:\n",
      "\n",
      "The series.append method is deprecated and will be removed from pandas in a future version. Use pandas.concat instead.\n",
      "\n",
      "/opt/homebrew/Caskroom/miniforge/base/envs/pytorch_env/lib/python3.9/site-packages/dalex/model_explanations/_model_performance/utils.py:33: FutureWarning:\n",
      "\n",
      "The series.append method is deprecated and will be removed from pandas in a future version. Use pandas.concat instead.\n",
      "\n",
      "/opt/homebrew/Caskroom/miniforge/base/envs/pytorch_env/lib/python3.9/site-packages/dalex/model_explanations/_model_performance/utils.py:34: FutureWarning:\n",
      "\n",
      "The series.append method is deprecated and will be removed from pandas in a future version. Use pandas.concat instead.\n",
      "\n",
      "/opt/homebrew/Caskroom/miniforge/base/envs/pytorch_env/lib/python3.9/site-packages/dalex/model_explanations/_model_performance/utils.py:33: FutureWarning:\n",
      "\n",
      "The series.append method is deprecated and will be removed from pandas in a future version. Use pandas.concat instead.\n",
      "\n",
      "/opt/homebrew/Caskroom/miniforge/base/envs/pytorch_env/lib/python3.9/site-packages/dalex/model_explanations/_model_performance/utils.py:34: FutureWarning:\n",
      "\n",
      "The series.append method is deprecated and will be removed from pandas in a future version. Use pandas.concat instead.\n",
      "\n",
      "/opt/homebrew/Caskroom/miniforge/base/envs/pytorch_env/lib/python3.9/site-packages/dalex/model_explanations/_model_performance/utils.py:33: FutureWarning:\n",
      "\n",
      "The series.append method is deprecated and will be removed from pandas in a future version. Use pandas.concat instead.\n",
      "\n",
      "/opt/homebrew/Caskroom/miniforge/base/envs/pytorch_env/lib/python3.9/site-packages/dalex/model_explanations/_model_performance/utils.py:34: FutureWarning:\n",
      "\n",
      "The series.append method is deprecated and will be removed from pandas in a future version. Use pandas.concat instead.\n",
      "\n",
      "/opt/homebrew/Caskroom/miniforge/base/envs/pytorch_env/lib/python3.9/site-packages/dalex/model_explanations/_model_performance/utils.py:33: FutureWarning:\n",
      "\n",
      "The series.append method is deprecated and will be removed from pandas in a future version. Use pandas.concat instead.\n",
      "\n",
      "/opt/homebrew/Caskroom/miniforge/base/envs/pytorch_env/lib/python3.9/site-packages/dalex/model_explanations/_model_performance/utils.py:34: FutureWarning:\n",
      "\n",
      "The series.append method is deprecated and will be removed from pandas in a future version. Use pandas.concat instead.\n",
      "\n",
      "/opt/homebrew/Caskroom/miniforge/base/envs/pytorch_env/lib/python3.9/site-packages/dalex/model_explanations/_model_performance/utils.py:33: FutureWarning:\n",
      "\n",
      "The series.append method is deprecated and will be removed from pandas in a future version. Use pandas.concat instead.\n",
      "\n",
      "/opt/homebrew/Caskroom/miniforge/base/envs/pytorch_env/lib/python3.9/site-packages/dalex/model_explanations/_model_performance/utils.py:34: FutureWarning:\n",
      "\n",
      "The series.append method is deprecated and will be removed from pandas in a future version. Use pandas.concat instead.\n",
      "\n",
      "/opt/homebrew/Caskroom/miniforge/base/envs/pytorch_env/lib/python3.9/site-packages/dalex/model_explanations/_model_performance/utils.py:33: FutureWarning:\n",
      "\n",
      "The series.append method is deprecated and will be removed from pandas in a future version. Use pandas.concat instead.\n",
      "\n",
      "/opt/homebrew/Caskroom/miniforge/base/envs/pytorch_env/lib/python3.9/site-packages/dalex/model_explanations/_model_performance/utils.py:34: FutureWarning:\n",
      "\n",
      "The series.append method is deprecated and will be removed from pandas in a future version. Use pandas.concat instead.\n",
      "\n",
      "/opt/homebrew/Caskroom/miniforge/base/envs/pytorch_env/lib/python3.9/site-packages/dalex/model_explanations/_model_performance/utils.py:33: FutureWarning:\n",
      "\n",
      "The series.append method is deprecated and will be removed from pandas in a future version. Use pandas.concat instead.\n",
      "\n",
      "/opt/homebrew/Caskroom/miniforge/base/envs/pytorch_env/lib/python3.9/site-packages/dalex/model_explanations/_model_performance/utils.py:34: FutureWarning:\n",
      "\n",
      "The series.append method is deprecated and will be removed from pandas in a future version. Use pandas.concat instead.\n",
      "\n",
      "/opt/homebrew/Caskroom/miniforge/base/envs/pytorch_env/lib/python3.9/site-packages/dalex/model_explanations/_model_performance/utils.py:33: FutureWarning:\n",
      "\n",
      "The series.append method is deprecated and will be removed from pandas in a future version. Use pandas.concat instead.\n",
      "\n",
      "/opt/homebrew/Caskroom/miniforge/base/envs/pytorch_env/lib/python3.9/site-packages/dalex/model_explanations/_model_performance/utils.py:34: FutureWarning:\n",
      "\n",
      "The series.append method is deprecated and will be removed from pandas in a future version. Use pandas.concat instead.\n",
      "\n"
     ]
    },
    {
     "name": "stderr",
     "output_type": "stream",
     "text": [
      "/opt/homebrew/Caskroom/miniforge/base/envs/pytorch_env/lib/python3.9/site-packages/dalex/model_explanations/_model_performance/utils.py:33: FutureWarning:\n",
      "\n",
      "The series.append method is deprecated and will be removed from pandas in a future version. Use pandas.concat instead.\n",
      "\n",
      "/opt/homebrew/Caskroom/miniforge/base/envs/pytorch_env/lib/python3.9/site-packages/dalex/model_explanations/_model_performance/utils.py:34: FutureWarning:\n",
      "\n",
      "The series.append method is deprecated and will be removed from pandas in a future version. Use pandas.concat instead.\n",
      "\n",
      "/opt/homebrew/Caskroom/miniforge/base/envs/pytorch_env/lib/python3.9/site-packages/dalex/model_explanations/_model_performance/utils.py:33: FutureWarning:\n",
      "\n",
      "The series.append method is deprecated and will be removed from pandas in a future version. Use pandas.concat instead.\n",
      "\n",
      "/opt/homebrew/Caskroom/miniforge/base/envs/pytorch_env/lib/python3.9/site-packages/dalex/model_explanations/_model_performance/utils.py:34: FutureWarning:\n",
      "\n",
      "The series.append method is deprecated and will be removed from pandas in a future version. Use pandas.concat instead.\n",
      "\n",
      "/opt/homebrew/Caskroom/miniforge/base/envs/pytorch_env/lib/python3.9/site-packages/dalex/model_explanations/_model_performance/utils.py:33: FutureWarning:\n",
      "\n",
      "The series.append method is deprecated and will be removed from pandas in a future version. Use pandas.concat instead.\n",
      "\n",
      "/opt/homebrew/Caskroom/miniforge/base/envs/pytorch_env/lib/python3.9/site-packages/dalex/model_explanations/_model_performance/utils.py:34: FutureWarning:\n",
      "\n",
      "The series.append method is deprecated and will be removed from pandas in a future version. Use pandas.concat instead.\n",
      "\n",
      "/opt/homebrew/Caskroom/miniforge/base/envs/pytorch_env/lib/python3.9/site-packages/dalex/model_explanations/_model_performance/utils.py:33: FutureWarning:\n",
      "\n",
      "The series.append method is deprecated and will be removed from pandas in a future version. Use pandas.concat instead.\n",
      "\n",
      "/opt/homebrew/Caskroom/miniforge/base/envs/pytorch_env/lib/python3.9/site-packages/dalex/model_explanations/_model_performance/utils.py:34: FutureWarning:\n",
      "\n",
      "The series.append method is deprecated and will be removed from pandas in a future version. Use pandas.concat instead.\n",
      "\n",
      "/opt/homebrew/Caskroom/miniforge/base/envs/pytorch_env/lib/python3.9/site-packages/dalex/model_explanations/_model_performance/utils.py:33: FutureWarning:\n",
      "\n",
      "The series.append method is deprecated and will be removed from pandas in a future version. Use pandas.concat instead.\n",
      "\n",
      "/opt/homebrew/Caskroom/miniforge/base/envs/pytorch_env/lib/python3.9/site-packages/dalex/model_explanations/_model_performance/utils.py:34: FutureWarning:\n",
      "\n",
      "The series.append method is deprecated and will be removed from pandas in a future version. Use pandas.concat instead.\n",
      "\n",
      "/opt/homebrew/Caskroom/miniforge/base/envs/pytorch_env/lib/python3.9/site-packages/dalex/model_explanations/_model_performance/utils.py:33: FutureWarning:\n",
      "\n",
      "The series.append method is deprecated and will be removed from pandas in a future version. Use pandas.concat instead.\n",
      "\n",
      "/opt/homebrew/Caskroom/miniforge/base/envs/pytorch_env/lib/python3.9/site-packages/dalex/model_explanations/_model_performance/utils.py:34: FutureWarning:\n",
      "\n",
      "The series.append method is deprecated and will be removed from pandas in a future version. Use pandas.concat instead.\n",
      "\n",
      "/opt/homebrew/Caskroom/miniforge/base/envs/pytorch_env/lib/python3.9/site-packages/dalex/model_explanations/_model_performance/utils.py:33: FutureWarning:\n",
      "\n",
      "The series.append method is deprecated and will be removed from pandas in a future version. Use pandas.concat instead.\n",
      "\n",
      "/opt/homebrew/Caskroom/miniforge/base/envs/pytorch_env/lib/python3.9/site-packages/dalex/model_explanations/_model_performance/utils.py:34: FutureWarning:\n",
      "\n",
      "The series.append method is deprecated and will be removed from pandas in a future version. Use pandas.concat instead.\n",
      "\n"
     ]
    },
    {
     "data": {
      "application/vnd.plotly.v1+json": {
       "config": {
        "displaylogo": false,
        "modeBarButtonsToRemove": [
         "sendDataToCloud",
         "lasso2d",
         "autoScale2d",
         "select2d",
         "zoom2d",
         "pan2d",
         "zoomIn2d",
         "zoomOut2d",
         "resetScale2d",
         "toggleSpikelines",
         "hoverCompareCartesian",
         "hoverClosestCartesian"
        ],
        "plotlyServerURL": "https://plot.ly",
        "staticPlot": false,
        "toImageButtonOptions": {
         "height": null,
         "width": null
        }
       },
       "data": [
        {
         "base": 0.30314281473402416,
         "hoverinfo": "text",
         "hoverlabel": {
          "bgcolor": "rgba(0,0,0,0.8)"
         },
         "hovertext": [
          "Model: Random Forest Bias Unaware loss after<br>variable: priors_count is permuted: 0.435<br>Drop-out loss change: +0.132",
          "Model: Random Forest Bias Unaware loss after<br>variable: age is permuted: 0.369<br>Drop-out loss change: +0.066",
          "Model: Random Forest Bias Unaware loss after<br>variable: c_charge_degree is permuted: 0.31<br>Drop-out loss change: +0.007",
          "Model: Random Forest Bias Unaware loss after<br>variable: sex is permuted: 0.307<br>Drop-out loss change: +0.004",
          "Model: Random Forest Bias Unaware loss after<br>variable: race is permuted: 0.307<br>Drop-out loss change: +0.004",
          "Model: Random Forest Bias Unaware loss after<br>variable: juv_count is permuted: 0.303<br>Drop-out loss change: -0.0"
         ],
         "marker": {
          "color": "#46bac2"
         },
         "orientation": "h",
         "showlegend": false,
         "text": [
          "+0.132",
          "+0.066",
          "+0.007",
          "+0.004",
          "+0.004",
          "0.0"
         ],
         "textposition": "outside",
         "type": "bar",
         "x": [
          0.13182591779104036,
          0.06573299491299633,
          0.006678926405601526,
          0.004332592521465395,
          0.004020595297778429,
          0
         ],
         "xaxis": "x",
         "y": [
          "priors_count",
          "age",
          "c_charge_degree",
          "sex",
          "race",
          "juv_count"
         ],
         "yaxis": "y"
        }
       ],
       "layout": {
        "annotations": [
         {
          "font": {
           "size": 16
          },
          "showarrow": false,
          "text": "Random Forest Bias Unaware",
          "x": 0.5,
          "xanchor": "center",
          "xref": "paper",
          "y": 1,
          "yanchor": "bottom",
          "yref": "paper"
         },
         {
          "font": {
           "size": 16
          },
          "showarrow": false,
          "text": "drop-out loss",
          "x": 0.5,
          "xanchor": "center",
          "xref": "paper",
          "y": 0,
          "yanchor": "top",
          "yref": "paper",
          "yshift": -30
         }
        ],
        "font": {
         "color": "#371ea3"
        },
        "height": 303,
        "margin": {
         "b": 71,
         "r": 30,
         "t": 78
        },
        "shapes": [
         {
          "line": {
           "color": "#371ea3",
           "dash": "dot",
           "width": 1.5
          },
          "type": "line",
          "x0": 0.30314281473402416,
          "x1": 0.30314281473402416,
          "xref": "x",
          "y0": -1,
          "y1": 6,
          "yref": "y"
         }
        ],
        "template": {
         "data": {
          "scatter": [
           {
            "type": "scatter"
           }
          ]
         }
        },
        "title": {
         "text": "Variable Importance",
         "x": 0.15
        },
        "xaxis": {
         "anchor": "y",
         "automargin": true,
         "domain": [
          0,
          1
         ],
         "fixedrange": true,
         "gridwidth": 2,
         "range": [
          0.2833689270653681,
          0.4547426201937206
         ],
         "tickcolor": "white",
         "ticklen": 3,
         "ticks": "outside",
         "type": "linear",
         "zeroline": false
        },
        "yaxis": {
         "anchor": "x",
         "automargin": true,
         "autorange": "reversed",
         "domain": [
          0,
          1
         ],
         "fixedrange": true,
         "gridwidth": 2,
         "tickcolor": "white",
         "ticklen": 10,
         "ticks": "outside",
         "type": "category"
        }
       }
      },
      "text/html": [
       "<div>                            <div id=\"516aa3e5-23b7-4248-9caa-f6d77e95ecb7\" class=\"plotly-graph-div\" style=\"height:303.0px; width:100%;\"></div>            <script type=\"text/javascript\">                require([\"plotly\"], function(Plotly) {                    window.PLOTLYENV=window.PLOTLYENV || {};                                    if (document.getElementById(\"516aa3e5-23b7-4248-9caa-f6d77e95ecb7\")) {                    Plotly.newPlot(                        \"516aa3e5-23b7-4248-9caa-f6d77e95ecb7\",                        [{\"base\":0.30314281473402416,\"hoverinfo\":\"text\",\"hoverlabel\":{\"bgcolor\":\"rgba(0,0,0,0.8)\"},\"hovertext\":[\"Model: Random Forest Bias Unaware loss after<br>variable: priors_count is permuted: 0.435<br>Drop-out loss change: +0.132\",\"Model: Random Forest Bias Unaware loss after<br>variable: age is permuted: 0.369<br>Drop-out loss change: +0.066\",\"Model: Random Forest Bias Unaware loss after<br>variable: c_charge_degree is permuted: 0.31<br>Drop-out loss change: +0.007\",\"Model: Random Forest Bias Unaware loss after<br>variable: sex is permuted: 0.307<br>Drop-out loss change: +0.004\",\"Model: Random Forest Bias Unaware loss after<br>variable: race is permuted: 0.307<br>Drop-out loss change: +0.004\",\"Model: Random Forest Bias Unaware loss after<br>variable: juv_count is permuted: 0.303<br>Drop-out loss change: -0.0\"],\"marker\":{\"color\":\"#46bac2\"},\"orientation\":\"h\",\"showlegend\":false,\"text\":[\"+0.132\",\"+0.066\",\"+0.007\",\"+0.004\",\"+0.004\",\"0.0\"],\"textposition\":\"outside\",\"x\":[0.13182591779104036,0.06573299491299633,0.006678926405601526,0.004332592521465395,0.004020595297778429,0.0],\"y\":[\"priors_count\",\"age\",\"c_charge_degree\",\"sex\",\"race\",\"juv_count\"],\"type\":\"bar\",\"xaxis\":\"x\",\"yaxis\":\"y\"}],                        {\"template\":{\"data\":{\"scatter\":[{\"type\":\"scatter\"}]}},\"xaxis\":{\"anchor\":\"y\",\"domain\":[0.0,1.0],\"type\":\"linear\",\"gridwidth\":2,\"zeroline\":false,\"automargin\":true,\"ticks\":\"outside\",\"tickcolor\":\"white\",\"ticklen\":3,\"fixedrange\":true,\"range\":[0.2833689270653681,0.4547426201937206]},\"yaxis\":{\"anchor\":\"x\",\"domain\":[0.0,1.0],\"type\":\"category\",\"autorange\":\"reversed\",\"gridwidth\":2,\"automargin\":true,\"ticks\":\"outside\",\"tickcolor\":\"white\",\"ticklen\":10,\"fixedrange\":true},\"annotations\":[{\"font\":{\"size\":16},\"showarrow\":false,\"text\":\"Random Forest Bias Unaware\",\"x\":0.5,\"xanchor\":\"center\",\"xref\":\"paper\",\"y\":1.0,\"yanchor\":\"bottom\",\"yref\":\"paper\"},{\"font\":{\"size\":16},\"showarrow\":false,\"text\":\"drop-out loss\",\"x\":0.5,\"xanchor\":\"center\",\"xref\":\"paper\",\"y\":0,\"yanchor\":\"top\",\"yref\":\"paper\",\"yshift\":-30}],\"shapes\":[{\"line\":{\"color\":\"#371ea3\",\"dash\":\"dot\",\"width\":1.5},\"type\":\"line\",\"x0\":0.30314281473402416,\"x1\":0.30314281473402416,\"xref\":\"x\",\"y0\":-1,\"y1\":6,\"yref\":\"y\"}],\"title\":{\"text\":\"Variable Importance\",\"x\":0.15},\"font\":{\"color\":\"#371ea3\"},\"margin\":{\"t\":78,\"b\":71,\"r\":30},\"height\":303.0},                        {\"displaylogo\": false, \"staticPlot\": false, \"toImageButtonOptions\": {\"height\": null, \"width\": null}, \"modeBarButtonsToRemove\": [\"sendDataToCloud\", \"lasso2d\", \"autoScale2d\", \"select2d\", \"zoom2d\", \"pan2d\", \"zoomIn2d\", \"zoomOut2d\", \"resetScale2d\", \"toggleSpikelines\", \"hoverCompareCartesian\", \"hoverClosestCartesian\"], \"responsive\": true}                    ).then(function(){\n",
       "                            \n",
       "var gd = document.getElementById('516aa3e5-23b7-4248-9caa-f6d77e95ecb7');\n",
       "var x = new MutationObserver(function (mutations, observer) {{\n",
       "        var display = window.getComputedStyle(gd).display;\n",
       "        if (!display || display === 'none') {{\n",
       "            console.log([gd, 'removed!']);\n",
       "            Plotly.purge(gd);\n",
       "            observer.disconnect();\n",
       "        }}\n",
       "}});\n",
       "\n",
       "// Listen for the removal of the full notebook cells\n",
       "var notebookContainer = gd.closest('#notebook-container');\n",
       "if (notebookContainer) {{\n",
       "    x.observe(notebookContainer, {childList: true});\n",
       "}}\n",
       "\n",
       "// Listen for the clearing of the current output cell\n",
       "var outputEl = gd.closest('.output');\n",
       "if (outputEl) {{\n",
       "    x.observe(outputEl, {childList: true});\n",
       "}}\n",
       "\n",
       "                        })                };                });            </script>        </div>"
      ]
     },
     "metadata": {},
     "output_type": "display_data"
    }
   ],
   "source": [
    "exp_tree.model_parts().plot()"
   ]
  },
  {
   "cell_type": "code",
   "execution_count": 67,
   "id": "racial-arctic",
   "metadata": {},
   "outputs": [
    {
     "data": {
      "text/plain": [
       "race\n",
       "African-American    0.514652\n",
       "Caucasian           0.407162\n",
       "Hispanic            0.327778\n",
       "Other               0.345324\n",
       "Name: two_year_recid, dtype: float64"
      ]
     },
     "execution_count": 67,
     "metadata": {},
     "output_type": "execute_result"
    }
   ],
   "source": [
    "# Recidivism by race in our test set\n",
    "y_test.groupby(race_test).mean()"
   ]
  },
  {
   "cell_type": "code",
   "execution_count": 68,
   "id": "beneficial-maryland",
   "metadata": {},
   "outputs": [
    {
     "data": {
      "text/plain": [
       "race\n",
       "African-American    0.508242\n",
       "Caucasian           0.285146\n",
       "Hispanic            0.255556\n",
       "Other               0.381295\n",
       "dtype: float64"
      ]
     },
     "execution_count": 68,
     "metadata": {},
     "output_type": "execute_result"
    }
   ],
   "source": [
    "# Predicted Recidivism by race in our bias-unaware model\n",
    "pd.Series(unaware_y_preds, index=y_test.index).groupby(race_test).mean()"
   ]
  },
  {
   "cell_type": "code",
   "execution_count": 69,
   "id": "developmental-clearing",
   "metadata": {},
   "outputs": [
    {
     "data": {
      "text/html": [
       "<div>\n",
       "<style scoped>\n",
       "    .dataframe tbody tr th:only-of-type {\n",
       "        vertical-align: middle;\n",
       "    }\n",
       "\n",
       "    .dataframe tbody tr th {\n",
       "        vertical-align: top;\n",
       "    }\n",
       "\n",
       "    .dataframe thead th {\n",
       "        text-align: right;\n",
       "    }\n",
       "</style>\n",
       "<table border=\"1\" class=\"dataframe\">\n",
       "  <thead>\n",
       "    <tr style=\"text-align: right;\">\n",
       "      <th></th>\n",
       "      <th>TPR</th>\n",
       "      <th>TNR</th>\n",
       "      <th>PPV</th>\n",
       "      <th>NPV</th>\n",
       "      <th>FNR</th>\n",
       "      <th>FPR</th>\n",
       "      <th>FDR</th>\n",
       "      <th>FOR</th>\n",
       "      <th>ACC</th>\n",
       "      <th>STP</th>\n",
       "    </tr>\n",
       "  </thead>\n",
       "  <tbody>\n",
       "    <tr>\n",
       "      <th>African-American</th>\n",
       "      <td>0.665</td>\n",
       "      <td>0.658</td>\n",
       "      <td>0.674</td>\n",
       "      <td>0.650</td>\n",
       "      <td>0.335</td>\n",
       "      <td>0.342</td>\n",
       "      <td>0.326</td>\n",
       "      <td>0.350</td>\n",
       "      <td>0.662</td>\n",
       "      <td>0.508</td>\n",
       "    </tr>\n",
       "    <tr>\n",
       "      <th>Caucasian</th>\n",
       "      <td>0.407</td>\n",
       "      <td>0.799</td>\n",
       "      <td>0.581</td>\n",
       "      <td>0.662</td>\n",
       "      <td>0.593</td>\n",
       "      <td>0.201</td>\n",
       "      <td>0.419</td>\n",
       "      <td>0.338</td>\n",
       "      <td>0.639</td>\n",
       "      <td>0.285</td>\n",
       "    </tr>\n",
       "    <tr>\n",
       "      <th>Hispanic</th>\n",
       "      <td>0.356</td>\n",
       "      <td>0.785</td>\n",
       "      <td>0.447</td>\n",
       "      <td>0.714</td>\n",
       "      <td>0.644</td>\n",
       "      <td>0.215</td>\n",
       "      <td>0.553</td>\n",
       "      <td>0.286</td>\n",
       "      <td>0.644</td>\n",
       "      <td>0.261</td>\n",
       "    </tr>\n",
       "    <tr>\n",
       "      <th>Other</th>\n",
       "      <td>0.562</td>\n",
       "      <td>0.714</td>\n",
       "      <td>0.509</td>\n",
       "      <td>0.756</td>\n",
       "      <td>0.438</td>\n",
       "      <td>0.286</td>\n",
       "      <td>0.491</td>\n",
       "      <td>0.244</td>\n",
       "      <td>0.662</td>\n",
       "      <td>0.381</td>\n",
       "    </tr>\n",
       "  </tbody>\n",
       "</table>\n",
       "</div>"
      ],
      "text/plain": [
       "                    TPR    TNR    PPV    NPV    FNR    FPR    FDR    FOR  \\\n",
       "African-American  0.665  0.658  0.674  0.650  0.335  0.342  0.326  0.350   \n",
       "Caucasian         0.407  0.799  0.581  0.662  0.593  0.201  0.419  0.338   \n",
       "Hispanic          0.356  0.785  0.447  0.714  0.644  0.215  0.553  0.286   \n",
       "Other             0.562  0.714  0.509  0.756  0.438  0.286  0.491  0.244   \n",
       "\n",
       "                    ACC    STP  \n",
       "African-American  0.662  0.508  \n",
       "Caucasian         0.639  0.285  \n",
       "Hispanic          0.644  0.261  \n",
       "Other             0.662  0.381  "
      ]
     },
     "execution_count": 69,
     "metadata": {},
     "output_type": "execute_result"
    }
   ],
   "source": [
    "mf_tree = exp_tree.model_fairness(protected=race_test, privileged = \"Caucasian\")\n",
    "\n",
    "# TPR(r) = TP / AP                           ( aka sensitivity )\n",
    "# TNR(r) = TN / AN                           ( aka specificity )\n",
    "# PPV(r) = TP / (PP)                         ( aka precision )\n",
    "# NPV(r) = TN / (PN)                    \n",
    "# FNR(r) = FN / AP  OR 1 - TPR                   \n",
    "# FPR(r) = FP / AN  OR 1 - TNR                   \n",
    "# FDR(r) = FP / (PP) OR 1 - PPV\n",
    "# FOR(r) = FN / (PN) OR 1 - NPV         \n",
    "# ACC(r) = TP + TN  / (TP + TN + FP + FN)    ( Overall accuracy by Race)\n",
    "# STP(r) = TP + FP / (TP + FP + FP + FN)     ( aka P[recidivism predicted | Race=r] )\n",
    "\n",
    "mf_tree.metric_scores"
   ]
  },
  {
   "cell_type": "code",
   "execution_count": 70,
   "id": "direct-audit",
   "metadata": {},
   "outputs": [
    {
     "name": "stdout",
     "output_type": "stream",
     "text": [
      "Bias detected in 4 metrics: TPR, PPV, FPR, STP\n",
      "\n",
      "Conclusion: your model is not fair because 2 or more criteria exceeded acceptable limits set by epsilon.\n",
      "\n",
      "Ratios of metrics, based on 'Caucasian'. Parameter 'epsilon' was set to 0.8 and therefore metrics should be within (0.8, 1.25)\n",
      "                       TPR       ACC       PPV       FPR       STP\n",
      "African-American  1.633907  1.035994  1.160069  1.701493  1.782456\n",
      "Hispanic          0.874693  1.007825  0.769363  1.069652  0.915789\n",
      "Other             1.380835  1.035994  0.876076  1.422886  1.336842\n"
     ]
    }
   ],
   "source": [
    "# Each value is the value from the metric_scores table divided by the Causcaian value\n",
    "\n",
    "mf_tree.fairness_check()"
   ]
  },
  {
   "cell_type": "code",
   "execution_count": 71,
   "id": "requested-right",
   "metadata": {},
   "outputs": [],
   "source": [
    "# Caucasian is our privilaged race\n",
    "\n",
    "# Equal Opportunity Ratio(r)   = TPR(r) / TPR(Caucasian) == TPR from dalex's fairness_check\n",
    "# Predictive Parity Ratio(r)   = PPV(r) / PPV(Caucasian) == PPV from dalex's fairness_check\n",
    "# Predictive Equality Ratio(r) = FPR(r) / FPR(Caucasian) == FPR from dalex's fairness_check\n",
    "# Accuracy Equality Ratio(r)   = ACC(r) / ACC(Caucasian) == ACC from dalex's fairness_check\n",
    "# Statistical Parity Ratio(r)  = STP(r) / STP(Caucasian) == STP from dalex's fairness_check"
   ]
  },
  {
   "cell_type": "code",
   "execution_count": 72,
   "id": "obvious-syndicate",
   "metadata": {},
   "outputs": [
    {
     "data": {
      "application/vnd.plotly.v1+json": {
       "config": {
        "displaylogo": false,
        "modeBarButtonsToRemove": [
         "sendDataToCloud",
         "lasso2d",
         "autoScale2d",
         "select2d",
         "zoom2d",
         "pan2d",
         "zoomIn2d",
         "zoomOut2d",
         "resetScale2d",
         "toggleSpikelines",
         "hoverCompareCartesian",
         "hoverClosestCartesian"
        ],
        "plotlyServerURL": "https://plot.ly",
        "staticPlot": false,
        "toImageButtonOptions": {
         "height": null,
         "width": null
        }
       },
       "data": [
        {
         "alignmentgroup": "True",
         "customdata": [
          [
           "African-American",
           1.634,
           "Random Forest Bias Unaware"
          ],
          [
           "Hispanic",
           0.875,
           "Random Forest Bias Unaware"
          ],
          [
           "Other",
           1.381,
           "Random Forest Bias Unaware"
          ]
         ],
         "hovertemplate": "<b>%{customdata[2]}</b><br>Subgroup: %{customdata[0]}<br>Score: %{customdata[1]}<br><extra></extra>",
         "legendgroup": "Random Forest Bias Unaware",
         "marker": {
          "color": "#46bac2",
          "pattern": {
           "shape": ""
          }
         },
         "name": "Random Forest Bias Unaware",
         "offsetgroup": "Random Forest Bias Unaware",
         "orientation": "h",
         "showlegend": true,
         "textposition": "auto",
         "type": "bar",
         "x": [
          0.6339066339066342,
          -0.1253071253071253,
          0.38083538083538104
         ],
         "xaxis": "x5",
         "y": [
          0.25,
          0.5,
          0.75
         ],
         "yaxis": "y5"
        },
        {
         "alignmentgroup": "True",
         "customdata": [
          [
           "African-American",
           1.16,
           "Random Forest Bias Unaware"
          ],
          [
           "Hispanic",
           0.769,
           "Random Forest Bias Unaware"
          ],
          [
           "Other",
           0.876,
           "Random Forest Bias Unaware"
          ]
         ],
         "hovertemplate": "<b>%{customdata[2]}</b><br>Subgroup: %{customdata[0]}<br>Score: %{customdata[1]}<br><extra></extra>",
         "legendgroup": "Random Forest Bias Unaware",
         "marker": {
          "color": "#46bac2",
          "pattern": {
           "shape": ""
          }
         },
         "name": "Random Forest Bias Unaware",
         "offsetgroup": "Random Forest Bias Unaware",
         "orientation": "h",
         "showlegend": false,
         "textposition": "auto",
         "type": "bar",
         "x": [
          0.1600688468158349,
          -0.23063683304647153,
          -0.12392426850258165
         ],
         "xaxis": "x4",
         "y": [
          0.25,
          0.5,
          0.75
         ],
         "yaxis": "y4"
        },
        {
         "alignmentgroup": "True",
         "customdata": [
          [
           "African-American",
           1.701,
           "Random Forest Bias Unaware"
          ],
          [
           "Hispanic",
           1.07,
           "Random Forest Bias Unaware"
          ],
          [
           "Other",
           1.423,
           "Random Forest Bias Unaware"
          ]
         ],
         "hovertemplate": "<b>%{customdata[2]}</b><br>Subgroup: %{customdata[0]}<br>Score: %{customdata[1]}<br><extra></extra>",
         "legendgroup": "Random Forest Bias Unaware",
         "marker": {
          "color": "#46bac2",
          "pattern": {
           "shape": ""
          }
         },
         "name": "Random Forest Bias Unaware",
         "offsetgroup": "Random Forest Bias Unaware",
         "orientation": "h",
         "showlegend": false,
         "textposition": "auto",
         "type": "bar",
         "x": [
          0.7014925373134329,
          0.06965174129353224,
          0.4228855721393032
         ],
         "xaxis": "x3",
         "y": [
          0.25,
          0.5,
          0.75
         ],
         "yaxis": "y3"
        },
        {
         "alignmentgroup": "True",
         "customdata": [
          [
           "African-American",
           1.036,
           "Random Forest Bias Unaware"
          ],
          [
           "Hispanic",
           1.008,
           "Random Forest Bias Unaware"
          ],
          [
           "Other",
           1.036,
           "Random Forest Bias Unaware"
          ]
         ],
         "hovertemplate": "<b>%{customdata[2]}</b><br>Subgroup: %{customdata[0]}<br>Score: %{customdata[1]}<br><extra></extra>",
         "legendgroup": "Random Forest Bias Unaware",
         "marker": {
          "color": "#46bac2",
          "pattern": {
           "shape": ""
          }
         },
         "name": "Random Forest Bias Unaware",
         "offsetgroup": "Random Forest Bias Unaware",
         "orientation": "h",
         "showlegend": false,
         "textposition": "auto",
         "type": "bar",
         "x": [
          0.03599374021909241,
          0.007824726134585402,
          0.03599374021909241
         ],
         "xaxis": "x2",
         "y": [
          0.25,
          0.5,
          0.75
         ],
         "yaxis": "y2"
        },
        {
         "alignmentgroup": "True",
         "customdata": [
          [
           "African-American",
           1.782,
           "Random Forest Bias Unaware"
          ],
          [
           "Hispanic",
           0.916,
           "Random Forest Bias Unaware"
          ],
          [
           "Other",
           1.337,
           "Random Forest Bias Unaware"
          ]
         ],
         "hovertemplate": "<b>%{customdata[2]}</b><br>Subgroup: %{customdata[0]}<br>Score: %{customdata[1]}<br><extra></extra>",
         "legendgroup": "Random Forest Bias Unaware",
         "marker": {
          "color": "#46bac2",
          "pattern": {
           "shape": ""
          }
         },
         "name": "Random Forest Bias Unaware",
         "offsetgroup": "Random Forest Bias Unaware",
         "orientation": "h",
         "showlegend": false,
         "textposition": "auto",
         "type": "bar",
         "x": [
          0.7824561403508774,
          -0.0842105263157894,
          0.33684210526315805
         ],
         "xaxis": "x",
         "y": [
          0.25,
          0.5,
          0.75
         ],
         "yaxis": "y"
        }
       ],
       "layout": {
        "annotations": [
         {
          "font": {
           "size": 15
          },
          "showarrow": false,
          "text": "Statistical parity ratio   (TP + FP)/(TP + FP + TN + FN)",
          "x": 0.05,
          "xanchor": "left",
          "xref": "paper",
          "y": 0.144,
          "yanchor": "bottom",
          "yref": "paper"
         },
         {
          "font": {
           "size": 15
          },
          "showarrow": false,
          "text": "Accuracy equality ratio    (TP + TN)/(TP + FP + TN + FN)",
          "x": 0.05,
          "xanchor": "left",
          "xref": "paper",
          "y": 0.358,
          "yanchor": "bottom",
          "yref": "paper"
         },
         {
          "font": {
           "size": 15
          },
          "showarrow": false,
          "text": "Predictive equality ratio   FP/(FP + TN)",
          "x": 0.05,
          "xanchor": "left",
          "xref": "paper",
          "y": 0.572,
          "yanchor": "bottom",
          "yref": "paper"
         },
         {
          "font": {
           "size": 15
          },
          "showarrow": false,
          "text": "Predictive parity ratio     TP/(TP + FP)",
          "x": 0.05,
          "xanchor": "left",
          "xref": "paper",
          "y": 0.7859999999999999,
          "yanchor": "bottom",
          "yref": "paper"
         },
         {
          "font": {
           "size": 15
          },
          "showarrow": false,
          "text": "Equal opportunity ratio     TP/(TP + FN)",
          "x": 0.05,
          "xanchor": "left",
          "xref": "paper",
          "y": 1,
          "yanchor": "bottom",
          "yref": "paper"
         }
        ],
        "barmode": "group",
        "font": {
         "color": "#371ea3"
        },
        "legend": {
         "title": {
          "text": "label"
         },
         "tracegroupgap": 0
        },
        "margin": {
         "b": 71,
         "r": 30,
         "t": 78
        },
        "shapes": [
         {
          "fillcolor": "#f05a71",
          "layer": "below",
          "line": {
           "width": 0
          },
          "opacity": 0.1,
          "type": "rect",
          "x0": 0.25,
          "x1": 0.8,
          "xref": "x",
          "y0": 0,
          "y1": 1,
          "yref": "y"
         },
         {
          "fillcolor": "#f05a71",
          "layer": "below",
          "line": {
           "width": 0
          },
          "opacity": 0.1,
          "type": "rect",
          "x0": -0.25370051635111873,
          "x1": -0.19999999999999996,
          "xref": "x",
          "y0": 0,
          "y1": 1,
          "yref": "y"
         },
         {
          "fillcolor": "#c7f5bf",
          "layer": "below",
          "line": {
           "width": 0
          },
          "opacity": 0.1,
          "type": "rect",
          "x0": -0.19999999999999996,
          "x1": 0.25,
          "xref": "x",
          "y0": 0,
          "y1": 1,
          "yref": "y"
         },
         {
          "line": {
           "color": "#371ea3",
           "width": 1.5
          },
          "type": "line",
          "x0": 0,
          "x1": 0,
          "xref": "x",
          "y0": 0,
          "y1": 1,
          "yref": "y"
         },
         {
          "fillcolor": "#f05a71",
          "layer": "below",
          "line": {
           "width": 0
          },
          "opacity": 0.1,
          "type": "rect",
          "x0": 0.25,
          "x1": 0.8,
          "xref": "x",
          "y0": 0,
          "y1": 1,
          "yref": "y2"
         },
         {
          "fillcolor": "#f05a71",
          "layer": "below",
          "line": {
           "width": 0
          },
          "opacity": 0.1,
          "type": "rect",
          "x0": -0.25370051635111873,
          "x1": -0.19999999999999996,
          "xref": "x",
          "y0": 0,
          "y1": 1,
          "yref": "y2"
         },
         {
          "fillcolor": "#c7f5bf",
          "layer": "below",
          "line": {
           "width": 0
          },
          "opacity": 0.1,
          "type": "rect",
          "x0": -0.19999999999999996,
          "x1": 0.25,
          "xref": "x",
          "y0": 0,
          "y1": 1,
          "yref": "y2"
         },
         {
          "line": {
           "color": "#371ea3",
           "width": 1.5
          },
          "type": "line",
          "x0": 0,
          "x1": 0,
          "xref": "x",
          "y0": 0,
          "y1": 1,
          "yref": "y2"
         },
         {
          "fillcolor": "#f05a71",
          "layer": "below",
          "line": {
           "width": 0
          },
          "opacity": 0.1,
          "type": "rect",
          "x0": 0.25,
          "x1": 0.8,
          "xref": "x",
          "y0": 0,
          "y1": 1,
          "yref": "y3"
         },
         {
          "fillcolor": "#f05a71",
          "layer": "below",
          "line": {
           "width": 0
          },
          "opacity": 0.1,
          "type": "rect",
          "x0": -0.25370051635111873,
          "x1": -0.19999999999999996,
          "xref": "x",
          "y0": 0,
          "y1": 1,
          "yref": "y3"
         },
         {
          "fillcolor": "#c7f5bf",
          "layer": "below",
          "line": {
           "width": 0
          },
          "opacity": 0.1,
          "type": "rect",
          "x0": -0.19999999999999996,
          "x1": 0.25,
          "xref": "x",
          "y0": 0,
          "y1": 1,
          "yref": "y3"
         },
         {
          "line": {
           "color": "#371ea3",
           "width": 1.5
          },
          "type": "line",
          "x0": 0,
          "x1": 0,
          "xref": "x",
          "y0": 0,
          "y1": 1,
          "yref": "y3"
         },
         {
          "fillcolor": "#f05a71",
          "layer": "below",
          "line": {
           "width": 0
          },
          "opacity": 0.1,
          "type": "rect",
          "x0": 0.25,
          "x1": 0.8,
          "xref": "x",
          "y0": 0,
          "y1": 1,
          "yref": "y4"
         },
         {
          "fillcolor": "#f05a71",
          "layer": "below",
          "line": {
           "width": 0
          },
          "opacity": 0.1,
          "type": "rect",
          "x0": -0.25370051635111873,
          "x1": -0.19999999999999996,
          "xref": "x",
          "y0": 0,
          "y1": 1,
          "yref": "y4"
         },
         {
          "fillcolor": "#c7f5bf",
          "layer": "below",
          "line": {
           "width": 0
          },
          "opacity": 0.1,
          "type": "rect",
          "x0": -0.19999999999999996,
          "x1": 0.25,
          "xref": "x",
          "y0": 0,
          "y1": 1,
          "yref": "y4"
         },
         {
          "line": {
           "color": "#371ea3",
           "width": 1.5
          },
          "type": "line",
          "x0": 0,
          "x1": 0,
          "xref": "x",
          "y0": 0,
          "y1": 1,
          "yref": "y4"
         },
         {
          "fillcolor": "#f05a71",
          "layer": "below",
          "line": {
           "width": 0
          },
          "opacity": 0.1,
          "type": "rect",
          "x0": 0.25,
          "x1": 0.8,
          "xref": "x",
          "y0": 0,
          "y1": 1,
          "yref": "y5"
         },
         {
          "fillcolor": "#f05a71",
          "layer": "below",
          "line": {
           "width": 0
          },
          "opacity": 0.1,
          "type": "rect",
          "x0": -0.25370051635111873,
          "x1": -0.19999999999999996,
          "xref": "x",
          "y0": 0,
          "y1": 1,
          "yref": "y5"
         },
         {
          "fillcolor": "#c7f5bf",
          "layer": "below",
          "line": {
           "width": 0
          },
          "opacity": 0.1,
          "type": "rect",
          "x0": -0.19999999999999996,
          "x1": 0.25,
          "xref": "x",
          "y0": 0,
          "y1": 1,
          "yref": "y5"
         },
         {
          "line": {
           "color": "#371ea3",
           "width": 1.5
          },
          "type": "line",
          "x0": 0,
          "x1": 0,
          "xref": "x",
          "y0": 0,
          "y1": 1,
          "yref": "y5"
         }
        ],
        "template": {
         "data": {
          "bar": [
           {
            "error_x": {
             "color": "#2a3f5f"
            },
            "error_y": {
             "color": "#2a3f5f"
            },
            "marker": {
             "line": {
              "color": "white",
              "width": 0.5
             },
             "pattern": {
              "fillmode": "overlay",
              "size": 10,
              "solidity": 0.2
             }
            },
            "type": "bar"
           }
          ],
          "barpolar": [
           {
            "marker": {
             "line": {
              "color": "white",
              "width": 0.5
             },
             "pattern": {
              "fillmode": "overlay",
              "size": 10,
              "solidity": 0.2
             }
            },
            "type": "barpolar"
           }
          ],
          "carpet": [
           {
            "aaxis": {
             "endlinecolor": "#2a3f5f",
             "gridcolor": "#C8D4E3",
             "linecolor": "#C8D4E3",
             "minorgridcolor": "#C8D4E3",
             "startlinecolor": "#2a3f5f"
            },
            "baxis": {
             "endlinecolor": "#2a3f5f",
             "gridcolor": "#C8D4E3",
             "linecolor": "#C8D4E3",
             "minorgridcolor": "#C8D4E3",
             "startlinecolor": "#2a3f5f"
            },
            "type": "carpet"
           }
          ],
          "choropleth": [
           {
            "colorbar": {
             "outlinewidth": 0,
             "ticks": ""
            },
            "type": "choropleth"
           }
          ],
          "contour": [
           {
            "colorbar": {
             "outlinewidth": 0,
             "ticks": ""
            },
            "colorscale": [
             [
              0,
              "#0d0887"
             ],
             [
              0.1111111111111111,
              "#46039f"
             ],
             [
              0.2222222222222222,
              "#7201a8"
             ],
             [
              0.3333333333333333,
              "#9c179e"
             ],
             [
              0.4444444444444444,
              "#bd3786"
             ],
             [
              0.5555555555555556,
              "#d8576b"
             ],
             [
              0.6666666666666666,
              "#ed7953"
             ],
             [
              0.7777777777777778,
              "#fb9f3a"
             ],
             [
              0.8888888888888888,
              "#fdca26"
             ],
             [
              1,
              "#f0f921"
             ]
            ],
            "type": "contour"
           }
          ],
          "contourcarpet": [
           {
            "colorbar": {
             "outlinewidth": 0,
             "ticks": ""
            },
            "type": "contourcarpet"
           }
          ],
          "heatmap": [
           {
            "colorbar": {
             "outlinewidth": 0,
             "ticks": ""
            },
            "colorscale": [
             [
              0,
              "#0d0887"
             ],
             [
              0.1111111111111111,
              "#46039f"
             ],
             [
              0.2222222222222222,
              "#7201a8"
             ],
             [
              0.3333333333333333,
              "#9c179e"
             ],
             [
              0.4444444444444444,
              "#bd3786"
             ],
             [
              0.5555555555555556,
              "#d8576b"
             ],
             [
              0.6666666666666666,
              "#ed7953"
             ],
             [
              0.7777777777777778,
              "#fb9f3a"
             ],
             [
              0.8888888888888888,
              "#fdca26"
             ],
             [
              1,
              "#f0f921"
             ]
            ],
            "type": "heatmap"
           }
          ],
          "heatmapgl": [
           {
            "colorbar": {
             "outlinewidth": 0,
             "ticks": ""
            },
            "colorscale": [
             [
              0,
              "#0d0887"
             ],
             [
              0.1111111111111111,
              "#46039f"
             ],
             [
              0.2222222222222222,
              "#7201a8"
             ],
             [
              0.3333333333333333,
              "#9c179e"
             ],
             [
              0.4444444444444444,
              "#bd3786"
             ],
             [
              0.5555555555555556,
              "#d8576b"
             ],
             [
              0.6666666666666666,
              "#ed7953"
             ],
             [
              0.7777777777777778,
              "#fb9f3a"
             ],
             [
              0.8888888888888888,
              "#fdca26"
             ],
             [
              1,
              "#f0f921"
             ]
            ],
            "type": "heatmapgl"
           }
          ],
          "histogram": [
           {
            "marker": {
             "pattern": {
              "fillmode": "overlay",
              "size": 10,
              "solidity": 0.2
             }
            },
            "type": "histogram"
           }
          ],
          "histogram2d": [
           {
            "colorbar": {
             "outlinewidth": 0,
             "ticks": ""
            },
            "colorscale": [
             [
              0,
              "#0d0887"
             ],
             [
              0.1111111111111111,
              "#46039f"
             ],
             [
              0.2222222222222222,
              "#7201a8"
             ],
             [
              0.3333333333333333,
              "#9c179e"
             ],
             [
              0.4444444444444444,
              "#bd3786"
             ],
             [
              0.5555555555555556,
              "#d8576b"
             ],
             [
              0.6666666666666666,
              "#ed7953"
             ],
             [
              0.7777777777777778,
              "#fb9f3a"
             ],
             [
              0.8888888888888888,
              "#fdca26"
             ],
             [
              1,
              "#f0f921"
             ]
            ],
            "type": "histogram2d"
           }
          ],
          "histogram2dcontour": [
           {
            "colorbar": {
             "outlinewidth": 0,
             "ticks": ""
            },
            "colorscale": [
             [
              0,
              "#0d0887"
             ],
             [
              0.1111111111111111,
              "#46039f"
             ],
             [
              0.2222222222222222,
              "#7201a8"
             ],
             [
              0.3333333333333333,
              "#9c179e"
             ],
             [
              0.4444444444444444,
              "#bd3786"
             ],
             [
              0.5555555555555556,
              "#d8576b"
             ],
             [
              0.6666666666666666,
              "#ed7953"
             ],
             [
              0.7777777777777778,
              "#fb9f3a"
             ],
             [
              0.8888888888888888,
              "#fdca26"
             ],
             [
              1,
              "#f0f921"
             ]
            ],
            "type": "histogram2dcontour"
           }
          ],
          "mesh3d": [
           {
            "colorbar": {
             "outlinewidth": 0,
             "ticks": ""
            },
            "type": "mesh3d"
           }
          ],
          "parcoords": [
           {
            "line": {
             "colorbar": {
              "outlinewidth": 0,
              "ticks": ""
             }
            },
            "type": "parcoords"
           }
          ],
          "pie": [
           {
            "automargin": true,
            "type": "pie"
           }
          ],
          "scatter": [
           {
            "marker": {
             "colorbar": {
              "outlinewidth": 0,
              "ticks": ""
             }
            },
            "type": "scatter"
           }
          ],
          "scatter3d": [
           {
            "line": {
             "colorbar": {
              "outlinewidth": 0,
              "ticks": ""
             }
            },
            "marker": {
             "colorbar": {
              "outlinewidth": 0,
              "ticks": ""
             }
            },
            "type": "scatter3d"
           }
          ],
          "scattercarpet": [
           {
            "marker": {
             "colorbar": {
              "outlinewidth": 0,
              "ticks": ""
             }
            },
            "type": "scattercarpet"
           }
          ],
          "scattergeo": [
           {
            "marker": {
             "colorbar": {
              "outlinewidth": 0,
              "ticks": ""
             }
            },
            "type": "scattergeo"
           }
          ],
          "scattergl": [
           {
            "marker": {
             "colorbar": {
              "outlinewidth": 0,
              "ticks": ""
             }
            },
            "type": "scattergl"
           }
          ],
          "scattermapbox": [
           {
            "marker": {
             "colorbar": {
              "outlinewidth": 0,
              "ticks": ""
             }
            },
            "type": "scattermapbox"
           }
          ],
          "scatterpolar": [
           {
            "marker": {
             "colorbar": {
              "outlinewidth": 0,
              "ticks": ""
             }
            },
            "type": "scatterpolar"
           }
          ],
          "scatterpolargl": [
           {
            "marker": {
             "colorbar": {
              "outlinewidth": 0,
              "ticks": ""
             }
            },
            "type": "scatterpolargl"
           }
          ],
          "scatterternary": [
           {
            "marker": {
             "colorbar": {
              "outlinewidth": 0,
              "ticks": ""
             }
            },
            "type": "scatterternary"
           }
          ],
          "surface": [
           {
            "colorbar": {
             "outlinewidth": 0,
             "ticks": ""
            },
            "colorscale": [
             [
              0,
              "#0d0887"
             ],
             [
              0.1111111111111111,
              "#46039f"
             ],
             [
              0.2222222222222222,
              "#7201a8"
             ],
             [
              0.3333333333333333,
              "#9c179e"
             ],
             [
              0.4444444444444444,
              "#bd3786"
             ],
             [
              0.5555555555555556,
              "#d8576b"
             ],
             [
              0.6666666666666666,
              "#ed7953"
             ],
             [
              0.7777777777777778,
              "#fb9f3a"
             ],
             [
              0.8888888888888888,
              "#fdca26"
             ],
             [
              1,
              "#f0f921"
             ]
            ],
            "type": "surface"
           }
          ],
          "table": [
           {
            "cells": {
             "fill": {
              "color": "#EBF0F8"
             },
             "line": {
              "color": "white"
             }
            },
            "header": {
             "fill": {
              "color": "#C8D4E3"
             },
             "line": {
              "color": "white"
             }
            },
            "type": "table"
           }
          ]
         },
         "layout": {
          "annotationdefaults": {
           "arrowcolor": "#2a3f5f",
           "arrowhead": 0,
           "arrowwidth": 1
          },
          "autotypenumbers": "strict",
          "coloraxis": {
           "colorbar": {
            "outlinewidth": 0,
            "ticks": ""
           }
          },
          "colorscale": {
           "diverging": [
            [
             0,
             "#8e0152"
            ],
            [
             0.1,
             "#c51b7d"
            ],
            [
             0.2,
             "#de77ae"
            ],
            [
             0.3,
             "#f1b6da"
            ],
            [
             0.4,
             "#fde0ef"
            ],
            [
             0.5,
             "#f7f7f7"
            ],
            [
             0.6,
             "#e6f5d0"
            ],
            [
             0.7,
             "#b8e186"
            ],
            [
             0.8,
             "#7fbc41"
            ],
            [
             0.9,
             "#4d9221"
            ],
            [
             1,
             "#276419"
            ]
           ],
           "sequential": [
            [
             0,
             "#0d0887"
            ],
            [
             0.1111111111111111,
             "#46039f"
            ],
            [
             0.2222222222222222,
             "#7201a8"
            ],
            [
             0.3333333333333333,
             "#9c179e"
            ],
            [
             0.4444444444444444,
             "#bd3786"
            ],
            [
             0.5555555555555556,
             "#d8576b"
            ],
            [
             0.6666666666666666,
             "#ed7953"
            ],
            [
             0.7777777777777778,
             "#fb9f3a"
            ],
            [
             0.8888888888888888,
             "#fdca26"
            ],
            [
             1,
             "#f0f921"
            ]
           ],
           "sequentialminus": [
            [
             0,
             "#0d0887"
            ],
            [
             0.1111111111111111,
             "#46039f"
            ],
            [
             0.2222222222222222,
             "#7201a8"
            ],
            [
             0.3333333333333333,
             "#9c179e"
            ],
            [
             0.4444444444444444,
             "#bd3786"
            ],
            [
             0.5555555555555556,
             "#d8576b"
            ],
            [
             0.6666666666666666,
             "#ed7953"
            ],
            [
             0.7777777777777778,
             "#fb9f3a"
            ],
            [
             0.8888888888888888,
             "#fdca26"
            ],
            [
             1,
             "#f0f921"
            ]
           ]
          },
          "colorway": [
           "#636efa",
           "#EF553B",
           "#00cc96",
           "#ab63fa",
           "#FFA15A",
           "#19d3f3",
           "#FF6692",
           "#B6E880",
           "#FF97FF",
           "#FECB52"
          ],
          "font": {
           "color": "#2a3f5f"
          },
          "geo": {
           "bgcolor": "white",
           "lakecolor": "white",
           "landcolor": "white",
           "showlakes": true,
           "showland": true,
           "subunitcolor": "#C8D4E3"
          },
          "hoverlabel": {
           "align": "left"
          },
          "hovermode": "closest",
          "mapbox": {
           "style": "light"
          },
          "paper_bgcolor": "white",
          "plot_bgcolor": "white",
          "polar": {
           "angularaxis": {
            "gridcolor": "#EBF0F8",
            "linecolor": "#EBF0F8",
            "ticks": ""
           },
           "bgcolor": "white",
           "radialaxis": {
            "gridcolor": "#EBF0F8",
            "linecolor": "#EBF0F8",
            "ticks": ""
           }
          },
          "scene": {
           "xaxis": {
            "backgroundcolor": "white",
            "gridcolor": "#DFE8F3",
            "gridwidth": 2,
            "linecolor": "#EBF0F8",
            "showbackground": true,
            "ticks": "",
            "zerolinecolor": "#EBF0F8"
           },
           "yaxis": {
            "backgroundcolor": "white",
            "gridcolor": "#DFE8F3",
            "gridwidth": 2,
            "linecolor": "#EBF0F8",
            "showbackground": true,
            "ticks": "",
            "zerolinecolor": "#EBF0F8"
           },
           "zaxis": {
            "backgroundcolor": "white",
            "gridcolor": "#DFE8F3",
            "gridwidth": 2,
            "linecolor": "#EBF0F8",
            "showbackground": true,
            "ticks": "",
            "zerolinecolor": "#EBF0F8"
           }
          },
          "shapedefaults": {
           "line": {
            "color": "#2a3f5f"
           }
          },
          "ternary": {
           "aaxis": {
            "gridcolor": "#DFE8F3",
            "linecolor": "#A2B1C6",
            "ticks": ""
           },
           "baxis": {
            "gridcolor": "#DFE8F3",
            "linecolor": "#A2B1C6",
            "ticks": ""
           },
           "bgcolor": "white",
           "caxis": {
            "gridcolor": "#DFE8F3",
            "linecolor": "#A2B1C6",
            "ticks": ""
           }
          },
          "title": {
           "x": 0.05
          },
          "xaxis": {
           "automargin": true,
           "gridcolor": "#EBF0F8",
           "linecolor": "#EBF0F8",
           "ticks": "",
           "title": {
            "standoff": 15
           },
           "zerolinecolor": "#EBF0F8",
           "zerolinewidth": 2
          },
          "yaxis": {
           "automargin": true,
           "gridcolor": "#EBF0F8",
           "linecolor": "#EBF0F8",
           "ticks": "",
           "title": {
            "standoff": 15
           },
           "zerolinecolor": "#EBF0F8",
           "zerolinewidth": 2
          }
         }
        },
        "title": {
         "font": {
          "size": 25
         },
         "text": "Fairness Check",
         "x": 0.5,
         "y": 0.99
        },
        "xaxis": {
         "anchor": "y",
         "domain": [
          0,
          1
         ],
         "range": [
          -0.25370051635111873,
          0.8
         ],
         "ticktext": [
          0.6,
          0.8,
          1,
          1.2,
          1.4,
          1.6,
          1
         ],
         "tickvals": [
          -0.4,
          -0.19999999999999996,
          0,
          0.19999999999999996,
          0.3999999999999999,
          0.6000000000000001,
          0
         ],
         "title": {
          "text": "score"
         }
        },
        "xaxis2": {
         "anchor": "y2",
         "domain": [
          0,
          1
         ],
         "matches": "x",
         "range": [
          -0.25370051635111873,
          0.8
         ],
         "showticklabels": false,
         "ticktext": [
          0.6,
          0.8,
          1,
          1.2,
          1.4,
          1.6,
          1
         ],
         "tickvals": [
          -0.4,
          -0.19999999999999996,
          0,
          0.19999999999999996,
          0.3999999999999999,
          0.6000000000000001,
          0
         ]
        },
        "xaxis3": {
         "anchor": "y3",
         "domain": [
          0,
          1
         ],
         "matches": "x",
         "range": [
          -0.25370051635111873,
          0.8
         ],
         "showticklabels": false,
         "ticktext": [
          0.6,
          0.8,
          1,
          1.2,
          1.4,
          1.6,
          1
         ],
         "tickvals": [
          -0.4,
          -0.19999999999999996,
          0,
          0.19999999999999996,
          0.3999999999999999,
          0.6000000000000001,
          0
         ]
        },
        "xaxis4": {
         "anchor": "y4",
         "domain": [
          0,
          1
         ],
         "matches": "x",
         "range": [
          -0.25370051635111873,
          0.8
         ],
         "showticklabels": false,
         "ticktext": [
          0.6,
          0.8,
          1,
          1.2,
          1.4,
          1.6,
          1
         ],
         "tickvals": [
          -0.4,
          -0.19999999999999996,
          0,
          0.19999999999999996,
          0.3999999999999999,
          0.6000000000000001,
          0
         ]
        },
        "xaxis5": {
         "anchor": "y5",
         "domain": [
          0,
          1
         ],
         "matches": "x",
         "range": [
          -0.25370051635111873,
          0.8
         ],
         "showticklabels": false,
         "ticktext": [
          0.6,
          0.8,
          1,
          1.2,
          1.4,
          1.6,
          1
         ],
         "tickvals": [
          -0.4,
          -0.19999999999999996,
          0,
          0.19999999999999996,
          0.3999999999999999,
          0.6000000000000001,
          0
         ]
        },
        "yaxis": {
         "anchor": "x",
         "domain": [
          0,
          0.144
         ],
         "range": [
          0,
          1
         ],
         "showgrid": false,
         "ticktext": [
          "African-American",
          "Hispanic",
          "Other"
         ],
         "tickvals": [
          0.25,
          0.5,
          0.75
         ],
         "title": {
          "text": ""
         },
         "zeroline": false
        },
        "yaxis2": {
         "anchor": "x2",
         "domain": [
          0.214,
          0.358
         ],
         "matches": "y",
         "range": [
          0,
          1
         ],
         "showgrid": false,
         "ticktext": [
          "African-American",
          "Hispanic",
          "Other"
         ],
         "tickvals": [
          0.25,
          0.5,
          0.75
         ],
         "title": {
          "text": ""
         },
         "zeroline": false
        },
        "yaxis3": {
         "anchor": "x3",
         "domain": [
          0.428,
          0.572
         ],
         "matches": "y",
         "range": [
          0,
          1
         ],
         "showgrid": false,
         "ticktext": [
          "African-American",
          "Hispanic",
          "Other"
         ],
         "tickvals": [
          0.25,
          0.5,
          0.75
         ],
         "title": {
          "text": "subgroup"
         },
         "zeroline": false
        },
        "yaxis4": {
         "anchor": "x4",
         "domain": [
          0.6419999999999999,
          0.7859999999999999
         ],
         "matches": "y",
         "range": [
          0,
          1
         ],
         "showgrid": false,
         "ticktext": [
          "African-American",
          "Hispanic",
          "Other"
         ],
         "tickvals": [
          0.25,
          0.5,
          0.75
         ],
         "title": {
          "text": ""
         },
         "zeroline": false
        },
        "yaxis5": {
         "anchor": "x5",
         "domain": [
          0.856,
          1
         ],
         "matches": "y",
         "range": [
          0,
          1
         ],
         "showgrid": false,
         "ticktext": [
          "African-American",
          "Hispanic",
          "Other"
         ],
         "tickvals": [
          0.25,
          0.5,
          0.75
         ],
         "title": {
          "text": ""
         },
         "zeroline": false
        }
       }
      },
      "text/html": [
       "<div>                            <div id=\"88b28139-7dd5-40c3-910f-75638d11f41e\" class=\"plotly-graph-div\" style=\"height:525px; width:100%;\"></div>            <script type=\"text/javascript\">                require([\"plotly\"], function(Plotly) {                    window.PLOTLYENV=window.PLOTLYENV || {};                                    if (document.getElementById(\"88b28139-7dd5-40c3-910f-75638d11f41e\")) {                    Plotly.newPlot(                        \"88b28139-7dd5-40c3-910f-75638d11f41e\",                        [{\"alignmentgroup\":\"True\",\"customdata\":[[\"African-American\",1.634,\"Random Forest Bias Unaware\"],[\"Hispanic\",0.875,\"Random Forest Bias Unaware\"],[\"Other\",1.381,\"Random Forest Bias Unaware\"]],\"hovertemplate\":\"<b>%{customdata[2]}</b><br>Subgroup: %{customdata[0]}<br>Score: %{customdata[1]}<br><extra></extra>\",\"legendgroup\":\"Random Forest Bias Unaware\",\"marker\":{\"color\":\"#46bac2\",\"pattern\":{\"shape\":\"\"}},\"name\":\"Random Forest Bias Unaware\",\"offsetgroup\":\"Random Forest Bias Unaware\",\"orientation\":\"h\",\"showlegend\":true,\"textposition\":\"auto\",\"x\":[0.6339066339066342,-0.1253071253071253,0.38083538083538104],\"xaxis\":\"x5\",\"y\":[0.25,0.5,0.75],\"yaxis\":\"y5\",\"type\":\"bar\"},{\"alignmentgroup\":\"True\",\"customdata\":[[\"African-American\",1.16,\"Random Forest Bias Unaware\"],[\"Hispanic\",0.769,\"Random Forest Bias Unaware\"],[\"Other\",0.876,\"Random Forest Bias Unaware\"]],\"hovertemplate\":\"<b>%{customdata[2]}</b><br>Subgroup: %{customdata[0]}<br>Score: %{customdata[1]}<br><extra></extra>\",\"legendgroup\":\"Random Forest Bias Unaware\",\"marker\":{\"color\":\"#46bac2\",\"pattern\":{\"shape\":\"\"}},\"name\":\"Random Forest Bias Unaware\",\"offsetgroup\":\"Random Forest Bias Unaware\",\"orientation\":\"h\",\"showlegend\":false,\"textposition\":\"auto\",\"x\":[0.1600688468158349,-0.23063683304647153,-0.12392426850258165],\"xaxis\":\"x4\",\"y\":[0.25,0.5,0.75],\"yaxis\":\"y4\",\"type\":\"bar\"},{\"alignmentgroup\":\"True\",\"customdata\":[[\"African-American\",1.701,\"Random Forest Bias Unaware\"],[\"Hispanic\",1.07,\"Random Forest Bias Unaware\"],[\"Other\",1.423,\"Random Forest Bias Unaware\"]],\"hovertemplate\":\"<b>%{customdata[2]}</b><br>Subgroup: %{customdata[0]}<br>Score: %{customdata[1]}<br><extra></extra>\",\"legendgroup\":\"Random Forest Bias Unaware\",\"marker\":{\"color\":\"#46bac2\",\"pattern\":{\"shape\":\"\"}},\"name\":\"Random Forest Bias Unaware\",\"offsetgroup\":\"Random Forest Bias Unaware\",\"orientation\":\"h\",\"showlegend\":false,\"textposition\":\"auto\",\"x\":[0.7014925373134329,0.06965174129353224,0.4228855721393032],\"xaxis\":\"x3\",\"y\":[0.25,0.5,0.75],\"yaxis\":\"y3\",\"type\":\"bar\"},{\"alignmentgroup\":\"True\",\"customdata\":[[\"African-American\",1.036,\"Random Forest Bias Unaware\"],[\"Hispanic\",1.008,\"Random Forest Bias Unaware\"],[\"Other\",1.036,\"Random Forest Bias Unaware\"]],\"hovertemplate\":\"<b>%{customdata[2]}</b><br>Subgroup: %{customdata[0]}<br>Score: %{customdata[1]}<br><extra></extra>\",\"legendgroup\":\"Random Forest Bias Unaware\",\"marker\":{\"color\":\"#46bac2\",\"pattern\":{\"shape\":\"\"}},\"name\":\"Random Forest Bias Unaware\",\"offsetgroup\":\"Random Forest Bias Unaware\",\"orientation\":\"h\",\"showlegend\":false,\"textposition\":\"auto\",\"x\":[0.03599374021909241,0.007824726134585402,0.03599374021909241],\"xaxis\":\"x2\",\"y\":[0.25,0.5,0.75],\"yaxis\":\"y2\",\"type\":\"bar\"},{\"alignmentgroup\":\"True\",\"customdata\":[[\"African-American\",1.782,\"Random Forest Bias Unaware\"],[\"Hispanic\",0.916,\"Random Forest Bias Unaware\"],[\"Other\",1.337,\"Random Forest Bias Unaware\"]],\"hovertemplate\":\"<b>%{customdata[2]}</b><br>Subgroup: %{customdata[0]}<br>Score: %{customdata[1]}<br><extra></extra>\",\"legendgroup\":\"Random Forest Bias Unaware\",\"marker\":{\"color\":\"#46bac2\",\"pattern\":{\"shape\":\"\"}},\"name\":\"Random Forest Bias Unaware\",\"offsetgroup\":\"Random Forest Bias Unaware\",\"orientation\":\"h\",\"showlegend\":false,\"textposition\":\"auto\",\"x\":[0.7824561403508774,-0.0842105263157894,0.33684210526315805],\"xaxis\":\"x\",\"y\":[0.25,0.5,0.75],\"yaxis\":\"y\",\"type\":\"bar\"}],                        {\"template\":{\"data\":{\"barpolar\":[{\"marker\":{\"line\":{\"color\":\"white\",\"width\":0.5},\"pattern\":{\"fillmode\":\"overlay\",\"size\":10,\"solidity\":0.2}},\"type\":\"barpolar\"}],\"bar\":[{\"error_x\":{\"color\":\"#2a3f5f\"},\"error_y\":{\"color\":\"#2a3f5f\"},\"marker\":{\"line\":{\"color\":\"white\",\"width\":0.5},\"pattern\":{\"fillmode\":\"overlay\",\"size\":10,\"solidity\":0.2}},\"type\":\"bar\"}],\"carpet\":[{\"aaxis\":{\"endlinecolor\":\"#2a3f5f\",\"gridcolor\":\"#C8D4E3\",\"linecolor\":\"#C8D4E3\",\"minorgridcolor\":\"#C8D4E3\",\"startlinecolor\":\"#2a3f5f\"},\"baxis\":{\"endlinecolor\":\"#2a3f5f\",\"gridcolor\":\"#C8D4E3\",\"linecolor\":\"#C8D4E3\",\"minorgridcolor\":\"#C8D4E3\",\"startlinecolor\":\"#2a3f5f\"},\"type\":\"carpet\"}],\"choropleth\":[{\"colorbar\":{\"outlinewidth\":0,\"ticks\":\"\"},\"type\":\"choropleth\"}],\"contourcarpet\":[{\"colorbar\":{\"outlinewidth\":0,\"ticks\":\"\"},\"type\":\"contourcarpet\"}],\"contour\":[{\"colorbar\":{\"outlinewidth\":0,\"ticks\":\"\"},\"colorscale\":[[0.0,\"#0d0887\"],[0.1111111111111111,\"#46039f\"],[0.2222222222222222,\"#7201a8\"],[0.3333333333333333,\"#9c179e\"],[0.4444444444444444,\"#bd3786\"],[0.5555555555555556,\"#d8576b\"],[0.6666666666666666,\"#ed7953\"],[0.7777777777777778,\"#fb9f3a\"],[0.8888888888888888,\"#fdca26\"],[1.0,\"#f0f921\"]],\"type\":\"contour\"}],\"heatmapgl\":[{\"colorbar\":{\"outlinewidth\":0,\"ticks\":\"\"},\"colorscale\":[[0.0,\"#0d0887\"],[0.1111111111111111,\"#46039f\"],[0.2222222222222222,\"#7201a8\"],[0.3333333333333333,\"#9c179e\"],[0.4444444444444444,\"#bd3786\"],[0.5555555555555556,\"#d8576b\"],[0.6666666666666666,\"#ed7953\"],[0.7777777777777778,\"#fb9f3a\"],[0.8888888888888888,\"#fdca26\"],[1.0,\"#f0f921\"]],\"type\":\"heatmapgl\"}],\"heatmap\":[{\"colorbar\":{\"outlinewidth\":0,\"ticks\":\"\"},\"colorscale\":[[0.0,\"#0d0887\"],[0.1111111111111111,\"#46039f\"],[0.2222222222222222,\"#7201a8\"],[0.3333333333333333,\"#9c179e\"],[0.4444444444444444,\"#bd3786\"],[0.5555555555555556,\"#d8576b\"],[0.6666666666666666,\"#ed7953\"],[0.7777777777777778,\"#fb9f3a\"],[0.8888888888888888,\"#fdca26\"],[1.0,\"#f0f921\"]],\"type\":\"heatmap\"}],\"histogram2dcontour\":[{\"colorbar\":{\"outlinewidth\":0,\"ticks\":\"\"},\"colorscale\":[[0.0,\"#0d0887\"],[0.1111111111111111,\"#46039f\"],[0.2222222222222222,\"#7201a8\"],[0.3333333333333333,\"#9c179e\"],[0.4444444444444444,\"#bd3786\"],[0.5555555555555556,\"#d8576b\"],[0.6666666666666666,\"#ed7953\"],[0.7777777777777778,\"#fb9f3a\"],[0.8888888888888888,\"#fdca26\"],[1.0,\"#f0f921\"]],\"type\":\"histogram2dcontour\"}],\"histogram2d\":[{\"colorbar\":{\"outlinewidth\":0,\"ticks\":\"\"},\"colorscale\":[[0.0,\"#0d0887\"],[0.1111111111111111,\"#46039f\"],[0.2222222222222222,\"#7201a8\"],[0.3333333333333333,\"#9c179e\"],[0.4444444444444444,\"#bd3786\"],[0.5555555555555556,\"#d8576b\"],[0.6666666666666666,\"#ed7953\"],[0.7777777777777778,\"#fb9f3a\"],[0.8888888888888888,\"#fdca26\"],[1.0,\"#f0f921\"]],\"type\":\"histogram2d\"}],\"histogram\":[{\"marker\":{\"pattern\":{\"fillmode\":\"overlay\",\"size\":10,\"solidity\":0.2}},\"type\":\"histogram\"}],\"mesh3d\":[{\"colorbar\":{\"outlinewidth\":0,\"ticks\":\"\"},\"type\":\"mesh3d\"}],\"parcoords\":[{\"line\":{\"colorbar\":{\"outlinewidth\":0,\"ticks\":\"\"}},\"type\":\"parcoords\"}],\"pie\":[{\"automargin\":true,\"type\":\"pie\"}],\"scatter3d\":[{\"line\":{\"colorbar\":{\"outlinewidth\":0,\"ticks\":\"\"}},\"marker\":{\"colorbar\":{\"outlinewidth\":0,\"ticks\":\"\"}},\"type\":\"scatter3d\"}],\"scattercarpet\":[{\"marker\":{\"colorbar\":{\"outlinewidth\":0,\"ticks\":\"\"}},\"type\":\"scattercarpet\"}],\"scattergeo\":[{\"marker\":{\"colorbar\":{\"outlinewidth\":0,\"ticks\":\"\"}},\"type\":\"scattergeo\"}],\"scattergl\":[{\"marker\":{\"colorbar\":{\"outlinewidth\":0,\"ticks\":\"\"}},\"type\":\"scattergl\"}],\"scattermapbox\":[{\"marker\":{\"colorbar\":{\"outlinewidth\":0,\"ticks\":\"\"}},\"type\":\"scattermapbox\"}],\"scatterpolargl\":[{\"marker\":{\"colorbar\":{\"outlinewidth\":0,\"ticks\":\"\"}},\"type\":\"scatterpolargl\"}],\"scatterpolar\":[{\"marker\":{\"colorbar\":{\"outlinewidth\":0,\"ticks\":\"\"}},\"type\":\"scatterpolar\"}],\"scatter\":[{\"marker\":{\"colorbar\":{\"outlinewidth\":0,\"ticks\":\"\"}},\"type\":\"scatter\"}],\"scatterternary\":[{\"marker\":{\"colorbar\":{\"outlinewidth\":0,\"ticks\":\"\"}},\"type\":\"scatterternary\"}],\"surface\":[{\"colorbar\":{\"outlinewidth\":0,\"ticks\":\"\"},\"colorscale\":[[0.0,\"#0d0887\"],[0.1111111111111111,\"#46039f\"],[0.2222222222222222,\"#7201a8\"],[0.3333333333333333,\"#9c179e\"],[0.4444444444444444,\"#bd3786\"],[0.5555555555555556,\"#d8576b\"],[0.6666666666666666,\"#ed7953\"],[0.7777777777777778,\"#fb9f3a\"],[0.8888888888888888,\"#fdca26\"],[1.0,\"#f0f921\"]],\"type\":\"surface\"}],\"table\":[{\"cells\":{\"fill\":{\"color\":\"#EBF0F8\"},\"line\":{\"color\":\"white\"}},\"header\":{\"fill\":{\"color\":\"#C8D4E3\"},\"line\":{\"color\":\"white\"}},\"type\":\"table\"}]},\"layout\":{\"annotationdefaults\":{\"arrowcolor\":\"#2a3f5f\",\"arrowhead\":0,\"arrowwidth\":1},\"autotypenumbers\":\"strict\",\"coloraxis\":{\"colorbar\":{\"outlinewidth\":0,\"ticks\":\"\"}},\"colorscale\":{\"diverging\":[[0,\"#8e0152\"],[0.1,\"#c51b7d\"],[0.2,\"#de77ae\"],[0.3,\"#f1b6da\"],[0.4,\"#fde0ef\"],[0.5,\"#f7f7f7\"],[0.6,\"#e6f5d0\"],[0.7,\"#b8e186\"],[0.8,\"#7fbc41\"],[0.9,\"#4d9221\"],[1,\"#276419\"]],\"sequential\":[[0.0,\"#0d0887\"],[0.1111111111111111,\"#46039f\"],[0.2222222222222222,\"#7201a8\"],[0.3333333333333333,\"#9c179e\"],[0.4444444444444444,\"#bd3786\"],[0.5555555555555556,\"#d8576b\"],[0.6666666666666666,\"#ed7953\"],[0.7777777777777778,\"#fb9f3a\"],[0.8888888888888888,\"#fdca26\"],[1.0,\"#f0f921\"]],\"sequentialminus\":[[0.0,\"#0d0887\"],[0.1111111111111111,\"#46039f\"],[0.2222222222222222,\"#7201a8\"],[0.3333333333333333,\"#9c179e\"],[0.4444444444444444,\"#bd3786\"],[0.5555555555555556,\"#d8576b\"],[0.6666666666666666,\"#ed7953\"],[0.7777777777777778,\"#fb9f3a\"],[0.8888888888888888,\"#fdca26\"],[1.0,\"#f0f921\"]]},\"colorway\":[\"#636efa\",\"#EF553B\",\"#00cc96\",\"#ab63fa\",\"#FFA15A\",\"#19d3f3\",\"#FF6692\",\"#B6E880\",\"#FF97FF\",\"#FECB52\"],\"font\":{\"color\":\"#2a3f5f\"},\"geo\":{\"bgcolor\":\"white\",\"lakecolor\":\"white\",\"landcolor\":\"white\",\"showlakes\":true,\"showland\":true,\"subunitcolor\":\"#C8D4E3\"},\"hoverlabel\":{\"align\":\"left\"},\"hovermode\":\"closest\",\"mapbox\":{\"style\":\"light\"},\"paper_bgcolor\":\"white\",\"plot_bgcolor\":\"white\",\"polar\":{\"angularaxis\":{\"gridcolor\":\"#EBF0F8\",\"linecolor\":\"#EBF0F8\",\"ticks\":\"\"},\"bgcolor\":\"white\",\"radialaxis\":{\"gridcolor\":\"#EBF0F8\",\"linecolor\":\"#EBF0F8\",\"ticks\":\"\"}},\"scene\":{\"xaxis\":{\"backgroundcolor\":\"white\",\"gridcolor\":\"#DFE8F3\",\"gridwidth\":2,\"linecolor\":\"#EBF0F8\",\"showbackground\":true,\"ticks\":\"\",\"zerolinecolor\":\"#EBF0F8\"},\"yaxis\":{\"backgroundcolor\":\"white\",\"gridcolor\":\"#DFE8F3\",\"gridwidth\":2,\"linecolor\":\"#EBF0F8\",\"showbackground\":true,\"ticks\":\"\",\"zerolinecolor\":\"#EBF0F8\"},\"zaxis\":{\"backgroundcolor\":\"white\",\"gridcolor\":\"#DFE8F3\",\"gridwidth\":2,\"linecolor\":\"#EBF0F8\",\"showbackground\":true,\"ticks\":\"\",\"zerolinecolor\":\"#EBF0F8\"}},\"shapedefaults\":{\"line\":{\"color\":\"#2a3f5f\"}},\"ternary\":{\"aaxis\":{\"gridcolor\":\"#DFE8F3\",\"linecolor\":\"#A2B1C6\",\"ticks\":\"\"},\"baxis\":{\"gridcolor\":\"#DFE8F3\",\"linecolor\":\"#A2B1C6\",\"ticks\":\"\"},\"bgcolor\":\"white\",\"caxis\":{\"gridcolor\":\"#DFE8F3\",\"linecolor\":\"#A2B1C6\",\"ticks\":\"\"}},\"title\":{\"x\":0.05},\"xaxis\":{\"automargin\":true,\"gridcolor\":\"#EBF0F8\",\"linecolor\":\"#EBF0F8\",\"ticks\":\"\",\"title\":{\"standoff\":15},\"zerolinecolor\":\"#EBF0F8\",\"zerolinewidth\":2},\"yaxis\":{\"automargin\":true,\"gridcolor\":\"#EBF0F8\",\"linecolor\":\"#EBF0F8\",\"ticks\":\"\",\"title\":{\"standoff\":15},\"zerolinecolor\":\"#EBF0F8\",\"zerolinewidth\":2}}},\"xaxis\":{\"anchor\":\"y\",\"domain\":[0.0,1.0],\"title\":{\"text\":\"score\"},\"tickvals\":[-0.4,-0.19999999999999996,0.0,0.19999999999999996,0.3999999999999999,0.6000000000000001,0.0],\"ticktext\":[0.6,0.8,1.0,1.2,1.4,1.6,1.0],\"range\":[-0.25370051635111873,0.8]},\"yaxis\":{\"anchor\":\"x\",\"domain\":[0.0,0.144],\"title\":{\"text\":\"\"},\"tickvals\":[0.25,0.5,0.75],\"ticktext\":[\"African-American\",\"Hispanic\",\"Other\"],\"range\":[0,1],\"showgrid\":false,\"zeroline\":false},\"xaxis2\":{\"anchor\":\"y2\",\"domain\":[0.0,1.0],\"matches\":\"x\",\"showticklabels\":false,\"tickvals\":[-0.4,-0.19999999999999996,0.0,0.19999999999999996,0.3999999999999999,0.6000000000000001,0.0],\"ticktext\":[0.6,0.8,1.0,1.2,1.4,1.6,1.0],\"range\":[-0.25370051635111873,0.8]},\"yaxis2\":{\"anchor\":\"x2\",\"domain\":[0.214,0.358],\"matches\":\"y\",\"title\":{\"text\":\"\"},\"tickvals\":[0.25,0.5,0.75],\"ticktext\":[\"African-American\",\"Hispanic\",\"Other\"],\"range\":[0,1],\"showgrid\":false,\"zeroline\":false},\"xaxis3\":{\"anchor\":\"y3\",\"domain\":[0.0,1.0],\"matches\":\"x\",\"showticklabels\":false,\"tickvals\":[-0.4,-0.19999999999999996,0.0,0.19999999999999996,0.3999999999999999,0.6000000000000001,0.0],\"ticktext\":[0.6,0.8,1.0,1.2,1.4,1.6,1.0],\"range\":[-0.25370051635111873,0.8]},\"yaxis3\":{\"anchor\":\"x3\",\"domain\":[0.428,0.572],\"matches\":\"y\",\"title\":{\"text\":\"subgroup\"},\"tickvals\":[0.25,0.5,0.75],\"ticktext\":[\"African-American\",\"Hispanic\",\"Other\"],\"range\":[0,1],\"showgrid\":false,\"zeroline\":false},\"xaxis4\":{\"anchor\":\"y4\",\"domain\":[0.0,1.0],\"matches\":\"x\",\"showticklabels\":false,\"tickvals\":[-0.4,-0.19999999999999996,0.0,0.19999999999999996,0.3999999999999999,0.6000000000000001,0.0],\"ticktext\":[0.6,0.8,1.0,1.2,1.4,1.6,1.0],\"range\":[-0.25370051635111873,0.8]},\"yaxis4\":{\"anchor\":\"x4\",\"domain\":[0.6419999999999999,0.7859999999999999],\"matches\":\"y\",\"title\":{\"text\":\"\"},\"tickvals\":[0.25,0.5,0.75],\"ticktext\":[\"African-American\",\"Hispanic\",\"Other\"],\"range\":[0,1],\"showgrid\":false,\"zeroline\":false},\"xaxis5\":{\"anchor\":\"y5\",\"domain\":[0.0,1.0],\"matches\":\"x\",\"showticklabels\":false,\"tickvals\":[-0.4,-0.19999999999999996,0.0,0.19999999999999996,0.3999999999999999,0.6000000000000001,0.0],\"ticktext\":[0.6,0.8,1.0,1.2,1.4,1.6,1.0],\"range\":[-0.25370051635111873,0.8]},\"yaxis5\":{\"anchor\":\"x5\",\"domain\":[0.856,1.0],\"matches\":\"y\",\"title\":{\"text\":\"\"},\"tickvals\":[0.25,0.5,0.75],\"ticktext\":[\"African-American\",\"Hispanic\",\"Other\"],\"range\":[0,1],\"showgrid\":false,\"zeroline\":false},\"annotations\":[{\"font\":{\"size\":15},\"showarrow\":false,\"text\":\"Statistical parity ratio   (TP + FP)/(TP + FP + TN + FN)\",\"x\":0.05,\"xanchor\":\"left\",\"xref\":\"paper\",\"y\":0.144,\"yanchor\":\"bottom\",\"yref\":\"paper\"},{\"font\":{\"size\":15},\"showarrow\":false,\"text\":\"Accuracy equality ratio    (TP + TN)/(TP + FP + TN + FN)\",\"x\":0.05,\"xanchor\":\"left\",\"xref\":\"paper\",\"y\":0.358,\"yanchor\":\"bottom\",\"yref\":\"paper\"},{\"font\":{\"size\":15},\"showarrow\":false,\"text\":\"Predictive equality ratio   FP/(FP + TN)\",\"x\":0.05,\"xanchor\":\"left\",\"xref\":\"paper\",\"y\":0.572,\"yanchor\":\"bottom\",\"yref\":\"paper\"},{\"font\":{\"size\":15},\"showarrow\":false,\"text\":\"Predictive parity ratio     TP/(TP + FP)\",\"x\":0.05,\"xanchor\":\"left\",\"xref\":\"paper\",\"y\":0.7859999999999999,\"yanchor\":\"bottom\",\"yref\":\"paper\"},{\"font\":{\"size\":15},\"showarrow\":false,\"text\":\"Equal opportunity ratio     TP/(TP + FN)\",\"x\":0.05,\"xanchor\":\"left\",\"xref\":\"paper\",\"y\":1.0,\"yanchor\":\"bottom\",\"yref\":\"paper\"}],\"legend\":{\"title\":{\"text\":\"label\"},\"tracegroupgap\":0},\"margin\":{\"t\":78,\"b\":71,\"r\":30},\"barmode\":\"group\",\"shapes\":[{\"fillcolor\":\"#f05a71\",\"layer\":\"below\",\"line\":{\"width\":0},\"opacity\":0.1,\"type\":\"rect\",\"x0\":0.25,\"x1\":0.8,\"xref\":\"x\",\"y0\":0,\"y1\":1,\"yref\":\"y\"},{\"fillcolor\":\"#f05a71\",\"layer\":\"below\",\"line\":{\"width\":0},\"opacity\":0.1,\"type\":\"rect\",\"x0\":-0.25370051635111873,\"x1\":-0.19999999999999996,\"xref\":\"x\",\"y0\":0,\"y1\":1,\"yref\":\"y\"},{\"fillcolor\":\"#c7f5bf\",\"layer\":\"below\",\"line\":{\"width\":0},\"opacity\":0.1,\"type\":\"rect\",\"x0\":-0.19999999999999996,\"x1\":0.25,\"xref\":\"x\",\"y0\":0,\"y1\":1,\"yref\":\"y\"},{\"line\":{\"color\":\"#371ea3\",\"width\":1.5},\"type\":\"line\",\"x0\":0,\"x1\":0,\"xref\":\"x\",\"y0\":0,\"y1\":1,\"yref\":\"y\"},{\"fillcolor\":\"#f05a71\",\"layer\":\"below\",\"line\":{\"width\":0},\"opacity\":0.1,\"type\":\"rect\",\"x0\":0.25,\"x1\":0.8,\"xref\":\"x\",\"y0\":0,\"y1\":1,\"yref\":\"y2\"},{\"fillcolor\":\"#f05a71\",\"layer\":\"below\",\"line\":{\"width\":0},\"opacity\":0.1,\"type\":\"rect\",\"x0\":-0.25370051635111873,\"x1\":-0.19999999999999996,\"xref\":\"x\",\"y0\":0,\"y1\":1,\"yref\":\"y2\"},{\"fillcolor\":\"#c7f5bf\",\"layer\":\"below\",\"line\":{\"width\":0},\"opacity\":0.1,\"type\":\"rect\",\"x0\":-0.19999999999999996,\"x1\":0.25,\"xref\":\"x\",\"y0\":0,\"y1\":1,\"yref\":\"y2\"},{\"line\":{\"color\":\"#371ea3\",\"width\":1.5},\"type\":\"line\",\"x0\":0,\"x1\":0,\"xref\":\"x\",\"y0\":0,\"y1\":1,\"yref\":\"y2\"},{\"fillcolor\":\"#f05a71\",\"layer\":\"below\",\"line\":{\"width\":0},\"opacity\":0.1,\"type\":\"rect\",\"x0\":0.25,\"x1\":0.8,\"xref\":\"x\",\"y0\":0,\"y1\":1,\"yref\":\"y3\"},{\"fillcolor\":\"#f05a71\",\"layer\":\"below\",\"line\":{\"width\":0},\"opacity\":0.1,\"type\":\"rect\",\"x0\":-0.25370051635111873,\"x1\":-0.19999999999999996,\"xref\":\"x\",\"y0\":0,\"y1\":1,\"yref\":\"y3\"},{\"fillcolor\":\"#c7f5bf\",\"layer\":\"below\",\"line\":{\"width\":0},\"opacity\":0.1,\"type\":\"rect\",\"x0\":-0.19999999999999996,\"x1\":0.25,\"xref\":\"x\",\"y0\":0,\"y1\":1,\"yref\":\"y3\"},{\"line\":{\"color\":\"#371ea3\",\"width\":1.5},\"type\":\"line\",\"x0\":0,\"x1\":0,\"xref\":\"x\",\"y0\":0,\"y1\":1,\"yref\":\"y3\"},{\"fillcolor\":\"#f05a71\",\"layer\":\"below\",\"line\":{\"width\":0},\"opacity\":0.1,\"type\":\"rect\",\"x0\":0.25,\"x1\":0.8,\"xref\":\"x\",\"y0\":0,\"y1\":1,\"yref\":\"y4\"},{\"fillcolor\":\"#f05a71\",\"layer\":\"below\",\"line\":{\"width\":0},\"opacity\":0.1,\"type\":\"rect\",\"x0\":-0.25370051635111873,\"x1\":-0.19999999999999996,\"xref\":\"x\",\"y0\":0,\"y1\":1,\"yref\":\"y4\"},{\"fillcolor\":\"#c7f5bf\",\"layer\":\"below\",\"line\":{\"width\":0},\"opacity\":0.1,\"type\":\"rect\",\"x0\":-0.19999999999999996,\"x1\":0.25,\"xref\":\"x\",\"y0\":0,\"y1\":1,\"yref\":\"y4\"},{\"line\":{\"color\":\"#371ea3\",\"width\":1.5},\"type\":\"line\",\"x0\":0,\"x1\":0,\"xref\":\"x\",\"y0\":0,\"y1\":1,\"yref\":\"y4\"},{\"fillcolor\":\"#f05a71\",\"layer\":\"below\",\"line\":{\"width\":0},\"opacity\":0.1,\"type\":\"rect\",\"x0\":0.25,\"x1\":0.8,\"y0\":0,\"y1\":1,\"yref\":\"y5\",\"xref\":\"x\"},{\"fillcolor\":\"#f05a71\",\"layer\":\"below\",\"line\":{\"width\":0},\"opacity\":0.1,\"type\":\"rect\",\"x0\":-0.25370051635111873,\"x1\":-0.19999999999999996,\"y0\":0,\"y1\":1,\"yref\":\"y5\",\"xref\":\"x\"},{\"fillcolor\":\"#c7f5bf\",\"layer\":\"below\",\"line\":{\"width\":0},\"opacity\":0.1,\"type\":\"rect\",\"x0\":-0.19999999999999996,\"x1\":0.25,\"y0\":0,\"y1\":1,\"yref\":\"y5\",\"xref\":\"x\"},{\"line\":{\"color\":\"#371ea3\",\"width\":1.5},\"type\":\"line\",\"x0\":0,\"x1\":0,\"xref\":\"x\",\"y0\":0,\"y1\":1,\"yref\":\"y5\"}],\"title\":{\"font\":{\"size\":25},\"text\":\"Fairness Check\",\"x\":0.5,\"y\":0.99},\"font\":{\"color\":\"#371ea3\"}},                        {\"displaylogo\": false, \"staticPlot\": false, \"toImageButtonOptions\": {\"height\": null, \"width\": null}, \"modeBarButtonsToRemove\": [\"sendDataToCloud\", \"lasso2d\", \"autoScale2d\", \"select2d\", \"zoom2d\", \"pan2d\", \"zoomIn2d\", \"zoomOut2d\", \"resetScale2d\", \"toggleSpikelines\", \"hoverCompareCartesian\", \"hoverClosestCartesian\"], \"responsive\": true}                    ).then(function(){\n",
       "                            \n",
       "var gd = document.getElementById('88b28139-7dd5-40c3-910f-75638d11f41e');\n",
       "var x = new MutationObserver(function (mutations, observer) {{\n",
       "        var display = window.getComputedStyle(gd).display;\n",
       "        if (!display || display === 'none') {{\n",
       "            console.log([gd, 'removed!']);\n",
       "            Plotly.purge(gd);\n",
       "            observer.disconnect();\n",
       "        }}\n",
       "}});\n",
       "\n",
       "// Listen for the removal of the full notebook cells\n",
       "var notebookContainer = gd.closest('#notebook-container');\n",
       "if (notebookContainer) {{\n",
       "    x.observe(notebookContainer, {childList: true});\n",
       "}}\n",
       "\n",
       "// Listen for the clearing of the current output cell\n",
       "var outputEl = gd.closest('.output');\n",
       "if (outputEl) {{\n",
       "    x.observe(outputEl, {childList: true});\n",
       "}}\n",
       "\n",
       "                        })                };                });            </script>        </div>"
      ]
     },
     "metadata": {},
     "output_type": "display_data"
    }
   ],
   "source": [
    "mf_tree.plot()  # Same numbers from the fairness_check in a plot"
   ]
  },
  {
   "cell_type": "code",
   "execution_count": 73,
   "id": "rational-barrel",
   "metadata": {},
   "outputs": [
    {
     "data": {
      "text/plain": [
       "0.956271235113839"
      ]
     },
     "execution_count": 73,
     "metadata": {},
     "output_type": "execute_result"
    }
   ],
   "source": [
    "# EG STP Parity Loss:\n",
    "\n",
    "# STP metrics for unprivileged groups\n",
    "unpriv_stp = [0.508, 0.261, 0.381]\n",
    "\n",
    "# STP metrics for privileged group\n",
    "caucasian_stp = 0.285\n",
    "\n",
    "# 0.956 appears as light orange in the following figure\n",
    "sum([abs(np.log(u / caucasian_stp)) for u in unpriv_stp])"
   ]
  },
  {
   "cell_type": "code",
   "execution_count": 74,
   "id": "theoretical-buddy",
   "metadata": {},
   "outputs": [
    {
     "data": {
      "application/vnd.plotly.v1+json": {
       "config": {
        "displaylogo": false,
        "modeBarButtonsToRemove": [
         "sendDataToCloud",
         "lasso2d",
         "autoScale2d",
         "select2d",
         "zoom2d",
         "pan2d",
         "zoomIn2d",
         "zoomOut2d",
         "resetScale2d",
         "toggleSpikelines",
         "hoverCompareCartesian",
         "hoverClosestCartesian"
        ],
        "plotlyServerURL": "https://plot.ly",
        "staticPlot": false,
        "toImageButtonOptions": {
         "height": null,
         "width": null
        }
       },
       "data": [
        {
         "alignmentgroup": "True",
         "customdata": [
          [
           0.948,
           "TPR"
          ]
         ],
         "hovertemplate": "<b>%{label}</b><br>Metric: %{customdata[1]}<br>Parity loss: %{customdata[0]}<br><extra></extra>",
         "legendgroup": "TPR",
         "marker": {
          "color": "#8bdcbe",
          "line": {
           "width": 0
          },
          "pattern": {
           "shape": ""
          }
         },
         "name": "TPR",
         "offsetgroup": "TPR",
         "orientation": "h",
         "showlegend": true,
         "textposition": "auto",
         "type": "bar",
         "x": [
          0.94754497425492
         ],
         "xaxis": "x",
         "y": [
          "Random Forest Bias Unaware"
         ],
         "yaxis": "y"
        },
        {
         "alignmentgroup": "True",
         "customdata": [
          [
           0.543,
           "PPV"
          ]
         ],
         "hovertemplate": "<b>%{label}</b><br>Metric: %{customdata[1]}<br>Parity loss: %{customdata[0]}<br><extra></extra>",
         "legendgroup": "PPV",
         "marker": {
          "color": "#f05a71",
          "line": {
           "width": 0
          },
          "pattern": {
           "shape": ""
          }
         },
         "name": "PPV",
         "offsetgroup": "PPV",
         "orientation": "h",
         "showlegend": true,
         "textposition": "auto",
         "type": "bar",
         "x": [
          0.5429742566001265
         ],
         "xaxis": "x",
         "y": [
          "Random Forest Bias Unaware"
         ],
         "yaxis": "y"
        },
        {
         "alignmentgroup": "True",
         "customdata": [
          [
           0.952,
           "FPR"
          ]
         ],
         "hovertemplate": "<b>%{label}</b><br>Metric: %{customdata[1]}<br>Parity loss: %{customdata[0]}<br><extra></extra>",
         "legendgroup": "FPR",
         "marker": {
          "color": "#4378bf",
          "line": {
           "width": 0
          },
          "pattern": {
           "shape": ""
          }
         },
         "name": "FPR",
         "offsetgroup": "FPR",
         "orientation": "h",
         "showlegend": true,
         "textposition": "auto",
         "type": "bar",
         "x": [
          0.951525851832893
         ],
         "xaxis": "x",
         "y": [
          "Random Forest Bias Unaware"
         ],
         "yaxis": "y"
        },
        {
         "alignmentgroup": "True",
         "customdata": [
          [
           0.079,
           "ACC"
          ]
         ],
         "hovertemplate": "<b>%{label}</b><br>Metric: %{customdata[1]}<br>Parity loss: %{customdata[0]}<br><extra></extra>",
         "legendgroup": "ACC",
         "marker": {
          "color": "#ae2c87",
          "line": {
           "width": 0
          },
          "pattern": {
           "shape": ""
          }
         },
         "name": "ACC",
         "offsetgroup": "ACC",
         "orientation": "h",
         "showlegend": true,
         "textposition": "auto",
         "type": "bar",
         "x": [
          0.07851647484576588
         ],
         "xaxis": "x",
         "y": [
          "Random Forest Bias Unaware"
         ],
         "yaxis": "y"
        },
        {
         "alignmentgroup": "True",
         "customdata": [
          [
           0.956,
           "STP"
          ]
         ],
         "hovertemplate": "<b>%{label}</b><br>Metric: %{customdata[1]}<br>Parity loss: %{customdata[0]}<br><extra></extra>",
         "legendgroup": "STP",
         "marker": {
          "color": "#ffa58c",
          "line": {
           "width": 0
          },
          "pattern": {
           "shape": ""
          }
         },
         "name": "STP",
         "offsetgroup": "STP",
         "orientation": "h",
         "showlegend": true,
         "textposition": "auto",
         "type": "bar",
         "x": [
          0.956271235113839
         ],
         "xaxis": "x",
         "y": [
          "Random Forest Bias Unaware"
         ],
         "yaxis": "y"
        }
       ],
       "layout": {
        "barmode": "relative",
        "font": {
         "color": "#371ea3"
        },
        "legend": {
         "title": {
          "text": "metric"
         },
         "tracegroupgap": 0
        },
        "margin": {
         "b": 71,
         "r": 30,
         "t": 78
        },
        "template": {
         "data": {
          "bar": [
           {
            "error_x": {
             "color": "#2a3f5f"
            },
            "error_y": {
             "color": "#2a3f5f"
            },
            "marker": {
             "line": {
              "color": "white",
              "width": 0.5
             },
             "pattern": {
              "fillmode": "overlay",
              "size": 10,
              "solidity": 0.2
             }
            },
            "type": "bar"
           }
          ],
          "barpolar": [
           {
            "marker": {
             "line": {
              "color": "white",
              "width": 0.5
             },
             "pattern": {
              "fillmode": "overlay",
              "size": 10,
              "solidity": 0.2
             }
            },
            "type": "barpolar"
           }
          ],
          "carpet": [
           {
            "aaxis": {
             "endlinecolor": "#2a3f5f",
             "gridcolor": "#C8D4E3",
             "linecolor": "#C8D4E3",
             "minorgridcolor": "#C8D4E3",
             "startlinecolor": "#2a3f5f"
            },
            "baxis": {
             "endlinecolor": "#2a3f5f",
             "gridcolor": "#C8D4E3",
             "linecolor": "#C8D4E3",
             "minorgridcolor": "#C8D4E3",
             "startlinecolor": "#2a3f5f"
            },
            "type": "carpet"
           }
          ],
          "choropleth": [
           {
            "colorbar": {
             "outlinewidth": 0,
             "ticks": ""
            },
            "type": "choropleth"
           }
          ],
          "contour": [
           {
            "colorbar": {
             "outlinewidth": 0,
             "ticks": ""
            },
            "colorscale": [
             [
              0,
              "#0d0887"
             ],
             [
              0.1111111111111111,
              "#46039f"
             ],
             [
              0.2222222222222222,
              "#7201a8"
             ],
             [
              0.3333333333333333,
              "#9c179e"
             ],
             [
              0.4444444444444444,
              "#bd3786"
             ],
             [
              0.5555555555555556,
              "#d8576b"
             ],
             [
              0.6666666666666666,
              "#ed7953"
             ],
             [
              0.7777777777777778,
              "#fb9f3a"
             ],
             [
              0.8888888888888888,
              "#fdca26"
             ],
             [
              1,
              "#f0f921"
             ]
            ],
            "type": "contour"
           }
          ],
          "contourcarpet": [
           {
            "colorbar": {
             "outlinewidth": 0,
             "ticks": ""
            },
            "type": "contourcarpet"
           }
          ],
          "heatmap": [
           {
            "colorbar": {
             "outlinewidth": 0,
             "ticks": ""
            },
            "colorscale": [
             [
              0,
              "#0d0887"
             ],
             [
              0.1111111111111111,
              "#46039f"
             ],
             [
              0.2222222222222222,
              "#7201a8"
             ],
             [
              0.3333333333333333,
              "#9c179e"
             ],
             [
              0.4444444444444444,
              "#bd3786"
             ],
             [
              0.5555555555555556,
              "#d8576b"
             ],
             [
              0.6666666666666666,
              "#ed7953"
             ],
             [
              0.7777777777777778,
              "#fb9f3a"
             ],
             [
              0.8888888888888888,
              "#fdca26"
             ],
             [
              1,
              "#f0f921"
             ]
            ],
            "type": "heatmap"
           }
          ],
          "heatmapgl": [
           {
            "colorbar": {
             "outlinewidth": 0,
             "ticks": ""
            },
            "colorscale": [
             [
              0,
              "#0d0887"
             ],
             [
              0.1111111111111111,
              "#46039f"
             ],
             [
              0.2222222222222222,
              "#7201a8"
             ],
             [
              0.3333333333333333,
              "#9c179e"
             ],
             [
              0.4444444444444444,
              "#bd3786"
             ],
             [
              0.5555555555555556,
              "#d8576b"
             ],
             [
              0.6666666666666666,
              "#ed7953"
             ],
             [
              0.7777777777777778,
              "#fb9f3a"
             ],
             [
              0.8888888888888888,
              "#fdca26"
             ],
             [
              1,
              "#f0f921"
             ]
            ],
            "type": "heatmapgl"
           }
          ],
          "histogram": [
           {
            "marker": {
             "pattern": {
              "fillmode": "overlay",
              "size": 10,
              "solidity": 0.2
             }
            },
            "type": "histogram"
           }
          ],
          "histogram2d": [
           {
            "colorbar": {
             "outlinewidth": 0,
             "ticks": ""
            },
            "colorscale": [
             [
              0,
              "#0d0887"
             ],
             [
              0.1111111111111111,
              "#46039f"
             ],
             [
              0.2222222222222222,
              "#7201a8"
             ],
             [
              0.3333333333333333,
              "#9c179e"
             ],
             [
              0.4444444444444444,
              "#bd3786"
             ],
             [
              0.5555555555555556,
              "#d8576b"
             ],
             [
              0.6666666666666666,
              "#ed7953"
             ],
             [
              0.7777777777777778,
              "#fb9f3a"
             ],
             [
              0.8888888888888888,
              "#fdca26"
             ],
             [
              1,
              "#f0f921"
             ]
            ],
            "type": "histogram2d"
           }
          ],
          "histogram2dcontour": [
           {
            "colorbar": {
             "outlinewidth": 0,
             "ticks": ""
            },
            "colorscale": [
             [
              0,
              "#0d0887"
             ],
             [
              0.1111111111111111,
              "#46039f"
             ],
             [
              0.2222222222222222,
              "#7201a8"
             ],
             [
              0.3333333333333333,
              "#9c179e"
             ],
             [
              0.4444444444444444,
              "#bd3786"
             ],
             [
              0.5555555555555556,
              "#d8576b"
             ],
             [
              0.6666666666666666,
              "#ed7953"
             ],
             [
              0.7777777777777778,
              "#fb9f3a"
             ],
             [
              0.8888888888888888,
              "#fdca26"
             ],
             [
              1,
              "#f0f921"
             ]
            ],
            "type": "histogram2dcontour"
           }
          ],
          "mesh3d": [
           {
            "colorbar": {
             "outlinewidth": 0,
             "ticks": ""
            },
            "type": "mesh3d"
           }
          ],
          "parcoords": [
           {
            "line": {
             "colorbar": {
              "outlinewidth": 0,
              "ticks": ""
             }
            },
            "type": "parcoords"
           }
          ],
          "pie": [
           {
            "automargin": true,
            "type": "pie"
           }
          ],
          "scatter": [
           {
            "marker": {
             "colorbar": {
              "outlinewidth": 0,
              "ticks": ""
             }
            },
            "type": "scatter"
           }
          ],
          "scatter3d": [
           {
            "line": {
             "colorbar": {
              "outlinewidth": 0,
              "ticks": ""
             }
            },
            "marker": {
             "colorbar": {
              "outlinewidth": 0,
              "ticks": ""
             }
            },
            "type": "scatter3d"
           }
          ],
          "scattercarpet": [
           {
            "marker": {
             "colorbar": {
              "outlinewidth": 0,
              "ticks": ""
             }
            },
            "type": "scattercarpet"
           }
          ],
          "scattergeo": [
           {
            "marker": {
             "colorbar": {
              "outlinewidth": 0,
              "ticks": ""
             }
            },
            "type": "scattergeo"
           }
          ],
          "scattergl": [
           {
            "marker": {
             "colorbar": {
              "outlinewidth": 0,
              "ticks": ""
             }
            },
            "type": "scattergl"
           }
          ],
          "scattermapbox": [
           {
            "marker": {
             "colorbar": {
              "outlinewidth": 0,
              "ticks": ""
             }
            },
            "type": "scattermapbox"
           }
          ],
          "scatterpolar": [
           {
            "marker": {
             "colorbar": {
              "outlinewidth": 0,
              "ticks": ""
             }
            },
            "type": "scatterpolar"
           }
          ],
          "scatterpolargl": [
           {
            "marker": {
             "colorbar": {
              "outlinewidth": 0,
              "ticks": ""
             }
            },
            "type": "scatterpolargl"
           }
          ],
          "scatterternary": [
           {
            "marker": {
             "colorbar": {
              "outlinewidth": 0,
              "ticks": ""
             }
            },
            "type": "scatterternary"
           }
          ],
          "surface": [
           {
            "colorbar": {
             "outlinewidth": 0,
             "ticks": ""
            },
            "colorscale": [
             [
              0,
              "#0d0887"
             ],
             [
              0.1111111111111111,
              "#46039f"
             ],
             [
              0.2222222222222222,
              "#7201a8"
             ],
             [
              0.3333333333333333,
              "#9c179e"
             ],
             [
              0.4444444444444444,
              "#bd3786"
             ],
             [
              0.5555555555555556,
              "#d8576b"
             ],
             [
              0.6666666666666666,
              "#ed7953"
             ],
             [
              0.7777777777777778,
              "#fb9f3a"
             ],
             [
              0.8888888888888888,
              "#fdca26"
             ],
             [
              1,
              "#f0f921"
             ]
            ],
            "type": "surface"
           }
          ],
          "table": [
           {
            "cells": {
             "fill": {
              "color": "#EBF0F8"
             },
             "line": {
              "color": "white"
             }
            },
            "header": {
             "fill": {
              "color": "#C8D4E3"
             },
             "line": {
              "color": "white"
             }
            },
            "type": "table"
           }
          ]
         },
         "layout": {
          "annotationdefaults": {
           "arrowcolor": "#2a3f5f",
           "arrowhead": 0,
           "arrowwidth": 1
          },
          "autotypenumbers": "strict",
          "coloraxis": {
           "colorbar": {
            "outlinewidth": 0,
            "ticks": ""
           }
          },
          "colorscale": {
           "diverging": [
            [
             0,
             "#8e0152"
            ],
            [
             0.1,
             "#c51b7d"
            ],
            [
             0.2,
             "#de77ae"
            ],
            [
             0.3,
             "#f1b6da"
            ],
            [
             0.4,
             "#fde0ef"
            ],
            [
             0.5,
             "#f7f7f7"
            ],
            [
             0.6,
             "#e6f5d0"
            ],
            [
             0.7,
             "#b8e186"
            ],
            [
             0.8,
             "#7fbc41"
            ],
            [
             0.9,
             "#4d9221"
            ],
            [
             1,
             "#276419"
            ]
           ],
           "sequential": [
            [
             0,
             "#0d0887"
            ],
            [
             0.1111111111111111,
             "#46039f"
            ],
            [
             0.2222222222222222,
             "#7201a8"
            ],
            [
             0.3333333333333333,
             "#9c179e"
            ],
            [
             0.4444444444444444,
             "#bd3786"
            ],
            [
             0.5555555555555556,
             "#d8576b"
            ],
            [
             0.6666666666666666,
             "#ed7953"
            ],
            [
             0.7777777777777778,
             "#fb9f3a"
            ],
            [
             0.8888888888888888,
             "#fdca26"
            ],
            [
             1,
             "#f0f921"
            ]
           ],
           "sequentialminus": [
            [
             0,
             "#0d0887"
            ],
            [
             0.1111111111111111,
             "#46039f"
            ],
            [
             0.2222222222222222,
             "#7201a8"
            ],
            [
             0.3333333333333333,
             "#9c179e"
            ],
            [
             0.4444444444444444,
             "#bd3786"
            ],
            [
             0.5555555555555556,
             "#d8576b"
            ],
            [
             0.6666666666666666,
             "#ed7953"
            ],
            [
             0.7777777777777778,
             "#fb9f3a"
            ],
            [
             0.8888888888888888,
             "#fdca26"
            ],
            [
             1,
             "#f0f921"
            ]
           ]
          },
          "colorway": [
           "#636efa",
           "#EF553B",
           "#00cc96",
           "#ab63fa",
           "#FFA15A",
           "#19d3f3",
           "#FF6692",
           "#B6E880",
           "#FF97FF",
           "#FECB52"
          ],
          "font": {
           "color": "#2a3f5f"
          },
          "geo": {
           "bgcolor": "white",
           "lakecolor": "white",
           "landcolor": "white",
           "showlakes": true,
           "showland": true,
           "subunitcolor": "#C8D4E3"
          },
          "hoverlabel": {
           "align": "left"
          },
          "hovermode": "closest",
          "mapbox": {
           "style": "light"
          },
          "paper_bgcolor": "white",
          "plot_bgcolor": "white",
          "polar": {
           "angularaxis": {
            "gridcolor": "#EBF0F8",
            "linecolor": "#EBF0F8",
            "ticks": ""
           },
           "bgcolor": "white",
           "radialaxis": {
            "gridcolor": "#EBF0F8",
            "linecolor": "#EBF0F8",
            "ticks": ""
           }
          },
          "scene": {
           "xaxis": {
            "backgroundcolor": "white",
            "gridcolor": "#DFE8F3",
            "gridwidth": 2,
            "linecolor": "#EBF0F8",
            "showbackground": true,
            "ticks": "",
            "zerolinecolor": "#EBF0F8"
           },
           "yaxis": {
            "backgroundcolor": "white",
            "gridcolor": "#DFE8F3",
            "gridwidth": 2,
            "linecolor": "#EBF0F8",
            "showbackground": true,
            "ticks": "",
            "zerolinecolor": "#EBF0F8"
           },
           "zaxis": {
            "backgroundcolor": "white",
            "gridcolor": "#DFE8F3",
            "gridwidth": 2,
            "linecolor": "#EBF0F8",
            "showbackground": true,
            "ticks": "",
            "zerolinecolor": "#EBF0F8"
           }
          },
          "shapedefaults": {
           "line": {
            "color": "#2a3f5f"
           }
          },
          "ternary": {
           "aaxis": {
            "gridcolor": "#DFE8F3",
            "linecolor": "#A2B1C6",
            "ticks": ""
           },
           "baxis": {
            "gridcolor": "#DFE8F3",
            "linecolor": "#A2B1C6",
            "ticks": ""
           },
           "bgcolor": "white",
           "caxis": {
            "gridcolor": "#DFE8F3",
            "linecolor": "#A2B1C6",
            "ticks": ""
           }
          },
          "title": {
           "x": 0.05
          },
          "xaxis": {
           "automargin": true,
           "gridcolor": "#EBF0F8",
           "linecolor": "#EBF0F8",
           "ticks": "",
           "title": {
            "standoff": 15
           },
           "zerolinecolor": "#EBF0F8",
           "zerolinewidth": 2
          },
          "yaxis": {
           "automargin": true,
           "gridcolor": "#EBF0F8",
           "linecolor": "#EBF0F8",
           "ticks": "",
           "title": {
            "standoff": 15
           },
           "zerolinecolor": "#EBF0F8",
           "zerolinewidth": 2
          }
         }
        },
        "title": {
         "font": {
          "size": 25
         },
         "text": "Stacked Parity Loss Metrics",
         "x": 0.5,
         "y": 0.99
        },
        "xaxis": {
         "anchor": "y",
         "domain": [
          0,
          1
         ],
         "title": {
          "text": "cumulated parity loss"
         }
        },
        "yaxis": {
         "anchor": "x",
         "domain": [
          0,
          1
         ],
         "showgrid": false,
         "title": {
          "text": "label"
         },
         "zeroline": false
        }
       }
      },
      "text/html": [
       "<div>                            <div id=\"ebe001f8-4001-45a9-926b-60167cf94404\" class=\"plotly-graph-div\" style=\"height:525px; width:100%;\"></div>            <script type=\"text/javascript\">                require([\"plotly\"], function(Plotly) {                    window.PLOTLYENV=window.PLOTLYENV || {};                                    if (document.getElementById(\"ebe001f8-4001-45a9-926b-60167cf94404\")) {                    Plotly.newPlot(                        \"ebe001f8-4001-45a9-926b-60167cf94404\",                        [{\"alignmentgroup\":\"True\",\"customdata\":[[0.948,\"TPR\"]],\"hovertemplate\":\"<b>%{label}</b><br>Metric: %{customdata[1]}<br>Parity loss: %{customdata[0]}<br><extra></extra>\",\"legendgroup\":\"TPR\",\"marker\":{\"color\":\"#8bdcbe\",\"pattern\":{\"shape\":\"\"},\"line\":{\"width\":0}},\"name\":\"TPR\",\"offsetgroup\":\"TPR\",\"orientation\":\"h\",\"showlegend\":true,\"textposition\":\"auto\",\"x\":[0.94754497425492],\"xaxis\":\"x\",\"y\":[\"Random Forest Bias Unaware\"],\"yaxis\":\"y\",\"type\":\"bar\"},{\"alignmentgroup\":\"True\",\"customdata\":[[0.543,\"PPV\"]],\"hovertemplate\":\"<b>%{label}</b><br>Metric: %{customdata[1]}<br>Parity loss: %{customdata[0]}<br><extra></extra>\",\"legendgroup\":\"PPV\",\"marker\":{\"color\":\"#f05a71\",\"pattern\":{\"shape\":\"\"},\"line\":{\"width\":0}},\"name\":\"PPV\",\"offsetgroup\":\"PPV\",\"orientation\":\"h\",\"showlegend\":true,\"textposition\":\"auto\",\"x\":[0.5429742566001265],\"xaxis\":\"x\",\"y\":[\"Random Forest Bias Unaware\"],\"yaxis\":\"y\",\"type\":\"bar\"},{\"alignmentgroup\":\"True\",\"customdata\":[[0.952,\"FPR\"]],\"hovertemplate\":\"<b>%{label}</b><br>Metric: %{customdata[1]}<br>Parity loss: %{customdata[0]}<br><extra></extra>\",\"legendgroup\":\"FPR\",\"marker\":{\"color\":\"#4378bf\",\"pattern\":{\"shape\":\"\"},\"line\":{\"width\":0}},\"name\":\"FPR\",\"offsetgroup\":\"FPR\",\"orientation\":\"h\",\"showlegend\":true,\"textposition\":\"auto\",\"x\":[0.951525851832893],\"xaxis\":\"x\",\"y\":[\"Random Forest Bias Unaware\"],\"yaxis\":\"y\",\"type\":\"bar\"},{\"alignmentgroup\":\"True\",\"customdata\":[[0.079,\"ACC\"]],\"hovertemplate\":\"<b>%{label}</b><br>Metric: %{customdata[1]}<br>Parity loss: %{customdata[0]}<br><extra></extra>\",\"legendgroup\":\"ACC\",\"marker\":{\"color\":\"#ae2c87\",\"pattern\":{\"shape\":\"\"},\"line\":{\"width\":0}},\"name\":\"ACC\",\"offsetgroup\":\"ACC\",\"orientation\":\"h\",\"showlegend\":true,\"textposition\":\"auto\",\"x\":[0.07851647484576588],\"xaxis\":\"x\",\"y\":[\"Random Forest Bias Unaware\"],\"yaxis\":\"y\",\"type\":\"bar\"},{\"alignmentgroup\":\"True\",\"customdata\":[[0.956,\"STP\"]],\"hovertemplate\":\"<b>%{label}</b><br>Metric: %{customdata[1]}<br>Parity loss: %{customdata[0]}<br><extra></extra>\",\"legendgroup\":\"STP\",\"marker\":{\"color\":\"#ffa58c\",\"pattern\":{\"shape\":\"\"},\"line\":{\"width\":0}},\"name\":\"STP\",\"offsetgroup\":\"STP\",\"orientation\":\"h\",\"showlegend\":true,\"textposition\":\"auto\",\"x\":[0.956271235113839],\"xaxis\":\"x\",\"y\":[\"Random Forest Bias Unaware\"],\"yaxis\":\"y\",\"type\":\"bar\"}],                        {\"template\":{\"data\":{\"barpolar\":[{\"marker\":{\"line\":{\"color\":\"white\",\"width\":0.5},\"pattern\":{\"fillmode\":\"overlay\",\"size\":10,\"solidity\":0.2}},\"type\":\"barpolar\"}],\"bar\":[{\"error_x\":{\"color\":\"#2a3f5f\"},\"error_y\":{\"color\":\"#2a3f5f\"},\"marker\":{\"line\":{\"color\":\"white\",\"width\":0.5},\"pattern\":{\"fillmode\":\"overlay\",\"size\":10,\"solidity\":0.2}},\"type\":\"bar\"}],\"carpet\":[{\"aaxis\":{\"endlinecolor\":\"#2a3f5f\",\"gridcolor\":\"#C8D4E3\",\"linecolor\":\"#C8D4E3\",\"minorgridcolor\":\"#C8D4E3\",\"startlinecolor\":\"#2a3f5f\"},\"baxis\":{\"endlinecolor\":\"#2a3f5f\",\"gridcolor\":\"#C8D4E3\",\"linecolor\":\"#C8D4E3\",\"minorgridcolor\":\"#C8D4E3\",\"startlinecolor\":\"#2a3f5f\"},\"type\":\"carpet\"}],\"choropleth\":[{\"colorbar\":{\"outlinewidth\":0,\"ticks\":\"\"},\"type\":\"choropleth\"}],\"contourcarpet\":[{\"colorbar\":{\"outlinewidth\":0,\"ticks\":\"\"},\"type\":\"contourcarpet\"}],\"contour\":[{\"colorbar\":{\"outlinewidth\":0,\"ticks\":\"\"},\"colorscale\":[[0.0,\"#0d0887\"],[0.1111111111111111,\"#46039f\"],[0.2222222222222222,\"#7201a8\"],[0.3333333333333333,\"#9c179e\"],[0.4444444444444444,\"#bd3786\"],[0.5555555555555556,\"#d8576b\"],[0.6666666666666666,\"#ed7953\"],[0.7777777777777778,\"#fb9f3a\"],[0.8888888888888888,\"#fdca26\"],[1.0,\"#f0f921\"]],\"type\":\"contour\"}],\"heatmapgl\":[{\"colorbar\":{\"outlinewidth\":0,\"ticks\":\"\"},\"colorscale\":[[0.0,\"#0d0887\"],[0.1111111111111111,\"#46039f\"],[0.2222222222222222,\"#7201a8\"],[0.3333333333333333,\"#9c179e\"],[0.4444444444444444,\"#bd3786\"],[0.5555555555555556,\"#d8576b\"],[0.6666666666666666,\"#ed7953\"],[0.7777777777777778,\"#fb9f3a\"],[0.8888888888888888,\"#fdca26\"],[1.0,\"#f0f921\"]],\"type\":\"heatmapgl\"}],\"heatmap\":[{\"colorbar\":{\"outlinewidth\":0,\"ticks\":\"\"},\"colorscale\":[[0.0,\"#0d0887\"],[0.1111111111111111,\"#46039f\"],[0.2222222222222222,\"#7201a8\"],[0.3333333333333333,\"#9c179e\"],[0.4444444444444444,\"#bd3786\"],[0.5555555555555556,\"#d8576b\"],[0.6666666666666666,\"#ed7953\"],[0.7777777777777778,\"#fb9f3a\"],[0.8888888888888888,\"#fdca26\"],[1.0,\"#f0f921\"]],\"type\":\"heatmap\"}],\"histogram2dcontour\":[{\"colorbar\":{\"outlinewidth\":0,\"ticks\":\"\"},\"colorscale\":[[0.0,\"#0d0887\"],[0.1111111111111111,\"#46039f\"],[0.2222222222222222,\"#7201a8\"],[0.3333333333333333,\"#9c179e\"],[0.4444444444444444,\"#bd3786\"],[0.5555555555555556,\"#d8576b\"],[0.6666666666666666,\"#ed7953\"],[0.7777777777777778,\"#fb9f3a\"],[0.8888888888888888,\"#fdca26\"],[1.0,\"#f0f921\"]],\"type\":\"histogram2dcontour\"}],\"histogram2d\":[{\"colorbar\":{\"outlinewidth\":0,\"ticks\":\"\"},\"colorscale\":[[0.0,\"#0d0887\"],[0.1111111111111111,\"#46039f\"],[0.2222222222222222,\"#7201a8\"],[0.3333333333333333,\"#9c179e\"],[0.4444444444444444,\"#bd3786\"],[0.5555555555555556,\"#d8576b\"],[0.6666666666666666,\"#ed7953\"],[0.7777777777777778,\"#fb9f3a\"],[0.8888888888888888,\"#fdca26\"],[1.0,\"#f0f921\"]],\"type\":\"histogram2d\"}],\"histogram\":[{\"marker\":{\"pattern\":{\"fillmode\":\"overlay\",\"size\":10,\"solidity\":0.2}},\"type\":\"histogram\"}],\"mesh3d\":[{\"colorbar\":{\"outlinewidth\":0,\"ticks\":\"\"},\"type\":\"mesh3d\"}],\"parcoords\":[{\"line\":{\"colorbar\":{\"outlinewidth\":0,\"ticks\":\"\"}},\"type\":\"parcoords\"}],\"pie\":[{\"automargin\":true,\"type\":\"pie\"}],\"scatter3d\":[{\"line\":{\"colorbar\":{\"outlinewidth\":0,\"ticks\":\"\"}},\"marker\":{\"colorbar\":{\"outlinewidth\":0,\"ticks\":\"\"}},\"type\":\"scatter3d\"}],\"scattercarpet\":[{\"marker\":{\"colorbar\":{\"outlinewidth\":0,\"ticks\":\"\"}},\"type\":\"scattercarpet\"}],\"scattergeo\":[{\"marker\":{\"colorbar\":{\"outlinewidth\":0,\"ticks\":\"\"}},\"type\":\"scattergeo\"}],\"scattergl\":[{\"marker\":{\"colorbar\":{\"outlinewidth\":0,\"ticks\":\"\"}},\"type\":\"scattergl\"}],\"scattermapbox\":[{\"marker\":{\"colorbar\":{\"outlinewidth\":0,\"ticks\":\"\"}},\"type\":\"scattermapbox\"}],\"scatterpolargl\":[{\"marker\":{\"colorbar\":{\"outlinewidth\":0,\"ticks\":\"\"}},\"type\":\"scatterpolargl\"}],\"scatterpolar\":[{\"marker\":{\"colorbar\":{\"outlinewidth\":0,\"ticks\":\"\"}},\"type\":\"scatterpolar\"}],\"scatter\":[{\"marker\":{\"colorbar\":{\"outlinewidth\":0,\"ticks\":\"\"}},\"type\":\"scatter\"}],\"scatterternary\":[{\"marker\":{\"colorbar\":{\"outlinewidth\":0,\"ticks\":\"\"}},\"type\":\"scatterternary\"}],\"surface\":[{\"colorbar\":{\"outlinewidth\":0,\"ticks\":\"\"},\"colorscale\":[[0.0,\"#0d0887\"],[0.1111111111111111,\"#46039f\"],[0.2222222222222222,\"#7201a8\"],[0.3333333333333333,\"#9c179e\"],[0.4444444444444444,\"#bd3786\"],[0.5555555555555556,\"#d8576b\"],[0.6666666666666666,\"#ed7953\"],[0.7777777777777778,\"#fb9f3a\"],[0.8888888888888888,\"#fdca26\"],[1.0,\"#f0f921\"]],\"type\":\"surface\"}],\"table\":[{\"cells\":{\"fill\":{\"color\":\"#EBF0F8\"},\"line\":{\"color\":\"white\"}},\"header\":{\"fill\":{\"color\":\"#C8D4E3\"},\"line\":{\"color\":\"white\"}},\"type\":\"table\"}]},\"layout\":{\"annotationdefaults\":{\"arrowcolor\":\"#2a3f5f\",\"arrowhead\":0,\"arrowwidth\":1},\"autotypenumbers\":\"strict\",\"coloraxis\":{\"colorbar\":{\"outlinewidth\":0,\"ticks\":\"\"}},\"colorscale\":{\"diverging\":[[0,\"#8e0152\"],[0.1,\"#c51b7d\"],[0.2,\"#de77ae\"],[0.3,\"#f1b6da\"],[0.4,\"#fde0ef\"],[0.5,\"#f7f7f7\"],[0.6,\"#e6f5d0\"],[0.7,\"#b8e186\"],[0.8,\"#7fbc41\"],[0.9,\"#4d9221\"],[1,\"#276419\"]],\"sequential\":[[0.0,\"#0d0887\"],[0.1111111111111111,\"#46039f\"],[0.2222222222222222,\"#7201a8\"],[0.3333333333333333,\"#9c179e\"],[0.4444444444444444,\"#bd3786\"],[0.5555555555555556,\"#d8576b\"],[0.6666666666666666,\"#ed7953\"],[0.7777777777777778,\"#fb9f3a\"],[0.8888888888888888,\"#fdca26\"],[1.0,\"#f0f921\"]],\"sequentialminus\":[[0.0,\"#0d0887\"],[0.1111111111111111,\"#46039f\"],[0.2222222222222222,\"#7201a8\"],[0.3333333333333333,\"#9c179e\"],[0.4444444444444444,\"#bd3786\"],[0.5555555555555556,\"#d8576b\"],[0.6666666666666666,\"#ed7953\"],[0.7777777777777778,\"#fb9f3a\"],[0.8888888888888888,\"#fdca26\"],[1.0,\"#f0f921\"]]},\"colorway\":[\"#636efa\",\"#EF553B\",\"#00cc96\",\"#ab63fa\",\"#FFA15A\",\"#19d3f3\",\"#FF6692\",\"#B6E880\",\"#FF97FF\",\"#FECB52\"],\"font\":{\"color\":\"#2a3f5f\"},\"geo\":{\"bgcolor\":\"white\",\"lakecolor\":\"white\",\"landcolor\":\"white\",\"showlakes\":true,\"showland\":true,\"subunitcolor\":\"#C8D4E3\"},\"hoverlabel\":{\"align\":\"left\"},\"hovermode\":\"closest\",\"mapbox\":{\"style\":\"light\"},\"paper_bgcolor\":\"white\",\"plot_bgcolor\":\"white\",\"polar\":{\"angularaxis\":{\"gridcolor\":\"#EBF0F8\",\"linecolor\":\"#EBF0F8\",\"ticks\":\"\"},\"bgcolor\":\"white\",\"radialaxis\":{\"gridcolor\":\"#EBF0F8\",\"linecolor\":\"#EBF0F8\",\"ticks\":\"\"}},\"scene\":{\"xaxis\":{\"backgroundcolor\":\"white\",\"gridcolor\":\"#DFE8F3\",\"gridwidth\":2,\"linecolor\":\"#EBF0F8\",\"showbackground\":true,\"ticks\":\"\",\"zerolinecolor\":\"#EBF0F8\"},\"yaxis\":{\"backgroundcolor\":\"white\",\"gridcolor\":\"#DFE8F3\",\"gridwidth\":2,\"linecolor\":\"#EBF0F8\",\"showbackground\":true,\"ticks\":\"\",\"zerolinecolor\":\"#EBF0F8\"},\"zaxis\":{\"backgroundcolor\":\"white\",\"gridcolor\":\"#DFE8F3\",\"gridwidth\":2,\"linecolor\":\"#EBF0F8\",\"showbackground\":true,\"ticks\":\"\",\"zerolinecolor\":\"#EBF0F8\"}},\"shapedefaults\":{\"line\":{\"color\":\"#2a3f5f\"}},\"ternary\":{\"aaxis\":{\"gridcolor\":\"#DFE8F3\",\"linecolor\":\"#A2B1C6\",\"ticks\":\"\"},\"baxis\":{\"gridcolor\":\"#DFE8F3\",\"linecolor\":\"#A2B1C6\",\"ticks\":\"\"},\"bgcolor\":\"white\",\"caxis\":{\"gridcolor\":\"#DFE8F3\",\"linecolor\":\"#A2B1C6\",\"ticks\":\"\"}},\"title\":{\"x\":0.05},\"xaxis\":{\"automargin\":true,\"gridcolor\":\"#EBF0F8\",\"linecolor\":\"#EBF0F8\",\"ticks\":\"\",\"title\":{\"standoff\":15},\"zerolinecolor\":\"#EBF0F8\",\"zerolinewidth\":2},\"yaxis\":{\"automargin\":true,\"gridcolor\":\"#EBF0F8\",\"linecolor\":\"#EBF0F8\",\"ticks\":\"\",\"title\":{\"standoff\":15},\"zerolinecolor\":\"#EBF0F8\",\"zerolinewidth\":2}}},\"xaxis\":{\"anchor\":\"y\",\"domain\":[0.0,1.0],\"title\":{\"text\":\"cumulated parity loss\"}},\"yaxis\":{\"anchor\":\"x\",\"domain\":[0.0,1.0],\"title\":{\"text\":\"label\"},\"showgrid\":false,\"zeroline\":false},\"legend\":{\"title\":{\"text\":\"metric\"},\"tracegroupgap\":0},\"margin\":{\"t\":78,\"b\":71,\"r\":30},\"barmode\":\"relative\",\"title\":{\"font\":{\"size\":25},\"text\":\"Stacked Parity Loss Metrics\",\"x\":0.5,\"y\":0.99},\"font\":{\"color\":\"#371ea3\"}},                        {\"displaylogo\": false, \"staticPlot\": false, \"toImageButtonOptions\": {\"height\": null, \"width\": null}, \"modeBarButtonsToRemove\": [\"sendDataToCloud\", \"lasso2d\", \"autoScale2d\", \"select2d\", \"zoom2d\", \"pan2d\", \"zoomIn2d\", \"zoomOut2d\", \"resetScale2d\", \"toggleSpikelines\", \"hoverCompareCartesian\", \"hoverClosestCartesian\"], \"responsive\": true}                    ).then(function(){\n",
       "                            \n",
       "var gd = document.getElementById('ebe001f8-4001-45a9-926b-60167cf94404');\n",
       "var x = new MutationObserver(function (mutations, observer) {{\n",
       "        var display = window.getComputedStyle(gd).display;\n",
       "        if (!display || display === 'none') {{\n",
       "            console.log([gd, 'removed!']);\n",
       "            Plotly.purge(gd);\n",
       "            observer.disconnect();\n",
       "        }}\n",
       "}});\n",
       "\n",
       "// Listen for the removal of the full notebook cells\n",
       "var notebookContainer = gd.closest('#notebook-container');\n",
       "if (notebookContainer) {{\n",
       "    x.observe(notebookContainer, {childList: true});\n",
       "}}\n",
       "\n",
       "// Listen for the clearing of the current output cell\n",
       "var outputEl = gd.closest('.output');\n",
       "if (outputEl) {{\n",
       "    x.observe(outputEl, {childList: true});\n",
       "}}\n",
       "\n",
       "                        })                };                });            </script>        </div>"
      ]
     },
     "metadata": {},
     "output_type": "display_data"
    }
   ],
   "source": [
    "# Plot of parity loss of each metric\n",
    "mf_tree.plot(type = 'stacked')"
   ]
  },
  {
   "cell_type": "code",
   "execution_count": null,
   "id": "foster-eating",
   "metadata": {},
   "outputs": [],
   "source": []
  },
  {
   "cell_type": "code",
   "execution_count": null,
   "id": "other-fiber",
   "metadata": {},
   "outputs": [],
   "source": []
  },
  {
   "cell_type": "code",
   "execution_count": null,
   "id": "funded-tuesday",
   "metadata": {},
   "outputs": [],
   "source": []
  },
  {
   "cell_type": "code",
   "execution_count": 75,
   "id": "configured-retrieval",
   "metadata": {},
   "outputs": [],
   "source": [
    "def show_proportions(sensitive_features, y_pred, y=None, description=None):\n",
    "    print(f'\\n{description}\\n')\n",
    "    indices = {}\n",
    "    positive_indices = {}\n",
    "    negative_indices = {}\n",
    "    groups = np.unique(sensitive_features.values)\n",
    "    n_groups = len(groups)\n",
    "    max_group_length = max([len(group) for group in groups])\n",
    "    for index, group in enumerate(groups):\n",
    "        indices[group] = sensitive_features.index[sensitive_features == group]\n",
    "        group_recidivism_pct = round(sum(y_pred[indices[group]]) / len(indices[group]), 5)\n",
    "        buffer = \" \" * (max_group_length - len(group))\n",
    "        print(f'P(recidivism | {group})                {buffer}= {group_recidivism_pct}')\n",
    "\n",
    "        if y is not None:\n",
    "            positive_indices[group] = sensitive_features.index[\n",
    "                (sensitive_features == group) & (y == True)\n",
    "            ]\n",
    "            negative_indices[group] = sensitive_features.index[\n",
    "                (sensitive_features == group) & (y == False)\n",
    "            ]\n",
    "            prob_1 = round(sum(y_pred[positive_indices[group]]) / len(positive_indices[group]), 5)\n",
    "            prob_0 = round(sum(y_pred[negative_indices[group]]) / len(negative_indices[group]), 5)\n",
    "            \n",
    "            print(f'P(recidivism | {group}, recidivism)    {buffer}= {prob_1}')\n",
    "            print(f'P(recidivism | {group}, no recidivism) {buffer}= {prob_0}')"
   ]
  },
  {
   "cell_type": "code",
   "execution_count": 76,
   "id": "opposite-decimal",
   "metadata": {},
   "outputs": [
    {
     "name": "stdout",
     "output_type": "stream",
     "text": [
      "\n",
      "original test data:\n",
      "\n",
      "P(recidivism | African-American)                = 0.51465\n",
      "P(recidivism | Caucasian)                       = 0.40716\n",
      "P(recidivism | Hispanic)                        = 0.32778\n",
      "P(recidivism | Other)                           = 0.34532\n",
      "\n",
      "fairness-unaware prediction on test data:\n",
      "\n",
      "P(recidivism | African-American)                = 0.50824\n",
      "P(recidivism | African-American, recidivism)    = 0.66548\n",
      "P(recidivism | African-American, no recidivism) = 0.34151\n",
      "P(recidivism | Caucasian)                       = 0.28515\n",
      "P(recidivism | Caucasian, recidivism)           = 0.40717\n",
      "P(recidivism | Caucasian, no recidivism)        = 0.20134\n",
      "P(recidivism | Hispanic)                        = 0.25556\n",
      "P(recidivism | Hispanic, recidivism)            = 0.35593\n",
      "P(recidivism | Hispanic, no recidivism)         = 0.20661\n",
      "P(recidivism | Other)                           = 0.38129\n",
      "P(recidivism | Other, recidivism)               = 0.5625\n",
      "P(recidivism | Other, no recidivism)            = 0.28571\n"
     ]
    }
   ],
   "source": [
    "show_proportions(\n",
    "    race_test,\n",
    "    y_test,\n",
    "    description=\"original test data:\"\n",
    ")\n",
    "show_proportions(\n",
    "    race_test,\n",
    "    pd.Series(unaware_y_preds, index=y_test.index),\n",
    "    y=y_test,\n",
    "    description=\"fairness-unaware prediction on test data:\"\n",
    ")\n",
    "plt.show()"
   ]
  },
  {
   "cell_type": "code",
   "execution_count": null,
   "id": "discrete-rabbit",
   "metadata": {},
   "outputs": [],
   "source": []
  },
  {
   "cell_type": "code",
   "execution_count": 77,
   "id": "forty-mathematics",
   "metadata": {},
   "outputs": [],
   "source": [
    "# Correlating factors to race"
   ]
  },
  {
   "cell_type": "code",
   "execution_count": 78,
   "id": "earlier-adolescent",
   "metadata": {},
   "outputs": [
    {
     "data": {
      "text/plain": [
       "age              -0.179095\n",
       "juv_count         0.111835\n",
       "two_year_recid    0.131200\n",
       "priors_count      0.202897\n",
       "dtype: float64"
      ]
     },
     "execution_count": 78,
     "metadata": {},
     "output_type": "execute_result"
    }
   ],
   "source": [
    "compas_df.corrwith(compas_df['race'] == 'African-American').sort_values()"
   ]
  },
  {
   "cell_type": "code",
   "execution_count": 79,
   "id": "special-munich",
   "metadata": {},
   "outputs": [
    {
     "data": {
      "text/html": [
       "<div>\n",
       "<style scoped>\n",
       "    .dataframe tbody tr th:only-of-type {\n",
       "        vertical-align: middle;\n",
       "    }\n",
       "\n",
       "    .dataframe tbody tr th {\n",
       "        vertical-align: top;\n",
       "    }\n",
       "\n",
       "    .dataframe thead th {\n",
       "        text-align: right;\n",
       "    }\n",
       "</style>\n",
       "<table border=\"1\" class=\"dataframe\">\n",
       "  <thead>\n",
       "    <tr style=\"text-align: right;\">\n",
       "      <th></th>\n",
       "      <th>count</th>\n",
       "      <th>mean</th>\n",
       "      <th>std</th>\n",
       "      <th>min</th>\n",
       "      <th>25%</th>\n",
       "      <th>50%</th>\n",
       "      <th>75%</th>\n",
       "      <th>max</th>\n",
       "    </tr>\n",
       "    <tr>\n",
       "      <th>race</th>\n",
       "      <th></th>\n",
       "      <th></th>\n",
       "      <th></th>\n",
       "      <th></th>\n",
       "      <th></th>\n",
       "      <th></th>\n",
       "      <th></th>\n",
       "      <th></th>\n",
       "    </tr>\n",
       "  </thead>\n",
       "  <tbody>\n",
       "    <tr>\n",
       "      <th>African-American</th>\n",
       "      <td>3696.0</td>\n",
       "      <td>4.438853</td>\n",
       "      <td>5.579835</td>\n",
       "      <td>0.0</td>\n",
       "      <td>1.0</td>\n",
       "      <td>2.0</td>\n",
       "      <td>6.0</td>\n",
       "      <td>38.0</td>\n",
       "    </tr>\n",
       "    <tr>\n",
       "      <th>Caucasian</th>\n",
       "      <td>2454.0</td>\n",
       "      <td>2.586797</td>\n",
       "      <td>3.798803</td>\n",
       "      <td>0.0</td>\n",
       "      <td>0.0</td>\n",
       "      <td>1.0</td>\n",
       "      <td>3.0</td>\n",
       "      <td>36.0</td>\n",
       "    </tr>\n",
       "    <tr>\n",
       "      <th>Hispanic</th>\n",
       "      <td>637.0</td>\n",
       "      <td>2.252747</td>\n",
       "      <td>3.647673</td>\n",
       "      <td>0.0</td>\n",
       "      <td>0.0</td>\n",
       "      <td>1.0</td>\n",
       "      <td>2.0</td>\n",
       "      <td>26.0</td>\n",
       "    </tr>\n",
       "    <tr>\n",
       "      <th>Other</th>\n",
       "      <td>427.0</td>\n",
       "      <td>2.016393</td>\n",
       "      <td>3.695856</td>\n",
       "      <td>0.0</td>\n",
       "      <td>0.0</td>\n",
       "      <td>1.0</td>\n",
       "      <td>2.5</td>\n",
       "      <td>31.0</td>\n",
       "    </tr>\n",
       "  </tbody>\n",
       "</table>\n",
       "</div>"
      ],
      "text/plain": [
       "                   count      mean       std  min  25%  50%  75%   max\n",
       "race                                                                  \n",
       "African-American  3696.0  4.438853  5.579835  0.0  1.0  2.0  6.0  38.0\n",
       "Caucasian         2454.0  2.586797  3.798803  0.0  0.0  1.0  3.0  36.0\n",
       "Hispanic           637.0  2.252747  3.647673  0.0  0.0  1.0  2.0  26.0\n",
       "Other              427.0  2.016393  3.695856  0.0  0.0  1.0  2.5  31.0"
      ]
     },
     "execution_count": 79,
     "metadata": {},
     "output_type": "execute_result"
    },
    {
     "data": {
      "image/png": "[encoded data removed]",
      "text/plain": [
       "<Figure size 1440x360 with 1 Axes>"
      ]
     },
     "metadata": {
      "needs_background": "light"
     },
     "output_type": "display_data"
    }
   ],
   "source": [
    "# Priors is extremely skewed by looking at the differences in mean/median/std across the racial categories\n",
    "compas_df.groupby('race')['priors_count'].plot(\n",
    "    figsize=(20,5), \n",
    "    kind='hist', xlabel='Count of Priors', title='Histogram of Priors'\n",
    ")\n",
    "compas_df.groupby('race')['priors_count'].describe()"
   ]
  },
  {
   "cell_type": "code",
   "execution_count": 80,
   "id": "passing-allowance",
   "metadata": {},
   "outputs": [
    {
     "data": {
      "text/html": [
       "<div>\n",
       "<style scoped>\n",
       "    .dataframe tbody tr th:only-of-type {\n",
       "        vertical-align: middle;\n",
       "    }\n",
       "\n",
       "    .dataframe tbody tr th {\n",
       "        vertical-align: top;\n",
       "    }\n",
       "\n",
       "    .dataframe thead th {\n",
       "        text-align: right;\n",
       "    }\n",
       "</style>\n",
       "<table border=\"1\" class=\"dataframe\">\n",
       "  <thead>\n",
       "    <tr style=\"text-align: right;\">\n",
       "      <th></th>\n",
       "      <th>count</th>\n",
       "      <th>mean</th>\n",
       "      <th>std</th>\n",
       "      <th>min</th>\n",
       "      <th>25%</th>\n",
       "      <th>50%</th>\n",
       "      <th>75%</th>\n",
       "      <th>max</th>\n",
       "    </tr>\n",
       "    <tr>\n",
       "      <th>race</th>\n",
       "      <th></th>\n",
       "      <th></th>\n",
       "      <th></th>\n",
       "      <th></th>\n",
       "      <th></th>\n",
       "      <th></th>\n",
       "      <th></th>\n",
       "      <th></th>\n",
       "    </tr>\n",
       "  </thead>\n",
       "  <tbody>\n",
       "    <tr>\n",
       "      <th>African-American</th>\n",
       "      <td>3696.0</td>\n",
       "      <td>32.740801</td>\n",
       "      <td>10.858391</td>\n",
       "      <td>18.0</td>\n",
       "      <td>25.0</td>\n",
       "      <td>30.0</td>\n",
       "      <td>38.00</td>\n",
       "      <td>77.0</td>\n",
       "    </tr>\n",
       "    <tr>\n",
       "      <th>Caucasian</th>\n",
       "      <td>2454.0</td>\n",
       "      <td>37.726569</td>\n",
       "      <td>12.761373</td>\n",
       "      <td>18.0</td>\n",
       "      <td>27.0</td>\n",
       "      <td>35.0</td>\n",
       "      <td>47.75</td>\n",
       "      <td>83.0</td>\n",
       "    </tr>\n",
       "    <tr>\n",
       "      <th>Hispanic</th>\n",
       "      <td>637.0</td>\n",
       "      <td>35.455259</td>\n",
       "      <td>11.877783</td>\n",
       "      <td>19.0</td>\n",
       "      <td>26.0</td>\n",
       "      <td>33.0</td>\n",
       "      <td>43.00</td>\n",
       "      <td>96.0</td>\n",
       "    </tr>\n",
       "    <tr>\n",
       "      <th>Other</th>\n",
       "      <td>427.0</td>\n",
       "      <td>35.131148</td>\n",
       "      <td>11.634159</td>\n",
       "      <td>19.0</td>\n",
       "      <td>25.0</td>\n",
       "      <td>33.0</td>\n",
       "      <td>43.00</td>\n",
       "      <td>76.0</td>\n",
       "    </tr>\n",
       "  </tbody>\n",
       "</table>\n",
       "</div>"
      ],
      "text/plain": [
       "                   count       mean        std   min   25%   50%    75%   max\n",
       "race                                                                         \n",
       "African-American  3696.0  32.740801  10.858391  18.0  25.0  30.0  38.00  77.0\n",
       "Caucasian         2454.0  37.726569  12.761373  18.0  27.0  35.0  47.75  83.0\n",
       "Hispanic           637.0  35.455259  11.877783  19.0  26.0  33.0  43.00  96.0\n",
       "Other              427.0  35.131148  11.634159  19.0  25.0  33.0  43.00  76.0"
      ]
     },
     "execution_count": 80,
     "metadata": {},
     "output_type": "execute_result"
    },
    {
     "data": {
      "image/png": "[encoded data removed]",
      "text/plain": [
       "<Figure size 1440x360 with 1 Axes>"
      ]
     },
     "metadata": {
      "needs_background": "light"
     },
     "output_type": "display_data"
    }
   ],
   "source": [
    "# Age is not very skewed\n",
    "compas_df.groupby('race')['age'].plot(\n",
    "    figsize=(20,5), \n",
    "    kind='hist', xlabel='Age', title='Histogram of Age'\n",
    ")\n",
    "compas_df.groupby('race')['age'].describe()"
   ]
  },
  {
   "cell_type": "code",
   "execution_count": 81,
   "id": "compound-collapse",
   "metadata": {},
   "outputs": [],
   "source": [
    "# https://towardsdatascience.com/ai-fairness-explanation-of-disparate-impact-remover-ce0da59451f1"
   ]
  },
  {
   "cell_type": "code",
   "execution_count": null,
   "id": "vital-pricing",
   "metadata": {},
   "outputs": [],
   "source": []
  },
  {
   "cell_type": "code",
   "execution_count": 82,
   "id": "stainless-going",
   "metadata": {},
   "outputs": [],
   "source": [
    "from sklearn.preprocessing import PowerTransformer\n",
    "from sklearn.base import BaseEstimator, TransformerMixin\n",
    "\n",
    "class NormalizeColumnByLabel(BaseEstimator, TransformerMixin):\n",
    "    def __init__(self, col, label):\n",
    "        self.col = col\n",
    "        self.label = label\n",
    "        self.transformers = {}\n",
    "        \n",
    "    def fit(self, X, y=None):\n",
    "        for group in X[self.label].unique():\n",
    "            self.transformers[group] = PowerTransformer(\n",
    "                method='yeo-johnson', standardize=True\n",
    "            )\n",
    "            self.transformers[group].fit(\n",
    "                X.loc[X[self.label]==group][self.col].values.reshape(-1, 1)\n",
    "            )\n",
    "        return self\n",
    "    \n",
    "    def transform(self, X, y=None):\n",
    "        C = X.copy()\n",
    "        for group in X[self.label].unique():\n",
    "            C.loc[X[self.label]==group, self.col] = self.transformers[group].transform(\n",
    "                X.loc[X[self.label]==group][self.col].values.reshape(-1, 1)\n",
    "            )\n",
    "        return C"
   ]
  },
  {
   "cell_type": "code",
   "execution_count": 83,
   "id": "considerable-kennedy",
   "metadata": {},
   "outputs": [
    {
     "data": {
      "text/html": [
       "<div>\n",
       "<style scoped>\n",
       "    .dataframe tbody tr th:only-of-type {\n",
       "        vertical-align: middle;\n",
       "    }\n",
       "\n",
       "    .dataframe tbody tr th {\n",
       "        vertical-align: top;\n",
       "    }\n",
       "\n",
       "    .dataframe thead th {\n",
       "        text-align: right;\n",
       "    }\n",
       "</style>\n",
       "<table border=\"1\" class=\"dataframe\">\n",
       "  <thead>\n",
       "    <tr style=\"text-align: right;\">\n",
       "      <th></th>\n",
       "      <th>count</th>\n",
       "      <th>mean</th>\n",
       "      <th>std</th>\n",
       "      <th>min</th>\n",
       "      <th>25%</th>\n",
       "      <th>50%</th>\n",
       "      <th>75%</th>\n",
       "      <th>max</th>\n",
       "    </tr>\n",
       "    <tr>\n",
       "      <th>race</th>\n",
       "      <th></th>\n",
       "      <th></th>\n",
       "      <th></th>\n",
       "      <th></th>\n",
       "      <th></th>\n",
       "      <th></th>\n",
       "      <th></th>\n",
       "      <th></th>\n",
       "    </tr>\n",
       "  </thead>\n",
       "  <tbody>\n",
       "    <tr>\n",
       "      <th>African-American</th>\n",
       "      <td>2604.0</td>\n",
       "      <td>-8.868141e-17</td>\n",
       "      <td>1.000192</td>\n",
       "      <td>-1.394037</td>\n",
       "      <td>-0.549932</td>\n",
       "      <td>-0.092417</td>\n",
       "      <td>0.784661</td>\n",
       "      <td>2.276224</td>\n",
       "    </tr>\n",
       "    <tr>\n",
       "      <th>Caucasian</th>\n",
       "      <td>1700.0</td>\n",
       "      <td>-1.347941e-16</td>\n",
       "      <td>1.000294</td>\n",
       "      <td>-1.190914</td>\n",
       "      <td>-1.190914</td>\n",
       "      <td>-0.104396</td>\n",
       "      <td>0.733866</td>\n",
       "      <td>2.293665</td>\n",
       "    </tr>\n",
       "    <tr>\n",
       "      <th>Hispanic</th>\n",
       "      <td>457.0</td>\n",
       "      <td>-9.911838e-17</td>\n",
       "      <td>1.001096</td>\n",
       "      <td>-1.124116</td>\n",
       "      <td>-1.124116</td>\n",
       "      <td>0.098333</td>\n",
       "      <td>0.620238</td>\n",
       "      <td>2.060623</td>\n",
       "    </tr>\n",
       "    <tr>\n",
       "      <th>Other</th>\n",
       "      <td>288.0</td>\n",
       "      <td>1.572816e-16</td>\n",
       "      <td>1.001741</td>\n",
       "      <td>-0.921525</td>\n",
       "      <td>-0.921525</td>\n",
       "      <td>-0.921525</td>\n",
       "      <td>0.878567</td>\n",
       "      <td>1.871600</td>\n",
       "    </tr>\n",
       "  </tbody>\n",
       "</table>\n",
       "</div>"
      ],
      "text/plain": [
       "                   count          mean       std       min       25%  \\\n",
       "race                                                                   \n",
       "African-American  2604.0 -8.868141e-17  1.000192 -1.394037 -0.549932   \n",
       "Caucasian         1700.0 -1.347941e-16  1.000294 -1.190914 -1.190914   \n",
       "Hispanic           457.0 -9.911838e-17  1.001096 -1.124116 -1.124116   \n",
       "Other              288.0  1.572816e-16  1.001741 -0.921525 -0.921525   \n",
       "\n",
       "                       50%       75%       max  \n",
       "race                                            \n",
       "African-American -0.092417  0.784661  2.276224  \n",
       "Caucasian        -0.104396  0.733866  2.293665  \n",
       "Hispanic          0.098333  0.620238  2.060623  \n",
       "Other            -0.921525  0.878567  1.871600  "
      ]
     },
     "execution_count": 83,
     "metadata": {},
     "output_type": "execute_result"
    },
    {
     "data": {
      "image/png": "[encoded data removed]",
      "text/plain": [
       "<Figure size 1440x360 with 1 Axes>"
      ]
     },
     "metadata": {
      "needs_background": "light"
     },
     "output_type": "display_data"
    }
   ],
   "source": [
    "n = NormalizeColumnByLabel(col='priors_count', label='race')\n",
    "\n",
    "X_train_normalized = n.fit_transform(X_train, y_train)\n",
    "\n",
    "X_train_normalized.groupby('race')['priors_count'].plot(\n",
    "    figsize=(20,5), \n",
    "    kind='hist', xlabel='Priors', title='Modified Histogram of Priors'\n",
    ")\n",
    "X_train_normalized.groupby('race')['priors_count'].describe()"
   ]
  },
  {
   "cell_type": "code",
   "execution_count": null,
   "id": "previous-temperature",
   "metadata": {},
   "outputs": [],
   "source": []
  },
  {
   "cell_type": "code",
   "execution_count": null,
   "id": "economic-belize",
   "metadata": {},
   "outputs": [],
   "source": []
  },
  {
   "cell_type": "code",
   "execution_count": 84,
   "id": "monetary-pathology",
   "metadata": {},
   "outputs": [],
   "source": [
    "clf_tree_aware = Pipeline(steps=[\n",
    "    ('normalize_priors', NormalizeColumnByLabel(col='priors_count', label='race')),\n",
    "    ('preprocessor', preprocessor),\n",
    "    ('classifier', classifier)\n",
    "])\n",
    "\n",
    "clf_tree_aware.fit(X_train, y_train)\n",
    "\n",
    "aware_y_preds = clf_tree_aware.predict(X_test)"
   ]
  },
  {
   "cell_type": "code",
   "execution_count": 85,
   "id": "metric-cloud",
   "metadata": {},
   "outputs": [
    {
     "name": "stdout",
     "output_type": "stream",
     "text": [
      "              precision    recall  f1-score   support\n",
      "\n",
      "           0       0.67      0.73      0.70      1189\n",
      "           1       0.63      0.56      0.59       976\n",
      "\n",
      "    accuracy                           0.66      2165\n",
      "   macro avg       0.65      0.65      0.65      2165\n",
      "weighted avg       0.65      0.66      0.65      2165\n",
      "\n"
     ]
    }
   ],
   "source": [
    "print(classification_report(y_true=y_test, y_pred=aware_y_preds))"
   ]
  },
  {
   "cell_type": "code",
   "execution_count": 86,
   "id": "endangered-european",
   "metadata": {},
   "outputs": [
    {
     "name": "stderr",
     "output_type": "stream",
     "text": [
      "/opt/homebrew/Caskroom/miniforge/base/envs/pytorch_env/lib/python3.9/site-packages/dalex/model_explanations/_model_performance/utils.py:33: FutureWarning:\n",
      "\n",
      "The series.append method is deprecated and will be removed from pandas in a future version. Use pandas.concat instead.\n",
      "\n",
      "/opt/homebrew/Caskroom/miniforge/base/envs/pytorch_env/lib/python3.9/site-packages/dalex/model_explanations/_model_performance/utils.py:34: FutureWarning:\n",
      "\n",
      "The series.append method is deprecated and will be removed from pandas in a future version. Use pandas.concat instead.\n",
      "\n",
      "/opt/homebrew/Caskroom/miniforge/base/envs/pytorch_env/lib/python3.9/site-packages/dalex/model_explanations/_model_performance/utils.py:33: FutureWarning:\n",
      "\n",
      "The series.append method is deprecated and will be removed from pandas in a future version. Use pandas.concat instead.\n",
      "\n",
      "/opt/homebrew/Caskroom/miniforge/base/envs/pytorch_env/lib/python3.9/site-packages/dalex/model_explanations/_model_performance/utils.py:34: FutureWarning:\n",
      "\n",
      "The series.append method is deprecated and will be removed from pandas in a future version. Use pandas.concat instead.\n",
      "\n"
     ]
    },
    {
     "data": {
      "text/html": [
       "<div>\n",
       "<style scoped>\n",
       "    .dataframe tbody tr th:only-of-type {\n",
       "        vertical-align: middle;\n",
       "    }\n",
       "\n",
       "    .dataframe tbody tr th {\n",
       "        vertical-align: top;\n",
       "    }\n",
       "\n",
       "    .dataframe thead th {\n",
       "        text-align: right;\n",
       "    }\n",
       "</style>\n",
       "<table border=\"1\" class=\"dataframe\">\n",
       "  <thead>\n",
       "    <tr style=\"text-align: right;\">\n",
       "      <th></th>\n",
       "      <th>recall</th>\n",
       "      <th>precision</th>\n",
       "      <th>f1</th>\n",
       "      <th>accuracy</th>\n",
       "      <th>auc</th>\n",
       "    </tr>\n",
       "  </thead>\n",
       "  <tbody>\n",
       "    <tr>\n",
       "      <th>Random Forest Bias Unaware</th>\n",
       "      <td>0.560451</td>\n",
       "      <td>0.628736</td>\n",
       "      <td>0.592633</td>\n",
       "      <td>0.652656</td>\n",
       "      <td>0.693930</td>\n",
       "    </tr>\n",
       "    <tr>\n",
       "      <th>Random Forest DIR</th>\n",
       "      <td>0.560451</td>\n",
       "      <td>0.633835</td>\n",
       "      <td>0.594889</td>\n",
       "      <td>0.655889</td>\n",
       "      <td>0.694199</td>\n",
       "    </tr>\n",
       "  </tbody>\n",
       "</table>\n",
       "</div>"
      ],
      "text/plain": [
       "                              recall  precision        f1  accuracy       auc\n",
       "Random Forest Bias Unaware  0.560451   0.628736  0.592633  0.652656  0.693930\n",
       "Random Forest DIR           0.560451   0.633835  0.594889  0.655889  0.694199"
      ]
     },
     "execution_count": 86,
     "metadata": {},
     "output_type": "execute_result"
    }
   ],
   "source": [
    "exp_tree_aware = dx.Explainer(clf_tree_aware, X_test, y_test, label='Random Forest DIR', verbose=False)\n",
    "mf_tree_aware = exp_tree_aware.model_fairness(protected=race_test, privileged = \"Caucasian\")\n",
    "\n",
    "# performance is virtually unchanged overall\n",
    "pd.concat([exp.model_performance().result for exp in [exp_tree, exp_tree_aware]])"
   ]
  },
  {
   "cell_type": "code",
   "execution_count": null,
   "id": "comic-tribute",
   "metadata": {},
   "outputs": [],
   "source": []
  },
  {
   "cell_type": "code",
   "execution_count": 87,
   "id": "british-solomon",
   "metadata": {},
   "outputs": [
    {
     "name": "stderr",
     "output_type": "stream",
     "text": [
      "/opt/homebrew/Caskroom/miniforge/base/envs/pytorch_env/lib/python3.9/site-packages/dalex/model_explanations/_model_performance/utils.py:33: FutureWarning:\n",
      "\n",
      "The series.append method is deprecated and will be removed from pandas in a future version. Use pandas.concat instead.\n",
      "\n",
      "/opt/homebrew/Caskroom/miniforge/base/envs/pytorch_env/lib/python3.9/site-packages/dalex/model_explanations/_model_performance/utils.py:34: FutureWarning:\n",
      "\n",
      "The series.append method is deprecated and will be removed from pandas in a future version. Use pandas.concat instead.\n",
      "\n",
      "/opt/homebrew/Caskroom/miniforge/base/envs/pytorch_env/lib/python3.9/site-packages/dalex/model_explanations/_model_performance/utils.py:33: FutureWarning:\n",
      "\n",
      "The series.append method is deprecated and will be removed from pandas in a future version. Use pandas.concat instead.\n",
      "\n",
      "/opt/homebrew/Caskroom/miniforge/base/envs/pytorch_env/lib/python3.9/site-packages/dalex/model_explanations/_model_performance/utils.py:34: FutureWarning:\n",
      "\n",
      "The series.append method is deprecated and will be removed from pandas in a future version. Use pandas.concat instead.\n",
      "\n",
      "/opt/homebrew/Caskroom/miniforge/base/envs/pytorch_env/lib/python3.9/site-packages/dalex/model_explanations/_model_performance/utils.py:33: FutureWarning:\n",
      "\n",
      "The series.append method is deprecated and will be removed from pandas in a future version. Use pandas.concat instead.\n",
      "\n",
      "/opt/homebrew/Caskroom/miniforge/base/envs/pytorch_env/lib/python3.9/site-packages/dalex/model_explanations/_model_performance/utils.py:34: FutureWarning:\n",
      "\n",
      "The series.append method is deprecated and will be removed from pandas in a future version. Use pandas.concat instead.\n",
      "\n",
      "/opt/homebrew/Caskroom/miniforge/base/envs/pytorch_env/lib/python3.9/site-packages/dalex/model_explanations/_model_performance/utils.py:33: FutureWarning:\n",
      "\n",
      "The series.append method is deprecated and will be removed from pandas in a future version. Use pandas.concat instead.\n",
      "\n",
      "/opt/homebrew/Caskroom/miniforge/base/envs/pytorch_env/lib/python3.9/site-packages/dalex/model_explanations/_model_performance/utils.py:34: FutureWarning:\n",
      "\n",
      "The series.append method is deprecated and will be removed from pandas in a future version. Use pandas.concat instead.\n",
      "\n",
      "/opt/homebrew/Caskroom/miniforge/base/envs/pytorch_env/lib/python3.9/site-packages/dalex/model_explanations/_model_performance/utils.py:33: FutureWarning:\n",
      "\n",
      "The series.append method is deprecated and will be removed from pandas in a future version. Use pandas.concat instead.\n",
      "\n",
      "/opt/homebrew/Caskroom/miniforge/base/envs/pytorch_env/lib/python3.9/site-packages/dalex/model_explanations/_model_performance/utils.py:34: FutureWarning:\n",
      "\n",
      "The series.append method is deprecated and will be removed from pandas in a future version. Use pandas.concat instead.\n",
      "\n",
      "/opt/homebrew/Caskroom/miniforge/base/envs/pytorch_env/lib/python3.9/site-packages/dalex/model_explanations/_model_performance/utils.py:33: FutureWarning:\n",
      "\n",
      "The series.append method is deprecated and will be removed from pandas in a future version. Use pandas.concat instead.\n",
      "\n",
      "/opt/homebrew/Caskroom/miniforge/base/envs/pytorch_env/lib/python3.9/site-packages/dalex/model_explanations/_model_performance/utils.py:34: FutureWarning:\n",
      "\n",
      "The series.append method is deprecated and will be removed from pandas in a future version. Use pandas.concat instead.\n",
      "\n",
      "/opt/homebrew/Caskroom/miniforge/base/envs/pytorch_env/lib/python3.9/site-packages/dalex/model_explanations/_model_performance/utils.py:33: FutureWarning:\n",
      "\n",
      "The series.append method is deprecated and will be removed from pandas in a future version. Use pandas.concat instead.\n",
      "\n",
      "/opt/homebrew/Caskroom/miniforge/base/envs/pytorch_env/lib/python3.9/site-packages/dalex/model_explanations/_model_performance/utils.py:34: FutureWarning:\n",
      "\n",
      "The series.append method is deprecated and will be removed from pandas in a future version. Use pandas.concat instead.\n",
      "\n",
      "/opt/homebrew/Caskroom/miniforge/base/envs/pytorch_env/lib/python3.9/site-packages/dalex/model_explanations/_model_performance/utils.py:33: FutureWarning:\n",
      "\n",
      "The series.append method is deprecated and will be removed from pandas in a future version. Use pandas.concat instead.\n",
      "\n",
      "/opt/homebrew/Caskroom/miniforge/base/envs/pytorch_env/lib/python3.9/site-packages/dalex/model_explanations/_model_performance/utils.py:34: FutureWarning:\n",
      "\n",
      "The series.append method is deprecated and will be removed from pandas in a future version. Use pandas.concat instead.\n",
      "\n",
      "/opt/homebrew/Caskroom/miniforge/base/envs/pytorch_env/lib/python3.9/site-packages/dalex/model_explanations/_model_performance/utils.py:33: FutureWarning:\n",
      "\n",
      "The series.append method is deprecated and will be removed from pandas in a future version. Use pandas.concat instead.\n",
      "\n",
      "/opt/homebrew/Caskroom/miniforge/base/envs/pytorch_env/lib/python3.9/site-packages/dalex/model_explanations/_model_performance/utils.py:34: FutureWarning:\n",
      "\n",
      "The series.append method is deprecated and will be removed from pandas in a future version. Use pandas.concat instead.\n",
      "\n",
      "/opt/homebrew/Caskroom/miniforge/base/envs/pytorch_env/lib/python3.9/site-packages/dalex/model_explanations/_model_performance/utils.py:33: FutureWarning:\n",
      "\n",
      "The series.append method is deprecated and will be removed from pandas in a future version. Use pandas.concat instead.\n",
      "\n",
      "/opt/homebrew/Caskroom/miniforge/base/envs/pytorch_env/lib/python3.9/site-packages/dalex/model_explanations/_model_performance/utils.py:34: FutureWarning:\n",
      "\n",
      "The series.append method is deprecated and will be removed from pandas in a future version. Use pandas.concat instead.\n",
      "\n",
      "/opt/homebrew/Caskroom/miniforge/base/envs/pytorch_env/lib/python3.9/site-packages/dalex/model_explanations/_model_performance/utils.py:33: FutureWarning:\n",
      "\n",
      "The series.append method is deprecated and will be removed from pandas in a future version. Use pandas.concat instead.\n",
      "\n",
      "/opt/homebrew/Caskroom/miniforge/base/envs/pytorch_env/lib/python3.9/site-packages/dalex/model_explanations/_model_performance/utils.py:34: FutureWarning:\n",
      "\n",
      "The series.append method is deprecated and will be removed from pandas in a future version. Use pandas.concat instead.\n",
      "\n",
      "/opt/homebrew/Caskroom/miniforge/base/envs/pytorch_env/lib/python3.9/site-packages/dalex/model_explanations/_model_performance/utils.py:33: FutureWarning:\n",
      "\n",
      "The series.append method is deprecated and will be removed from pandas in a future version. Use pandas.concat instead.\n",
      "\n",
      "/opt/homebrew/Caskroom/miniforge/base/envs/pytorch_env/lib/python3.9/site-packages/dalex/model_explanations/_model_performance/utils.py:34: FutureWarning:\n",
      "\n",
      "The series.append method is deprecated and will be removed from pandas in a future version. Use pandas.concat instead.\n",
      "\n",
      "/opt/homebrew/Caskroom/miniforge/base/envs/pytorch_env/lib/python3.9/site-packages/dalex/model_explanations/_model_performance/utils.py:33: FutureWarning:\n",
      "\n",
      "The series.append method is deprecated and will be removed from pandas in a future version. Use pandas.concat instead.\n",
      "\n",
      "/opt/homebrew/Caskroom/miniforge/base/envs/pytorch_env/lib/python3.9/site-packages/dalex/model_explanations/_model_performance/utils.py:34: FutureWarning:\n",
      "\n",
      "The series.append method is deprecated and will be removed from pandas in a future version. Use pandas.concat instead.\n",
      "\n",
      "/opt/homebrew/Caskroom/miniforge/base/envs/pytorch_env/lib/python3.9/site-packages/dalex/model_explanations/_model_performance/utils.py:33: FutureWarning:\n",
      "\n",
      "The series.append method is deprecated and will be removed from pandas in a future version. Use pandas.concat instead.\n",
      "\n",
      "/opt/homebrew/Caskroom/miniforge/base/envs/pytorch_env/lib/python3.9/site-packages/dalex/model_explanations/_model_performance/utils.py:34: FutureWarning:\n",
      "\n",
      "The series.append method is deprecated and will be removed from pandas in a future version. Use pandas.concat instead.\n",
      "\n",
      "/opt/homebrew/Caskroom/miniforge/base/envs/pytorch_env/lib/python3.9/site-packages/dalex/model_explanations/_model_performance/utils.py:33: FutureWarning:\n",
      "\n",
      "The series.append method is deprecated and will be removed from pandas in a future version. Use pandas.concat instead.\n",
      "\n",
      "/opt/homebrew/Caskroom/miniforge/base/envs/pytorch_env/lib/python3.9/site-packages/dalex/model_explanations/_model_performance/utils.py:34: FutureWarning:\n",
      "\n",
      "The series.append method is deprecated and will be removed from pandas in a future version. Use pandas.concat instead.\n",
      "\n",
      "/opt/homebrew/Caskroom/miniforge/base/envs/pytorch_env/lib/python3.9/site-packages/dalex/model_explanations/_model_performance/utils.py:33: FutureWarning:\n",
      "\n",
      "The series.append method is deprecated and will be removed from pandas in a future version. Use pandas.concat instead.\n",
      "\n",
      "/opt/homebrew/Caskroom/miniforge/base/envs/pytorch_env/lib/python3.9/site-packages/dalex/model_explanations/_model_performance/utils.py:34: FutureWarning:\n",
      "\n",
      "The series.append method is deprecated and will be removed from pandas in a future version. Use pandas.concat instead.\n",
      "\n"
     ]
    },
    {
     "name": "stderr",
     "output_type": "stream",
     "text": [
      "/opt/homebrew/Caskroom/miniforge/base/envs/pytorch_env/lib/python3.9/site-packages/dalex/model_explanations/_model_performance/utils.py:33: FutureWarning:\n",
      "\n",
      "The series.append method is deprecated and will be removed from pandas in a future version. Use pandas.concat instead.\n",
      "\n",
      "/opt/homebrew/Caskroom/miniforge/base/envs/pytorch_env/lib/python3.9/site-packages/dalex/model_explanations/_model_performance/utils.py:34: FutureWarning:\n",
      "\n",
      "The series.append method is deprecated and will be removed from pandas in a future version. Use pandas.concat instead.\n",
      "\n",
      "/opt/homebrew/Caskroom/miniforge/base/envs/pytorch_env/lib/python3.9/site-packages/dalex/model_explanations/_model_performance/utils.py:33: FutureWarning:\n",
      "\n",
      "The series.append method is deprecated and will be removed from pandas in a future version. Use pandas.concat instead.\n",
      "\n",
      "/opt/homebrew/Caskroom/miniforge/base/envs/pytorch_env/lib/python3.9/site-packages/dalex/model_explanations/_model_performance/utils.py:34: FutureWarning:\n",
      "\n",
      "The series.append method is deprecated and will be removed from pandas in a future version. Use pandas.concat instead.\n",
      "\n",
      "/opt/homebrew/Caskroom/miniforge/base/envs/pytorch_env/lib/python3.9/site-packages/dalex/model_explanations/_model_performance/utils.py:33: FutureWarning:\n",
      "\n",
      "The series.append method is deprecated and will be removed from pandas in a future version. Use pandas.concat instead.\n",
      "\n",
      "/opt/homebrew/Caskroom/miniforge/base/envs/pytorch_env/lib/python3.9/site-packages/dalex/model_explanations/_model_performance/utils.py:34: FutureWarning:\n",
      "\n",
      "The series.append method is deprecated and will be removed from pandas in a future version. Use pandas.concat instead.\n",
      "\n",
      "/opt/homebrew/Caskroom/miniforge/base/envs/pytorch_env/lib/python3.9/site-packages/dalex/model_explanations/_model_performance/utils.py:33: FutureWarning:\n",
      "\n",
      "The series.append method is deprecated and will be removed from pandas in a future version. Use pandas.concat instead.\n",
      "\n",
      "/opt/homebrew/Caskroom/miniforge/base/envs/pytorch_env/lib/python3.9/site-packages/dalex/model_explanations/_model_performance/utils.py:34: FutureWarning:\n",
      "\n",
      "The series.append method is deprecated and will be removed from pandas in a future version. Use pandas.concat instead.\n",
      "\n",
      "/opt/homebrew/Caskroom/miniforge/base/envs/pytorch_env/lib/python3.9/site-packages/dalex/model_explanations/_model_performance/utils.py:33: FutureWarning:\n",
      "\n",
      "The series.append method is deprecated and will be removed from pandas in a future version. Use pandas.concat instead.\n",
      "\n",
      "/opt/homebrew/Caskroom/miniforge/base/envs/pytorch_env/lib/python3.9/site-packages/dalex/model_explanations/_model_performance/utils.py:34: FutureWarning:\n",
      "\n",
      "The series.append method is deprecated and will be removed from pandas in a future version. Use pandas.concat instead.\n",
      "\n",
      "/opt/homebrew/Caskroom/miniforge/base/envs/pytorch_env/lib/python3.9/site-packages/dalex/model_explanations/_model_performance/utils.py:33: FutureWarning:\n",
      "\n",
      "The series.append method is deprecated and will be removed from pandas in a future version. Use pandas.concat instead.\n",
      "\n",
      "/opt/homebrew/Caskroom/miniforge/base/envs/pytorch_env/lib/python3.9/site-packages/dalex/model_explanations/_model_performance/utils.py:34: FutureWarning:\n",
      "\n",
      "The series.append method is deprecated and will be removed from pandas in a future version. Use pandas.concat instead.\n",
      "\n",
      "/opt/homebrew/Caskroom/miniforge/base/envs/pytorch_env/lib/python3.9/site-packages/dalex/model_explanations/_model_performance/utils.py:33: FutureWarning:\n",
      "\n",
      "The series.append method is deprecated and will be removed from pandas in a future version. Use pandas.concat instead.\n",
      "\n",
      "/opt/homebrew/Caskroom/miniforge/base/envs/pytorch_env/lib/python3.9/site-packages/dalex/model_explanations/_model_performance/utils.py:34: FutureWarning:\n",
      "\n",
      "The series.append method is deprecated and will be removed from pandas in a future version. Use pandas.concat instead.\n",
      "\n",
      "/opt/homebrew/Caskroom/miniforge/base/envs/pytorch_env/lib/python3.9/site-packages/dalex/model_explanations/_model_performance/utils.py:33: FutureWarning:\n",
      "\n",
      "The series.append method is deprecated and will be removed from pandas in a future version. Use pandas.concat instead.\n",
      "\n",
      "/opt/homebrew/Caskroom/miniforge/base/envs/pytorch_env/lib/python3.9/site-packages/dalex/model_explanations/_model_performance/utils.py:34: FutureWarning:\n",
      "\n",
      "The series.append method is deprecated and will be removed from pandas in a future version. Use pandas.concat instead.\n",
      "\n",
      "/opt/homebrew/Caskroom/miniforge/base/envs/pytorch_env/lib/python3.9/site-packages/dalex/model_explanations/_model_performance/utils.py:33: FutureWarning:\n",
      "\n",
      "The series.append method is deprecated and will be removed from pandas in a future version. Use pandas.concat instead.\n",
      "\n",
      "/opt/homebrew/Caskroom/miniforge/base/envs/pytorch_env/lib/python3.9/site-packages/dalex/model_explanations/_model_performance/utils.py:34: FutureWarning:\n",
      "\n",
      "The series.append method is deprecated and will be removed from pandas in a future version. Use pandas.concat instead.\n",
      "\n",
      "/opt/homebrew/Caskroom/miniforge/base/envs/pytorch_env/lib/python3.9/site-packages/dalex/model_explanations/_model_performance/utils.py:33: FutureWarning:\n",
      "\n",
      "The series.append method is deprecated and will be removed from pandas in a future version. Use pandas.concat instead.\n",
      "\n",
      "/opt/homebrew/Caskroom/miniforge/base/envs/pytorch_env/lib/python3.9/site-packages/dalex/model_explanations/_model_performance/utils.py:34: FutureWarning:\n",
      "\n",
      "The series.append method is deprecated and will be removed from pandas in a future version. Use pandas.concat instead.\n",
      "\n",
      "/opt/homebrew/Caskroom/miniforge/base/envs/pytorch_env/lib/python3.9/site-packages/dalex/model_explanations/_model_performance/utils.py:33: FutureWarning:\n",
      "\n",
      "The series.append method is deprecated and will be removed from pandas in a future version. Use pandas.concat instead.\n",
      "\n",
      "/opt/homebrew/Caskroom/miniforge/base/envs/pytorch_env/lib/python3.9/site-packages/dalex/model_explanations/_model_performance/utils.py:34: FutureWarning:\n",
      "\n",
      "The series.append method is deprecated and will be removed from pandas in a future version. Use pandas.concat instead.\n",
      "\n",
      "/opt/homebrew/Caskroom/miniforge/base/envs/pytorch_env/lib/python3.9/site-packages/dalex/model_explanations/_model_performance/utils.py:33: FutureWarning:\n",
      "\n",
      "The series.append method is deprecated and will be removed from pandas in a future version. Use pandas.concat instead.\n",
      "\n",
      "/opt/homebrew/Caskroom/miniforge/base/envs/pytorch_env/lib/python3.9/site-packages/dalex/model_explanations/_model_performance/utils.py:34: FutureWarning:\n",
      "\n",
      "The series.append method is deprecated and will be removed from pandas in a future version. Use pandas.concat instead.\n",
      "\n",
      "/opt/homebrew/Caskroom/miniforge/base/envs/pytorch_env/lib/python3.9/site-packages/dalex/model_explanations/_model_performance/utils.py:33: FutureWarning:\n",
      "\n",
      "The series.append method is deprecated and will be removed from pandas in a future version. Use pandas.concat instead.\n",
      "\n",
      "/opt/homebrew/Caskroom/miniforge/base/envs/pytorch_env/lib/python3.9/site-packages/dalex/model_explanations/_model_performance/utils.py:34: FutureWarning:\n",
      "\n",
      "The series.append method is deprecated and will be removed from pandas in a future version. Use pandas.concat instead.\n",
      "\n",
      "/opt/homebrew/Caskroom/miniforge/base/envs/pytorch_env/lib/python3.9/site-packages/dalex/model_explanations/_model_performance/utils.py:33: FutureWarning:\n",
      "\n",
      "The series.append method is deprecated and will be removed from pandas in a future version. Use pandas.concat instead.\n",
      "\n",
      "/opt/homebrew/Caskroom/miniforge/base/envs/pytorch_env/lib/python3.9/site-packages/dalex/model_explanations/_model_performance/utils.py:34: FutureWarning:\n",
      "\n",
      "The series.append method is deprecated and will be removed from pandas in a future version. Use pandas.concat instead.\n",
      "\n",
      "/opt/homebrew/Caskroom/miniforge/base/envs/pytorch_env/lib/python3.9/site-packages/dalex/model_explanations/_model_performance/utils.py:33: FutureWarning:\n",
      "\n",
      "The series.append method is deprecated and will be removed from pandas in a future version. Use pandas.concat instead.\n",
      "\n",
      "/opt/homebrew/Caskroom/miniforge/base/envs/pytorch_env/lib/python3.9/site-packages/dalex/model_explanations/_model_performance/utils.py:34: FutureWarning:\n",
      "\n",
      "The series.append method is deprecated and will be removed from pandas in a future version. Use pandas.concat instead.\n",
      "\n",
      "/opt/homebrew/Caskroom/miniforge/base/envs/pytorch_env/lib/python3.9/site-packages/dalex/model_explanations/_model_performance/utils.py:33: FutureWarning:\n",
      "\n",
      "The series.append method is deprecated and will be removed from pandas in a future version. Use pandas.concat instead.\n",
      "\n",
      "/opt/homebrew/Caskroom/miniforge/base/envs/pytorch_env/lib/python3.9/site-packages/dalex/model_explanations/_model_performance/utils.py:34: FutureWarning:\n",
      "\n",
      "The series.append method is deprecated and will be removed from pandas in a future version. Use pandas.concat instead.\n",
      "\n",
      "/opt/homebrew/Caskroom/miniforge/base/envs/pytorch_env/lib/python3.9/site-packages/dalex/model_explanations/_model_performance/utils.py:33: FutureWarning:\n",
      "\n",
      "The series.append method is deprecated and will be removed from pandas in a future version. Use pandas.concat instead.\n",
      "\n",
      "/opt/homebrew/Caskroom/miniforge/base/envs/pytorch_env/lib/python3.9/site-packages/dalex/model_explanations/_model_performance/utils.py:34: FutureWarning:\n",
      "\n",
      "The series.append method is deprecated and will be removed from pandas in a future version. Use pandas.concat instead.\n",
      "\n",
      "/opt/homebrew/Caskroom/miniforge/base/envs/pytorch_env/lib/python3.9/site-packages/dalex/model_explanations/_model_performance/utils.py:33: FutureWarning:\n",
      "\n",
      "The series.append method is deprecated and will be removed from pandas in a future version. Use pandas.concat instead.\n",
      "\n"
     ]
    },
    {
     "name": "stderr",
     "output_type": "stream",
     "text": [
      "/opt/homebrew/Caskroom/miniforge/base/envs/pytorch_env/lib/python3.9/site-packages/dalex/model_explanations/_model_performance/utils.py:34: FutureWarning:\n",
      "\n",
      "The series.append method is deprecated and will be removed from pandas in a future version. Use pandas.concat instead.\n",
      "\n",
      "/opt/homebrew/Caskroom/miniforge/base/envs/pytorch_env/lib/python3.9/site-packages/dalex/model_explanations/_model_performance/utils.py:33: FutureWarning:\n",
      "\n",
      "The series.append method is deprecated and will be removed from pandas in a future version. Use pandas.concat instead.\n",
      "\n",
      "/opt/homebrew/Caskroom/miniforge/base/envs/pytorch_env/lib/python3.9/site-packages/dalex/model_explanations/_model_performance/utils.py:34: FutureWarning:\n",
      "\n",
      "The series.append method is deprecated and will be removed from pandas in a future version. Use pandas.concat instead.\n",
      "\n",
      "/opt/homebrew/Caskroom/miniforge/base/envs/pytorch_env/lib/python3.9/site-packages/dalex/model_explanations/_model_performance/utils.py:33: FutureWarning:\n",
      "\n",
      "The series.append method is deprecated and will be removed from pandas in a future version. Use pandas.concat instead.\n",
      "\n",
      "/opt/homebrew/Caskroom/miniforge/base/envs/pytorch_env/lib/python3.9/site-packages/dalex/model_explanations/_model_performance/utils.py:34: FutureWarning:\n",
      "\n",
      "The series.append method is deprecated and will be removed from pandas in a future version. Use pandas.concat instead.\n",
      "\n",
      "/opt/homebrew/Caskroom/miniforge/base/envs/pytorch_env/lib/python3.9/site-packages/dalex/model_explanations/_model_performance/utils.py:33: FutureWarning:\n",
      "\n",
      "The series.append method is deprecated and will be removed from pandas in a future version. Use pandas.concat instead.\n",
      "\n",
      "/opt/homebrew/Caskroom/miniforge/base/envs/pytorch_env/lib/python3.9/site-packages/dalex/model_explanations/_model_performance/utils.py:34: FutureWarning:\n",
      "\n",
      "The series.append method is deprecated and will be removed from pandas in a future version. Use pandas.concat instead.\n",
      "\n",
      "/opt/homebrew/Caskroom/miniforge/base/envs/pytorch_env/lib/python3.9/site-packages/dalex/model_explanations/_model_performance/utils.py:33: FutureWarning:\n",
      "\n",
      "The series.append method is deprecated and will be removed from pandas in a future version. Use pandas.concat instead.\n",
      "\n",
      "/opt/homebrew/Caskroom/miniforge/base/envs/pytorch_env/lib/python3.9/site-packages/dalex/model_explanations/_model_performance/utils.py:34: FutureWarning:\n",
      "\n",
      "The series.append method is deprecated and will be removed from pandas in a future version. Use pandas.concat instead.\n",
      "\n",
      "/opt/homebrew/Caskroom/miniforge/base/envs/pytorch_env/lib/python3.9/site-packages/dalex/model_explanations/_model_performance/utils.py:33: FutureWarning:\n",
      "\n",
      "The series.append method is deprecated and will be removed from pandas in a future version. Use pandas.concat instead.\n",
      "\n",
      "/opt/homebrew/Caskroom/miniforge/base/envs/pytorch_env/lib/python3.9/site-packages/dalex/model_explanations/_model_performance/utils.py:34: FutureWarning:\n",
      "\n",
      "The series.append method is deprecated and will be removed from pandas in a future version. Use pandas.concat instead.\n",
      "\n",
      "/opt/homebrew/Caskroom/miniforge/base/envs/pytorch_env/lib/python3.9/site-packages/dalex/model_explanations/_model_performance/utils.py:33: FutureWarning:\n",
      "\n",
      "The series.append method is deprecated and will be removed from pandas in a future version. Use pandas.concat instead.\n",
      "\n",
      "/opt/homebrew/Caskroom/miniforge/base/envs/pytorch_env/lib/python3.9/site-packages/dalex/model_explanations/_model_performance/utils.py:34: FutureWarning:\n",
      "\n",
      "The series.append method is deprecated and will be removed from pandas in a future version. Use pandas.concat instead.\n",
      "\n",
      "/opt/homebrew/Caskroom/miniforge/base/envs/pytorch_env/lib/python3.9/site-packages/dalex/model_explanations/_model_performance/utils.py:33: FutureWarning:\n",
      "\n",
      "The series.append method is deprecated and will be removed from pandas in a future version. Use pandas.concat instead.\n",
      "\n",
      "/opt/homebrew/Caskroom/miniforge/base/envs/pytorch_env/lib/python3.9/site-packages/dalex/model_explanations/_model_performance/utils.py:34: FutureWarning:\n",
      "\n",
      "The series.append method is deprecated and will be removed from pandas in a future version. Use pandas.concat instead.\n",
      "\n",
      "/opt/homebrew/Caskroom/miniforge/base/envs/pytorch_env/lib/python3.9/site-packages/dalex/model_explanations/_model_performance/utils.py:33: FutureWarning:\n",
      "\n",
      "The series.append method is deprecated and will be removed from pandas in a future version. Use pandas.concat instead.\n",
      "\n",
      "/opt/homebrew/Caskroom/miniforge/base/envs/pytorch_env/lib/python3.9/site-packages/dalex/model_explanations/_model_performance/utils.py:34: FutureWarning:\n",
      "\n",
      "The series.append method is deprecated and will be removed from pandas in a future version. Use pandas.concat instead.\n",
      "\n",
      "/opt/homebrew/Caskroom/miniforge/base/envs/pytorch_env/lib/python3.9/site-packages/dalex/model_explanations/_model_performance/utils.py:33: FutureWarning:\n",
      "\n",
      "The series.append method is deprecated and will be removed from pandas in a future version. Use pandas.concat instead.\n",
      "\n",
      "/opt/homebrew/Caskroom/miniforge/base/envs/pytorch_env/lib/python3.9/site-packages/dalex/model_explanations/_model_performance/utils.py:34: FutureWarning:\n",
      "\n",
      "The series.append method is deprecated and will be removed from pandas in a future version. Use pandas.concat instead.\n",
      "\n",
      "/opt/homebrew/Caskroom/miniforge/base/envs/pytorch_env/lib/python3.9/site-packages/dalex/model_explanations/_model_performance/utils.py:33: FutureWarning:\n",
      "\n",
      "The series.append method is deprecated and will be removed from pandas in a future version. Use pandas.concat instead.\n",
      "\n",
      "/opt/homebrew/Caskroom/miniforge/base/envs/pytorch_env/lib/python3.9/site-packages/dalex/model_explanations/_model_performance/utils.py:34: FutureWarning:\n",
      "\n",
      "The series.append method is deprecated and will be removed from pandas in a future version. Use pandas.concat instead.\n",
      "\n",
      "/opt/homebrew/Caskroom/miniforge/base/envs/pytorch_env/lib/python3.9/site-packages/dalex/model_explanations/_model_performance/utils.py:33: FutureWarning:\n",
      "\n",
      "The series.append method is deprecated and will be removed from pandas in a future version. Use pandas.concat instead.\n",
      "\n",
      "/opt/homebrew/Caskroom/miniforge/base/envs/pytorch_env/lib/python3.9/site-packages/dalex/model_explanations/_model_performance/utils.py:34: FutureWarning:\n",
      "\n",
      "The series.append method is deprecated and will be removed from pandas in a future version. Use pandas.concat instead.\n",
      "\n",
      "/opt/homebrew/Caskroom/miniforge/base/envs/pytorch_env/lib/python3.9/site-packages/dalex/model_explanations/_model_performance/utils.py:33: FutureWarning:\n",
      "\n",
      "The series.append method is deprecated and will be removed from pandas in a future version. Use pandas.concat instead.\n",
      "\n",
      "/opt/homebrew/Caskroom/miniforge/base/envs/pytorch_env/lib/python3.9/site-packages/dalex/model_explanations/_model_performance/utils.py:34: FutureWarning:\n",
      "\n",
      "The series.append method is deprecated and will be removed from pandas in a future version. Use pandas.concat instead.\n",
      "\n",
      "/opt/homebrew/Caskroom/miniforge/base/envs/pytorch_env/lib/python3.9/site-packages/dalex/model_explanations/_model_performance/utils.py:33: FutureWarning:\n",
      "\n",
      "The series.append method is deprecated and will be removed from pandas in a future version. Use pandas.concat instead.\n",
      "\n",
      "/opt/homebrew/Caskroom/miniforge/base/envs/pytorch_env/lib/python3.9/site-packages/dalex/model_explanations/_model_performance/utils.py:34: FutureWarning:\n",
      "\n",
      "The series.append method is deprecated and will be removed from pandas in a future version. Use pandas.concat instead.\n",
      "\n",
      "/opt/homebrew/Caskroom/miniforge/base/envs/pytorch_env/lib/python3.9/site-packages/dalex/model_explanations/_model_performance/utils.py:33: FutureWarning:\n",
      "\n",
      "The series.append method is deprecated and will be removed from pandas in a future version. Use pandas.concat instead.\n",
      "\n",
      "/opt/homebrew/Caskroom/miniforge/base/envs/pytorch_env/lib/python3.9/site-packages/dalex/model_explanations/_model_performance/utils.py:34: FutureWarning:\n",
      "\n",
      "The series.append method is deprecated and will be removed from pandas in a future version. Use pandas.concat instead.\n",
      "\n",
      "/opt/homebrew/Caskroom/miniforge/base/envs/pytorch_env/lib/python3.9/site-packages/dalex/model_explanations/_model_performance/utils.py:33: FutureWarning:\n",
      "\n",
      "The series.append method is deprecated and will be removed from pandas in a future version. Use pandas.concat instead.\n",
      "\n",
      "/opt/homebrew/Caskroom/miniforge/base/envs/pytorch_env/lib/python3.9/site-packages/dalex/model_explanations/_model_performance/utils.py:34: FutureWarning:\n",
      "\n",
      "The series.append method is deprecated and will be removed from pandas in a future version. Use pandas.concat instead.\n",
      "\n",
      "/opt/homebrew/Caskroom/miniforge/base/envs/pytorch_env/lib/python3.9/site-packages/dalex/model_explanations/_model_performance/utils.py:33: FutureWarning:\n",
      "\n",
      "The series.append method is deprecated and will be removed from pandas in a future version. Use pandas.concat instead.\n",
      "\n",
      "/opt/homebrew/Caskroom/miniforge/base/envs/pytorch_env/lib/python3.9/site-packages/dalex/model_explanations/_model_performance/utils.py:34: FutureWarning:\n",
      "\n",
      "The series.append method is deprecated and will be removed from pandas in a future version. Use pandas.concat instead.\n",
      "\n",
      "/opt/homebrew/Caskroom/miniforge/base/envs/pytorch_env/lib/python3.9/site-packages/dalex/model_explanations/_model_performance/utils.py:33: FutureWarning:\n",
      "\n",
      "The series.append method is deprecated and will be removed from pandas in a future version. Use pandas.concat instead.\n",
      "\n",
      "/opt/homebrew/Caskroom/miniforge/base/envs/pytorch_env/lib/python3.9/site-packages/dalex/model_explanations/_model_performance/utils.py:34: FutureWarning:\n",
      "\n",
      "The series.append method is deprecated and will be removed from pandas in a future version. Use pandas.concat instead.\n",
      "\n",
      "/opt/homebrew/Caskroom/miniforge/base/envs/pytorch_env/lib/python3.9/site-packages/dalex/model_explanations/_model_performance/utils.py:33: FutureWarning:\n",
      "\n",
      "The series.append method is deprecated and will be removed from pandas in a future version. Use pandas.concat instead.\n",
      "\n"
     ]
    },
    {
     "name": "stderr",
     "output_type": "stream",
     "text": [
      "/opt/homebrew/Caskroom/miniforge/base/envs/pytorch_env/lib/python3.9/site-packages/dalex/model_explanations/_model_performance/utils.py:34: FutureWarning:\n",
      "\n",
      "The series.append method is deprecated and will be removed from pandas in a future version. Use pandas.concat instead.\n",
      "\n",
      "/opt/homebrew/Caskroom/miniforge/base/envs/pytorch_env/lib/python3.9/site-packages/dalex/model_explanations/_model_performance/utils.py:33: FutureWarning:\n",
      "\n",
      "The series.append method is deprecated and will be removed from pandas in a future version. Use pandas.concat instead.\n",
      "\n",
      "/opt/homebrew/Caskroom/miniforge/base/envs/pytorch_env/lib/python3.9/site-packages/dalex/model_explanations/_model_performance/utils.py:34: FutureWarning:\n",
      "\n",
      "The series.append method is deprecated and will be removed from pandas in a future version. Use pandas.concat instead.\n",
      "\n",
      "/opt/homebrew/Caskroom/miniforge/base/envs/pytorch_env/lib/python3.9/site-packages/dalex/model_explanations/_model_performance/utils.py:33: FutureWarning:\n",
      "\n",
      "The series.append method is deprecated and will be removed from pandas in a future version. Use pandas.concat instead.\n",
      "\n",
      "/opt/homebrew/Caskroom/miniforge/base/envs/pytorch_env/lib/python3.9/site-packages/dalex/model_explanations/_model_performance/utils.py:34: FutureWarning:\n",
      "\n",
      "The series.append method is deprecated and will be removed from pandas in a future version. Use pandas.concat instead.\n",
      "\n",
      "/opt/homebrew/Caskroom/miniforge/base/envs/pytorch_env/lib/python3.9/site-packages/dalex/model_explanations/_model_performance/utils.py:33: FutureWarning:\n",
      "\n",
      "The series.append method is deprecated and will be removed from pandas in a future version. Use pandas.concat instead.\n",
      "\n",
      "/opt/homebrew/Caskroom/miniforge/base/envs/pytorch_env/lib/python3.9/site-packages/dalex/model_explanations/_model_performance/utils.py:34: FutureWarning:\n",
      "\n",
      "The series.append method is deprecated and will be removed from pandas in a future version. Use pandas.concat instead.\n",
      "\n",
      "/opt/homebrew/Caskroom/miniforge/base/envs/pytorch_env/lib/python3.9/site-packages/dalex/model_explanations/_model_performance/utils.py:33: FutureWarning:\n",
      "\n",
      "The series.append method is deprecated and will be removed from pandas in a future version. Use pandas.concat instead.\n",
      "\n",
      "/opt/homebrew/Caskroom/miniforge/base/envs/pytorch_env/lib/python3.9/site-packages/dalex/model_explanations/_model_performance/utils.py:34: FutureWarning:\n",
      "\n",
      "The series.append method is deprecated and will be removed from pandas in a future version. Use pandas.concat instead.\n",
      "\n",
      "/opt/homebrew/Caskroom/miniforge/base/envs/pytorch_env/lib/python3.9/site-packages/dalex/model_explanations/_model_performance/utils.py:33: FutureWarning:\n",
      "\n",
      "The series.append method is deprecated and will be removed from pandas in a future version. Use pandas.concat instead.\n",
      "\n",
      "/opt/homebrew/Caskroom/miniforge/base/envs/pytorch_env/lib/python3.9/site-packages/dalex/model_explanations/_model_performance/utils.py:34: FutureWarning:\n",
      "\n",
      "The series.append method is deprecated and will be removed from pandas in a future version. Use pandas.concat instead.\n",
      "\n",
      "/opt/homebrew/Caskroom/miniforge/base/envs/pytorch_env/lib/python3.9/site-packages/dalex/model_explanations/_model_performance/utils.py:33: FutureWarning:\n",
      "\n",
      "The series.append method is deprecated and will be removed from pandas in a future version. Use pandas.concat instead.\n",
      "\n",
      "/opt/homebrew/Caskroom/miniforge/base/envs/pytorch_env/lib/python3.9/site-packages/dalex/model_explanations/_model_performance/utils.py:34: FutureWarning:\n",
      "\n",
      "The series.append method is deprecated and will be removed from pandas in a future version. Use pandas.concat instead.\n",
      "\n",
      "/opt/homebrew/Caskroom/miniforge/base/envs/pytorch_env/lib/python3.9/site-packages/dalex/model_explanations/_model_performance/utils.py:33: FutureWarning:\n",
      "\n",
      "The series.append method is deprecated and will be removed from pandas in a future version. Use pandas.concat instead.\n",
      "\n",
      "/opt/homebrew/Caskroom/miniforge/base/envs/pytorch_env/lib/python3.9/site-packages/dalex/model_explanations/_model_performance/utils.py:34: FutureWarning:\n",
      "\n",
      "The series.append method is deprecated and will be removed from pandas in a future version. Use pandas.concat instead.\n",
      "\n",
      "/opt/homebrew/Caskroom/miniforge/base/envs/pytorch_env/lib/python3.9/site-packages/dalex/model_explanations/_model_performance/utils.py:33: FutureWarning:\n",
      "\n",
      "The series.append method is deprecated and will be removed from pandas in a future version. Use pandas.concat instead.\n",
      "\n",
      "/opt/homebrew/Caskroom/miniforge/base/envs/pytorch_env/lib/python3.9/site-packages/dalex/model_explanations/_model_performance/utils.py:34: FutureWarning:\n",
      "\n",
      "The series.append method is deprecated and will be removed from pandas in a future version. Use pandas.concat instead.\n",
      "\n",
      "/opt/homebrew/Caskroom/miniforge/base/envs/pytorch_env/lib/python3.9/site-packages/dalex/model_explanations/_model_performance/utils.py:33: FutureWarning:\n",
      "\n",
      "The series.append method is deprecated and will be removed from pandas in a future version. Use pandas.concat instead.\n",
      "\n",
      "/opt/homebrew/Caskroom/miniforge/base/envs/pytorch_env/lib/python3.9/site-packages/dalex/model_explanations/_model_performance/utils.py:34: FutureWarning:\n",
      "\n",
      "The series.append method is deprecated and will be removed from pandas in a future version. Use pandas.concat instead.\n",
      "\n",
      "/opt/homebrew/Caskroom/miniforge/base/envs/pytorch_env/lib/python3.9/site-packages/dalex/model_explanations/_model_performance/utils.py:33: FutureWarning:\n",
      "\n",
      "The series.append method is deprecated and will be removed from pandas in a future version. Use pandas.concat instead.\n",
      "\n",
      "/opt/homebrew/Caskroom/miniforge/base/envs/pytorch_env/lib/python3.9/site-packages/dalex/model_explanations/_model_performance/utils.py:34: FutureWarning:\n",
      "\n",
      "The series.append method is deprecated and will be removed from pandas in a future version. Use pandas.concat instead.\n",
      "\n",
      "/opt/homebrew/Caskroom/miniforge/base/envs/pytorch_env/lib/python3.9/site-packages/dalex/model_explanations/_model_performance/utils.py:33: FutureWarning:\n",
      "\n",
      "The series.append method is deprecated and will be removed from pandas in a future version. Use pandas.concat instead.\n",
      "\n",
      "/opt/homebrew/Caskroom/miniforge/base/envs/pytorch_env/lib/python3.9/site-packages/dalex/model_explanations/_model_performance/utils.py:34: FutureWarning:\n",
      "\n",
      "The series.append method is deprecated and will be removed from pandas in a future version. Use pandas.concat instead.\n",
      "\n",
      "/opt/homebrew/Caskroom/miniforge/base/envs/pytorch_env/lib/python3.9/site-packages/dalex/model_explanations/_model_performance/utils.py:33: FutureWarning:\n",
      "\n",
      "The series.append method is deprecated and will be removed from pandas in a future version. Use pandas.concat instead.\n",
      "\n",
      "/opt/homebrew/Caskroom/miniforge/base/envs/pytorch_env/lib/python3.9/site-packages/dalex/model_explanations/_model_performance/utils.py:34: FutureWarning:\n",
      "\n",
      "The series.append method is deprecated and will be removed from pandas in a future version. Use pandas.concat instead.\n",
      "\n",
      "/opt/homebrew/Caskroom/miniforge/base/envs/pytorch_env/lib/python3.9/site-packages/dalex/model_explanations/_model_performance/utils.py:33: FutureWarning:\n",
      "\n",
      "The series.append method is deprecated and will be removed from pandas in a future version. Use pandas.concat instead.\n",
      "\n",
      "/opt/homebrew/Caskroom/miniforge/base/envs/pytorch_env/lib/python3.9/site-packages/dalex/model_explanations/_model_performance/utils.py:34: FutureWarning:\n",
      "\n",
      "The series.append method is deprecated and will be removed from pandas in a future version. Use pandas.concat instead.\n",
      "\n",
      "/opt/homebrew/Caskroom/miniforge/base/envs/pytorch_env/lib/python3.9/site-packages/dalex/model_explanations/_model_performance/utils.py:33: FutureWarning:\n",
      "\n",
      "The series.append method is deprecated and will be removed from pandas in a future version. Use pandas.concat instead.\n",
      "\n",
      "/opt/homebrew/Caskroom/miniforge/base/envs/pytorch_env/lib/python3.9/site-packages/dalex/model_explanations/_model_performance/utils.py:34: FutureWarning:\n",
      "\n",
      "The series.append method is deprecated and will be removed from pandas in a future version. Use pandas.concat instead.\n",
      "\n",
      "/opt/homebrew/Caskroom/miniforge/base/envs/pytorch_env/lib/python3.9/site-packages/dalex/model_explanations/_model_performance/utils.py:33: FutureWarning:\n",
      "\n",
      "The series.append method is deprecated and will be removed from pandas in a future version. Use pandas.concat instead.\n",
      "\n",
      "/opt/homebrew/Caskroom/miniforge/base/envs/pytorch_env/lib/python3.9/site-packages/dalex/model_explanations/_model_performance/utils.py:34: FutureWarning:\n",
      "\n",
      "The series.append method is deprecated and will be removed from pandas in a future version. Use pandas.concat instead.\n",
      "\n",
      "/opt/homebrew/Caskroom/miniforge/base/envs/pytorch_env/lib/python3.9/site-packages/dalex/model_explanations/_model_performance/utils.py:33: FutureWarning:\n",
      "\n",
      "The series.append method is deprecated and will be removed from pandas in a future version. Use pandas.concat instead.\n",
      "\n",
      "/opt/homebrew/Caskroom/miniforge/base/envs/pytorch_env/lib/python3.9/site-packages/dalex/model_explanations/_model_performance/utils.py:34: FutureWarning:\n",
      "\n",
      "The series.append method is deprecated and will be removed from pandas in a future version. Use pandas.concat instead.\n",
      "\n",
      "/opt/homebrew/Caskroom/miniforge/base/envs/pytorch_env/lib/python3.9/site-packages/dalex/model_explanations/_model_performance/utils.py:33: FutureWarning:\n",
      "\n",
      "The series.append method is deprecated and will be removed from pandas in a future version. Use pandas.concat instead.\n",
      "\n",
      "/opt/homebrew/Caskroom/miniforge/base/envs/pytorch_env/lib/python3.9/site-packages/dalex/model_explanations/_model_performance/utils.py:34: FutureWarning:\n",
      "\n",
      "The series.append method is deprecated and will be removed from pandas in a future version. Use pandas.concat instead.\n",
      "\n"
     ]
    },
    {
     "name": "stderr",
     "output_type": "stream",
     "text": [
      "/opt/homebrew/Caskroom/miniforge/base/envs/pytorch_env/lib/python3.9/site-packages/dalex/model_explanations/_model_performance/utils.py:33: FutureWarning:\n",
      "\n",
      "The series.append method is deprecated and will be removed from pandas in a future version. Use pandas.concat instead.\n",
      "\n",
      "/opt/homebrew/Caskroom/miniforge/base/envs/pytorch_env/lib/python3.9/site-packages/dalex/model_explanations/_model_performance/utils.py:34: FutureWarning:\n",
      "\n",
      "The series.append method is deprecated and will be removed from pandas in a future version. Use pandas.concat instead.\n",
      "\n",
      "/opt/homebrew/Caskroom/miniforge/base/envs/pytorch_env/lib/python3.9/site-packages/dalex/model_explanations/_model_performance/utils.py:33: FutureWarning:\n",
      "\n",
      "The series.append method is deprecated and will be removed from pandas in a future version. Use pandas.concat instead.\n",
      "\n",
      "/opt/homebrew/Caskroom/miniforge/base/envs/pytorch_env/lib/python3.9/site-packages/dalex/model_explanations/_model_performance/utils.py:34: FutureWarning:\n",
      "\n",
      "The series.append method is deprecated and will be removed from pandas in a future version. Use pandas.concat instead.\n",
      "\n",
      "/opt/homebrew/Caskroom/miniforge/base/envs/pytorch_env/lib/python3.9/site-packages/dalex/model_explanations/_model_performance/utils.py:33: FutureWarning:\n",
      "\n",
      "The series.append method is deprecated and will be removed from pandas in a future version. Use pandas.concat instead.\n",
      "\n",
      "/opt/homebrew/Caskroom/miniforge/base/envs/pytorch_env/lib/python3.9/site-packages/dalex/model_explanations/_model_performance/utils.py:34: FutureWarning:\n",
      "\n",
      "The series.append method is deprecated and will be removed from pandas in a future version. Use pandas.concat instead.\n",
      "\n",
      "/opt/homebrew/Caskroom/miniforge/base/envs/pytorch_env/lib/python3.9/site-packages/dalex/model_explanations/_model_performance/utils.py:33: FutureWarning:\n",
      "\n",
      "The series.append method is deprecated and will be removed from pandas in a future version. Use pandas.concat instead.\n",
      "\n",
      "/opt/homebrew/Caskroom/miniforge/base/envs/pytorch_env/lib/python3.9/site-packages/dalex/model_explanations/_model_performance/utils.py:34: FutureWarning:\n",
      "\n",
      "The series.append method is deprecated and will be removed from pandas in a future version. Use pandas.concat instead.\n",
      "\n",
      "/opt/homebrew/Caskroom/miniforge/base/envs/pytorch_env/lib/python3.9/site-packages/dalex/model_explanations/_model_performance/utils.py:33: FutureWarning:\n",
      "\n",
      "The series.append method is deprecated and will be removed from pandas in a future version. Use pandas.concat instead.\n",
      "\n",
      "/opt/homebrew/Caskroom/miniforge/base/envs/pytorch_env/lib/python3.9/site-packages/dalex/model_explanations/_model_performance/utils.py:34: FutureWarning:\n",
      "\n",
      "The series.append method is deprecated and will be removed from pandas in a future version. Use pandas.concat instead.\n",
      "\n",
      "/opt/homebrew/Caskroom/miniforge/base/envs/pytorch_env/lib/python3.9/site-packages/dalex/model_explanations/_model_performance/utils.py:33: FutureWarning:\n",
      "\n",
      "The series.append method is deprecated and will be removed from pandas in a future version. Use pandas.concat instead.\n",
      "\n",
      "/opt/homebrew/Caskroom/miniforge/base/envs/pytorch_env/lib/python3.9/site-packages/dalex/model_explanations/_model_performance/utils.py:34: FutureWarning:\n",
      "\n",
      "The series.append method is deprecated and will be removed from pandas in a future version. Use pandas.concat instead.\n",
      "\n",
      "/opt/homebrew/Caskroom/miniforge/base/envs/pytorch_env/lib/python3.9/site-packages/dalex/model_explanations/_model_performance/utils.py:33: FutureWarning:\n",
      "\n",
      "The series.append method is deprecated and will be removed from pandas in a future version. Use pandas.concat instead.\n",
      "\n",
      "/opt/homebrew/Caskroom/miniforge/base/envs/pytorch_env/lib/python3.9/site-packages/dalex/model_explanations/_model_performance/utils.py:34: FutureWarning:\n",
      "\n",
      "The series.append method is deprecated and will be removed from pandas in a future version. Use pandas.concat instead.\n",
      "\n",
      "/opt/homebrew/Caskroom/miniforge/base/envs/pytorch_env/lib/python3.9/site-packages/dalex/model_explanations/_model_performance/utils.py:33: FutureWarning:\n",
      "\n",
      "The series.append method is deprecated and will be removed from pandas in a future version. Use pandas.concat instead.\n",
      "\n",
      "/opt/homebrew/Caskroom/miniforge/base/envs/pytorch_env/lib/python3.9/site-packages/dalex/model_explanations/_model_performance/utils.py:34: FutureWarning:\n",
      "\n",
      "The series.append method is deprecated and will be removed from pandas in a future version. Use pandas.concat instead.\n",
      "\n",
      "/opt/homebrew/Caskroom/miniforge/base/envs/pytorch_env/lib/python3.9/site-packages/dalex/model_explanations/_model_performance/utils.py:33: FutureWarning:\n",
      "\n",
      "The series.append method is deprecated and will be removed from pandas in a future version. Use pandas.concat instead.\n",
      "\n",
      "/opt/homebrew/Caskroom/miniforge/base/envs/pytorch_env/lib/python3.9/site-packages/dalex/model_explanations/_model_performance/utils.py:34: FutureWarning:\n",
      "\n",
      "The series.append method is deprecated and will be removed from pandas in a future version. Use pandas.concat instead.\n",
      "\n",
      "/opt/homebrew/Caskroom/miniforge/base/envs/pytorch_env/lib/python3.9/site-packages/dalex/model_explanations/_model_performance/utils.py:33: FutureWarning:\n",
      "\n",
      "The series.append method is deprecated and will be removed from pandas in a future version. Use pandas.concat instead.\n",
      "\n",
      "/opt/homebrew/Caskroom/miniforge/base/envs/pytorch_env/lib/python3.9/site-packages/dalex/model_explanations/_model_performance/utils.py:34: FutureWarning:\n",
      "\n",
      "The series.append method is deprecated and will be removed from pandas in a future version. Use pandas.concat instead.\n",
      "\n",
      "/opt/homebrew/Caskroom/miniforge/base/envs/pytorch_env/lib/python3.9/site-packages/dalex/model_explanations/_model_performance/utils.py:33: FutureWarning:\n",
      "\n",
      "The series.append method is deprecated and will be removed from pandas in a future version. Use pandas.concat instead.\n",
      "\n",
      "/opt/homebrew/Caskroom/miniforge/base/envs/pytorch_env/lib/python3.9/site-packages/dalex/model_explanations/_model_performance/utils.py:34: FutureWarning:\n",
      "\n",
      "The series.append method is deprecated and will be removed from pandas in a future version. Use pandas.concat instead.\n",
      "\n",
      "/opt/homebrew/Caskroom/miniforge/base/envs/pytorch_env/lib/python3.9/site-packages/dalex/model_explanations/_model_performance/utils.py:33: FutureWarning:\n",
      "\n",
      "The series.append method is deprecated and will be removed from pandas in a future version. Use pandas.concat instead.\n",
      "\n",
      "/opt/homebrew/Caskroom/miniforge/base/envs/pytorch_env/lib/python3.9/site-packages/dalex/model_explanations/_model_performance/utils.py:34: FutureWarning:\n",
      "\n",
      "The series.append method is deprecated and will be removed from pandas in a future version. Use pandas.concat instead.\n",
      "\n",
      "/opt/homebrew/Caskroom/miniforge/base/envs/pytorch_env/lib/python3.9/site-packages/dalex/model_explanations/_model_performance/utils.py:33: FutureWarning:\n",
      "\n",
      "The series.append method is deprecated and will be removed from pandas in a future version. Use pandas.concat instead.\n",
      "\n",
      "/opt/homebrew/Caskroom/miniforge/base/envs/pytorch_env/lib/python3.9/site-packages/dalex/model_explanations/_model_performance/utils.py:34: FutureWarning:\n",
      "\n",
      "The series.append method is deprecated and will be removed from pandas in a future version. Use pandas.concat instead.\n",
      "\n",
      "/opt/homebrew/Caskroom/miniforge/base/envs/pytorch_env/lib/python3.9/site-packages/dalex/model_explanations/_model_performance/utils.py:33: FutureWarning:\n",
      "\n",
      "The series.append method is deprecated and will be removed from pandas in a future version. Use pandas.concat instead.\n",
      "\n",
      "/opt/homebrew/Caskroom/miniforge/base/envs/pytorch_env/lib/python3.9/site-packages/dalex/model_explanations/_model_performance/utils.py:34: FutureWarning:\n",
      "\n",
      "The series.append method is deprecated and will be removed from pandas in a future version. Use pandas.concat instead.\n",
      "\n",
      "/opt/homebrew/Caskroom/miniforge/base/envs/pytorch_env/lib/python3.9/site-packages/dalex/model_explanations/_model_performance/utils.py:33: FutureWarning:\n",
      "\n",
      "The series.append method is deprecated and will be removed from pandas in a future version. Use pandas.concat instead.\n",
      "\n",
      "/opt/homebrew/Caskroom/miniforge/base/envs/pytorch_env/lib/python3.9/site-packages/dalex/model_explanations/_model_performance/utils.py:34: FutureWarning:\n",
      "\n",
      "The series.append method is deprecated and will be removed from pandas in a future version. Use pandas.concat instead.\n",
      "\n",
      "/opt/homebrew/Caskroom/miniforge/base/envs/pytorch_env/lib/python3.9/site-packages/dalex/model_explanations/_model_performance/utils.py:33: FutureWarning:\n",
      "\n",
      "The series.append method is deprecated and will be removed from pandas in a future version. Use pandas.concat instead.\n",
      "\n",
      "/opt/homebrew/Caskroom/miniforge/base/envs/pytorch_env/lib/python3.9/site-packages/dalex/model_explanations/_model_performance/utils.py:34: FutureWarning:\n",
      "\n",
      "The series.append method is deprecated and will be removed from pandas in a future version. Use pandas.concat instead.\n",
      "\n",
      "/opt/homebrew/Caskroom/miniforge/base/envs/pytorch_env/lib/python3.9/site-packages/dalex/model_explanations/_model_performance/utils.py:33: FutureWarning:\n",
      "\n",
      "The series.append method is deprecated and will be removed from pandas in a future version. Use pandas.concat instead.\n",
      "\n"
     ]
    },
    {
     "name": "stderr",
     "output_type": "stream",
     "text": [
      "/opt/homebrew/Caskroom/miniforge/base/envs/pytorch_env/lib/python3.9/site-packages/dalex/model_explanations/_model_performance/utils.py:34: FutureWarning:\n",
      "\n",
      "The series.append method is deprecated and will be removed from pandas in a future version. Use pandas.concat instead.\n",
      "\n",
      "/opt/homebrew/Caskroom/miniforge/base/envs/pytorch_env/lib/python3.9/site-packages/dalex/model_explanations/_model_performance/utils.py:33: FutureWarning:\n",
      "\n",
      "The series.append method is deprecated and will be removed from pandas in a future version. Use pandas.concat instead.\n",
      "\n",
      "/opt/homebrew/Caskroom/miniforge/base/envs/pytorch_env/lib/python3.9/site-packages/dalex/model_explanations/_model_performance/utils.py:34: FutureWarning:\n",
      "\n",
      "The series.append method is deprecated and will be removed from pandas in a future version. Use pandas.concat instead.\n",
      "\n",
      "/opt/homebrew/Caskroom/miniforge/base/envs/pytorch_env/lib/python3.9/site-packages/dalex/model_explanations/_model_performance/utils.py:33: FutureWarning:\n",
      "\n",
      "The series.append method is deprecated and will be removed from pandas in a future version. Use pandas.concat instead.\n",
      "\n",
      "/opt/homebrew/Caskroom/miniforge/base/envs/pytorch_env/lib/python3.9/site-packages/dalex/model_explanations/_model_performance/utils.py:34: FutureWarning:\n",
      "\n",
      "The series.append method is deprecated and will be removed from pandas in a future version. Use pandas.concat instead.\n",
      "\n",
      "/opt/homebrew/Caskroom/miniforge/base/envs/pytorch_env/lib/python3.9/site-packages/dalex/model_explanations/_model_performance/utils.py:33: FutureWarning:\n",
      "\n",
      "The series.append method is deprecated and will be removed from pandas in a future version. Use pandas.concat instead.\n",
      "\n",
      "/opt/homebrew/Caskroom/miniforge/base/envs/pytorch_env/lib/python3.9/site-packages/dalex/model_explanations/_model_performance/utils.py:34: FutureWarning:\n",
      "\n",
      "The series.append method is deprecated and will be removed from pandas in a future version. Use pandas.concat instead.\n",
      "\n",
      "/opt/homebrew/Caskroom/miniforge/base/envs/pytorch_env/lib/python3.9/site-packages/dalex/model_explanations/_model_performance/utils.py:33: FutureWarning:\n",
      "\n",
      "The series.append method is deprecated and will be removed from pandas in a future version. Use pandas.concat instead.\n",
      "\n",
      "/opt/homebrew/Caskroom/miniforge/base/envs/pytorch_env/lib/python3.9/site-packages/dalex/model_explanations/_model_performance/utils.py:34: FutureWarning:\n",
      "\n",
      "The series.append method is deprecated and will be removed from pandas in a future version. Use pandas.concat instead.\n",
      "\n",
      "/opt/homebrew/Caskroom/miniforge/base/envs/pytorch_env/lib/python3.9/site-packages/dalex/model_explanations/_model_performance/utils.py:33: FutureWarning:\n",
      "\n",
      "The series.append method is deprecated and will be removed from pandas in a future version. Use pandas.concat instead.\n",
      "\n",
      "/opt/homebrew/Caskroom/miniforge/base/envs/pytorch_env/lib/python3.9/site-packages/dalex/model_explanations/_model_performance/utils.py:34: FutureWarning:\n",
      "\n",
      "The series.append method is deprecated and will be removed from pandas in a future version. Use pandas.concat instead.\n",
      "\n",
      "/opt/homebrew/Caskroom/miniforge/base/envs/pytorch_env/lib/python3.9/site-packages/dalex/model_explanations/_model_performance/utils.py:33: FutureWarning:\n",
      "\n",
      "The series.append method is deprecated and will be removed from pandas in a future version. Use pandas.concat instead.\n",
      "\n",
      "/opt/homebrew/Caskroom/miniforge/base/envs/pytorch_env/lib/python3.9/site-packages/dalex/model_explanations/_model_performance/utils.py:34: FutureWarning:\n",
      "\n",
      "The series.append method is deprecated and will be removed from pandas in a future version. Use pandas.concat instead.\n",
      "\n",
      "/opt/homebrew/Caskroom/miniforge/base/envs/pytorch_env/lib/python3.9/site-packages/dalex/model_explanations/_model_performance/utils.py:33: FutureWarning:\n",
      "\n",
      "The series.append method is deprecated and will be removed from pandas in a future version. Use pandas.concat instead.\n",
      "\n",
      "/opt/homebrew/Caskroom/miniforge/base/envs/pytorch_env/lib/python3.9/site-packages/dalex/model_explanations/_model_performance/utils.py:34: FutureWarning:\n",
      "\n",
      "The series.append method is deprecated and will be removed from pandas in a future version. Use pandas.concat instead.\n",
      "\n",
      "/opt/homebrew/Caskroom/miniforge/base/envs/pytorch_env/lib/python3.9/site-packages/dalex/model_explanations/_model_performance/utils.py:33: FutureWarning:\n",
      "\n",
      "The series.append method is deprecated and will be removed from pandas in a future version. Use pandas.concat instead.\n",
      "\n",
      "/opt/homebrew/Caskroom/miniforge/base/envs/pytorch_env/lib/python3.9/site-packages/dalex/model_explanations/_model_performance/utils.py:34: FutureWarning:\n",
      "\n",
      "The series.append method is deprecated and will be removed from pandas in a future version. Use pandas.concat instead.\n",
      "\n",
      "/opt/homebrew/Caskroom/miniforge/base/envs/pytorch_env/lib/python3.9/site-packages/dalex/model_explanations/_model_performance/utils.py:33: FutureWarning:\n",
      "\n",
      "The series.append method is deprecated and will be removed from pandas in a future version. Use pandas.concat instead.\n",
      "\n",
      "/opt/homebrew/Caskroom/miniforge/base/envs/pytorch_env/lib/python3.9/site-packages/dalex/model_explanations/_model_performance/utils.py:34: FutureWarning:\n",
      "\n",
      "The series.append method is deprecated and will be removed from pandas in a future version. Use pandas.concat instead.\n",
      "\n",
      "/opt/homebrew/Caskroom/miniforge/base/envs/pytorch_env/lib/python3.9/site-packages/dalex/model_explanations/_model_performance/utils.py:33: FutureWarning:\n",
      "\n",
      "The series.append method is deprecated and will be removed from pandas in a future version. Use pandas.concat instead.\n",
      "\n",
      "/opt/homebrew/Caskroom/miniforge/base/envs/pytorch_env/lib/python3.9/site-packages/dalex/model_explanations/_model_performance/utils.py:34: FutureWarning:\n",
      "\n",
      "The series.append method is deprecated and will be removed from pandas in a future version. Use pandas.concat instead.\n",
      "\n",
      "/opt/homebrew/Caskroom/miniforge/base/envs/pytorch_env/lib/python3.9/site-packages/dalex/model_explanations/_model_performance/utils.py:33: FutureWarning:\n",
      "\n",
      "The series.append method is deprecated and will be removed from pandas in a future version. Use pandas.concat instead.\n",
      "\n",
      "/opt/homebrew/Caskroom/miniforge/base/envs/pytorch_env/lib/python3.9/site-packages/dalex/model_explanations/_model_performance/utils.py:34: FutureWarning:\n",
      "\n",
      "The series.append method is deprecated and will be removed from pandas in a future version. Use pandas.concat instead.\n",
      "\n",
      "/opt/homebrew/Caskroom/miniforge/base/envs/pytorch_env/lib/python3.9/site-packages/dalex/model_explanations/_model_performance/utils.py:33: FutureWarning:\n",
      "\n",
      "The series.append method is deprecated and will be removed from pandas in a future version. Use pandas.concat instead.\n",
      "\n",
      "/opt/homebrew/Caskroom/miniforge/base/envs/pytorch_env/lib/python3.9/site-packages/dalex/model_explanations/_model_performance/utils.py:34: FutureWarning:\n",
      "\n",
      "The series.append method is deprecated and will be removed from pandas in a future version. Use pandas.concat instead.\n",
      "\n",
      "/opt/homebrew/Caskroom/miniforge/base/envs/pytorch_env/lib/python3.9/site-packages/dalex/model_explanations/_model_performance/utils.py:33: FutureWarning:\n",
      "\n",
      "The series.append method is deprecated and will be removed from pandas in a future version. Use pandas.concat instead.\n",
      "\n",
      "/opt/homebrew/Caskroom/miniforge/base/envs/pytorch_env/lib/python3.9/site-packages/dalex/model_explanations/_model_performance/utils.py:34: FutureWarning:\n",
      "\n",
      "The series.append method is deprecated and will be removed from pandas in a future version. Use pandas.concat instead.\n",
      "\n",
      "/opt/homebrew/Caskroom/miniforge/base/envs/pytorch_env/lib/python3.9/site-packages/dalex/model_explanations/_model_performance/utils.py:33: FutureWarning:\n",
      "\n",
      "The series.append method is deprecated and will be removed from pandas in a future version. Use pandas.concat instead.\n",
      "\n",
      "/opt/homebrew/Caskroom/miniforge/base/envs/pytorch_env/lib/python3.9/site-packages/dalex/model_explanations/_model_performance/utils.py:34: FutureWarning:\n",
      "\n",
      "The series.append method is deprecated and will be removed from pandas in a future version. Use pandas.concat instead.\n",
      "\n",
      "/opt/homebrew/Caskroom/miniforge/base/envs/pytorch_env/lib/python3.9/site-packages/dalex/model_explanations/_model_performance/utils.py:33: FutureWarning:\n",
      "\n",
      "The series.append method is deprecated and will be removed from pandas in a future version. Use pandas.concat instead.\n",
      "\n",
      "/opt/homebrew/Caskroom/miniforge/base/envs/pytorch_env/lib/python3.9/site-packages/dalex/model_explanations/_model_performance/utils.py:34: FutureWarning:\n",
      "\n",
      "The series.append method is deprecated and will be removed from pandas in a future version. Use pandas.concat instead.\n",
      "\n"
     ]
    },
    {
     "name": "stderr",
     "output_type": "stream",
     "text": [
      "/opt/homebrew/Caskroom/miniforge/base/envs/pytorch_env/lib/python3.9/site-packages/dalex/model_explanations/_model_performance/utils.py:33: FutureWarning:\n",
      "\n",
      "The series.append method is deprecated and will be removed from pandas in a future version. Use pandas.concat instead.\n",
      "\n",
      "/opt/homebrew/Caskroom/miniforge/base/envs/pytorch_env/lib/python3.9/site-packages/dalex/model_explanations/_model_performance/utils.py:34: FutureWarning:\n",
      "\n",
      "The series.append method is deprecated and will be removed from pandas in a future version. Use pandas.concat instead.\n",
      "\n",
      "/opt/homebrew/Caskroom/miniforge/base/envs/pytorch_env/lib/python3.9/site-packages/dalex/model_explanations/_model_performance/utils.py:33: FutureWarning:\n",
      "\n",
      "The series.append method is deprecated and will be removed from pandas in a future version. Use pandas.concat instead.\n",
      "\n",
      "/opt/homebrew/Caskroom/miniforge/base/envs/pytorch_env/lib/python3.9/site-packages/dalex/model_explanations/_model_performance/utils.py:34: FutureWarning:\n",
      "\n",
      "The series.append method is deprecated and will be removed from pandas in a future version. Use pandas.concat instead.\n",
      "\n",
      "/opt/homebrew/Caskroom/miniforge/base/envs/pytorch_env/lib/python3.9/site-packages/dalex/model_explanations/_model_performance/utils.py:33: FutureWarning:\n",
      "\n",
      "The series.append method is deprecated and will be removed from pandas in a future version. Use pandas.concat instead.\n",
      "\n",
      "/opt/homebrew/Caskroom/miniforge/base/envs/pytorch_env/lib/python3.9/site-packages/dalex/model_explanations/_model_performance/utils.py:34: FutureWarning:\n",
      "\n",
      "The series.append method is deprecated and will be removed from pandas in a future version. Use pandas.concat instead.\n",
      "\n",
      "/opt/homebrew/Caskroom/miniforge/base/envs/pytorch_env/lib/python3.9/site-packages/dalex/model_explanations/_model_performance/utils.py:33: FutureWarning:\n",
      "\n",
      "The series.append method is deprecated and will be removed from pandas in a future version. Use pandas.concat instead.\n",
      "\n",
      "/opt/homebrew/Caskroom/miniforge/base/envs/pytorch_env/lib/python3.9/site-packages/dalex/model_explanations/_model_performance/utils.py:34: FutureWarning:\n",
      "\n",
      "The series.append method is deprecated and will be removed from pandas in a future version. Use pandas.concat instead.\n",
      "\n",
      "/opt/homebrew/Caskroom/miniforge/base/envs/pytorch_env/lib/python3.9/site-packages/dalex/model_explanations/_model_performance/utils.py:33: FutureWarning:\n",
      "\n",
      "The series.append method is deprecated and will be removed from pandas in a future version. Use pandas.concat instead.\n",
      "\n",
      "/opt/homebrew/Caskroom/miniforge/base/envs/pytorch_env/lib/python3.9/site-packages/dalex/model_explanations/_model_performance/utils.py:34: FutureWarning:\n",
      "\n",
      "The series.append method is deprecated and will be removed from pandas in a future version. Use pandas.concat instead.\n",
      "\n",
      "/opt/homebrew/Caskroom/miniforge/base/envs/pytorch_env/lib/python3.9/site-packages/dalex/model_explanations/_model_performance/utils.py:33: FutureWarning:\n",
      "\n",
      "The series.append method is deprecated and will be removed from pandas in a future version. Use pandas.concat instead.\n",
      "\n",
      "/opt/homebrew/Caskroom/miniforge/base/envs/pytorch_env/lib/python3.9/site-packages/dalex/model_explanations/_model_performance/utils.py:34: FutureWarning:\n",
      "\n",
      "The series.append method is deprecated and will be removed from pandas in a future version. Use pandas.concat instead.\n",
      "\n",
      "/opt/homebrew/Caskroom/miniforge/base/envs/pytorch_env/lib/python3.9/site-packages/dalex/model_explanations/_model_performance/utils.py:33: FutureWarning:\n",
      "\n",
      "The series.append method is deprecated and will be removed from pandas in a future version. Use pandas.concat instead.\n",
      "\n",
      "/opt/homebrew/Caskroom/miniforge/base/envs/pytorch_env/lib/python3.9/site-packages/dalex/model_explanations/_model_performance/utils.py:34: FutureWarning:\n",
      "\n",
      "The series.append method is deprecated and will be removed from pandas in a future version. Use pandas.concat instead.\n",
      "\n",
      "/opt/homebrew/Caskroom/miniforge/base/envs/pytorch_env/lib/python3.9/site-packages/dalex/model_explanations/_model_performance/utils.py:33: FutureWarning:\n",
      "\n",
      "The series.append method is deprecated and will be removed from pandas in a future version. Use pandas.concat instead.\n",
      "\n",
      "/opt/homebrew/Caskroom/miniforge/base/envs/pytorch_env/lib/python3.9/site-packages/dalex/model_explanations/_model_performance/utils.py:34: FutureWarning:\n",
      "\n",
      "The series.append method is deprecated and will be removed from pandas in a future version. Use pandas.concat instead.\n",
      "\n",
      "/opt/homebrew/Caskroom/miniforge/base/envs/pytorch_env/lib/python3.9/site-packages/dalex/model_explanations/_model_performance/utils.py:33: FutureWarning:\n",
      "\n",
      "The series.append method is deprecated and will be removed from pandas in a future version. Use pandas.concat instead.\n",
      "\n",
      "/opt/homebrew/Caskroom/miniforge/base/envs/pytorch_env/lib/python3.9/site-packages/dalex/model_explanations/_model_performance/utils.py:34: FutureWarning:\n",
      "\n",
      "The series.append method is deprecated and will be removed from pandas in a future version. Use pandas.concat instead.\n",
      "\n",
      "/opt/homebrew/Caskroom/miniforge/base/envs/pytorch_env/lib/python3.9/site-packages/dalex/model_explanations/_model_performance/utils.py:33: FutureWarning:\n",
      "\n",
      "The series.append method is deprecated and will be removed from pandas in a future version. Use pandas.concat instead.\n",
      "\n",
      "/opt/homebrew/Caskroom/miniforge/base/envs/pytorch_env/lib/python3.9/site-packages/dalex/model_explanations/_model_performance/utils.py:34: FutureWarning:\n",
      "\n",
      "The series.append method is deprecated and will be removed from pandas in a future version. Use pandas.concat instead.\n",
      "\n",
      "/opt/homebrew/Caskroom/miniforge/base/envs/pytorch_env/lib/python3.9/site-packages/dalex/model_explanations/_model_performance/utils.py:33: FutureWarning:\n",
      "\n",
      "The series.append method is deprecated and will be removed from pandas in a future version. Use pandas.concat instead.\n",
      "\n",
      "/opt/homebrew/Caskroom/miniforge/base/envs/pytorch_env/lib/python3.9/site-packages/dalex/model_explanations/_model_performance/utils.py:34: FutureWarning:\n",
      "\n",
      "The series.append method is deprecated and will be removed from pandas in a future version. Use pandas.concat instead.\n",
      "\n",
      "/opt/homebrew/Caskroom/miniforge/base/envs/pytorch_env/lib/python3.9/site-packages/dalex/model_explanations/_model_performance/utils.py:33: FutureWarning:\n",
      "\n",
      "The series.append method is deprecated and will be removed from pandas in a future version. Use pandas.concat instead.\n",
      "\n",
      "/opt/homebrew/Caskroom/miniforge/base/envs/pytorch_env/lib/python3.9/site-packages/dalex/model_explanations/_model_performance/utils.py:34: FutureWarning:\n",
      "\n",
      "The series.append method is deprecated and will be removed from pandas in a future version. Use pandas.concat instead.\n",
      "\n",
      "/opt/homebrew/Caskroom/miniforge/base/envs/pytorch_env/lib/python3.9/site-packages/dalex/model_explanations/_model_performance/utils.py:33: FutureWarning:\n",
      "\n",
      "The series.append method is deprecated and will be removed from pandas in a future version. Use pandas.concat instead.\n",
      "\n",
      "/opt/homebrew/Caskroom/miniforge/base/envs/pytorch_env/lib/python3.9/site-packages/dalex/model_explanations/_model_performance/utils.py:34: FutureWarning:\n",
      "\n",
      "The series.append method is deprecated and will be removed from pandas in a future version. Use pandas.concat instead.\n",
      "\n",
      "/opt/homebrew/Caskroom/miniforge/base/envs/pytorch_env/lib/python3.9/site-packages/dalex/model_explanations/_model_performance/utils.py:33: FutureWarning:\n",
      "\n",
      "The series.append method is deprecated and will be removed from pandas in a future version. Use pandas.concat instead.\n",
      "\n",
      "/opt/homebrew/Caskroom/miniforge/base/envs/pytorch_env/lib/python3.9/site-packages/dalex/model_explanations/_model_performance/utils.py:34: FutureWarning:\n",
      "\n",
      "The series.append method is deprecated and will be removed from pandas in a future version. Use pandas.concat instead.\n",
      "\n",
      "/opt/homebrew/Caskroom/miniforge/base/envs/pytorch_env/lib/python3.9/site-packages/dalex/model_explanations/_model_performance/utils.py:33: FutureWarning:\n",
      "\n",
      "The series.append method is deprecated and will be removed from pandas in a future version. Use pandas.concat instead.\n",
      "\n",
      "/opt/homebrew/Caskroom/miniforge/base/envs/pytorch_env/lib/python3.9/site-packages/dalex/model_explanations/_model_performance/utils.py:34: FutureWarning:\n",
      "\n",
      "The series.append method is deprecated and will be removed from pandas in a future version. Use pandas.concat instead.\n",
      "\n",
      "/opt/homebrew/Caskroom/miniforge/base/envs/pytorch_env/lib/python3.9/site-packages/dalex/model_explanations/_model_performance/utils.py:33: FutureWarning:\n",
      "\n",
      "The series.append method is deprecated and will be removed from pandas in a future version. Use pandas.concat instead.\n",
      "\n",
      "/opt/homebrew/Caskroom/miniforge/base/envs/pytorch_env/lib/python3.9/site-packages/dalex/model_explanations/_model_performance/utils.py:34: FutureWarning:\n",
      "\n",
      "The series.append method is deprecated and will be removed from pandas in a future version. Use pandas.concat instead.\n",
      "\n"
     ]
    },
    {
     "name": "stderr",
     "output_type": "stream",
     "text": [
      "/opt/homebrew/Caskroom/miniforge/base/envs/pytorch_env/lib/python3.9/site-packages/dalex/model_explanations/_model_performance/utils.py:33: FutureWarning:\n",
      "\n",
      "The series.append method is deprecated and will be removed from pandas in a future version. Use pandas.concat instead.\n",
      "\n",
      "/opt/homebrew/Caskroom/miniforge/base/envs/pytorch_env/lib/python3.9/site-packages/dalex/model_explanations/_model_performance/utils.py:34: FutureWarning:\n",
      "\n",
      "The series.append method is deprecated and will be removed from pandas in a future version. Use pandas.concat instead.\n",
      "\n",
      "/opt/homebrew/Caskroom/miniforge/base/envs/pytorch_env/lib/python3.9/site-packages/dalex/model_explanations/_model_performance/utils.py:33: FutureWarning:\n",
      "\n",
      "The series.append method is deprecated and will be removed from pandas in a future version. Use pandas.concat instead.\n",
      "\n",
      "/opt/homebrew/Caskroom/miniforge/base/envs/pytorch_env/lib/python3.9/site-packages/dalex/model_explanations/_model_performance/utils.py:34: FutureWarning:\n",
      "\n",
      "The series.append method is deprecated and will be removed from pandas in a future version. Use pandas.concat instead.\n",
      "\n",
      "/opt/homebrew/Caskroom/miniforge/base/envs/pytorch_env/lib/python3.9/site-packages/dalex/model_explanations/_model_performance/utils.py:33: FutureWarning:\n",
      "\n",
      "The series.append method is deprecated and will be removed from pandas in a future version. Use pandas.concat instead.\n",
      "\n",
      "/opt/homebrew/Caskroom/miniforge/base/envs/pytorch_env/lib/python3.9/site-packages/dalex/model_explanations/_model_performance/utils.py:34: FutureWarning:\n",
      "\n",
      "The series.append method is deprecated and will be removed from pandas in a future version. Use pandas.concat instead.\n",
      "\n",
      "/opt/homebrew/Caskroom/miniforge/base/envs/pytorch_env/lib/python3.9/site-packages/dalex/model_explanations/_model_performance/utils.py:33: FutureWarning:\n",
      "\n",
      "The series.append method is deprecated and will be removed from pandas in a future version. Use pandas.concat instead.\n",
      "\n",
      "/opt/homebrew/Caskroom/miniforge/base/envs/pytorch_env/lib/python3.9/site-packages/dalex/model_explanations/_model_performance/utils.py:34: FutureWarning:\n",
      "\n",
      "The series.append method is deprecated and will be removed from pandas in a future version. Use pandas.concat instead.\n",
      "\n",
      "/opt/homebrew/Caskroom/miniforge/base/envs/pytorch_env/lib/python3.9/site-packages/dalex/model_explanations/_model_performance/utils.py:33: FutureWarning:\n",
      "\n",
      "The series.append method is deprecated and will be removed from pandas in a future version. Use pandas.concat instead.\n",
      "\n",
      "/opt/homebrew/Caskroom/miniforge/base/envs/pytorch_env/lib/python3.9/site-packages/dalex/model_explanations/_model_performance/utils.py:34: FutureWarning:\n",
      "\n",
      "The series.append method is deprecated and will be removed from pandas in a future version. Use pandas.concat instead.\n",
      "\n",
      "/opt/homebrew/Caskroom/miniforge/base/envs/pytorch_env/lib/python3.9/site-packages/dalex/model_explanations/_model_performance/utils.py:33: FutureWarning:\n",
      "\n",
      "The series.append method is deprecated and will be removed from pandas in a future version. Use pandas.concat instead.\n",
      "\n",
      "/opt/homebrew/Caskroom/miniforge/base/envs/pytorch_env/lib/python3.9/site-packages/dalex/model_explanations/_model_performance/utils.py:34: FutureWarning:\n",
      "\n",
      "The series.append method is deprecated and will be removed from pandas in a future version. Use pandas.concat instead.\n",
      "\n",
      "/opt/homebrew/Caskroom/miniforge/base/envs/pytorch_env/lib/python3.9/site-packages/dalex/model_explanations/_model_performance/utils.py:33: FutureWarning:\n",
      "\n",
      "The series.append method is deprecated and will be removed from pandas in a future version. Use pandas.concat instead.\n",
      "\n",
      "/opt/homebrew/Caskroom/miniforge/base/envs/pytorch_env/lib/python3.9/site-packages/dalex/model_explanations/_model_performance/utils.py:34: FutureWarning:\n",
      "\n",
      "The series.append method is deprecated and will be removed from pandas in a future version. Use pandas.concat instead.\n",
      "\n",
      "/opt/homebrew/Caskroom/miniforge/base/envs/pytorch_env/lib/python3.9/site-packages/dalex/model_explanations/_model_performance/utils.py:33: FutureWarning:\n",
      "\n",
      "The series.append method is deprecated and will be removed from pandas in a future version. Use pandas.concat instead.\n",
      "\n",
      "/opt/homebrew/Caskroom/miniforge/base/envs/pytorch_env/lib/python3.9/site-packages/dalex/model_explanations/_model_performance/utils.py:34: FutureWarning:\n",
      "\n",
      "The series.append method is deprecated and will be removed from pandas in a future version. Use pandas.concat instead.\n",
      "\n",
      "/opt/homebrew/Caskroom/miniforge/base/envs/pytorch_env/lib/python3.9/site-packages/dalex/model_explanations/_model_performance/utils.py:33: FutureWarning:\n",
      "\n",
      "The series.append method is deprecated and will be removed from pandas in a future version. Use pandas.concat instead.\n",
      "\n",
      "/opt/homebrew/Caskroom/miniforge/base/envs/pytorch_env/lib/python3.9/site-packages/dalex/model_explanations/_model_performance/utils.py:34: FutureWarning:\n",
      "\n",
      "The series.append method is deprecated and will be removed from pandas in a future version. Use pandas.concat instead.\n",
      "\n",
      "/opt/homebrew/Caskroom/miniforge/base/envs/pytorch_env/lib/python3.9/site-packages/dalex/model_explanations/_model_performance/utils.py:33: FutureWarning:\n",
      "\n",
      "The series.append method is deprecated and will be removed from pandas in a future version. Use pandas.concat instead.\n",
      "\n",
      "/opt/homebrew/Caskroom/miniforge/base/envs/pytorch_env/lib/python3.9/site-packages/dalex/model_explanations/_model_performance/utils.py:34: FutureWarning:\n",
      "\n",
      "The series.append method is deprecated and will be removed from pandas in a future version. Use pandas.concat instead.\n",
      "\n",
      "/opt/homebrew/Caskroom/miniforge/base/envs/pytorch_env/lib/python3.9/site-packages/dalex/model_explanations/_model_performance/utils.py:33: FutureWarning:\n",
      "\n",
      "The series.append method is deprecated and will be removed from pandas in a future version. Use pandas.concat instead.\n",
      "\n",
      "/opt/homebrew/Caskroom/miniforge/base/envs/pytorch_env/lib/python3.9/site-packages/dalex/model_explanations/_model_performance/utils.py:34: FutureWarning:\n",
      "\n",
      "The series.append method is deprecated and will be removed from pandas in a future version. Use pandas.concat instead.\n",
      "\n",
      "/opt/homebrew/Caskroom/miniforge/base/envs/pytorch_env/lib/python3.9/site-packages/dalex/model_explanations/_model_performance/utils.py:33: FutureWarning:\n",
      "\n",
      "The series.append method is deprecated and will be removed from pandas in a future version. Use pandas.concat instead.\n",
      "\n",
      "/opt/homebrew/Caskroom/miniforge/base/envs/pytorch_env/lib/python3.9/site-packages/dalex/model_explanations/_model_performance/utils.py:34: FutureWarning:\n",
      "\n",
      "The series.append method is deprecated and will be removed from pandas in a future version. Use pandas.concat instead.\n",
      "\n",
      "/opt/homebrew/Caskroom/miniforge/base/envs/pytorch_env/lib/python3.9/site-packages/dalex/model_explanations/_model_performance/utils.py:33: FutureWarning:\n",
      "\n",
      "The series.append method is deprecated and will be removed from pandas in a future version. Use pandas.concat instead.\n",
      "\n",
      "/opt/homebrew/Caskroom/miniforge/base/envs/pytorch_env/lib/python3.9/site-packages/dalex/model_explanations/_model_performance/utils.py:34: FutureWarning:\n",
      "\n",
      "The series.append method is deprecated and will be removed from pandas in a future version. Use pandas.concat instead.\n",
      "\n",
      "/opt/homebrew/Caskroom/miniforge/base/envs/pytorch_env/lib/python3.9/site-packages/dalex/model_explanations/_model_performance/utils.py:33: FutureWarning:\n",
      "\n",
      "The series.append method is deprecated and will be removed from pandas in a future version. Use pandas.concat instead.\n",
      "\n",
      "/opt/homebrew/Caskroom/miniforge/base/envs/pytorch_env/lib/python3.9/site-packages/dalex/model_explanations/_model_performance/utils.py:34: FutureWarning:\n",
      "\n",
      "The series.append method is deprecated and will be removed from pandas in a future version. Use pandas.concat instead.\n",
      "\n",
      "/opt/homebrew/Caskroom/miniforge/base/envs/pytorch_env/lib/python3.9/site-packages/dalex/model_explanations/_model_performance/utils.py:33: FutureWarning:\n",
      "\n",
      "The series.append method is deprecated and will be removed from pandas in a future version. Use pandas.concat instead.\n",
      "\n",
      "/opt/homebrew/Caskroom/miniforge/base/envs/pytorch_env/lib/python3.9/site-packages/dalex/model_explanations/_model_performance/utils.py:34: FutureWarning:\n",
      "\n",
      "The series.append method is deprecated and will be removed from pandas in a future version. Use pandas.concat instead.\n",
      "\n",
      "/opt/homebrew/Caskroom/miniforge/base/envs/pytorch_env/lib/python3.9/site-packages/dalex/model_explanations/_model_performance/utils.py:33: FutureWarning:\n",
      "\n",
      "The series.append method is deprecated and will be removed from pandas in a future version. Use pandas.concat instead.\n",
      "\n",
      "/opt/homebrew/Caskroom/miniforge/base/envs/pytorch_env/lib/python3.9/site-packages/dalex/model_explanations/_model_performance/utils.py:34: FutureWarning:\n",
      "\n",
      "The series.append method is deprecated and will be removed from pandas in a future version. Use pandas.concat instead.\n",
      "\n"
     ]
    },
    {
     "name": "stderr",
     "output_type": "stream",
     "text": [
      "/opt/homebrew/Caskroom/miniforge/base/envs/pytorch_env/lib/python3.9/site-packages/dalex/model_explanations/_model_performance/utils.py:33: FutureWarning:\n",
      "\n",
      "The series.append method is deprecated and will be removed from pandas in a future version. Use pandas.concat instead.\n",
      "\n",
      "/opt/homebrew/Caskroom/miniforge/base/envs/pytorch_env/lib/python3.9/site-packages/dalex/model_explanations/_model_performance/utils.py:34: FutureWarning:\n",
      "\n",
      "The series.append method is deprecated and will be removed from pandas in a future version. Use pandas.concat instead.\n",
      "\n",
      "/opt/homebrew/Caskroom/miniforge/base/envs/pytorch_env/lib/python3.9/site-packages/dalex/model_explanations/_model_performance/utils.py:33: FutureWarning:\n",
      "\n",
      "The series.append method is deprecated and will be removed from pandas in a future version. Use pandas.concat instead.\n",
      "\n",
      "/opt/homebrew/Caskroom/miniforge/base/envs/pytorch_env/lib/python3.9/site-packages/dalex/model_explanations/_model_performance/utils.py:34: FutureWarning:\n",
      "\n",
      "The series.append method is deprecated and will be removed from pandas in a future version. Use pandas.concat instead.\n",
      "\n",
      "/opt/homebrew/Caskroom/miniforge/base/envs/pytorch_env/lib/python3.9/site-packages/dalex/model_explanations/_model_performance/utils.py:33: FutureWarning:\n",
      "\n",
      "The series.append method is deprecated and will be removed from pandas in a future version. Use pandas.concat instead.\n",
      "\n",
      "/opt/homebrew/Caskroom/miniforge/base/envs/pytorch_env/lib/python3.9/site-packages/dalex/model_explanations/_model_performance/utils.py:34: FutureWarning:\n",
      "\n",
      "The series.append method is deprecated and will be removed from pandas in a future version. Use pandas.concat instead.\n",
      "\n",
      "/opt/homebrew/Caskroom/miniforge/base/envs/pytorch_env/lib/python3.9/site-packages/dalex/model_explanations/_model_performance/utils.py:33: FutureWarning:\n",
      "\n",
      "The series.append method is deprecated and will be removed from pandas in a future version. Use pandas.concat instead.\n",
      "\n",
      "/opt/homebrew/Caskroom/miniforge/base/envs/pytorch_env/lib/python3.9/site-packages/dalex/model_explanations/_model_performance/utils.py:34: FutureWarning:\n",
      "\n",
      "The series.append method is deprecated and will be removed from pandas in a future version. Use pandas.concat instead.\n",
      "\n",
      "/opt/homebrew/Caskroom/miniforge/base/envs/pytorch_env/lib/python3.9/site-packages/dalex/model_explanations/_model_performance/utils.py:33: FutureWarning:\n",
      "\n",
      "The series.append method is deprecated and will be removed from pandas in a future version. Use pandas.concat instead.\n",
      "\n",
      "/opt/homebrew/Caskroom/miniforge/base/envs/pytorch_env/lib/python3.9/site-packages/dalex/model_explanations/_model_performance/utils.py:34: FutureWarning:\n",
      "\n",
      "The series.append method is deprecated and will be removed from pandas in a future version. Use pandas.concat instead.\n",
      "\n",
      "/opt/homebrew/Caskroom/miniforge/base/envs/pytorch_env/lib/python3.9/site-packages/dalex/model_explanations/_model_performance/utils.py:33: FutureWarning:\n",
      "\n",
      "The series.append method is deprecated and will be removed from pandas in a future version. Use pandas.concat instead.\n",
      "\n",
      "/opt/homebrew/Caskroom/miniforge/base/envs/pytorch_env/lib/python3.9/site-packages/dalex/model_explanations/_model_performance/utils.py:34: FutureWarning:\n",
      "\n",
      "The series.append method is deprecated and will be removed from pandas in a future version. Use pandas.concat instead.\n",
      "\n",
      "/opt/homebrew/Caskroom/miniforge/base/envs/pytorch_env/lib/python3.9/site-packages/dalex/model_explanations/_model_performance/utils.py:33: FutureWarning:\n",
      "\n",
      "The series.append method is deprecated and will be removed from pandas in a future version. Use pandas.concat instead.\n",
      "\n",
      "/opt/homebrew/Caskroom/miniforge/base/envs/pytorch_env/lib/python3.9/site-packages/dalex/model_explanations/_model_performance/utils.py:34: FutureWarning:\n",
      "\n",
      "The series.append method is deprecated and will be removed from pandas in a future version. Use pandas.concat instead.\n",
      "\n",
      "/opt/homebrew/Caskroom/miniforge/base/envs/pytorch_env/lib/python3.9/site-packages/dalex/model_explanations/_model_performance/utils.py:33: FutureWarning:\n",
      "\n",
      "The series.append method is deprecated and will be removed from pandas in a future version. Use pandas.concat instead.\n",
      "\n",
      "/opt/homebrew/Caskroom/miniforge/base/envs/pytorch_env/lib/python3.9/site-packages/dalex/model_explanations/_model_performance/utils.py:34: FutureWarning:\n",
      "\n",
      "The series.append method is deprecated and will be removed from pandas in a future version. Use pandas.concat instead.\n",
      "\n",
      "/opt/homebrew/Caskroom/miniforge/base/envs/pytorch_env/lib/python3.9/site-packages/dalex/model_explanations/_model_performance/utils.py:33: FutureWarning:\n",
      "\n",
      "The series.append method is deprecated and will be removed from pandas in a future version. Use pandas.concat instead.\n",
      "\n",
      "/opt/homebrew/Caskroom/miniforge/base/envs/pytorch_env/lib/python3.9/site-packages/dalex/model_explanations/_model_performance/utils.py:34: FutureWarning:\n",
      "\n",
      "The series.append method is deprecated and will be removed from pandas in a future version. Use pandas.concat instead.\n",
      "\n",
      "/opt/homebrew/Caskroom/miniforge/base/envs/pytorch_env/lib/python3.9/site-packages/dalex/model_explanations/_model_performance/utils.py:33: FutureWarning:\n",
      "\n",
      "The series.append method is deprecated and will be removed from pandas in a future version. Use pandas.concat instead.\n",
      "\n",
      "/opt/homebrew/Caskroom/miniforge/base/envs/pytorch_env/lib/python3.9/site-packages/dalex/model_explanations/_model_performance/utils.py:34: FutureWarning:\n",
      "\n",
      "The series.append method is deprecated and will be removed from pandas in a future version. Use pandas.concat instead.\n",
      "\n",
      "/opt/homebrew/Caskroom/miniforge/base/envs/pytorch_env/lib/python3.9/site-packages/dalex/model_explanations/_model_performance/utils.py:33: FutureWarning:\n",
      "\n",
      "The series.append method is deprecated and will be removed from pandas in a future version. Use pandas.concat instead.\n",
      "\n",
      "/opt/homebrew/Caskroom/miniforge/base/envs/pytorch_env/lib/python3.9/site-packages/dalex/model_explanations/_model_performance/utils.py:34: FutureWarning:\n",
      "\n",
      "The series.append method is deprecated and will be removed from pandas in a future version. Use pandas.concat instead.\n",
      "\n",
      "/opt/homebrew/Caskroom/miniforge/base/envs/pytorch_env/lib/python3.9/site-packages/dalex/model_explanations/_model_performance/utils.py:33: FutureWarning:\n",
      "\n",
      "The series.append method is deprecated and will be removed from pandas in a future version. Use pandas.concat instead.\n",
      "\n",
      "/opt/homebrew/Caskroom/miniforge/base/envs/pytorch_env/lib/python3.9/site-packages/dalex/model_explanations/_model_performance/utils.py:34: FutureWarning:\n",
      "\n",
      "The series.append method is deprecated and will be removed from pandas in a future version. Use pandas.concat instead.\n",
      "\n",
      "/opt/homebrew/Caskroom/miniforge/base/envs/pytorch_env/lib/python3.9/site-packages/dalex/model_explanations/_model_performance/utils.py:33: FutureWarning:\n",
      "\n",
      "The series.append method is deprecated and will be removed from pandas in a future version. Use pandas.concat instead.\n",
      "\n",
      "/opt/homebrew/Caskroom/miniforge/base/envs/pytorch_env/lib/python3.9/site-packages/dalex/model_explanations/_model_performance/utils.py:34: FutureWarning:\n",
      "\n",
      "The series.append method is deprecated and will be removed from pandas in a future version. Use pandas.concat instead.\n",
      "\n",
      "/opt/homebrew/Caskroom/miniforge/base/envs/pytorch_env/lib/python3.9/site-packages/dalex/model_explanations/_model_performance/utils.py:33: FutureWarning:\n",
      "\n",
      "The series.append method is deprecated and will be removed from pandas in a future version. Use pandas.concat instead.\n",
      "\n",
      "/opt/homebrew/Caskroom/miniforge/base/envs/pytorch_env/lib/python3.9/site-packages/dalex/model_explanations/_model_performance/utils.py:34: FutureWarning:\n",
      "\n",
      "The series.append method is deprecated and will be removed from pandas in a future version. Use pandas.concat instead.\n",
      "\n",
      "/opt/homebrew/Caskroom/miniforge/base/envs/pytorch_env/lib/python3.9/site-packages/dalex/model_explanations/_model_performance/utils.py:33: FutureWarning:\n",
      "\n",
      "The series.append method is deprecated and will be removed from pandas in a future version. Use pandas.concat instead.\n",
      "\n",
      "/opt/homebrew/Caskroom/miniforge/base/envs/pytorch_env/lib/python3.9/site-packages/dalex/model_explanations/_model_performance/utils.py:34: FutureWarning:\n",
      "\n",
      "The series.append method is deprecated and will be removed from pandas in a future version. Use pandas.concat instead.\n",
      "\n",
      "/opt/homebrew/Caskroom/miniforge/base/envs/pytorch_env/lib/python3.9/site-packages/dalex/model_explanations/_model_performance/utils.py:33: FutureWarning:\n",
      "\n",
      "The series.append method is deprecated and will be removed from pandas in a future version. Use pandas.concat instead.\n",
      "\n"
     ]
    },
    {
     "name": "stderr",
     "output_type": "stream",
     "text": [
      "/opt/homebrew/Caskroom/miniforge/base/envs/pytorch_env/lib/python3.9/site-packages/dalex/model_explanations/_model_performance/utils.py:34: FutureWarning:\n",
      "\n",
      "The series.append method is deprecated and will be removed from pandas in a future version. Use pandas.concat instead.\n",
      "\n",
      "/opt/homebrew/Caskroom/miniforge/base/envs/pytorch_env/lib/python3.9/site-packages/dalex/model_explanations/_model_performance/utils.py:33: FutureWarning:\n",
      "\n",
      "The series.append method is deprecated and will be removed from pandas in a future version. Use pandas.concat instead.\n",
      "\n",
      "/opt/homebrew/Caskroom/miniforge/base/envs/pytorch_env/lib/python3.9/site-packages/dalex/model_explanations/_model_performance/utils.py:34: FutureWarning:\n",
      "\n",
      "The series.append method is deprecated and will be removed from pandas in a future version. Use pandas.concat instead.\n",
      "\n",
      "/opt/homebrew/Caskroom/miniforge/base/envs/pytorch_env/lib/python3.9/site-packages/dalex/model_explanations/_model_performance/utils.py:33: FutureWarning:\n",
      "\n",
      "The series.append method is deprecated and will be removed from pandas in a future version. Use pandas.concat instead.\n",
      "\n",
      "/opt/homebrew/Caskroom/miniforge/base/envs/pytorch_env/lib/python3.9/site-packages/dalex/model_explanations/_model_performance/utils.py:34: FutureWarning:\n",
      "\n",
      "The series.append method is deprecated and will be removed from pandas in a future version. Use pandas.concat instead.\n",
      "\n",
      "/opt/homebrew/Caskroom/miniforge/base/envs/pytorch_env/lib/python3.9/site-packages/dalex/model_explanations/_model_performance/utils.py:33: FutureWarning:\n",
      "\n",
      "The series.append method is deprecated and will be removed from pandas in a future version. Use pandas.concat instead.\n",
      "\n",
      "/opt/homebrew/Caskroom/miniforge/base/envs/pytorch_env/lib/python3.9/site-packages/dalex/model_explanations/_model_performance/utils.py:34: FutureWarning:\n",
      "\n",
      "The series.append method is deprecated and will be removed from pandas in a future version. Use pandas.concat instead.\n",
      "\n",
      "/opt/homebrew/Caskroom/miniforge/base/envs/pytorch_env/lib/python3.9/site-packages/dalex/model_explanations/_model_performance/utils.py:33: FutureWarning:\n",
      "\n",
      "The series.append method is deprecated and will be removed from pandas in a future version. Use pandas.concat instead.\n",
      "\n",
      "/opt/homebrew/Caskroom/miniforge/base/envs/pytorch_env/lib/python3.9/site-packages/dalex/model_explanations/_model_performance/utils.py:34: FutureWarning:\n",
      "\n",
      "The series.append method is deprecated and will be removed from pandas in a future version. Use pandas.concat instead.\n",
      "\n",
      "/opt/homebrew/Caskroom/miniforge/base/envs/pytorch_env/lib/python3.9/site-packages/dalex/model_explanations/_model_performance/utils.py:33: FutureWarning:\n",
      "\n",
      "The series.append method is deprecated and will be removed from pandas in a future version. Use pandas.concat instead.\n",
      "\n",
      "/opt/homebrew/Caskroom/miniforge/base/envs/pytorch_env/lib/python3.9/site-packages/dalex/model_explanations/_model_performance/utils.py:34: FutureWarning:\n",
      "\n",
      "The series.append method is deprecated and will be removed from pandas in a future version. Use pandas.concat instead.\n",
      "\n",
      "/opt/homebrew/Caskroom/miniforge/base/envs/pytorch_env/lib/python3.9/site-packages/dalex/model_explanations/_model_performance/utils.py:33: FutureWarning:\n",
      "\n",
      "The series.append method is deprecated and will be removed from pandas in a future version. Use pandas.concat instead.\n",
      "\n",
      "/opt/homebrew/Caskroom/miniforge/base/envs/pytorch_env/lib/python3.9/site-packages/dalex/model_explanations/_model_performance/utils.py:34: FutureWarning:\n",
      "\n",
      "The series.append method is deprecated and will be removed from pandas in a future version. Use pandas.concat instead.\n",
      "\n",
      "/opt/homebrew/Caskroom/miniforge/base/envs/pytorch_env/lib/python3.9/site-packages/dalex/model_explanations/_model_performance/utils.py:33: FutureWarning:\n",
      "\n",
      "The series.append method is deprecated and will be removed from pandas in a future version. Use pandas.concat instead.\n",
      "\n",
      "/opt/homebrew/Caskroom/miniforge/base/envs/pytorch_env/lib/python3.9/site-packages/dalex/model_explanations/_model_performance/utils.py:34: FutureWarning:\n",
      "\n",
      "The series.append method is deprecated and will be removed from pandas in a future version. Use pandas.concat instead.\n",
      "\n",
      "/opt/homebrew/Caskroom/miniforge/base/envs/pytorch_env/lib/python3.9/site-packages/dalex/model_explanations/_model_performance/utils.py:33: FutureWarning:\n",
      "\n",
      "The series.append method is deprecated and will be removed from pandas in a future version. Use pandas.concat instead.\n",
      "\n",
      "/opt/homebrew/Caskroom/miniforge/base/envs/pytorch_env/lib/python3.9/site-packages/dalex/model_explanations/_model_performance/utils.py:34: FutureWarning:\n",
      "\n",
      "The series.append method is deprecated and will be removed from pandas in a future version. Use pandas.concat instead.\n",
      "\n",
      "/opt/homebrew/Caskroom/miniforge/base/envs/pytorch_env/lib/python3.9/site-packages/dalex/model_explanations/_model_performance/utils.py:33: FutureWarning:\n",
      "\n",
      "The series.append method is deprecated and will be removed from pandas in a future version. Use pandas.concat instead.\n",
      "\n",
      "/opt/homebrew/Caskroom/miniforge/base/envs/pytorch_env/lib/python3.9/site-packages/dalex/model_explanations/_model_performance/utils.py:34: FutureWarning:\n",
      "\n",
      "The series.append method is deprecated and will be removed from pandas in a future version. Use pandas.concat instead.\n",
      "\n",
      "/opt/homebrew/Caskroom/miniforge/base/envs/pytorch_env/lib/python3.9/site-packages/dalex/model_explanations/_model_performance/utils.py:33: FutureWarning:\n",
      "\n",
      "The series.append method is deprecated and will be removed from pandas in a future version. Use pandas.concat instead.\n",
      "\n",
      "/opt/homebrew/Caskroom/miniforge/base/envs/pytorch_env/lib/python3.9/site-packages/dalex/model_explanations/_model_performance/utils.py:34: FutureWarning:\n",
      "\n",
      "The series.append method is deprecated and will be removed from pandas in a future version. Use pandas.concat instead.\n",
      "\n",
      "/opt/homebrew/Caskroom/miniforge/base/envs/pytorch_env/lib/python3.9/site-packages/dalex/model_explanations/_model_performance/utils.py:33: FutureWarning:\n",
      "\n",
      "The series.append method is deprecated and will be removed from pandas in a future version. Use pandas.concat instead.\n",
      "\n",
      "/opt/homebrew/Caskroom/miniforge/base/envs/pytorch_env/lib/python3.9/site-packages/dalex/model_explanations/_model_performance/utils.py:34: FutureWarning:\n",
      "\n",
      "The series.append method is deprecated and will be removed from pandas in a future version. Use pandas.concat instead.\n",
      "\n"
     ]
    },
    {
     "data": {
      "application/vnd.plotly.v1+json": {
       "config": {
        "displaylogo": false,
        "modeBarButtonsToRemove": [
         "sendDataToCloud",
         "lasso2d",
         "autoScale2d",
         "select2d",
         "zoom2d",
         "pan2d",
         "zoomIn2d",
         "zoomOut2d",
         "resetScale2d",
         "toggleSpikelines",
         "hoverCompareCartesian",
         "hoverClosestCartesian"
        ],
        "plotlyServerURL": "https://plot.ly",
        "staticPlot": false,
        "toImageButtonOptions": {
         "height": null,
         "width": null
        }
       },
       "data": [
        {
         "base": 0.3605386017464546,
         "hoverinfo": "text",
         "hoverlabel": {
          "bgcolor": "rgba(0,0,0,0.8)"
         },
         "hovertext": [
          "Model: Random Forest Bias Unaware loss after<br>variable: priors_count is permuted: 0.455<br>Drop-out loss change: +0.095",
          "Model: Random Forest Bias Unaware loss after<br>variable: age is permuted: 0.385<br>Drop-out loss change: +0.024",
          "Model: Random Forest Bias Unaware loss after<br>variable: sex is permuted: 0.359<br>Drop-out loss change: -0.001",
          "Model: Random Forest Bias Unaware loss after<br>variable: c_charge_degree is permuted: 0.359<br>Drop-out loss change: -0.001",
          "Model: Random Forest Bias Unaware loss after<br>variable: juv_count is permuted: 0.361<br>Drop-out loss change: -0.0",
          "Model: Random Forest Bias Unaware loss after<br>variable: race is permuted: 0.356<br>Drop-out loss change: -0.005"
         ],
         "marker": {
          "color": "#8bdcbe"
         },
         "orientation": "h",
         "showlegend": false,
         "text": [
          "+0.095",
          "+0.024",
          "0.001",
          "0.001",
          "0.0",
          "0.005"
         ],
         "textposition": "outside",
         "type": "bar",
         "x": [
          0.09478361994411122,
          0.02436678217482524,
          -0.0013993953354191624,
          -0.0010418740199134024,
          0,
          -0.004904096751755516
         ],
         "xaxis": "x",
         "y": [
          "priors_count",
          "age",
          "sex",
          "c_charge_degree",
          "juv_count",
          "race"
         ],
         "yaxis": "y"
        },
        {
         "base": 0.3105099672738466,
         "hoverinfo": "text",
         "hoverlabel": {
          "bgcolor": "rgba(0,0,0,0.8)"
         },
         "hovertext": [
          "Model: Random Forest DIR loss after<br>variable: priors_count is permuted: 0.437<br>Drop-out loss change: +0.127",
          "Model: Random Forest DIR loss after<br>variable: age is permuted: 0.384<br>Drop-out loss change: +0.074",
          "Model: Random Forest DIR loss after<br>variable: sex is permuted: 0.321<br>Drop-out loss change: +0.01",
          "Model: Random Forest DIR loss after<br>variable: c_charge_degree is permuted: 0.318<br>Drop-out loss change: +0.008",
          "Model: Random Forest DIR loss after<br>variable: juv_count is permuted: 0.311<br>Drop-out loss change: -0.0",
          "Model: Random Forest DIR loss after<br>variable: race is permuted: 0.307<br>Drop-out loss change: -0.003"
         ],
         "marker": {
          "color": "#4378bf"
         },
         "orientation": "h",
         "showlegend": false,
         "text": [
          "+0.127",
          "+0.074",
          "+0.01",
          "+0.008",
          "0.0",
          "0.003"
         ],
         "textposition": "outside",
         "type": "bar",
         "x": [
          0.12678444451605575,
          0.07351034595710204,
          0.010138047928593796,
          0.007971508338449895,
          0,
          -0.0032304990053516613
         ],
         "xaxis": "x2",
         "y": [
          "priors_count",
          "age",
          "sex",
          "c_charge_degree",
          "juv_count",
          "race"
         ],
         "yaxis": "y2"
        }
       ],
       "layout": {
        "annotations": [
         {
          "font": {
           "size": 16
          },
          "showarrow": false,
          "text": "Random Forest Bias Unaware",
          "x": 0.5,
          "xanchor": "center",
          "xref": "paper",
          "y": 1,
          "yanchor": "bottom",
          "yref": "paper"
         },
         {
          "font": {
           "size": 16
          },
          "showarrow": false,
          "text": "Random Forest DIR",
          "x": 0.5,
          "xanchor": "center",
          "xref": "paper",
          "y": 0.45,
          "yanchor": "bottom",
          "yref": "paper"
         },
         {
          "font": {
           "size": 16
          },
          "showarrow": false,
          "text": "drop-out loss",
          "x": 0.5,
          "xanchor": "center",
          "xref": "paper",
          "y": 0,
          "yanchor": "top",
          "yref": "paper",
          "yshift": -30
         }
        ],
        "font": {
         "color": "#371ea3"
        },
        "height": 527,
        "margin": {
         "b": 71,
         "r": 30,
         "t": 78
        },
        "shapes": [
         {
          "line": {
           "color": "#371ea3",
           "dash": "dot",
           "width": 1.5
          },
          "type": "line",
          "x0": 0.3605386017464546,
          "x1": 0.3605386017464546,
          "xref": "x",
          "y0": -1,
          "y1": 6,
          "yref": "y"
         },
         {
          "line": {
           "color": "#371ea3",
           "dash": "dot",
           "width": 1.5
          },
          "type": "line",
          "x0": 0.3105099672738466,
          "x1": 0.3105099672738466,
          "xref": "x2",
          "y0": -1,
          "y1": 6,
          "yref": "y2"
         }
        ],
        "template": {
         "data": {
          "scatter": [
           {
            "type": "scatter"
           }
          ]
         }
        },
        "title": {
         "text": "Variable Importance",
         "x": 0.15
        },
        "xaxis": {
         "anchor": "y",
         "automargin": true,
         "domain": [
          0,
          1
         ],
         "fixedrange": true,
         "gridwidth": 2,
         "matches": "x2",
         "range": [
          0.28507305525518434,
          0.4775286347038764
         ],
         "showticklabels": false,
         "tickcolor": "white",
         "ticklen": 3,
         "ticks": "outside",
         "type": "linear",
         "zeroline": false
        },
        "xaxis2": {
         "anchor": "y2",
         "automargin": true,
         "domain": [
          0,
          1
         ],
         "fixedrange": true,
         "gridwidth": 2,
         "range": [
          0.28507305525518434,
          0.4775286347038764
         ],
         "tickcolor": "white",
         "ticklen": 3,
         "ticks": "outside",
         "type": "linear",
         "zeroline": false
        },
        "yaxis": {
         "anchor": "x",
         "automargin": true,
         "autorange": "reversed",
         "domain": [
          0.55,
          1
         ],
         "fixedrange": true,
         "gridwidth": 2,
         "tickcolor": "white",
         "ticklen": 10,
         "ticks": "outside",
         "type": "category"
        },
        "yaxis2": {
         "anchor": "x2",
         "automargin": true,
         "autorange": "reversed",
         "domain": [
          0,
          0.45
         ],
         "fixedrange": true,
         "gridwidth": 2,
         "tickcolor": "white",
         "ticklen": 10,
         "ticks": "outside",
         "type": "category"
        }
       }
      },
      "text/html": [
       "<div>                            <div id=\"22f28f64-13c8-4ef8-9d24-414629647dab\" class=\"plotly-graph-div\" style=\"height:527.0px; width:100%;\"></div>            <script type=\"text/javascript\">                require([\"plotly\"], function(Plotly) {                    window.PLOTLYENV=window.PLOTLYENV || {};                                    if (document.getElementById(\"22f28f64-13c8-4ef8-9d24-414629647dab\")) {                    Plotly.newPlot(                        \"22f28f64-13c8-4ef8-9d24-414629647dab\",                        [{\"base\":0.3605386017464546,\"hoverinfo\":\"text\",\"hoverlabel\":{\"bgcolor\":\"rgba(0,0,0,0.8)\"},\"hovertext\":[\"Model: Random Forest Bias Unaware loss after<br>variable: priors_count is permuted: 0.455<br>Drop-out loss change: +0.095\",\"Model: Random Forest Bias Unaware loss after<br>variable: age is permuted: 0.385<br>Drop-out loss change: +0.024\",\"Model: Random Forest Bias Unaware loss after<br>variable: sex is permuted: 0.359<br>Drop-out loss change: -0.001\",\"Model: Random Forest Bias Unaware loss after<br>variable: c_charge_degree is permuted: 0.359<br>Drop-out loss change: -0.001\",\"Model: Random Forest Bias Unaware loss after<br>variable: juv_count is permuted: 0.361<br>Drop-out loss change: -0.0\",\"Model: Random Forest Bias Unaware loss after<br>variable: race is permuted: 0.356<br>Drop-out loss change: -0.005\"],\"marker\":{\"color\":\"#8bdcbe\"},\"orientation\":\"h\",\"showlegend\":false,\"text\":[\"+0.095\",\"+0.024\",\"0.001\",\"0.001\",\"0.0\",\"0.005\"],\"textposition\":\"outside\",\"x\":[0.09478361994411122,0.02436678217482524,-0.0013993953354191624,-0.0010418740199134024,0.0,-0.004904096751755516],\"y\":[\"priors_count\",\"age\",\"sex\",\"c_charge_degree\",\"juv_count\",\"race\"],\"type\":\"bar\",\"xaxis\":\"x\",\"yaxis\":\"y\"},{\"base\":0.3105099672738466,\"hoverinfo\":\"text\",\"hoverlabel\":{\"bgcolor\":\"rgba(0,0,0,0.8)\"},\"hovertext\":[\"Model: Random Forest DIR loss after<br>variable: priors_count is permuted: 0.437<br>Drop-out loss change: +0.127\",\"Model: Random Forest DIR loss after<br>variable: age is permuted: 0.384<br>Drop-out loss change: +0.074\",\"Model: Random Forest DIR loss after<br>variable: sex is permuted: 0.321<br>Drop-out loss change: +0.01\",\"Model: Random Forest DIR loss after<br>variable: c_charge_degree is permuted: 0.318<br>Drop-out loss change: +0.008\",\"Model: Random Forest DIR loss after<br>variable: juv_count is permuted: 0.311<br>Drop-out loss change: -0.0\",\"Model: Random Forest DIR loss after<br>variable: race is permuted: 0.307<br>Drop-out loss change: -0.003\"],\"marker\":{\"color\":\"#4378bf\"},\"orientation\":\"h\",\"showlegend\":false,\"text\":[\"+0.127\",\"+0.074\",\"+0.01\",\"+0.008\",\"0.0\",\"0.003\"],\"textposition\":\"outside\",\"x\":[0.12678444451605575,0.07351034595710204,0.010138047928593796,0.007971508338449895,0.0,-0.0032304990053516613],\"y\":[\"priors_count\",\"age\",\"sex\",\"c_charge_degree\",\"juv_count\",\"race\"],\"type\":\"bar\",\"xaxis\":\"x2\",\"yaxis\":\"y2\"}],                        {\"template\":{\"data\":{\"scatter\":[{\"type\":\"scatter\"}]}},\"xaxis\":{\"anchor\":\"y\",\"domain\":[0.0,1.0],\"matches\":\"x2\",\"showticklabels\":false,\"type\":\"linear\",\"gridwidth\":2,\"zeroline\":false,\"automargin\":true,\"ticks\":\"outside\",\"tickcolor\":\"white\",\"ticklen\":3,\"fixedrange\":true,\"range\":[0.28507305525518434,0.4775286347038764]},\"yaxis\":{\"anchor\":\"x\",\"domain\":[0.55,1.0],\"type\":\"category\",\"autorange\":\"reversed\",\"gridwidth\":2,\"automargin\":true,\"ticks\":\"outside\",\"tickcolor\":\"white\",\"ticklen\":10,\"fixedrange\":true},\"xaxis2\":{\"anchor\":\"y2\",\"domain\":[0.0,1.0],\"type\":\"linear\",\"gridwidth\":2,\"zeroline\":false,\"automargin\":true,\"ticks\":\"outside\",\"tickcolor\":\"white\",\"ticklen\":3,\"fixedrange\":true,\"range\":[0.28507305525518434,0.4775286347038764]},\"yaxis2\":{\"anchor\":\"x2\",\"domain\":[0.0,0.45],\"type\":\"category\",\"autorange\":\"reversed\",\"gridwidth\":2,\"automargin\":true,\"ticks\":\"outside\",\"tickcolor\":\"white\",\"ticklen\":10,\"fixedrange\":true},\"annotations\":[{\"font\":{\"size\":16},\"showarrow\":false,\"text\":\"Random Forest Bias Unaware\",\"x\":0.5,\"xanchor\":\"center\",\"xref\":\"paper\",\"y\":1.0,\"yanchor\":\"bottom\",\"yref\":\"paper\"},{\"font\":{\"size\":16},\"showarrow\":false,\"text\":\"Random Forest DIR\",\"x\":0.5,\"xanchor\":\"center\",\"xref\":\"paper\",\"y\":0.45,\"yanchor\":\"bottom\",\"yref\":\"paper\"},{\"font\":{\"size\":16},\"showarrow\":false,\"text\":\"drop-out loss\",\"x\":0.5,\"xanchor\":\"center\",\"xref\":\"paper\",\"y\":0,\"yanchor\":\"top\",\"yref\":\"paper\",\"yshift\":-30}],\"shapes\":[{\"line\":{\"color\":\"#371ea3\",\"dash\":\"dot\",\"width\":1.5},\"type\":\"line\",\"x0\":0.3605386017464546,\"x1\":0.3605386017464546,\"xref\":\"x\",\"y0\":-1,\"y1\":6,\"yref\":\"y\"},{\"line\":{\"color\":\"#371ea3\",\"dash\":\"dot\",\"width\":1.5},\"type\":\"line\",\"x0\":0.3105099672738466,\"x1\":0.3105099672738466,\"xref\":\"x2\",\"y0\":-1,\"y1\":6,\"yref\":\"y2\"}],\"title\":{\"text\":\"Variable Importance\",\"x\":0.15},\"font\":{\"color\":\"#371ea3\"},\"margin\":{\"t\":78,\"b\":71,\"r\":30},\"height\":527.0},                        {\"displaylogo\": false, \"staticPlot\": false, \"toImageButtonOptions\": {\"height\": null, \"width\": null}, \"modeBarButtonsToRemove\": [\"sendDataToCloud\", \"lasso2d\", \"autoScale2d\", \"select2d\", \"zoom2d\", \"pan2d\", \"zoomIn2d\", \"zoomOut2d\", \"resetScale2d\", \"toggleSpikelines\", \"hoverCompareCartesian\", \"hoverClosestCartesian\"], \"responsive\": true}                    ).then(function(){\n",
       "                            \n",
       "var gd = document.getElementById('22f28f64-13c8-4ef8-9d24-414629647dab');\n",
       "var x = new MutationObserver(function (mutations, observer) {{\n",
       "        var display = window.getComputedStyle(gd).display;\n",
       "        if (!display || display === 'none') {{\n",
       "            console.log([gd, 'removed!']);\n",
       "            Plotly.purge(gd);\n",
       "            observer.disconnect();\n",
       "        }}\n",
       "}});\n",
       "\n",
       "// Listen for the removal of the full notebook cells\n",
       "var notebookContainer = gd.closest('#notebook-container');\n",
       "if (notebookContainer) {{\n",
       "    x.observe(notebookContainer, {childList: true});\n",
       "}}\n",
       "\n",
       "// Listen for the clearing of the current output cell\n",
       "var outputEl = gd.closest('.output');\n",
       "if (outputEl) {{\n",
       "    x.observe(outputEl, {childList: true});\n",
       "}}\n",
       "\n",
       "                        })                };                });            </script>        </div>"
      ]
     },
     "metadata": {},
     "output_type": "display_data"
    }
   ],
   "source": [
    "# Still using the same features, note that race has become less important.\n",
    "exp_tree.model_parts().plot(objects=[exp_tree_aware.model_parts()])"
   ]
  },
  {
   "cell_type": "code",
   "execution_count": 88,
   "id": "quiet-disposal",
   "metadata": {},
   "outputs": [
    {
     "name": "stderr",
     "output_type": "stream",
     "text": [
      "/opt/homebrew/Caskroom/miniforge/base/envs/pytorch_env/lib/python3.9/site-packages/dalex/fairness/_group_fairness/utils.py:178: FutureWarning:\n",
      "\n",
      "The frame.append method is deprecated and will be removed from pandas in a future version. Use pandas.concat instead.\n",
      "\n"
     ]
    },
    {
     "data": {
      "application/vnd.plotly.v1+json": {
       "config": {
        "displaylogo": false,
        "modeBarButtonsToRemove": [
         "sendDataToCloud",
         "lasso2d",
         "autoScale2d",
         "select2d",
         "zoom2d",
         "pan2d",
         "zoomIn2d",
         "zoomOut2d",
         "resetScale2d",
         "toggleSpikelines",
         "hoverCompareCartesian",
         "hoverClosestCartesian"
        ],
        "plotlyServerURL": "https://plot.ly",
        "staticPlot": false,
        "toImageButtonOptions": {
         "height": null,
         "width": null
        }
       },
       "data": [
        {
         "alignmentgroup": "True",
         "customdata": [
          [
           0.948,
           "TPR"
          ],
          [
           0.769,
           "TPR"
          ]
         ],
         "hovertemplate": "<b>%{label}</b><br>Metric: %{customdata[1]}<br>Parity loss: %{customdata[0]}<br><extra></extra>",
         "legendgroup": "TPR",
         "marker": {
          "color": "#8bdcbe",
          "line": {
           "width": 0
          },
          "pattern": {
           "shape": ""
          }
         },
         "name": "TPR",
         "offsetgroup": "TPR",
         "orientation": "h",
         "showlegend": true,
         "textposition": "auto",
         "type": "bar",
         "x": [
          0.94754497425492,
          0.7693908613728376
         ],
         "xaxis": "x",
         "y": [
          "Random Forest Bias Unaware",
          "Random Forest DIR"
         ],
         "yaxis": "y"
        },
        {
         "alignmentgroup": "True",
         "customdata": [
          [
           0.543,
           "PPV"
          ],
          [
           0.456,
           "PPV"
          ]
         ],
         "hovertemplate": "<b>%{label}</b><br>Metric: %{customdata[1]}<br>Parity loss: %{customdata[0]}<br><extra></extra>",
         "legendgroup": "PPV",
         "marker": {
          "color": "#f05a71",
          "line": {
           "width": 0
          },
          "pattern": {
           "shape": ""
          }
         },
         "name": "PPV",
         "offsetgroup": "PPV",
         "orientation": "h",
         "showlegend": true,
         "textposition": "auto",
         "type": "bar",
         "x": [
          0.5429742566001265,
          0.45584892237735697
         ],
         "xaxis": "x",
         "y": [
          "Random Forest Bias Unaware",
          "Random Forest DIR"
         ],
         "yaxis": "y"
        },
        {
         "alignmentgroup": "True",
         "customdata": [
          [
           0.952,
           "FPR"
          ],
          [
           0.906,
           "FPR"
          ]
         ],
         "hovertemplate": "<b>%{label}</b><br>Metric: %{customdata[1]}<br>Parity loss: %{customdata[0]}<br><extra></extra>",
         "legendgroup": "FPR",
         "marker": {
          "color": "#4378bf",
          "line": {
           "width": 0
          },
          "pattern": {
           "shape": ""
          }
         },
         "name": "FPR",
         "offsetgroup": "FPR",
         "orientation": "h",
         "showlegend": true,
         "textposition": "auto",
         "type": "bar",
         "x": [
          0.951525851832893,
          0.9057080230338375
         ],
         "xaxis": "x",
         "y": [
          "Random Forest Bias Unaware",
          "Random Forest DIR"
         ],
         "yaxis": "y"
        },
        {
         "alignmentgroup": "True",
         "customdata": [
          [
           0.079,
           "ACC"
          ],
          [
           0.104,
           "ACC"
          ]
         ],
         "hovertemplate": "<b>%{label}</b><br>Metric: %{customdata[1]}<br>Parity loss: %{customdata[0]}<br><extra></extra>",
         "legendgroup": "ACC",
         "marker": {
          "color": "#ae2c87",
          "line": {
           "width": 0
          },
          "pattern": {
           "shape": ""
          }
         },
         "name": "ACC",
         "offsetgroup": "ACC",
         "orientation": "h",
         "showlegend": true,
         "textposition": "auto",
         "type": "bar",
         "x": [
          0.07851647484576588,
          0.10408735487282528
         ],
         "xaxis": "x",
         "y": [
          "Random Forest Bias Unaware",
          "Random Forest DIR"
         ],
         "yaxis": "y"
        },
        {
         "alignmentgroup": "True",
         "customdata": [
          [
           0.956,
           "STP"
          ],
          [
           0.92,
           "STP"
          ]
         ],
         "hovertemplate": "<b>%{label}</b><br>Metric: %{customdata[1]}<br>Parity loss: %{customdata[0]}<br><extra></extra>",
         "legendgroup": "STP",
         "marker": {
          "color": "#ffa58c",
          "line": {
           "width": 0
          },
          "pattern": {
           "shape": ""
          }
         },
         "name": "STP",
         "offsetgroup": "STP",
         "orientation": "h",
         "showlegend": true,
         "textposition": "auto",
         "type": "bar",
         "x": [
          0.956271235113839,
          0.9198451337440581
         ],
         "xaxis": "x",
         "y": [
          "Random Forest Bias Unaware",
          "Random Forest DIR"
         ],
         "yaxis": "y"
        }
       ],
       "layout": {
        "barmode": "relative",
        "font": {
         "color": "#371ea3"
        },
        "legend": {
         "title": {
          "text": "metric"
         },
         "tracegroupgap": 0
        },
        "margin": {
         "b": 71,
         "r": 30,
         "t": 78
        },
        "template": {
         "data": {
          "bar": [
           {
            "error_x": {
             "color": "#2a3f5f"
            },
            "error_y": {
             "color": "#2a3f5f"
            },
            "marker": {
             "line": {
              "color": "white",
              "width": 0.5
             },
             "pattern": {
              "fillmode": "overlay",
              "size": 10,
              "solidity": 0.2
             }
            },
            "type": "bar"
           }
          ],
          "barpolar": [
           {
            "marker": {
             "line": {
              "color": "white",
              "width": 0.5
             },
             "pattern": {
              "fillmode": "overlay",
              "size": 10,
              "solidity": 0.2
             }
            },
            "type": "barpolar"
           }
          ],
          "carpet": [
           {
            "aaxis": {
             "endlinecolor": "#2a3f5f",
             "gridcolor": "#C8D4E3",
             "linecolor": "#C8D4E3",
             "minorgridcolor": "#C8D4E3",
             "startlinecolor": "#2a3f5f"
            },
            "baxis": {
             "endlinecolor": "#2a3f5f",
             "gridcolor": "#C8D4E3",
             "linecolor": "#C8D4E3",
             "minorgridcolor": "#C8D4E3",
             "startlinecolor": "#2a3f5f"
            },
            "type": "carpet"
           }
          ],
          "choropleth": [
           {
            "colorbar": {
             "outlinewidth": 0,
             "ticks": ""
            },
            "type": "choropleth"
           }
          ],
          "contour": [
           {
            "colorbar": {
             "outlinewidth": 0,
             "ticks": ""
            },
            "colorscale": [
             [
              0,
              "#0d0887"
             ],
             [
              0.1111111111111111,
              "#46039f"
             ],
             [
              0.2222222222222222,
              "#7201a8"
             ],
             [
              0.3333333333333333,
              "#9c179e"
             ],
             [
              0.4444444444444444,
              "#bd3786"
             ],
             [
              0.5555555555555556,
              "#d8576b"
             ],
             [
              0.6666666666666666,
              "#ed7953"
             ],
             [
              0.7777777777777778,
              "#fb9f3a"
             ],
             [
              0.8888888888888888,
              "#fdca26"
             ],
             [
              1,
              "#f0f921"
             ]
            ],
            "type": "contour"
           }
          ],
          "contourcarpet": [
           {
            "colorbar": {
             "outlinewidth": 0,
             "ticks": ""
            },
            "type": "contourcarpet"
           }
          ],
          "heatmap": [
           {
            "colorbar": {
             "outlinewidth": 0,
             "ticks": ""
            },
            "colorscale": [
             [
              0,
              "#0d0887"
             ],
             [
              0.1111111111111111,
              "#46039f"
             ],
             [
              0.2222222222222222,
              "#7201a8"
             ],
             [
              0.3333333333333333,
              "#9c179e"
             ],
             [
              0.4444444444444444,
              "#bd3786"
             ],
             [
              0.5555555555555556,
              "#d8576b"
             ],
             [
              0.6666666666666666,
              "#ed7953"
             ],
             [
              0.7777777777777778,
              "#fb9f3a"
             ],
             [
              0.8888888888888888,
              "#fdca26"
             ],
             [
              1,
              "#f0f921"
             ]
            ],
            "type": "heatmap"
           }
          ],
          "heatmapgl": [
           {
            "colorbar": {
             "outlinewidth": 0,
             "ticks": ""
            },
            "colorscale": [
             [
              0,
              "#0d0887"
             ],
             [
              0.1111111111111111,
              "#46039f"
             ],
             [
              0.2222222222222222,
              "#7201a8"
             ],
             [
              0.3333333333333333,
              "#9c179e"
             ],
             [
              0.4444444444444444,
              "#bd3786"
             ],
             [
              0.5555555555555556,
              "#d8576b"
             ],
             [
              0.6666666666666666,
              "#ed7953"
             ],
             [
              0.7777777777777778,
              "#fb9f3a"
             ],
             [
              0.8888888888888888,
              "#fdca26"
             ],
             [
              1,
              "#f0f921"
             ]
            ],
            "type": "heatmapgl"
           }
          ],
          "histogram": [
           {
            "marker": {
             "pattern": {
              "fillmode": "overlay",
              "size": 10,
              "solidity": 0.2
             }
            },
            "type": "histogram"
           }
          ],
          "histogram2d": [
           {
            "colorbar": {
             "outlinewidth": 0,
             "ticks": ""
            },
            "colorscale": [
             [
              0,
              "#0d0887"
             ],
             [
              0.1111111111111111,
              "#46039f"
             ],
             [
              0.2222222222222222,
              "#7201a8"
             ],
             [
              0.3333333333333333,
              "#9c179e"
             ],
             [
              0.4444444444444444,
              "#bd3786"
             ],
             [
              0.5555555555555556,
              "#d8576b"
             ],
             [
              0.6666666666666666,
              "#ed7953"
             ],
             [
              0.7777777777777778,
              "#fb9f3a"
             ],
             [
              0.8888888888888888,
              "#fdca26"
             ],
             [
              1,
              "#f0f921"
             ]
            ],
            "type": "histogram2d"
           }
          ],
          "histogram2dcontour": [
           {
            "colorbar": {
             "outlinewidth": 0,
             "ticks": ""
            },
            "colorscale": [
             [
              0,
              "#0d0887"
             ],
             [
              0.1111111111111111,
              "#46039f"
             ],
             [
              0.2222222222222222,
              "#7201a8"
             ],
             [
              0.3333333333333333,
              "#9c179e"
             ],
             [
              0.4444444444444444,
              "#bd3786"
             ],
             [
              0.5555555555555556,
              "#d8576b"
             ],
             [
              0.6666666666666666,
              "#ed7953"
             ],
             [
              0.7777777777777778,
              "#fb9f3a"
             ],
             [
              0.8888888888888888,
              "#fdca26"
             ],
             [
              1,
              "#f0f921"
             ]
            ],
            "type": "histogram2dcontour"
           }
          ],
          "mesh3d": [
           {
            "colorbar": {
             "outlinewidth": 0,
             "ticks": ""
            },
            "type": "mesh3d"
           }
          ],
          "parcoords": [
           {
            "line": {
             "colorbar": {
              "outlinewidth": 0,
              "ticks": ""
             }
            },
            "type": "parcoords"
           }
          ],
          "pie": [
           {
            "automargin": true,
            "type": "pie"
           }
          ],
          "scatter": [
           {
            "marker": {
             "colorbar": {
              "outlinewidth": 0,
              "ticks": ""
             }
            },
            "type": "scatter"
           }
          ],
          "scatter3d": [
           {
            "line": {
             "colorbar": {
              "outlinewidth": 0,
              "ticks": ""
             }
            },
            "marker": {
             "colorbar": {
              "outlinewidth": 0,
              "ticks": ""
             }
            },
            "type": "scatter3d"
           }
          ],
          "scattercarpet": [
           {
            "marker": {
             "colorbar": {
              "outlinewidth": 0,
              "ticks": ""
             }
            },
            "type": "scattercarpet"
           }
          ],
          "scattergeo": [
           {
            "marker": {
             "colorbar": {
              "outlinewidth": 0,
              "ticks": ""
             }
            },
            "type": "scattergeo"
           }
          ],
          "scattergl": [
           {
            "marker": {
             "colorbar": {
              "outlinewidth": 0,
              "ticks": ""
             }
            },
            "type": "scattergl"
           }
          ],
          "scattermapbox": [
           {
            "marker": {
             "colorbar": {
              "outlinewidth": 0,
              "ticks": ""
             }
            },
            "type": "scattermapbox"
           }
          ],
          "scatterpolar": [
           {
            "marker": {
             "colorbar": {
              "outlinewidth": 0,
              "ticks": ""
             }
            },
            "type": "scatterpolar"
           }
          ],
          "scatterpolargl": [
           {
            "marker": {
             "colorbar": {
              "outlinewidth": 0,
              "ticks": ""
             }
            },
            "type": "scatterpolargl"
           }
          ],
          "scatterternary": [
           {
            "marker": {
             "colorbar": {
              "outlinewidth": 0,
              "ticks": ""
             }
            },
            "type": "scatterternary"
           }
          ],
          "surface": [
           {
            "colorbar": {
             "outlinewidth": 0,
             "ticks": ""
            },
            "colorscale": [
             [
              0,
              "#0d0887"
             ],
             [
              0.1111111111111111,
              "#46039f"
             ],
             [
              0.2222222222222222,
              "#7201a8"
             ],
             [
              0.3333333333333333,
              "#9c179e"
             ],
             [
              0.4444444444444444,
              "#bd3786"
             ],
             [
              0.5555555555555556,
              "#d8576b"
             ],
             [
              0.6666666666666666,
              "#ed7953"
             ],
             [
              0.7777777777777778,
              "#fb9f3a"
             ],
             [
              0.8888888888888888,
              "#fdca26"
             ],
             [
              1,
              "#f0f921"
             ]
            ],
            "type": "surface"
           }
          ],
          "table": [
           {
            "cells": {
             "fill": {
              "color": "#EBF0F8"
             },
             "line": {
              "color": "white"
             }
            },
            "header": {
             "fill": {
              "color": "#C8D4E3"
             },
             "line": {
              "color": "white"
             }
            },
            "type": "table"
           }
          ]
         },
         "layout": {
          "annotationdefaults": {
           "arrowcolor": "#2a3f5f",
           "arrowhead": 0,
           "arrowwidth": 1
          },
          "autotypenumbers": "strict",
          "coloraxis": {
           "colorbar": {
            "outlinewidth": 0,
            "ticks": ""
           }
          },
          "colorscale": {
           "diverging": [
            [
             0,
             "#8e0152"
            ],
            [
             0.1,
             "#c51b7d"
            ],
            [
             0.2,
             "#de77ae"
            ],
            [
             0.3,
             "#f1b6da"
            ],
            [
             0.4,
             "#fde0ef"
            ],
            [
             0.5,
             "#f7f7f7"
            ],
            [
             0.6,
             "#e6f5d0"
            ],
            [
             0.7,
             "#b8e186"
            ],
            [
             0.8,
             "#7fbc41"
            ],
            [
             0.9,
             "#4d9221"
            ],
            [
             1,
             "#276419"
            ]
           ],
           "sequential": [
            [
             0,
             "#0d0887"
            ],
            [
             0.1111111111111111,
             "#46039f"
            ],
            [
             0.2222222222222222,
             "#7201a8"
            ],
            [
             0.3333333333333333,
             "#9c179e"
            ],
            [
             0.4444444444444444,
             "#bd3786"
            ],
            [
             0.5555555555555556,
             "#d8576b"
            ],
            [
             0.6666666666666666,
             "#ed7953"
            ],
            [
             0.7777777777777778,
             "#fb9f3a"
            ],
            [
             0.8888888888888888,
             "#fdca26"
            ],
            [
             1,
             "#f0f921"
            ]
           ],
           "sequentialminus": [
            [
             0,
             "#0d0887"
            ],
            [
             0.1111111111111111,
             "#46039f"
            ],
            [
             0.2222222222222222,
             "#7201a8"
            ],
            [
             0.3333333333333333,
             "#9c179e"
            ],
            [
             0.4444444444444444,
             "#bd3786"
            ],
            [
             0.5555555555555556,
             "#d8576b"
            ],
            [
             0.6666666666666666,
             "#ed7953"
            ],
            [
             0.7777777777777778,
             "#fb9f3a"
            ],
            [
             0.8888888888888888,
             "#fdca26"
            ],
            [
             1,
             "#f0f921"
            ]
           ]
          },
          "colorway": [
           "#636efa",
           "#EF553B",
           "#00cc96",
           "#ab63fa",
           "#FFA15A",
           "#19d3f3",
           "#FF6692",
           "#B6E880",
           "#FF97FF",
           "#FECB52"
          ],
          "font": {
           "color": "#2a3f5f"
          },
          "geo": {
           "bgcolor": "white",
           "lakecolor": "white",
           "landcolor": "white",
           "showlakes": true,
           "showland": true,
           "subunitcolor": "#C8D4E3"
          },
          "hoverlabel": {
           "align": "left"
          },
          "hovermode": "closest",
          "mapbox": {
           "style": "light"
          },
          "paper_bgcolor": "white",
          "plot_bgcolor": "white",
          "polar": {
           "angularaxis": {
            "gridcolor": "#EBF0F8",
            "linecolor": "#EBF0F8",
            "ticks": ""
           },
           "bgcolor": "white",
           "radialaxis": {
            "gridcolor": "#EBF0F8",
            "linecolor": "#EBF0F8",
            "ticks": ""
           }
          },
          "scene": {
           "xaxis": {
            "backgroundcolor": "white",
            "gridcolor": "#DFE8F3",
            "gridwidth": 2,
            "linecolor": "#EBF0F8",
            "showbackground": true,
            "ticks": "",
            "zerolinecolor": "#EBF0F8"
           },
           "yaxis": {
            "backgroundcolor": "white",
            "gridcolor": "#DFE8F3",
            "gridwidth": 2,
            "linecolor": "#EBF0F8",
            "showbackground": true,
            "ticks": "",
            "zerolinecolor": "#EBF0F8"
           },
           "zaxis": {
            "backgroundcolor": "white",
            "gridcolor": "#DFE8F3",
            "gridwidth": 2,
            "linecolor": "#EBF0F8",
            "showbackground": true,
            "ticks": "",
            "zerolinecolor": "#EBF0F8"
           }
          },
          "shapedefaults": {
           "line": {
            "color": "#2a3f5f"
           }
          },
          "ternary": {
           "aaxis": {
            "gridcolor": "#DFE8F3",
            "linecolor": "#A2B1C6",
            "ticks": ""
           },
           "baxis": {
            "gridcolor": "#DFE8F3",
            "linecolor": "#A2B1C6",
            "ticks": ""
           },
           "bgcolor": "white",
           "caxis": {
            "gridcolor": "#DFE8F3",
            "linecolor": "#A2B1C6",
            "ticks": ""
           }
          },
          "title": {
           "x": 0.05
          },
          "xaxis": {
           "automargin": true,
           "gridcolor": "#EBF0F8",
           "linecolor": "#EBF0F8",
           "ticks": "",
           "title": {
            "standoff": 15
           },
           "zerolinecolor": "#EBF0F8",
           "zerolinewidth": 2
          },
          "yaxis": {
           "automargin": true,
           "gridcolor": "#EBF0F8",
           "linecolor": "#EBF0F8",
           "ticks": "",
           "title": {
            "standoff": 15
           },
           "zerolinecolor": "#EBF0F8",
           "zerolinewidth": 2
          }
         }
        },
        "title": {
         "font": {
          "size": 25
         },
         "text": "Stacked Parity Loss Metrics",
         "x": 0.5,
         "y": 0.99
        },
        "xaxis": {
         "anchor": "y",
         "domain": [
          0,
          1
         ],
         "title": {
          "text": "cumulated parity loss"
         }
        },
        "yaxis": {
         "anchor": "x",
         "domain": [
          0,
          1
         ],
         "showgrid": false,
         "title": {
          "text": "label"
         },
         "zeroline": false
        }
       }
      },
      "text/html": [
       "<div>                            <div id=\"c204c741-c071-4006-a45f-39854397edc6\" class=\"plotly-graph-div\" style=\"height:525px; width:100%;\"></div>            <script type=\"text/javascript\">                require([\"plotly\"], function(Plotly) {                    window.PLOTLYENV=window.PLOTLYENV || {};                                    if (document.getElementById(\"c204c741-c071-4006-a45f-39854397edc6\")) {                    Plotly.newPlot(                        \"c204c741-c071-4006-a45f-39854397edc6\",                        [{\"alignmentgroup\":\"True\",\"customdata\":[[0.948,\"TPR\"],[0.769,\"TPR\"]],\"hovertemplate\":\"<b>%{label}</b><br>Metric: %{customdata[1]}<br>Parity loss: %{customdata[0]}<br><extra></extra>\",\"legendgroup\":\"TPR\",\"marker\":{\"color\":\"#8bdcbe\",\"pattern\":{\"shape\":\"\"},\"line\":{\"width\":0}},\"name\":\"TPR\",\"offsetgroup\":\"TPR\",\"orientation\":\"h\",\"showlegend\":true,\"textposition\":\"auto\",\"x\":[0.94754497425492,0.7693908613728376],\"xaxis\":\"x\",\"y\":[\"Random Forest Bias Unaware\",\"Random Forest DIR\"],\"yaxis\":\"y\",\"type\":\"bar\"},{\"alignmentgroup\":\"True\",\"customdata\":[[0.543,\"PPV\"],[0.456,\"PPV\"]],\"hovertemplate\":\"<b>%{label}</b><br>Metric: %{customdata[1]}<br>Parity loss: %{customdata[0]}<br><extra></extra>\",\"legendgroup\":\"PPV\",\"marker\":{\"color\":\"#f05a71\",\"pattern\":{\"shape\":\"\"},\"line\":{\"width\":0}},\"name\":\"PPV\",\"offsetgroup\":\"PPV\",\"orientation\":\"h\",\"showlegend\":true,\"textposition\":\"auto\",\"x\":[0.5429742566001265,0.45584892237735697],\"xaxis\":\"x\",\"y\":[\"Random Forest Bias Unaware\",\"Random Forest DIR\"],\"yaxis\":\"y\",\"type\":\"bar\"},{\"alignmentgroup\":\"True\",\"customdata\":[[0.952,\"FPR\"],[0.906,\"FPR\"]],\"hovertemplate\":\"<b>%{label}</b><br>Metric: %{customdata[1]}<br>Parity loss: %{customdata[0]}<br><extra></extra>\",\"legendgroup\":\"FPR\",\"marker\":{\"color\":\"#4378bf\",\"pattern\":{\"shape\":\"\"},\"line\":{\"width\":0}},\"name\":\"FPR\",\"offsetgroup\":\"FPR\",\"orientation\":\"h\",\"showlegend\":true,\"textposition\":\"auto\",\"x\":[0.951525851832893,0.9057080230338375],\"xaxis\":\"x\",\"y\":[\"Random Forest Bias Unaware\",\"Random Forest DIR\"],\"yaxis\":\"y\",\"type\":\"bar\"},{\"alignmentgroup\":\"True\",\"customdata\":[[0.079,\"ACC\"],[0.104,\"ACC\"]],\"hovertemplate\":\"<b>%{label}</b><br>Metric: %{customdata[1]}<br>Parity loss: %{customdata[0]}<br><extra></extra>\",\"legendgroup\":\"ACC\",\"marker\":{\"color\":\"#ae2c87\",\"pattern\":{\"shape\":\"\"},\"line\":{\"width\":0}},\"name\":\"ACC\",\"offsetgroup\":\"ACC\",\"orientation\":\"h\",\"showlegend\":true,\"textposition\":\"auto\",\"x\":[0.07851647484576588,0.10408735487282528],\"xaxis\":\"x\",\"y\":[\"Random Forest Bias Unaware\",\"Random Forest DIR\"],\"yaxis\":\"y\",\"type\":\"bar\"},{\"alignmentgroup\":\"True\",\"customdata\":[[0.956,\"STP\"],[0.92,\"STP\"]],\"hovertemplate\":\"<b>%{label}</b><br>Metric: %{customdata[1]}<br>Parity loss: %{customdata[0]}<br><extra></extra>\",\"legendgroup\":\"STP\",\"marker\":{\"color\":\"#ffa58c\",\"pattern\":{\"shape\":\"\"},\"line\":{\"width\":0}},\"name\":\"STP\",\"offsetgroup\":\"STP\",\"orientation\":\"h\",\"showlegend\":true,\"textposition\":\"auto\",\"x\":[0.956271235113839,0.9198451337440581],\"xaxis\":\"x\",\"y\":[\"Random Forest Bias Unaware\",\"Random Forest DIR\"],\"yaxis\":\"y\",\"type\":\"bar\"}],                        {\"template\":{\"data\":{\"barpolar\":[{\"marker\":{\"line\":{\"color\":\"white\",\"width\":0.5},\"pattern\":{\"fillmode\":\"overlay\",\"size\":10,\"solidity\":0.2}},\"type\":\"barpolar\"}],\"bar\":[{\"error_x\":{\"color\":\"#2a3f5f\"},\"error_y\":{\"color\":\"#2a3f5f\"},\"marker\":{\"line\":{\"color\":\"white\",\"width\":0.5},\"pattern\":{\"fillmode\":\"overlay\",\"size\":10,\"solidity\":0.2}},\"type\":\"bar\"}],\"carpet\":[{\"aaxis\":{\"endlinecolor\":\"#2a3f5f\",\"gridcolor\":\"#C8D4E3\",\"linecolor\":\"#C8D4E3\",\"minorgridcolor\":\"#C8D4E3\",\"startlinecolor\":\"#2a3f5f\"},\"baxis\":{\"endlinecolor\":\"#2a3f5f\",\"gridcolor\":\"#C8D4E3\",\"linecolor\":\"#C8D4E3\",\"minorgridcolor\":\"#C8D4E3\",\"startlinecolor\":\"#2a3f5f\"},\"type\":\"carpet\"}],\"choropleth\":[{\"colorbar\":{\"outlinewidth\":0,\"ticks\":\"\"},\"type\":\"choropleth\"}],\"contourcarpet\":[{\"colorbar\":{\"outlinewidth\":0,\"ticks\":\"\"},\"type\":\"contourcarpet\"}],\"contour\":[{\"colorbar\":{\"outlinewidth\":0,\"ticks\":\"\"},\"colorscale\":[[0.0,\"#0d0887\"],[0.1111111111111111,\"#46039f\"],[0.2222222222222222,\"#7201a8\"],[0.3333333333333333,\"#9c179e\"],[0.4444444444444444,\"#bd3786\"],[0.5555555555555556,\"#d8576b\"],[0.6666666666666666,\"#ed7953\"],[0.7777777777777778,\"#fb9f3a\"],[0.8888888888888888,\"#fdca26\"],[1.0,\"#f0f921\"]],\"type\":\"contour\"}],\"heatmapgl\":[{\"colorbar\":{\"outlinewidth\":0,\"ticks\":\"\"},\"colorscale\":[[0.0,\"#0d0887\"],[0.1111111111111111,\"#46039f\"],[0.2222222222222222,\"#7201a8\"],[0.3333333333333333,\"#9c179e\"],[0.4444444444444444,\"#bd3786\"],[0.5555555555555556,\"#d8576b\"],[0.6666666666666666,\"#ed7953\"],[0.7777777777777778,\"#fb9f3a\"],[0.8888888888888888,\"#fdca26\"],[1.0,\"#f0f921\"]],\"type\":\"heatmapgl\"}],\"heatmap\":[{\"colorbar\":{\"outlinewidth\":0,\"ticks\":\"\"},\"colorscale\":[[0.0,\"#0d0887\"],[0.1111111111111111,\"#46039f\"],[0.2222222222222222,\"#7201a8\"],[0.3333333333333333,\"#9c179e\"],[0.4444444444444444,\"#bd3786\"],[0.5555555555555556,\"#d8576b\"],[0.6666666666666666,\"#ed7953\"],[0.7777777777777778,\"#fb9f3a\"],[0.8888888888888888,\"#fdca26\"],[1.0,\"#f0f921\"]],\"type\":\"heatmap\"}],\"histogram2dcontour\":[{\"colorbar\":{\"outlinewidth\":0,\"ticks\":\"\"},\"colorscale\":[[0.0,\"#0d0887\"],[0.1111111111111111,\"#46039f\"],[0.2222222222222222,\"#7201a8\"],[0.3333333333333333,\"#9c179e\"],[0.4444444444444444,\"#bd3786\"],[0.5555555555555556,\"#d8576b\"],[0.6666666666666666,\"#ed7953\"],[0.7777777777777778,\"#fb9f3a\"],[0.8888888888888888,\"#fdca26\"],[1.0,\"#f0f921\"]],\"type\":\"histogram2dcontour\"}],\"histogram2d\":[{\"colorbar\":{\"outlinewidth\":0,\"ticks\":\"\"},\"colorscale\":[[0.0,\"#0d0887\"],[0.1111111111111111,\"#46039f\"],[0.2222222222222222,\"#7201a8\"],[0.3333333333333333,\"#9c179e\"],[0.4444444444444444,\"#bd3786\"],[0.5555555555555556,\"#d8576b\"],[0.6666666666666666,\"#ed7953\"],[0.7777777777777778,\"#fb9f3a\"],[0.8888888888888888,\"#fdca26\"],[1.0,\"#f0f921\"]],\"type\":\"histogram2d\"}],\"histogram\":[{\"marker\":{\"pattern\":{\"fillmode\":\"overlay\",\"size\":10,\"solidity\":0.2}},\"type\":\"histogram\"}],\"mesh3d\":[{\"colorbar\":{\"outlinewidth\":0,\"ticks\":\"\"},\"type\":\"mesh3d\"}],\"parcoords\":[{\"line\":{\"colorbar\":{\"outlinewidth\":0,\"ticks\":\"\"}},\"type\":\"parcoords\"}],\"pie\":[{\"automargin\":true,\"type\":\"pie\"}],\"scatter3d\":[{\"line\":{\"colorbar\":{\"outlinewidth\":0,\"ticks\":\"\"}},\"marker\":{\"colorbar\":{\"outlinewidth\":0,\"ticks\":\"\"}},\"type\":\"scatter3d\"}],\"scattercarpet\":[{\"marker\":{\"colorbar\":{\"outlinewidth\":0,\"ticks\":\"\"}},\"type\":\"scattercarpet\"}],\"scattergeo\":[{\"marker\":{\"colorbar\":{\"outlinewidth\":0,\"ticks\":\"\"}},\"type\":\"scattergeo\"}],\"scattergl\":[{\"marker\":{\"colorbar\":{\"outlinewidth\":0,\"ticks\":\"\"}},\"type\":\"scattergl\"}],\"scattermapbox\":[{\"marker\":{\"colorbar\":{\"outlinewidth\":0,\"ticks\":\"\"}},\"type\":\"scattermapbox\"}],\"scatterpolargl\":[{\"marker\":{\"colorbar\":{\"outlinewidth\":0,\"ticks\":\"\"}},\"type\":\"scatterpolargl\"}],\"scatterpolar\":[{\"marker\":{\"colorbar\":{\"outlinewidth\":0,\"ticks\":\"\"}},\"type\":\"scatterpolar\"}],\"scatter\":[{\"marker\":{\"colorbar\":{\"outlinewidth\":0,\"ticks\":\"\"}},\"type\":\"scatter\"}],\"scatterternary\":[{\"marker\":{\"colorbar\":{\"outlinewidth\":0,\"ticks\":\"\"}},\"type\":\"scatterternary\"}],\"surface\":[{\"colorbar\":{\"outlinewidth\":0,\"ticks\":\"\"},\"colorscale\":[[0.0,\"#0d0887\"],[0.1111111111111111,\"#46039f\"],[0.2222222222222222,\"#7201a8\"],[0.3333333333333333,\"#9c179e\"],[0.4444444444444444,\"#bd3786\"],[0.5555555555555556,\"#d8576b\"],[0.6666666666666666,\"#ed7953\"],[0.7777777777777778,\"#fb9f3a\"],[0.8888888888888888,\"#fdca26\"],[1.0,\"#f0f921\"]],\"type\":\"surface\"}],\"table\":[{\"cells\":{\"fill\":{\"color\":\"#EBF0F8\"},\"line\":{\"color\":\"white\"}},\"header\":{\"fill\":{\"color\":\"#C8D4E3\"},\"line\":{\"color\":\"white\"}},\"type\":\"table\"}]},\"layout\":{\"annotationdefaults\":{\"arrowcolor\":\"#2a3f5f\",\"arrowhead\":0,\"arrowwidth\":1},\"autotypenumbers\":\"strict\",\"coloraxis\":{\"colorbar\":{\"outlinewidth\":0,\"ticks\":\"\"}},\"colorscale\":{\"diverging\":[[0,\"#8e0152\"],[0.1,\"#c51b7d\"],[0.2,\"#de77ae\"],[0.3,\"#f1b6da\"],[0.4,\"#fde0ef\"],[0.5,\"#f7f7f7\"],[0.6,\"#e6f5d0\"],[0.7,\"#b8e186\"],[0.8,\"#7fbc41\"],[0.9,\"#4d9221\"],[1,\"#276419\"]],\"sequential\":[[0.0,\"#0d0887\"],[0.1111111111111111,\"#46039f\"],[0.2222222222222222,\"#7201a8\"],[0.3333333333333333,\"#9c179e\"],[0.4444444444444444,\"#bd3786\"],[0.5555555555555556,\"#d8576b\"],[0.6666666666666666,\"#ed7953\"],[0.7777777777777778,\"#fb9f3a\"],[0.8888888888888888,\"#fdca26\"],[1.0,\"#f0f921\"]],\"sequentialminus\":[[0.0,\"#0d0887\"],[0.1111111111111111,\"#46039f\"],[0.2222222222222222,\"#7201a8\"],[0.3333333333333333,\"#9c179e\"],[0.4444444444444444,\"#bd3786\"],[0.5555555555555556,\"#d8576b\"],[0.6666666666666666,\"#ed7953\"],[0.7777777777777778,\"#fb9f3a\"],[0.8888888888888888,\"#fdca26\"],[1.0,\"#f0f921\"]]},\"colorway\":[\"#636efa\",\"#EF553B\",\"#00cc96\",\"#ab63fa\",\"#FFA15A\",\"#19d3f3\",\"#FF6692\",\"#B6E880\",\"#FF97FF\",\"#FECB52\"],\"font\":{\"color\":\"#2a3f5f\"},\"geo\":{\"bgcolor\":\"white\",\"lakecolor\":\"white\",\"landcolor\":\"white\",\"showlakes\":true,\"showland\":true,\"subunitcolor\":\"#C8D4E3\"},\"hoverlabel\":{\"align\":\"left\"},\"hovermode\":\"closest\",\"mapbox\":{\"style\":\"light\"},\"paper_bgcolor\":\"white\",\"plot_bgcolor\":\"white\",\"polar\":{\"angularaxis\":{\"gridcolor\":\"#EBF0F8\",\"linecolor\":\"#EBF0F8\",\"ticks\":\"\"},\"bgcolor\":\"white\",\"radialaxis\":{\"gridcolor\":\"#EBF0F8\",\"linecolor\":\"#EBF0F8\",\"ticks\":\"\"}},\"scene\":{\"xaxis\":{\"backgroundcolor\":\"white\",\"gridcolor\":\"#DFE8F3\",\"gridwidth\":2,\"linecolor\":\"#EBF0F8\",\"showbackground\":true,\"ticks\":\"\",\"zerolinecolor\":\"#EBF0F8\"},\"yaxis\":{\"backgroundcolor\":\"white\",\"gridcolor\":\"#DFE8F3\",\"gridwidth\":2,\"linecolor\":\"#EBF0F8\",\"showbackground\":true,\"ticks\":\"\",\"zerolinecolor\":\"#EBF0F8\"},\"zaxis\":{\"backgroundcolor\":\"white\",\"gridcolor\":\"#DFE8F3\",\"gridwidth\":2,\"linecolor\":\"#EBF0F8\",\"showbackground\":true,\"ticks\":\"\",\"zerolinecolor\":\"#EBF0F8\"}},\"shapedefaults\":{\"line\":{\"color\":\"#2a3f5f\"}},\"ternary\":{\"aaxis\":{\"gridcolor\":\"#DFE8F3\",\"linecolor\":\"#A2B1C6\",\"ticks\":\"\"},\"baxis\":{\"gridcolor\":\"#DFE8F3\",\"linecolor\":\"#A2B1C6\",\"ticks\":\"\"},\"bgcolor\":\"white\",\"caxis\":{\"gridcolor\":\"#DFE8F3\",\"linecolor\":\"#A2B1C6\",\"ticks\":\"\"}},\"title\":{\"x\":0.05},\"xaxis\":{\"automargin\":true,\"gridcolor\":\"#EBF0F8\",\"linecolor\":\"#EBF0F8\",\"ticks\":\"\",\"title\":{\"standoff\":15},\"zerolinecolor\":\"#EBF0F8\",\"zerolinewidth\":2},\"yaxis\":{\"automargin\":true,\"gridcolor\":\"#EBF0F8\",\"linecolor\":\"#EBF0F8\",\"ticks\":\"\",\"title\":{\"standoff\":15},\"zerolinecolor\":\"#EBF0F8\",\"zerolinewidth\":2}}},\"xaxis\":{\"anchor\":\"y\",\"domain\":[0.0,1.0],\"title\":{\"text\":\"cumulated parity loss\"}},\"yaxis\":{\"anchor\":\"x\",\"domain\":[0.0,1.0],\"title\":{\"text\":\"label\"},\"showgrid\":false,\"zeroline\":false},\"legend\":{\"title\":{\"text\":\"metric\"},\"tracegroupgap\":0},\"margin\":{\"t\":78,\"b\":71,\"r\":30},\"barmode\":\"relative\",\"title\":{\"font\":{\"size\":25},\"text\":\"Stacked Parity Loss Metrics\",\"x\":0.5,\"y\":0.99},\"font\":{\"color\":\"#371ea3\"}},                        {\"displaylogo\": false, \"staticPlot\": false, \"toImageButtonOptions\": {\"height\": null, \"width\": null}, \"modeBarButtonsToRemove\": [\"sendDataToCloud\", \"lasso2d\", \"autoScale2d\", \"select2d\", \"zoom2d\", \"pan2d\", \"zoomIn2d\", \"zoomOut2d\", \"resetScale2d\", \"toggleSpikelines\", \"hoverCompareCartesian\", \"hoverClosestCartesian\"], \"responsive\": true}                    ).then(function(){\n",
       "                            \n",
       "var gd = document.getElementById('c204c741-c071-4006-a45f-39854397edc6');\n",
       "var x = new MutationObserver(function (mutations, observer) {{\n",
       "        var display = window.getComputedStyle(gd).display;\n",
       "        if (!display || display === 'none') {{\n",
       "            console.log([gd, 'removed!']);\n",
       "            Plotly.purge(gd);\n",
       "            observer.disconnect();\n",
       "        }}\n",
       "}});\n",
       "\n",
       "// Listen for the removal of the full notebook cells\n",
       "var notebookContainer = gd.closest('#notebook-container');\n",
       "if (notebookContainer) {{\n",
       "    x.observe(notebookContainer, {childList: true});\n",
       "}}\n",
       "\n",
       "// Listen for the clearing of the current output cell\n",
       "var outputEl = gd.closest('.output');\n",
       "if (outputEl) {{\n",
       "    x.observe(outputEl, {childList: true});\n",
       "}}\n",
       "\n",
       "                        })                };                });            </script>        </div>"
      ]
     },
     "metadata": {},
     "output_type": "display_data"
    }
   ],
   "source": [
    "# We can see a small drop in parity loss\n",
    "mf_tree.plot(objects=[mf_tree_aware], type='stacked')"
   ]
  },
  {
   "cell_type": "code",
   "execution_count": 89,
   "id": "operating-entrepreneur",
   "metadata": {},
   "outputs": [
    {
     "name": "stdout",
     "output_type": "stream",
     "text": [
      "Bias detected in 3 metrics: TPR, FPR, STP\n",
      "\n",
      "Conclusion: your model is not fair because 2 or more criteria exceeded acceptable limits set by epsilon.\n",
      "\n",
      "Ratios of metrics, based on 'Caucasian'. Parameter 'epsilon' was set to 0.8 and therefore metrics should be within (0.8, 1.25)\n",
      "                       TPR       ACC       PPV       FPR       STP\n",
      "African-American  1.680798  1.035881  1.148464  1.779487  1.849462\n",
      "Hispanic          0.930175  1.048362  0.853242  0.933333  0.874552\n",
      "Other             1.194514  1.021841  0.853242  1.297436  1.186380\n"
     ]
    }
   ],
   "source": [
    "mf_tree_aware.fairness_check()"
   ]
  },
  {
   "cell_type": "code",
   "execution_count": 90,
   "id": "emerging-motel",
   "metadata": {},
   "outputs": [
    {
     "name": "stdout",
     "output_type": "stream",
     "text": [
      "\n",
      "original test data:\n",
      "\n",
      "P(recidivism | African-American)                = 0.51465\n",
      "P(recidivism | Caucasian)                       = 0.40716\n",
      "P(recidivism | Hispanic)                        = 0.32778\n",
      "P(recidivism | Other)                           = 0.34532\n",
      "\n",
      "fairness-unaware prediction on test data:\n",
      "\n",
      "P(recidivism | African-American)                = 0.50824\n",
      "P(recidivism | African-American, recidivism)    = 0.66548\n",
      "P(recidivism | African-American, no recidivism) = 0.34151\n",
      "P(recidivism | Caucasian)                       = 0.28515\n",
      "P(recidivism | Caucasian, recidivism)           = 0.40717\n",
      "P(recidivism | Caucasian, no recidivism)        = 0.20134\n",
      "P(recidivism | Hispanic)                        = 0.25556\n",
      "P(recidivism | Hispanic, recidivism)            = 0.35593\n",
      "P(recidivism | Hispanic, no recidivism)         = 0.20661\n",
      "P(recidivism | Other)                           = 0.38129\n",
      "P(recidivism | Other, recidivism)               = 0.5625\n",
      "P(recidivism | Other, no recidivism)            = 0.28571\n",
      "\n",
      "fairness-aware prediction on test data:\n",
      "\n",
      "P(recidivism | African-American)                = 0.51557\n",
      "P(recidivism | African-American, recidivism)    = 0.67438\n",
      "P(recidivism | African-American, no recidivism) = 0.34717\n",
      "P(recidivism | Caucasian)                       = 0.27851\n",
      "P(recidivism | Caucasian, recidivism)           = 0.40065\n",
      "P(recidivism | Caucasian, no recidivism)        = 0.19463\n",
      "P(recidivism | Hispanic)                        = 0.24444\n",
      "P(recidivism | Hispanic, recidivism)            = 0.37288\n",
      "P(recidivism | Hispanic, no recidivism)         = 0.18182\n",
      "P(recidivism | Other)                           = 0.33094\n",
      "P(recidivism | Other, recidivism)               = 0.47917\n",
      "P(recidivism | Other, no recidivism)            = 0.25275\n"
     ]
    }
   ],
   "source": [
    "show_proportions(\n",
    "    race_test,\n",
    "    y_test,\n",
    "    description=\"original test data:\"\n",
    ")\n",
    "show_proportions(\n",
    "    race_test,\n",
    "    pd.Series(unaware_y_preds, index=y_test.index),\n",
    "    y=y_test,\n",
    "    description=\"fairness-unaware prediction on test data:\"\n",
    ")\n",
    "show_proportions(\n",
    "    race_test,\n",
    "    pd.Series(aware_y_preds, index=y_test.index),\n",
    "    y=y_test,\n",
    "    description=\"fairness-aware prediction on test data:\"\n",
    ")\n",
    "plt.show()"
   ]
  },
  {
   "cell_type": "code",
   "execution_count": 91,
   "id": "psychological-oklahoma",
   "metadata": {},
   "outputs": [],
   "source": [
    "from aif360.algorithms.preprocessing.lfr import LFR\n",
    "from aif360.datasets import BinaryLabelDataset\n",
    "\n",
    "class LFRCustom(BaseEstimator, TransformerMixin):\n",
    "    def __init__(self, col, protected_col, unprivileged_groups, privileged_groups):\n",
    "        self.col = col\n",
    "        self.protected_col = protected_col\n",
    "        self.TR = None\n",
    "        self.unprivileged_groups = unprivileged_groups\n",
    "        self.privileged_groups = privileged_groups\n",
    "        \n",
    "    def fit(self, X, y=None):\n",
    "        d = pd.DataFrame(X, columns=self.col)\n",
    "        d['response'] = list(y)\n",
    "\n",
    "        binary_df = BinaryLabelDataset(\n",
    "            df=d,\n",
    "            protected_attribute_names=self.protected_col, \n",
    "            label_names=['response']\n",
    "        )\n",
    "\n",
    "        # Input reconstruction quality - Ax\n",
    "        # Output prediction error - Ay\n",
    "        # Fairness constraint - Az\n",
    "\n",
    "        self.TR = LFR(unprivileged_groups=self.unprivileged_groups,\n",
    "                 privileged_groups=self.privileged_groups, seed=0,\n",
    "                 k=2, Ax=0.5, Ay=0.2, Az=0.2,\n",
    "                 verbose=1\n",
    "                )\n",
    "        self.TR.fit(binary_df, maxiter=5000, maxfun=5000)\n",
    "        return self\n",
    "\n",
    "    \n",
    "    def transform(self, X, y=None):\n",
    "        d = pd.DataFrame(X, columns=self.col)\n",
    "        if y:\n",
    "            d['response'] = list(y)\n",
    "        else:\n",
    "            d['response'] = False\n",
    "\n",
    "        binary_df = BinaryLabelDataset(\n",
    "            df=d,\n",
    "            protected_attribute_names=self.protected_col, \n",
    "            label_names=['response']\n",
    "        )\n",
    "        return self.TR.transform(binary_df).convert_to_dataframe()[0].drop(['response'], axis=1)"
   ]
  },
  {
   "cell_type": "code",
   "execution_count": 92,
   "id": "acting-north",
   "metadata": {},
   "outputs": [],
   "source": [
    "categorical_preprocessor = ColumnTransformer(transformers=[\n",
    "    ('cat', categorical_transformer, categorical_features)\n",
    "])\n",
    "\n",
    "# Right now the aif360 package can only support one privileged and one unprivileged group\n",
    "privileged_groups = [{'Caucasian': 1}]\n",
    "unprivileged_groups = [{'Caucasian': 0}]\n",
    "\n",
    "\n",
    "lfr = LFRCustom(\n",
    "    col=['African-American', 'Caucasian', 'Hispanic', 'Other', 'Male', 'M'],\n",
    "    protected_col=sorted(X_train['race'].unique()) ,\n",
    "    privileged_groups=privileged_groups, \n",
    "    unprivileged_groups=unprivileged_groups\n",
    ")\n",
    "\n",
    "categorical_pipeline = Pipeline([\n",
    "    ('transform', categorical_preprocessor),\n",
    "    ('LFR', lfr),\n",
    "])\n",
    "\n",
    "numerical_features = [\"age\", \"priors_count\"]\n",
    "numerical_transformer = Pipeline(steps=[\n",
    "    ('scale', StandardScaler())\n",
    "])\n",
    "\n",
    "numerical_preprocessor = ColumnTransformer(transformers=[\n",
    "    ('num', numerical_transformer, numerical_features)\n",
    "])\n",
    "\n",
    "preprocessor = FeatureUnion([\n",
    "    ('numerical_preprocessor', numerical_preprocessor),\n",
    "    ('categorical_pipeline', categorical_pipeline)\n",
    "])"
   ]
  },
  {
   "cell_type": "code",
   "execution_count": 93,
   "id": "furnished-tongue",
   "metadata": {},
   "outputs": [
    {
     "name": "stderr",
     "output_type": "stream",
     "text": [
      "/opt/homebrew/Caskroom/miniforge/base/envs/pytorch_env/lib/python3.9/site-packages/aif360/algorithms/preprocessing/lfr_helpers/helpers.py:62: NumbaWarning:\n",
      "\n",
      "\u001b[1m\n",
      "Compilation is falling back to object mode WITH looplifting enabled because Function \"LFR_optim_obj\" failed type inference due to: \u001b[1m\u001b[1mUnknown attribute 'iters' of type recursive(type(CPUDispatcher(<function LFR_optim_obj at 0x28d51fe50>)))\n",
      "\u001b[1m\n",
      "File \"../../../../../../opt/homebrew/Caskroom/miniforge/base/envs/pytorch_env/lib/python3.9/site-packages/aif360/algorithms/preprocessing/lfr_helpers/helpers.py\", line 66:\u001b[0m\n",
      "\u001b[1mdef LFR_optim_obj(params, data_sensitive, data_nonsensitive, y_sensitive,\n",
      "    <source elided>\n",
      "\n",
      "\u001b[1m    LFR_optim_obj.iters += 1\n",
      "\u001b[0m    \u001b[1m^\u001b[0m\u001b[0m\n",
      "\u001b[0m\n",
      "\u001b[0m\u001b[1mDuring: typing of get attribute at /opt/homebrew/Caskroom/miniforge/base/envs/pytorch_env/lib/python3.9/site-packages/aif360/algorithms/preprocessing/lfr_helpers/helpers.py (66)\u001b[0m\n",
      "\u001b[1m\n",
      "File \"../../../../../../opt/homebrew/Caskroom/miniforge/base/envs/pytorch_env/lib/python3.9/site-packages/aif360/algorithms/preprocessing/lfr_helpers/helpers.py\", line 66:\u001b[0m\n",
      "\u001b[1mdef LFR_optim_obj(params, data_sensitive, data_nonsensitive, y_sensitive,\n",
      "    <source elided>\n",
      "\n",
      "\u001b[1m    LFR_optim_obj.iters += 1\n",
      "\u001b[0m    \u001b[1m^\u001b[0m\u001b[0m\n",
      "\u001b[0m\n",
      "\n",
      "/opt/homebrew/Caskroom/miniforge/base/envs/pytorch_env/lib/python3.9/site-packages/numba/core/object_mode_passes.py:151: NumbaWarning:\n",
      "\n",
      "\u001b[1mFunction \"LFR_optim_obj\" was compiled in object mode without forceobj=True.\n",
      "\u001b[1m\n",
      "File \"../../../../../../opt/homebrew/Caskroom/miniforge/base/envs/pytorch_env/lib/python3.9/site-packages/aif360/algorithms/preprocessing/lfr_helpers/helpers.py\", line 63:\u001b[0m\n",
      "\u001b[1m@jit\n",
      "\u001b[1mdef LFR_optim_obj(params, data_sensitive, data_nonsensitive, y_sensitive,\n",
      "\u001b[0m\u001b[1m^\u001b[0m\u001b[0m\n",
      "\u001b[0m\n",
      "\n",
      "/opt/homebrew/Caskroom/miniforge/base/envs/pytorch_env/lib/python3.9/site-packages/numba/core/object_mode_passes.py:161: NumbaDeprecationWarning:\n",
      "\n",
      "\u001b[1m\n",
      "Fall-back from the nopython compilation path to the object mode compilation path has been detected, this is deprecated behaviour.\n",
      "\n",
      "For more information visit https://numba.readthedocs.io/en/stable/reference/deprecation.html#deprecation-of-object-mode-fall-back-behaviour-when-using-jit\n",
      "\u001b[1m\n",
      "File \"../../../../../../opt/homebrew/Caskroom/miniforge/base/envs/pytorch_env/lib/python3.9/site-packages/aif360/algorithms/preprocessing/lfr_helpers/helpers.py\", line 63:\u001b[0m\n",
      "\u001b[1m@jit\n",
      "\u001b[1mdef LFR_optim_obj(params, data_sensitive, data_nonsensitive, y_sensitive,\n",
      "\u001b[0m\u001b[1m^\u001b[0m\u001b[0m\n",
      "\u001b[0m\n",
      "\n"
     ]
    },
    {
     "name": "stdout",
     "output_type": "stream",
     "text": [
      "250RUNNING THE L-BFGS-B CODE\n",
      "\n",
      "           * * *\n",
      "\n",
      " 2225.92608547579\n",
      "Machine precision = 2.220D-16\n",
      " N =           26     M =           10\n",
      "\n",
      "At X0         0 variables are exactly at the bounds\n",
      "\n",
      "At iterate    0    f=  5.43494D+03    |proj g|=  2.40430D+03\n",
      "\n",
      "At iterate    1    f=  3.32672D+03    |proj g|=  4.78378D+02\n",
      "\n",
      "At iterate    2    f=  3.04886D+03    |proj g|=  1.87666D+02\n",
      "\n",
      "At iterate    3    f=  2.91194D+03    |proj g|=  2.89570D+02\n",
      "\n",
      "At iterate    4    f=  2.80274D+03    |proj g|=  1.83192D+02\n",
      "\n",
      "At iterate    5    f=  2.72144D+03    |proj g|=  2.31437D+02\n",
      "\n",
      "At iterate    6    f=  2.66087D+03    |proj g|=  4.43288D+02\n",
      "\n",
      "At iterate    7    f=  2.46353D+03    |proj g|=  3.42848D+02\n",
      "\n",
      "At iterate    8    f=  2.22593D+03    |proj g|=  3.63647D+02\n",
      "500 \n",
      "At iterate    9    f=  2.17796D+03    |proj g|=  1.13663D+02\n",
      "\n",
      "At iterate   10    f=  2.16621D+03    |proj g|=  1.00750D+02\n",
      "\n",
      "At iterate   11    f=  2.15665D+03    |proj g|=  3.34055D+01\n",
      "\n",
      "At iterate   12    f=  2.15427D+03    |proj g|=  3.55225D+01\n",
      "\n",
      "At iterate   13    f=  2.15282D+03    |proj g|=  2.30670D+01\n",
      "\n",
      "At iterate   14    f=  2.15161D+03    |proj g|=  1.77796D+01\n",
      "\n",
      "At iterate   15    f=  2.15077D+03    |proj g|=  1.28043D+01\n",
      "2150.3778663793973\n",
      "\n",
      "At iterate   16    f=  2.15038D+03    |proj g|=  8.87965D+00\n",
      "\n",
      "At iterate   17    f=  2.15012D+03    |proj g|=  8.53240D+00\n",
      "750 2149.2790982140473\n",
      "\n",
      "At iterate   18    f=  2.14991D+03    |proj g|=  1.36366D+01\n",
      "\n",
      "At iterate   19    f=  2.14977D+03    |proj g|=  5.18744D+00\n",
      "\n",
      "At iterate   20    f=  2.14967D+03    |proj g|=  4.65738D+00\n",
      "\n",
      "At iterate   21    f=  2.14941D+03    |proj g|=  6.29695D+00\n",
      "1000 2146.943935203396\n",
      "\n",
      "At iterate   22    f=  2.14936D+03    |proj g|=  5.17422D+00\n",
      "\n",
      "At iterate   23    f=  2.14930D+03    |proj g|=  2.32740D+00\n",
      "\n",
      "At iterate   24    f=  2.14928D+03    |proj g|=  2.13915D+00\n",
      "\n",
      "At iterate   25    f=  2.14927D+03    |proj g|=  2.15578D+00\n",
      "\n",
      "At iterate   26    f=  2.14923D+03    |proj g|=  2.36638D+00\n",
      "\n",
      "At iterate   27    f=  2.14914D+03    |proj g|=  7.66607D+00\n",
      "\n",
      "At iterate   28    f=  2.14898D+03    |proj g|=  1.08851D+01\n",
      "\n",
      "At iterate   29    f=  2.14876D+03    |proj g|=  1.27394D+01\n",
      "\n",
      "At iterate   30    f=  2.14814D+03    |proj g|=  1.35714D+01\n",
      "\n",
      "At iterate   31    f=  2.14756D+03    |proj g|=  3.29091D+01\n",
      "\n",
      "At iterate   32    f=  2.14703D+03    |proj g|=  1.63948D+01\n",
      "\n",
      "At iterate   33    f=  2.14694D+03    |proj g|=  1.73121D+01\n",
      "\n",
      "At iterate   34    f=  2.14664D+03    |proj g|=  8.96056D+00\n",
      "\n",
      "At iterate   35    f=  2.14625D+03    |proj g|=  6.21545D+00\n",
      "1250\n",
      "At iterate   36    f=  2.14621D+03    |proj g|=  9.87455D+00\n",
      "\n",
      "At iterate   37    f=  2.14616D+03    |proj g|=  6.14340D+00\n",
      "\n",
      "At iterate   38    f=  2.14605D+03    |proj g|=  4.11352D+00\n",
      "\n",
      "At iterate   39    f=  2.14598D+03    |proj g|=  3.55947D+00\n",
      "\n",
      "At iterate   40    f=  2.14592D+03    |proj g|=  1.05632D+01\n",
      " 2145.8549070154477\n",
      "1500 2145.7187491379827\n",
      "1750 2145.6288448752653\n",
      "\n",
      "At iterate   41    f=  2.14585D+03    |proj g|=  4.32407D+00\n",
      "\n",
      "At iterate   42    f=  2.14581D+03    |proj g|=  4.48098D+00\n",
      "\n",
      "At iterate   43    f=  2.14577D+03    |proj g|=  6.13055D+00\n",
      "\n",
      "At iterate   44    f=  2.14575D+03    |proj g|=  4.48123D+00\n",
      "2000\n",
      "At iterate   45    f=  2.14573D+03    |proj g|=  1.81901D+00\n",
      "\n",
      "At iterate   46    f=  2.14573D+03    |proj g|=  1.31221D+00\n",
      "\n",
      "At iterate   47    f=  2.14572D+03    |proj g|=  2.90006D+00\n",
      "\n",
      "At iterate   48    f=  2.14572D+03    |proj g|=  3.58487D+00\n",
      "\n",
      "At iterate   49    f=  2.14572D+03    |proj g|=  8.91234D-01\n",
      "\n",
      "At iterate   50    f=  2.14572D+03    |proj g|=  5.62632D-01\n",
      "\n",
      "At iterate   51    f=  2.14572D+03    |proj g|=  1.31529D+00\n",
      "\n",
      "At iterate   52    f=  2.14571D+03    |proj g|=  1.44105D+00\n",
      "\n",
      "At iterate   53    f=  2.14571D+03    |proj g|=  1.51114D+00\n",
      "\n",
      "At iterate   54    f=  2.14570D+03    |proj g|=  2.37095D+00\n",
      "\n",
      "At iterate   55    f=  2.14568D+03    |proj g|=  2.59415D+00\n",
      "\n",
      "At iterate   56    f=  2.14565D+03    |proj g|=  2.60628D+00\n",
      "\n",
      "At iterate   57    f=  2.14565D+03    |proj g|=  7.17819D+00\n",
      "\n",
      "At iterate   58    f=  2.14563D+03    |proj g|=  1.95844D+00\n",
      "\n",
      "At iterate   59    f=  2.14563D+03    |proj g|=  1.54983D+00\n",
      "\n",
      "At iterate   60    f=  2.14562D+03    |proj g|=  2.34051D+00\n",
      "\n",
      "At iter 2145.60536421718\n",
      "ate   61    f=  2.14562D+03    |proj g|=  2.09985D+00\n",
      "\n",
      "At iterate   62    f=  2.14561D+03    |proj g|=  2.26166D+00\n",
      "\n",
      "At iterate   63    f=  2.14561D+03    |proj g|=  7.87338D-01\n",
      "\n",
      "At iterate   64    f=  2.14561D+03    |proj g|=  9.14960D-01\n",
      "\n",
      "At iterate   65    f=  2.14561D+03    |proj g|=  9.25835D-01\n",
      "\n",
      "At iterate   66    f=  2.14561D+03    |proj g|=  1.43555D+00\n",
      "\n",
      "At iterate   67    f=  2.14561D+03    |proj g|=  6.06379D-01\n",
      "\n",
      "At iterate   68    f=  2.14561D+03    |proj g|=  4.12482D-01\n",
      "\n",
      "At iterate   69    f=  2.14560D+03    |proj g|=  5.42846D-01\n",
      "\n",
      "At iterate   70    f=  2.14560D+03    |proj g|=  1.35692D+00\n",
      "\n",
      "At iterate   71    f=  2.14560D+03    |proj g|=  5.87247D-01\n",
      "\n",
      "At iterate   72    f=  2.14560D+03    |proj g|=  4.88058D-01\n",
      "\n",
      "At iterate   73    f=  2.14560D+03    |proj g|=  2.37533D+00\n",
      "\n",
      "At iterate   74    f=  2.14560D+03    |proj g|=  1.22245D+00\n",
      "2250\n",
      "At iterate   75    f=  2.14560D+03    |proj g|=  8.07431D-01\n",
      "\n",
      "At iterate   76    f=  2.14559D+03    |proj g|=  1.06625D+00\n",
      " 2145.5918683384316\n",
      "2500\n",
      "At iterate   77    f=  2.14559D+03    |proj g|=  1.01837D+00\n",
      "\n",
      "At iterate   78    f=  2.14559D+03    |proj g|=  1.34574D+00\n",
      "\n",
      "At iterate   79    f=  2.14559D+03    |proj g|=  4.20829D+00\n",
      "\n",
      "At iterate   80    f=  2.14558D+03    |proj g|=  2.61195D+00\n",
      "\n",
      "At iterate   81    f=  2.14558D+03    |proj g|=  5.78039D-01\n",
      "\n",
      "At iterate   82    f=  2.14557D+03    |proj g|=  6.31764D-01\n",
      "\n",
      "At iterate   83    f=  2.14557D+03    |proj g|=  1.31491D+00\n",
      "\n",
      "At iterate   84    f=  2.14557D+03    |proj g|=  7.70929D-01\n",
      "\n",
      "At iterate   85    f=  2.14557D+03    |proj g|=  1.47035D+00\n",
      " 2145.570054708521\n",
      "\n",
      "At iterate   86    f=  2.14557D+03    |proj g|=  7.94413D-01\n",
      "\n",
      "At iterate   87    f=  2.14557D+03    |proj g|=  7.21568D-01\n",
      "\n",
      "At iterate   88    f=  2.14557D+03    |proj g|=  9.01294D-01\n",
      "\n",
      "At iterate   89    f=  2.14557D+03    |proj g|=  1.36778D+00\n",
      "\n",
      "At iterate   90    f=  2.14557D+03    |proj g|=  1.08423D+00\n",
      "\n",
      "At iterate   91    f=  2.14557D+03    |proj g|=  6.68332D-01\n",
      "\n",
      "At iterate   92    f=  2.14557D+03    |proj g|=  4.56214D-01\n",
      "2750 2145.565413299864\n",
      "\n",
      "At iterate   93    f=  2.14557D+03    |proj g|=  6.94224D-01\n",
      "\n",
      "At iterate   94    f=  2.14557D+03    |proj g|=  3.52910D-01\n",
      "\n",
      "At iterate   95    f=  2.14557D+03    |proj g|=  1.86354D-01\n",
      "3000 2145.5644191115325\n",
      "3250 2145.5623068687137\n",
      "3500\n",
      "At iterate   96    f=  2.14557D+03    |proj g|=  2.08065D-01\n",
      "\n",
      "At iterate   97    f=  2.14557D+03    |proj g|=  2.72695D-01\n",
      "\n",
      "At iterate   98    f=  2.14557D+03    |proj g|=  2.96552D-01\n",
      "\n",
      "At iterate   99    f=  2.14556D+03    |proj g|=  2.92589D-01\n",
      "\n",
      "At iterate  100    f=  2.14556D+03    |proj g|=  1.42117D-01\n",
      "\n",
      "At iterate  101    f=  2.14556D+03    |proj g|=  2.83230D-01\n",
      "\n",
      "At iterate  102    f=  2.14556D+03    |proj g|=  2.68354D-01\n",
      "\n",
      "At iterate  103    f=  2.14556D+03    |proj g|=  7.23213D-01\n",
      "\n",
      "At iterate  104    f=  2.14556D+03    |proj g|=  2.82256D-01\n",
      "\n",
      "At iterate  105    f=  2.14556D+03    |proj g|=  2.79678D-01\n",
      "\n",
      "At iterate  106    f=  2.14556D+03    |proj g|=  3.29330D-01\n",
      "\n",
      "At iterate  107    f=  2.14556D+03    |proj g|=  4.02492D-01\n",
      "\n",
      "At iterate  108    f=  2.14556D+03    |proj g|=  6.56624D-01\n",
      "\n",
      "At iterate  109    f=  2.14556D+03    |proj g|=  2.72886D-01\n",
      "\n",
      "At iterate  110    f=  2.14556D+03    |proj g|=  5.22241D-01\n",
      "\n",
      "At iterate  111    f=  2.14556D+03    |proj g|=  5.63656D-01\n",
      "\n",
      "At iter 2145.555303681551\n",
      "3750ate  112    f=  2.14556D+03    |proj g|=  5.82883D-01\n",
      "\n",
      "At iterate  113    f=  2.14556D+03    |proj g|=  7.51200D-01\n",
      "\n",
      "At iterate  114    f=  2.14556D+03    |proj g|=  3.46983D-01\n",
      "\n",
      "At iterate  115    f=  2.14556D+03    |proj g|=  4.26148D-01\n",
      "\n",
      "At iterate  116    f=  2.14556D+03    |proj g|=  7.13887D-01\n",
      "\n",
      "At iterate  117    f=  2.14556D+03    |proj g|=  1.47291D+00\n",
      "\n",
      "At iterate  118    f=  2.14556D+03    |proj g|=  6.50563D-01\n",
      "\n",
      "At iterate  119    f=  2.14556D+03    |proj g|=  5.74241D-01\n",
      "\n",
      "At iterate  120    f=  2.14556D+03    |proj g|=  7.40846D-01\n",
      "\n",
      "At iterate  121    f=  2.14556D+03    |proj g|=  7.56830D-01\n",
      "\n",
      "At iterate  122    f=  2.14555D+03    |proj g|=  9.64073D-01\n",
      "\n",
      "At iterate  123    f=  2.14555D+03    |proj g|=  1.84527D+00\n",
      "\n",
      "At iterate  124    f=  2.14555D+03    |proj g|=  6.58827D-01\n",
      "\n",
      "At iterate  125    f=  2.14555D+03    |proj g|=  3.60895D-01\n",
      "\n",
      "At iterate  126    f=  2.14555D+03    |proj g|=  1.86000D+00\n",
      "\n",
      "At iterate  127    f=  2.14555D+03    |proj g|=  6.62856D-01\n",
      " 2145.548250342243\n",
      "\n",
      "At iterate  128    f=  2.14555D+03    |proj g|=  3.66747D-01\n",
      "\n",
      "At iterate  129    f=  2.14555D+03    |proj g|=  3.47006D-01\n",
      "4000 2145.535608583049\n",
      "\n",
      "At iterate  130    f=  2.14555D+03    |proj g|=  4.02657D-01\n",
      "\n",
      "At iterate  131    f=  2.14555D+03    |proj g|=  1.79479D+00\n",
      "\n",
      "At iterate  132    f=  2.14555D+03    |proj g|=  7.43744D-01\n",
      "\n",
      "At iterate  133    f=  2.14554D+03    |proj g|=  8.05734D-01\n",
      "\n",
      "At iterate  134    f=  2.14554D+03    |proj g|=  1.10726D+00\n",
      "\n",
      "At iterate  135    f=  2.14554D+03    |proj g|=  1.21371D+00\n",
      "\n",
      "At iterate  136    f=  2.14554D+03    |proj g|=  2.05834D+00\n",
      "\n",
      "At iterate  137    f=  2.14554D+03    |proj g|=  9.57370D-01\n",
      "\n",
      "At iterate  138    f=  2.14554D+03    |proj g|=  1.07384D+00\n"
     ]
    },
    {
     "name": "stdout",
     "output_type": "stream",
     "text": [
      "4250\n",
      "At iterate  139    f=  2.14553D+03    |proj g|=  1.14157D+00\n",
      "\n",
      "At iterate  140    f=  2.14553D+03    |proj g|=  1.33839D+00\n",
      "\n",
      "At iterate  141    f=  2.14553D+03    |proj g|=  1.49182D+00\n",
      "\n",
      "At iterate  142    f=  2.14552D+03    |proj g|=  4.33303D+00\n",
      "\n",
      "At iterate  143    f=  2.14552D+03    |proj g|=  1.68181D+00\n",
      " 2145.5127282994376\n",
      "4500\n",
      "At iterate  144    f=  2.14552D+03    |proj g|=  1.63773D+00\n",
      "\n",
      "At iterate  145    f=  2.14551D+03    |proj g|=  2.18615D+00\n",
      "\n",
      "At iterate  146    f=  2.14551D+03    |proj g|=  3.81707D+00\n",
      "\n",
      "At iterate  147    f=  2.14551D+03    |proj g|=  8.51609D-01\n",
      "\n",
      "At iterate  148    f=  2.14551D+03    |proj g|=  2.05465D+00\n",
      "\n",
      "At iterate  149    f=  2.14551D+03    |proj g|=  8.05945D-01\n",
      "\n",
      "At iterate  150    f=  2.14551D+03    |proj g|=  7.00914D-01\n",
      "\n",
      "At iterate  151    f=  2.14551D+03    |proj g|=  1.40807D+00\n",
      "\n",
      "At iterate  152    f=  2.14550D+03    |proj g|=  1.93802D+00\n",
      " 2145.504231694239\n",
      "4750\n",
      "At iterate  153    f=  2.14550D+03    |proj g|=  1.24704D+00\n",
      "\n",
      "At iterate  154    f=  2.14550D+03    |proj g|=  4.74474D-01\n",
      "\n",
      "At iterate  155    f=  2.14550D+03    |proj g|=  4.25356D-01\n",
      "\n",
      "At iterate  156    f=  2.14550D+03    |proj g|=  1.47268D+00\n",
      "\n",
      "At iterate  157    f=  2.14550D+03    |proj g|=  1.05045D+00\n",
      "\n",
      "At iterate  158    f=  2.14550D+03    |proj g|=  2.64149D+00\n",
      "\n",
      "At iterate  159    f=  2.14550D+03    |proj g|=  1.06594D+00\n",
      "\n",
      "At iterate  160    f=  2.14550D+03    |proj g|=  7.73842D-01\n",
      "\n",
      "At iterate  161    f=  2.14550D+03    |proj g|=  9.29279D-01\n",
      " 2145.498354624047\n",
      "5000 2145.485534746075\n",
      "\n",
      "At iterate  162    f=  2.14550D+03    |proj g|=  1.29109D+00\n",
      "\n",
      "At iterate  163    f=  2.14550D+03    |proj g|=  2.73558D+00\n",
      "\n",
      "At iterate  164    f=  2.14550D+03    |proj g|=  5.19658D+00\n",
      "\n",
      "At iterate  165    f=  2.14549D+03    |proj g|=  2.47273D+00\n",
      "\n",
      "At iterate  166    f=  2.14549D+03    |proj g|=  1.09936D+00\n",
      "\n",
      "At iterate  167    f=  2.14549D+03    |proj g|=  8.20780D-01\n",
      "\n",
      "At iterate  168    f=  2.14549D+03    |proj g|=  2.01858D+00\n",
      "\n",
      "At iterate  169    f=  2.14549D+03    |proj g|=  2.83385D+00\n",
      "\n",
      "At iterate  170    f=  2.14548D+03    |proj g|=  2.89704D+00\n",
      "\n",
      "At iterate  171    f=  2.14548D+03    |proj g|=  4.14349D+00\n",
      "\n",
      "           * * *\n",
      "\n",
      "Tit   = total number of iterations\n",
      "Tnf   = total number of function evaluations\n",
      "Tnint = total number of segments explored during Cauchy searches\n",
      "Skip  = number of BFGS updates skipped\n",
      "Nact  = number of active bounds at final generalized Cauchy point\n",
      "Projg = norm of the final projected gradient\n",
      "F     = final function value\n",
      "\n",
      "           * * *\n",
      "\n",
      "   N    Tit     Tnf  Tnint  Skip  Nact     Projg        F\n",
      "   26    171    187    173     0     0   4.143D+00   2.145D+03\n",
      "  F =   2145.4828066493737     \n",
      "\n",
      "STOP: TOTAL NO. of f AND g EVALUATIONS EXCEEDS LIMIT        \n"
     ]
    },
    {
     "name": "stderr",
     "output_type": "stream",
     "text": [
      "/opt/homebrew/Caskroom/miniforge/base/envs/pytorch_env/lib/python3.9/site-packages/aif360/algorithms/preprocessing/lfr_helpers/helpers.py:50: NumbaWarning:\n",
      "\n",
      "\u001b[1m\n",
      "Compilation is falling back to object mode WITH looplifting enabled because Function \"yhat\" failed type inference due to: \u001b[1m\u001b[1mNo implementation of function Function(<built-in function iadd>) found for signature:\n",
      " \n",
      " >>> iadd(float64, array(float64, 1d, C))\n",
      " \n",
      "There are 18 candidate implementations:\n",
      "\u001b[1m  - Of which 16 did not match due to:\n",
      "  Overload of function 'iadd': File: <numerous>: Line N/A.\n",
      "    With argument(s): '(float64, array(float64, 1d, C))':\u001b[0m\n",
      "\u001b[1m   No match.\u001b[0m\n",
      "\u001b[1m  - Of which 2 did not match due to:\n",
      "  Operator Overload in function 'iadd': File: unknown: Line unknown.\n",
      "    With argument(s): '(float64, array(float64, 1d, C))':\u001b[0m\n",
      "\u001b[1m   No match for registered cases:\n",
      "    * (int64, int64) -> int64\n",
      "    * (int64, uint64) -> int64\n",
      "    * (uint64, int64) -> int64\n",
      "    * (uint64, uint64) -> uint64\n",
      "    * (float32, float32) -> float32\n",
      "    * (float64, float64) -> float64\n",
      "    * (complex64, complex64) -> complex64\n",
      "    * (complex128, complex128) -> complex128\u001b[0m\n",
      "\u001b[0m\n",
      "\u001b[0m\u001b[1mDuring: typing of intrinsic-call at /opt/homebrew/Caskroom/miniforge/base/envs/pytorch_env/lib/python3.9/site-packages/aif360/algorithms/preprocessing/lfr_helpers/helpers.py (59)\u001b[0m\n",
      "\u001b[1m\n",
      "File \"../../../../../../opt/homebrew/Caskroom/miniforge/base/envs/pytorch_env/lib/python3.9/site-packages/aif360/algorithms/preprocessing/lfr_helpers/helpers.py\", line 59:\u001b[0m\n",
      "\u001b[1mdef yhat(M_nk, y, w, N, k):\n",
      "    <source elided>\n",
      "        yhat[i] = 0.999 if yhat[i] >= 1 else yhat[i]\n",
      "\u001b[1m        L_y += -1 * y[i] * np.log(yhat[i]) - (1.0 - y[i]) * np.log(1.0 - yhat[i])\n",
      "\u001b[0m        \u001b[1m^\u001b[0m\u001b[0m\n",
      "\u001b[0m\n",
      "\n",
      "/opt/homebrew/Caskroom/miniforge/base/envs/pytorch_env/lib/python3.9/site-packages/aif360/algorithms/preprocessing/lfr_helpers/helpers.py:50: NumbaWarning:\n",
      "\n",
      "\u001b[1m\n",
      "Compilation is falling back to object mode WITHOUT looplifting enabled because Function \"yhat\" failed type inference due to: \u001b[1m\u001b[1mCannot determine Numba type of <class 'numba.core.dispatcher.LiftedLoop'>\u001b[0m\n",
      "\u001b[1m\n",
      "File \"../../../../../../opt/homebrew/Caskroom/miniforge/base/envs/pytorch_env/lib/python3.9/site-packages/aif360/algorithms/preprocessing/lfr_helpers/helpers.py\", line 54:\u001b[0m\n",
      "\u001b[1mdef yhat(M_nk, y, w, N, k):\n",
      "    <source elided>\n",
      "    L_y = 0.0\n",
      "\u001b[1m    for i in range(N):\n",
      "\u001b[0m    \u001b[1m^\u001b[0m\u001b[0m\n",
      "\u001b[0m\u001b[0m\n",
      "\n",
      "/opt/homebrew/Caskroom/miniforge/base/envs/pytorch_env/lib/python3.9/site-packages/numba/core/object_mode_passes.py:151: NumbaWarning:\n",
      "\n",
      "\u001b[1mFunction \"yhat\" was compiled in object mode without forceobj=True, but has lifted loops.\n",
      "\u001b[1m\n",
      "File \"../../../../../../opt/homebrew/Caskroom/miniforge/base/envs/pytorch_env/lib/python3.9/site-packages/aif360/algorithms/preprocessing/lfr_helpers/helpers.py\", line 52:\u001b[0m\n",
      "\u001b[1mdef yhat(M_nk, y, w, N, k):\n",
      "\u001b[1m    yhat = np.zeros(N)\n",
      "\u001b[0m    \u001b[1m^\u001b[0m\u001b[0m\n",
      "\u001b[0m\n",
      "\n",
      "/opt/homebrew/Caskroom/miniforge/base/envs/pytorch_env/lib/python3.9/site-packages/numba/core/object_mode_passes.py:161: NumbaDeprecationWarning:\n",
      "\n",
      "\u001b[1m\n",
      "Fall-back from the nopython compilation path to the object mode compilation path has been detected, this is deprecated behaviour.\n",
      "\n",
      "For more information visit https://numba.readthedocs.io/en/stable/reference/deprecation.html#deprecation-of-object-mode-fall-back-behaviour-when-using-jit\n",
      "\u001b[1m\n",
      "File \"../../../../../../opt/homebrew/Caskroom/miniforge/base/envs/pytorch_env/lib/python3.9/site-packages/aif360/algorithms/preprocessing/lfr_helpers/helpers.py\", line 52:\u001b[0m\n",
      "\u001b[1mdef yhat(M_nk, y, w, N, k):\n",
      "\u001b[1m    yhat = np.zeros(N)\n",
      "\u001b[0m    \u001b[1m^\u001b[0m\u001b[0m\n",
      "\u001b[0m\n",
      "\n",
      "/opt/homebrew/Caskroom/miniforge/base/envs/pytorch_env/lib/python3.9/site-packages/aif360/algorithms/preprocessing/lfr_helpers/helpers.py:50: NumbaWarning:\n",
      "\n",
      "\u001b[1m\n",
      "Compilation is falling back to object mode WITHOUT looplifting enabled because Function \"yhat\" failed type inference due to: \u001b[1m\u001b[1mNo implementation of function Function(<built-in function iadd>) found for signature:\n",
      " \n",
      " >>> iadd(float64, array(float64, 1d, C))\n",
      " \n",
      "There are 18 candidate implementations:\n",
      "\u001b[1m    - Of which 16 did not match due to:\n",
      "    Overload of function 'iadd': File: <numerous>: Line N/A.\n",
      "      With argument(s): '(float64, array(float64, 1d, C))':\u001b[0m\n",
      "\u001b[1m     No match.\u001b[0m\n",
      "\u001b[1m    - Of which 2 did not match due to:\n",
      "    Operator Overload in function 'iadd': File: unknown: Line unknown.\n",
      "      With argument(s): '(float64, array(float64, 1d, C))':\u001b[0m\n",
      "\u001b[1m     No match for registered cases:\n",
      "      * (int64, int64) -> int64\n",
      "      * (int64, uint64) -> int64\n",
      "      * (uint64, int64) -> int64\n",
      "      * (uint64, uint64) -> uint64\n",
      "      * (float32, float32) -> float32\n",
      "      * (float64, float64) -> float64\n",
      "      * (complex64, complex64) -> complex64\n",
      "      * (complex128, complex128) -> complex128\u001b[0m\n",
      "\u001b[0m\n",
      "\u001b[0m\u001b[1mDuring: typing of intrinsic-call at /opt/homebrew/Caskroom/miniforge/base/envs/pytorch_env/lib/python3.9/site-packages/aif360/algorithms/preprocessing/lfr_helpers/helpers.py (59)\u001b[0m\n",
      "\u001b[1m\n",
      "File \"../../../../../../opt/homebrew/Caskroom/miniforge/base/envs/pytorch_env/lib/python3.9/site-packages/aif360/algorithms/preprocessing/lfr_helpers/helpers.py\", line 59:\u001b[0m\n",
      "\u001b[1mdef yhat(M_nk, y, w, N, k):\n",
      "    <source elided>\n",
      "        yhat[i] = 0.999 if yhat[i] >= 1 else yhat[i]\n",
      "\u001b[1m        L_y += -1 * y[i] * np.log(yhat[i]) - (1.0 - y[i]) * np.log(1.0 - yhat[i])\n",
      "\u001b[0m        \u001b[1m^\u001b[0m\u001b[0m\n",
      "\u001b[0m\n",
      "\n",
      "/opt/homebrew/Caskroom/miniforge/base/envs/pytorch_env/lib/python3.9/site-packages/numba/core/object_mode_passes.py:151: NumbaWarning:\n",
      "\n",
      "\u001b[1mFunction \"yhat\" was compiled in object mode without forceobj=True.\n",
      "\u001b[1m\n",
      "File \"../../../../../../opt/homebrew/Caskroom/miniforge/base/envs/pytorch_env/lib/python3.9/site-packages/aif360/algorithms/preprocessing/lfr_helpers/helpers.py\", line 54:\u001b[0m\n",
      "\u001b[1mdef yhat(M_nk, y, w, N, k):\n",
      "    <source elided>\n",
      "    L_y = 0.0\n",
      "\u001b[1m    for i in range(N):\n",
      "\u001b[0m    \u001b[1m^\u001b[0m\u001b[0m\n",
      "\u001b[0m\n",
      "\n",
      "/opt/homebrew/Caskroom/miniforge/base/envs/pytorch_env/lib/python3.9/site-packages/numba/core/object_mode_passes.py:161: NumbaDeprecationWarning:\n",
      "\n",
      "\u001b[1m\n",
      "Fall-back from the nopython compilation path to the object mode compilation path has been detected, this is deprecated behaviour.\n",
      "\n",
      "For more information visit https://numba.readthedocs.io/en/stable/reference/deprecation.html#deprecation-of-object-mode-fall-back-behaviour-when-using-jit\n",
      "\u001b[1m\n",
      "File \"../../../../../../opt/homebrew/Caskroom/miniforge/base/envs/pytorch_env/lib/python3.9/site-packages/aif360/algorithms/preprocessing/lfr_helpers/helpers.py\", line 54:\u001b[0m\n",
      "\u001b[1mdef yhat(M_nk, y, w, N, k):\n",
      "    <source elided>\n",
      "    L_y = 0.0\n",
      "\u001b[1m    for i in range(N):\n",
      "\u001b[0m    \u001b[1m^\u001b[0m\u001b[0m\n",
      "\u001b[0m\n",
      "\n"
     ]
    }
   ],
   "source": [
    "clf_tree_more_aware = Pipeline(steps=[\n",
    "    ('normalize_priors', NormalizeColumnByLabel(col='priors_count', label='race')),\n",
    "    ('preprocessor', preprocessor),\n",
    "    ('classifier', classifier)\n",
    "])\n",
    "\n",
    "\n",
    "clf_tree_more_aware.fit(X_train, y_train)\n",
    "\n",
    "more_aware_y_preds = clf_tree_more_aware.predict(X_test)"
   ]
  },
  {
   "cell_type": "code",
   "execution_count": 94,
   "id": "dangerous-robin",
   "metadata": {},
   "outputs": [
    {
     "name": "stdout",
     "output_type": "stream",
     "text": [
      "              precision    recall  f1-score   support\n",
      "\n",
      "           0       0.67      0.74      0.70      1189\n",
      "           1       0.64      0.55      0.59       976\n",
      "\n",
      "    accuracy                           0.66      2165\n",
      "   macro avg       0.65      0.65      0.65      2165\n",
      "weighted avg       0.65      0.66      0.65      2165\n",
      "\n"
     ]
    }
   ],
   "source": [
    "print(classification_report(y_true=y_test, y_pred=more_aware_y_preds))"
   ]
  },
  {
   "cell_type": "code",
   "execution_count": 95,
   "id": "perfect-warner",
   "metadata": {
    "scrolled": true
   },
   "outputs": [
    {
     "name": "stderr",
     "output_type": "stream",
     "text": [
      "/opt/homebrew/Caskroom/miniforge/base/envs/pytorch_env/lib/python3.9/site-packages/dalex/model_explanations/_model_performance/utils.py:33: FutureWarning:\n",
      "\n",
      "The series.append method is deprecated and will be removed from pandas in a future version. Use pandas.concat instead.\n",
      "\n",
      "/opt/homebrew/Caskroom/miniforge/base/envs/pytorch_env/lib/python3.9/site-packages/dalex/model_explanations/_model_performance/utils.py:34: FutureWarning:\n",
      "\n",
      "The series.append method is deprecated and will be removed from pandas in a future version. Use pandas.concat instead.\n",
      "\n",
      "/opt/homebrew/Caskroom/miniforge/base/envs/pytorch_env/lib/python3.9/site-packages/dalex/model_explanations/_model_performance/utils.py:33: FutureWarning:\n",
      "\n",
      "The series.append method is deprecated and will be removed from pandas in a future version. Use pandas.concat instead.\n",
      "\n",
      "/opt/homebrew/Caskroom/miniforge/base/envs/pytorch_env/lib/python3.9/site-packages/dalex/model_explanations/_model_performance/utils.py:34: FutureWarning:\n",
      "\n",
      "The series.append method is deprecated and will be removed from pandas in a future version. Use pandas.concat instead.\n",
      "\n",
      "/opt/homebrew/Caskroom/miniforge/base/envs/pytorch_env/lib/python3.9/site-packages/dalex/model_explanations/_model_performance/utils.py:33: FutureWarning:\n",
      "\n",
      "The series.append method is deprecated and will be removed from pandas in a future version. Use pandas.concat instead.\n",
      "\n",
      "/opt/homebrew/Caskroom/miniforge/base/envs/pytorch_env/lib/python3.9/site-packages/dalex/model_explanations/_model_performance/utils.py:34: FutureWarning:\n",
      "\n",
      "The series.append method is deprecated and will be removed from pandas in a future version. Use pandas.concat instead.\n",
      "\n"
     ]
    },
    {
     "data": {
      "text/html": [
       "<div>\n",
       "<style scoped>\n",
       "    .dataframe tbody tr th:only-of-type {\n",
       "        vertical-align: middle;\n",
       "    }\n",
       "\n",
       "    .dataframe tbody tr th {\n",
       "        vertical-align: top;\n",
       "    }\n",
       "\n",
       "    .dataframe thead th {\n",
       "        text-align: right;\n",
       "    }\n",
       "</style>\n",
       "<table border=\"1\" class=\"dataframe\">\n",
       "  <thead>\n",
       "    <tr style=\"text-align: right;\">\n",
       "      <th></th>\n",
       "      <th>recall</th>\n",
       "      <th>precision</th>\n",
       "      <th>f1</th>\n",
       "      <th>accuracy</th>\n",
       "      <th>auc</th>\n",
       "    </tr>\n",
       "  </thead>\n",
       "  <tbody>\n",
       "    <tr>\n",
       "      <th>Random Forest Bias Unaware</th>\n",
       "      <td>0.560451</td>\n",
       "      <td>0.628736</td>\n",
       "      <td>0.592633</td>\n",
       "      <td>0.652656</td>\n",
       "      <td>0.693930</td>\n",
       "    </tr>\n",
       "    <tr>\n",
       "      <th>Random Forest DIR</th>\n",
       "      <td>0.560451</td>\n",
       "      <td>0.633835</td>\n",
       "      <td>0.594889</td>\n",
       "      <td>0.655889</td>\n",
       "      <td>0.694199</td>\n",
       "    </tr>\n",
       "    <tr>\n",
       "      <th>Random Forest DIR + LFR</th>\n",
       "      <td>0.550205</td>\n",
       "      <td>0.638526</td>\n",
       "      <td>0.591084</td>\n",
       "      <td>0.656813</td>\n",
       "      <td>0.690756</td>\n",
       "    </tr>\n",
       "  </tbody>\n",
       "</table>\n",
       "</div>"
      ],
      "text/plain": [
       "                              recall  precision        f1  accuracy       auc\n",
       "Random Forest Bias Unaware  0.560451   0.628736  0.592633  0.652656  0.693930\n",
       "Random Forest DIR           0.560451   0.633835  0.594889  0.655889  0.694199\n",
       "Random Forest DIR + LFR     0.550205   0.638526  0.591084  0.656813  0.690756"
      ]
     },
     "execution_count": 95,
     "metadata": {},
     "output_type": "execute_result"
    }
   ],
   "source": [
    "exp_tree_more_aware = dx.Explainer(clf_tree_more_aware, X_test, y_test, label='Random Forest DIR + LFR', verbose=False)\n",
    "\n",
    "mf_tree_more_aware = exp_tree_more_aware.model_fairness(protected=race_test, privileged=\"Caucasian\")\n",
    "\n",
    "pd.concat([exp.model_performance().result for exp in [exp_tree, exp_tree_aware, exp_tree_more_aware]])"
   ]
  },
  {
   "cell_type": "code",
   "execution_count": 96,
   "id": "single-resource",
   "metadata": {},
   "outputs": [
    {
     "name": "stderr",
     "output_type": "stream",
     "text": [
      "/opt/homebrew/Caskroom/miniforge/base/envs/pytorch_env/lib/python3.9/site-packages/dalex/fairness/_group_fairness/utils.py:178: FutureWarning:\n",
      "\n",
      "The frame.append method is deprecated and will be removed from pandas in a future version. Use pandas.concat instead.\n",
      "\n",
      "/opt/homebrew/Caskroom/miniforge/base/envs/pytorch_env/lib/python3.9/site-packages/dalex/fairness/_group_fairness/utils.py:178: FutureWarning:\n",
      "\n",
      "The frame.append method is deprecated and will be removed from pandas in a future version. Use pandas.concat instead.\n",
      "\n"
     ]
    },
    {
     "data": {
      "application/vnd.plotly.v1+json": {
       "config": {
        "displaylogo": false,
        "modeBarButtonsToRemove": [
         "sendDataToCloud",
         "lasso2d",
         "autoScale2d",
         "select2d",
         "zoom2d",
         "pan2d",
         "zoomIn2d",
         "zoomOut2d",
         "resetScale2d",
         "toggleSpikelines",
         "hoverCompareCartesian",
         "hoverClosestCartesian"
        ],
        "plotlyServerURL": "https://plot.ly",
        "staticPlot": false,
        "toImageButtonOptions": {
         "height": null,
         "width": null
        }
       },
       "data": [
        {
         "alignmentgroup": "True",
         "customdata": [
          [
           0.948,
           "TPR"
          ],
          [
           0.769,
           "TPR"
          ],
          [
           0.611,
           "TPR"
          ]
         ],
         "hovertemplate": "<b>%{label}</b><br>Metric: %{customdata[1]}<br>Parity loss: %{customdata[0]}<br><extra></extra>",
         "legendgroup": "TPR",
         "marker": {
          "color": "#8bdcbe",
          "line": {
           "width": 0
          },
          "pattern": {
           "shape": ""
          }
         },
         "name": "TPR",
         "offsetgroup": "TPR",
         "orientation": "h",
         "showlegend": true,
         "textposition": "auto",
         "type": "bar",
         "x": [
          0.94754497425492,
          0.7693908613728376,
          0.6105573614116288
         ],
         "xaxis": "x",
         "y": [
          "Random Forest Bias Unaware",
          "Random Forest DIR",
          "Random Forest DIR + LFR"
         ],
         "yaxis": "y"
        },
        {
         "alignmentgroup": "True",
         "customdata": [
          [
           0.543,
           "PPV"
          ],
          [
           0.456,
           "PPV"
          ],
          [
           0.383,
           "PPV"
          ]
         ],
         "hovertemplate": "<b>%{label}</b><br>Metric: %{customdata[1]}<br>Parity loss: %{customdata[0]}<br><extra></extra>",
         "legendgroup": "PPV",
         "marker": {
          "color": "#f05a71",
          "line": {
           "width": 0
          },
          "pattern": {
           "shape": ""
          }
         },
         "name": "PPV",
         "offsetgroup": "PPV",
         "orientation": "h",
         "showlegend": true,
         "textposition": "auto",
         "type": "bar",
         "x": [
          0.5429742566001265,
          0.45584892237735697,
          0.38322217134850545
         ],
         "xaxis": "x",
         "y": [
          "Random Forest Bias Unaware",
          "Random Forest DIR",
          "Random Forest DIR + LFR"
         ],
         "yaxis": "y"
        },
        {
         "alignmentgroup": "True",
         "customdata": [
          [
           0.952,
           "FPR"
          ],
          [
           0.906,
           "FPR"
          ],
          [
           0.839,
           "FPR"
          ]
         ],
         "hovertemplate": "<b>%{label}</b><br>Metric: %{customdata[1]}<br>Parity loss: %{customdata[0]}<br><extra></extra>",
         "legendgroup": "FPR",
         "marker": {
          "color": "#4378bf",
          "line": {
           "width": 0
          },
          "pattern": {
           "shape": ""
          }
         },
         "name": "FPR",
         "offsetgroup": "FPR",
         "orientation": "h",
         "showlegend": true,
         "textposition": "auto",
         "type": "bar",
         "x": [
          0.951525851832893,
          0.9057080230338375,
          0.8390405420722921
         ],
         "xaxis": "x",
         "y": [
          "Random Forest Bias Unaware",
          "Random Forest DIR",
          "Random Forest DIR + LFR"
         ],
         "yaxis": "y"
        },
        {
         "alignmentgroup": "True",
         "customdata": [
          [
           0.079,
           "ACC"
          ],
          [
           0.104,
           "ACC"
          ],
          [
           0.14,
           "ACC"
          ]
         ],
         "hovertemplate": "<b>%{label}</b><br>Metric: %{customdata[1]}<br>Parity loss: %{customdata[0]}<br><extra></extra>",
         "legendgroup": "ACC",
         "marker": {
          "color": "#ae2c87",
          "line": {
           "width": 0
          },
          "pattern": {
           "shape": ""
          }
         },
         "name": "ACC",
         "offsetgroup": "ACC",
         "orientation": "h",
         "showlegend": true,
         "textposition": "auto",
         "type": "bar",
         "x": [
          0.07851647484576588,
          0.10408735487282528,
          0.13959044562918943
         ],
         "xaxis": "x",
         "y": [
          "Random Forest Bias Unaware",
          "Random Forest DIR",
          "Random Forest DIR + LFR"
         ],
         "yaxis": "y"
        },
        {
         "alignmentgroup": "True",
         "customdata": [
          [
           0.956,
           "STP"
          ],
          [
           0.92,
           "STP"
          ],
          [
           0.842,
           "STP"
          ]
         ],
         "hovertemplate": "<b>%{label}</b><br>Metric: %{customdata[1]}<br>Parity loss: %{customdata[0]}<br><extra></extra>",
         "legendgroup": "STP",
         "marker": {
          "color": "#ffa58c",
          "line": {
           "width": 0
          },
          "pattern": {
           "shape": ""
          }
         },
         "name": "STP",
         "offsetgroup": "STP",
         "orientation": "h",
         "showlegend": true,
         "textposition": "auto",
         "type": "bar",
         "x": [
          0.956271235113839,
          0.9198451337440581,
          0.8422976777871839
         ],
         "xaxis": "x",
         "y": [
          "Random Forest Bias Unaware",
          "Random Forest DIR",
          "Random Forest DIR + LFR"
         ],
         "yaxis": "y"
        }
       ],
       "layout": {
        "barmode": "relative",
        "font": {
         "color": "#371ea3"
        },
        "legend": {
         "title": {
          "text": "metric"
         },
         "tracegroupgap": 0
        },
        "margin": {
         "b": 71,
         "r": 30,
         "t": 78
        },
        "template": {
         "data": {
          "bar": [
           {
            "error_x": {
             "color": "#2a3f5f"
            },
            "error_y": {
             "color": "#2a3f5f"
            },
            "marker": {
             "line": {
              "color": "white",
              "width": 0.5
             },
             "pattern": {
              "fillmode": "overlay",
              "size": 10,
              "solidity": 0.2
             }
            },
            "type": "bar"
           }
          ],
          "barpolar": [
           {
            "marker": {
             "line": {
              "color": "white",
              "width": 0.5
             },
             "pattern": {
              "fillmode": "overlay",
              "size": 10,
              "solidity": 0.2
             }
            },
            "type": "barpolar"
           }
          ],
          "carpet": [
           {
            "aaxis": {
             "endlinecolor": "#2a3f5f",
             "gridcolor": "#C8D4E3",
             "linecolor": "#C8D4E3",
             "minorgridcolor": "#C8D4E3",
             "startlinecolor": "#2a3f5f"
            },
            "baxis": {
             "endlinecolor": "#2a3f5f",
             "gridcolor": "#C8D4E3",
             "linecolor": "#C8D4E3",
             "minorgridcolor": "#C8D4E3",
             "startlinecolor": "#2a3f5f"
            },
            "type": "carpet"
           }
          ],
          "choropleth": [
           {
            "colorbar": {
             "outlinewidth": 0,
             "ticks": ""
            },
            "type": "choropleth"
           }
          ],
          "contour": [
           {
            "colorbar": {
             "outlinewidth": 0,
             "ticks": ""
            },
            "colorscale": [
             [
              0,
              "#0d0887"
             ],
             [
              0.1111111111111111,
              "#46039f"
             ],
             [
              0.2222222222222222,
              "#7201a8"
             ],
             [
              0.3333333333333333,
              "#9c179e"
             ],
             [
              0.4444444444444444,
              "#bd3786"
             ],
             [
              0.5555555555555556,
              "#d8576b"
             ],
             [
              0.6666666666666666,
              "#ed7953"
             ],
             [
              0.7777777777777778,
              "#fb9f3a"
             ],
             [
              0.8888888888888888,
              "#fdca26"
             ],
             [
              1,
              "#f0f921"
             ]
            ],
            "type": "contour"
           }
          ],
          "contourcarpet": [
           {
            "colorbar": {
             "outlinewidth": 0,
             "ticks": ""
            },
            "type": "contourcarpet"
           }
          ],
          "heatmap": [
           {
            "colorbar": {
             "outlinewidth": 0,
             "ticks": ""
            },
            "colorscale": [
             [
              0,
              "#0d0887"
             ],
             [
              0.1111111111111111,
              "#46039f"
             ],
             [
              0.2222222222222222,
              "#7201a8"
             ],
             [
              0.3333333333333333,
              "#9c179e"
             ],
             [
              0.4444444444444444,
              "#bd3786"
             ],
             [
              0.5555555555555556,
              "#d8576b"
             ],
             [
              0.6666666666666666,
              "#ed7953"
             ],
             [
              0.7777777777777778,
              "#fb9f3a"
             ],
             [
              0.8888888888888888,
              "#fdca26"
             ],
             [
              1,
              "#f0f921"
             ]
            ],
            "type": "heatmap"
           }
          ],
          "heatmapgl": [
           {
            "colorbar": {
             "outlinewidth": 0,
             "ticks": ""
            },
            "colorscale": [
             [
              0,
              "#0d0887"
             ],
             [
              0.1111111111111111,
              "#46039f"
             ],
             [
              0.2222222222222222,
              "#7201a8"
             ],
             [
              0.3333333333333333,
              "#9c179e"
             ],
             [
              0.4444444444444444,
              "#bd3786"
             ],
             [
              0.5555555555555556,
              "#d8576b"
             ],
             [
              0.6666666666666666,
              "#ed7953"
             ],
             [
              0.7777777777777778,
              "#fb9f3a"
             ],
             [
              0.8888888888888888,
              "#fdca26"
             ],
             [
              1,
              "#f0f921"
             ]
            ],
            "type": "heatmapgl"
           }
          ],
          "histogram": [
           {
            "marker": {
             "pattern": {
              "fillmode": "overlay",
              "size": 10,
              "solidity": 0.2
             }
            },
            "type": "histogram"
           }
          ],
          "histogram2d": [
           {
            "colorbar": {
             "outlinewidth": 0,
             "ticks": ""
            },
            "colorscale": [
             [
              0,
              "#0d0887"
             ],
             [
              0.1111111111111111,
              "#46039f"
             ],
             [
              0.2222222222222222,
              "#7201a8"
             ],
             [
              0.3333333333333333,
              "#9c179e"
             ],
             [
              0.4444444444444444,
              "#bd3786"
             ],
             [
              0.5555555555555556,
              "#d8576b"
             ],
             [
              0.6666666666666666,
              "#ed7953"
             ],
             [
              0.7777777777777778,
              "#fb9f3a"
             ],
             [
              0.8888888888888888,
              "#fdca26"
             ],
             [
              1,
              "#f0f921"
             ]
            ],
            "type": "histogram2d"
           }
          ],
          "histogram2dcontour": [
           {
            "colorbar": {
             "outlinewidth": 0,
             "ticks": ""
            },
            "colorscale": [
             [
              0,
              "#0d0887"
             ],
             [
              0.1111111111111111,
              "#46039f"
             ],
             [
              0.2222222222222222,
              "#7201a8"
             ],
             [
              0.3333333333333333,
              "#9c179e"
             ],
             [
              0.4444444444444444,
              "#bd3786"
             ],
             [
              0.5555555555555556,
              "#d8576b"
             ],
             [
              0.6666666666666666,
              "#ed7953"
             ],
             [
              0.7777777777777778,
              "#fb9f3a"
             ],
             [
              0.8888888888888888,
              "#fdca26"
             ],
             [
              1,
              "#f0f921"
             ]
            ],
            "type": "histogram2dcontour"
           }
          ],
          "mesh3d": [
           {
            "colorbar": {
             "outlinewidth": 0,
             "ticks": ""
            },
            "type": "mesh3d"
           }
          ],
          "parcoords": [
           {
            "line": {
             "colorbar": {
              "outlinewidth": 0,
              "ticks": ""
             }
            },
            "type": "parcoords"
           }
          ],
          "pie": [
           {
            "automargin": true,
            "type": "pie"
           }
          ],
          "scatter": [
           {
            "marker": {
             "colorbar": {
              "outlinewidth": 0,
              "ticks": ""
             }
            },
            "type": "scatter"
           }
          ],
          "scatter3d": [
           {
            "line": {
             "colorbar": {
              "outlinewidth": 0,
              "ticks": ""
             }
            },
            "marker": {
             "colorbar": {
              "outlinewidth": 0,
              "ticks": ""
             }
            },
            "type": "scatter3d"
           }
          ],
          "scattercarpet": [
           {
            "marker": {
             "colorbar": {
              "outlinewidth": 0,
              "ticks": ""
             }
            },
            "type": "scattercarpet"
           }
          ],
          "scattergeo": [
           {
            "marker": {
             "colorbar": {
              "outlinewidth": 0,
              "ticks": ""
             }
            },
            "type": "scattergeo"
           }
          ],
          "scattergl": [
           {
            "marker": {
             "colorbar": {
              "outlinewidth": 0,
              "ticks": ""
             }
            },
            "type": "scattergl"
           }
          ],
          "scattermapbox": [
           {
            "marker": {
             "colorbar": {
              "outlinewidth": 0,
              "ticks": ""
             }
            },
            "type": "scattermapbox"
           }
          ],
          "scatterpolar": [
           {
            "marker": {
             "colorbar": {
              "outlinewidth": 0,
              "ticks": ""
             }
            },
            "type": "scatterpolar"
           }
          ],
          "scatterpolargl": [
           {
            "marker": {
             "colorbar": {
              "outlinewidth": 0,
              "ticks": ""
             }
            },
            "type": "scatterpolargl"
           }
          ],
          "scatterternary": [
           {
            "marker": {
             "colorbar": {
              "outlinewidth": 0,
              "ticks": ""
             }
            },
            "type": "scatterternary"
           }
          ],
          "surface": [
           {
            "colorbar": {
             "outlinewidth": 0,
             "ticks": ""
            },
            "colorscale": [
             [
              0,
              "#0d0887"
             ],
             [
              0.1111111111111111,
              "#46039f"
             ],
             [
              0.2222222222222222,
              "#7201a8"
             ],
             [
              0.3333333333333333,
              "#9c179e"
             ],
             [
              0.4444444444444444,
              "#bd3786"
             ],
             [
              0.5555555555555556,
              "#d8576b"
             ],
             [
              0.6666666666666666,
              "#ed7953"
             ],
             [
              0.7777777777777778,
              "#fb9f3a"
             ],
             [
              0.8888888888888888,
              "#fdca26"
             ],
             [
              1,
              "#f0f921"
             ]
            ],
            "type": "surface"
           }
          ],
          "table": [
           {
            "cells": {
             "fill": {
              "color": "#EBF0F8"
             },
             "line": {
              "color": "white"
             }
            },
            "header": {
             "fill": {
              "color": "#C8D4E3"
             },
             "line": {
              "color": "white"
             }
            },
            "type": "table"
           }
          ]
         },
         "layout": {
          "annotationdefaults": {
           "arrowcolor": "#2a3f5f",
           "arrowhead": 0,
           "arrowwidth": 1
          },
          "autotypenumbers": "strict",
          "coloraxis": {
           "colorbar": {
            "outlinewidth": 0,
            "ticks": ""
           }
          },
          "colorscale": {
           "diverging": [
            [
             0,
             "#8e0152"
            ],
            [
             0.1,
             "#c51b7d"
            ],
            [
             0.2,
             "#de77ae"
            ],
            [
             0.3,
             "#f1b6da"
            ],
            [
             0.4,
             "#fde0ef"
            ],
            [
             0.5,
             "#f7f7f7"
            ],
            [
             0.6,
             "#e6f5d0"
            ],
            [
             0.7,
             "#b8e186"
            ],
            [
             0.8,
             "#7fbc41"
            ],
            [
             0.9,
             "#4d9221"
            ],
            [
             1,
             "#276419"
            ]
           ],
           "sequential": [
            [
             0,
             "#0d0887"
            ],
            [
             0.1111111111111111,
             "#46039f"
            ],
            [
             0.2222222222222222,
             "#7201a8"
            ],
            [
             0.3333333333333333,
             "#9c179e"
            ],
            [
             0.4444444444444444,
             "#bd3786"
            ],
            [
             0.5555555555555556,
             "#d8576b"
            ],
            [
             0.6666666666666666,
             "#ed7953"
            ],
            [
             0.7777777777777778,
             "#fb9f3a"
            ],
            [
             0.8888888888888888,
             "#fdca26"
            ],
            [
             1,
             "#f0f921"
            ]
           ],
           "sequentialminus": [
            [
             0,
             "#0d0887"
            ],
            [
             0.1111111111111111,
             "#46039f"
            ],
            [
             0.2222222222222222,
             "#7201a8"
            ],
            [
             0.3333333333333333,
             "#9c179e"
            ],
            [
             0.4444444444444444,
             "#bd3786"
            ],
            [
             0.5555555555555556,
             "#d8576b"
            ],
            [
             0.6666666666666666,
             "#ed7953"
            ],
            [
             0.7777777777777778,
             "#fb9f3a"
            ],
            [
             0.8888888888888888,
             "#fdca26"
            ],
            [
             1,
             "#f0f921"
            ]
           ]
          },
          "colorway": [
           "#636efa",
           "#EF553B",
           "#00cc96",
           "#ab63fa",
           "#FFA15A",
           "#19d3f3",
           "#FF6692",
           "#B6E880",
           "#FF97FF",
           "#FECB52"
          ],
          "font": {
           "color": "#2a3f5f"
          },
          "geo": {
           "bgcolor": "white",
           "lakecolor": "white",
           "landcolor": "white",
           "showlakes": true,
           "showland": true,
           "subunitcolor": "#C8D4E3"
          },
          "hoverlabel": {
           "align": "left"
          },
          "hovermode": "closest",
          "mapbox": {
           "style": "light"
          },
          "paper_bgcolor": "white",
          "plot_bgcolor": "white",
          "polar": {
           "angularaxis": {
            "gridcolor": "#EBF0F8",
            "linecolor": "#EBF0F8",
            "ticks": ""
           },
           "bgcolor": "white",
           "radialaxis": {
            "gridcolor": "#EBF0F8",
            "linecolor": "#EBF0F8",
            "ticks": ""
           }
          },
          "scene": {
           "xaxis": {
            "backgroundcolor": "white",
            "gridcolor": "#DFE8F3",
            "gridwidth": 2,
            "linecolor": "#EBF0F8",
            "showbackground": true,
            "ticks": "",
            "zerolinecolor": "#EBF0F8"
           },
           "yaxis": {
            "backgroundcolor": "white",
            "gridcolor": "#DFE8F3",
            "gridwidth": 2,
            "linecolor": "#EBF0F8",
            "showbackground": true,
            "ticks": "",
            "zerolinecolor": "#EBF0F8"
           },
           "zaxis": {
            "backgroundcolor": "white",
            "gridcolor": "#DFE8F3",
            "gridwidth": 2,
            "linecolor": "#EBF0F8",
            "showbackground": true,
            "ticks": "",
            "zerolinecolor": "#EBF0F8"
           }
          },
          "shapedefaults": {
           "line": {
            "color": "#2a3f5f"
           }
          },
          "ternary": {
           "aaxis": {
            "gridcolor": "#DFE8F3",
            "linecolor": "#A2B1C6",
            "ticks": ""
           },
           "baxis": {
            "gridcolor": "#DFE8F3",
            "linecolor": "#A2B1C6",
            "ticks": ""
           },
           "bgcolor": "white",
           "caxis": {
            "gridcolor": "#DFE8F3",
            "linecolor": "#A2B1C6",
            "ticks": ""
           }
          },
          "title": {
           "x": 0.05
          },
          "xaxis": {
           "automargin": true,
           "gridcolor": "#EBF0F8",
           "linecolor": "#EBF0F8",
           "ticks": "",
           "title": {
            "standoff": 15
           },
           "zerolinecolor": "#EBF0F8",
           "zerolinewidth": 2
          },
          "yaxis": {
           "automargin": true,
           "gridcolor": "#EBF0F8",
           "linecolor": "#EBF0F8",
           "ticks": "",
           "title": {
            "standoff": 15
           },
           "zerolinecolor": "#EBF0F8",
           "zerolinewidth": 2
          }
         }
        },
        "title": {
         "font": {
          "size": 25
         },
         "text": "Stacked Parity Loss Metrics",
         "x": 0.5,
         "y": 0.99
        },
        "xaxis": {
         "anchor": "y",
         "domain": [
          0,
          1
         ],
         "title": {
          "text": "cumulated parity loss"
         }
        },
        "yaxis": {
         "anchor": "x",
         "domain": [
          0,
          1
         ],
         "showgrid": false,
         "title": {
          "text": "label"
         },
         "zeroline": false
        }
       }
      },
      "text/html": [
       "<div>                            <div id=\"65868bda-e333-45fa-9ca8-a23ea56a8927\" class=\"plotly-graph-div\" style=\"height:525px; width:100%;\"></div>            <script type=\"text/javascript\">                require([\"plotly\"], function(Plotly) {                    window.PLOTLYENV=window.PLOTLYENV || {};                                    if (document.getElementById(\"65868bda-e333-45fa-9ca8-a23ea56a8927\")) {                    Plotly.newPlot(                        \"65868bda-e333-45fa-9ca8-a23ea56a8927\",                        [{\"alignmentgroup\":\"True\",\"customdata\":[[0.948,\"TPR\"],[0.769,\"TPR\"],[0.611,\"TPR\"]],\"hovertemplate\":\"<b>%{label}</b><br>Metric: %{customdata[1]}<br>Parity loss: %{customdata[0]}<br><extra></extra>\",\"legendgroup\":\"TPR\",\"marker\":{\"color\":\"#8bdcbe\",\"pattern\":{\"shape\":\"\"},\"line\":{\"width\":0}},\"name\":\"TPR\",\"offsetgroup\":\"TPR\",\"orientation\":\"h\",\"showlegend\":true,\"textposition\":\"auto\",\"x\":[0.94754497425492,0.7693908613728376,0.6105573614116288],\"xaxis\":\"x\",\"y\":[\"Random Forest Bias Unaware\",\"Random Forest DIR\",\"Random Forest DIR + LFR\"],\"yaxis\":\"y\",\"type\":\"bar\"},{\"alignmentgroup\":\"True\",\"customdata\":[[0.543,\"PPV\"],[0.456,\"PPV\"],[0.383,\"PPV\"]],\"hovertemplate\":\"<b>%{label}</b><br>Metric: %{customdata[1]}<br>Parity loss: %{customdata[0]}<br><extra></extra>\",\"legendgroup\":\"PPV\",\"marker\":{\"color\":\"#f05a71\",\"pattern\":{\"shape\":\"\"},\"line\":{\"width\":0}},\"name\":\"PPV\",\"offsetgroup\":\"PPV\",\"orientation\":\"h\",\"showlegend\":true,\"textposition\":\"auto\",\"x\":[0.5429742566001265,0.45584892237735697,0.38322217134850545],\"xaxis\":\"x\",\"y\":[\"Random Forest Bias Unaware\",\"Random Forest DIR\",\"Random Forest DIR + LFR\"],\"yaxis\":\"y\",\"type\":\"bar\"},{\"alignmentgroup\":\"True\",\"customdata\":[[0.952,\"FPR\"],[0.906,\"FPR\"],[0.839,\"FPR\"]],\"hovertemplate\":\"<b>%{label}</b><br>Metric: %{customdata[1]}<br>Parity loss: %{customdata[0]}<br><extra></extra>\",\"legendgroup\":\"FPR\",\"marker\":{\"color\":\"#4378bf\",\"pattern\":{\"shape\":\"\"},\"line\":{\"width\":0}},\"name\":\"FPR\",\"offsetgroup\":\"FPR\",\"orientation\":\"h\",\"showlegend\":true,\"textposition\":\"auto\",\"x\":[0.951525851832893,0.9057080230338375,0.8390405420722921],\"xaxis\":\"x\",\"y\":[\"Random Forest Bias Unaware\",\"Random Forest DIR\",\"Random Forest DIR + LFR\"],\"yaxis\":\"y\",\"type\":\"bar\"},{\"alignmentgroup\":\"True\",\"customdata\":[[0.079,\"ACC\"],[0.104,\"ACC\"],[0.14,\"ACC\"]],\"hovertemplate\":\"<b>%{label}</b><br>Metric: %{customdata[1]}<br>Parity loss: %{customdata[0]}<br><extra></extra>\",\"legendgroup\":\"ACC\",\"marker\":{\"color\":\"#ae2c87\",\"pattern\":{\"shape\":\"\"},\"line\":{\"width\":0}},\"name\":\"ACC\",\"offsetgroup\":\"ACC\",\"orientation\":\"h\",\"showlegend\":true,\"textposition\":\"auto\",\"x\":[0.07851647484576588,0.10408735487282528,0.13959044562918943],\"xaxis\":\"x\",\"y\":[\"Random Forest Bias Unaware\",\"Random Forest DIR\",\"Random Forest DIR + LFR\"],\"yaxis\":\"y\",\"type\":\"bar\"},{\"alignmentgroup\":\"True\",\"customdata\":[[0.956,\"STP\"],[0.92,\"STP\"],[0.842,\"STP\"]],\"hovertemplate\":\"<b>%{label}</b><br>Metric: %{customdata[1]}<br>Parity loss: %{customdata[0]}<br><extra></extra>\",\"legendgroup\":\"STP\",\"marker\":{\"color\":\"#ffa58c\",\"pattern\":{\"shape\":\"\"},\"line\":{\"width\":0}},\"name\":\"STP\",\"offsetgroup\":\"STP\",\"orientation\":\"h\",\"showlegend\":true,\"textposition\":\"auto\",\"x\":[0.956271235113839,0.9198451337440581,0.8422976777871839],\"xaxis\":\"x\",\"y\":[\"Random Forest Bias Unaware\",\"Random Forest DIR\",\"Random Forest DIR + LFR\"],\"yaxis\":\"y\",\"type\":\"bar\"}],                        {\"template\":{\"data\":{\"barpolar\":[{\"marker\":{\"line\":{\"color\":\"white\",\"width\":0.5},\"pattern\":{\"fillmode\":\"overlay\",\"size\":10,\"solidity\":0.2}},\"type\":\"barpolar\"}],\"bar\":[{\"error_x\":{\"color\":\"#2a3f5f\"},\"error_y\":{\"color\":\"#2a3f5f\"},\"marker\":{\"line\":{\"color\":\"white\",\"width\":0.5},\"pattern\":{\"fillmode\":\"overlay\",\"size\":10,\"solidity\":0.2}},\"type\":\"bar\"}],\"carpet\":[{\"aaxis\":{\"endlinecolor\":\"#2a3f5f\",\"gridcolor\":\"#C8D4E3\",\"linecolor\":\"#C8D4E3\",\"minorgridcolor\":\"#C8D4E3\",\"startlinecolor\":\"#2a3f5f\"},\"baxis\":{\"endlinecolor\":\"#2a3f5f\",\"gridcolor\":\"#C8D4E3\",\"linecolor\":\"#C8D4E3\",\"minorgridcolor\":\"#C8D4E3\",\"startlinecolor\":\"#2a3f5f\"},\"type\":\"carpet\"}],\"choropleth\":[{\"colorbar\":{\"outlinewidth\":0,\"ticks\":\"\"},\"type\":\"choropleth\"}],\"contourcarpet\":[{\"colorbar\":{\"outlinewidth\":0,\"ticks\":\"\"},\"type\":\"contourcarpet\"}],\"contour\":[{\"colorbar\":{\"outlinewidth\":0,\"ticks\":\"\"},\"colorscale\":[[0.0,\"#0d0887\"],[0.1111111111111111,\"#46039f\"],[0.2222222222222222,\"#7201a8\"],[0.3333333333333333,\"#9c179e\"],[0.4444444444444444,\"#bd3786\"],[0.5555555555555556,\"#d8576b\"],[0.6666666666666666,\"#ed7953\"],[0.7777777777777778,\"#fb9f3a\"],[0.8888888888888888,\"#fdca26\"],[1.0,\"#f0f921\"]],\"type\":\"contour\"}],\"heatmapgl\":[{\"colorbar\":{\"outlinewidth\":0,\"ticks\":\"\"},\"colorscale\":[[0.0,\"#0d0887\"],[0.1111111111111111,\"#46039f\"],[0.2222222222222222,\"#7201a8\"],[0.3333333333333333,\"#9c179e\"],[0.4444444444444444,\"#bd3786\"],[0.5555555555555556,\"#d8576b\"],[0.6666666666666666,\"#ed7953\"],[0.7777777777777778,\"#fb9f3a\"],[0.8888888888888888,\"#fdca26\"],[1.0,\"#f0f921\"]],\"type\":\"heatmapgl\"}],\"heatmap\":[{\"colorbar\":{\"outlinewidth\":0,\"ticks\":\"\"},\"colorscale\":[[0.0,\"#0d0887\"],[0.1111111111111111,\"#46039f\"],[0.2222222222222222,\"#7201a8\"],[0.3333333333333333,\"#9c179e\"],[0.4444444444444444,\"#bd3786\"],[0.5555555555555556,\"#d8576b\"],[0.6666666666666666,\"#ed7953\"],[0.7777777777777778,\"#fb9f3a\"],[0.8888888888888888,\"#fdca26\"],[1.0,\"#f0f921\"]],\"type\":\"heatmap\"}],\"histogram2dcontour\":[{\"colorbar\":{\"outlinewidth\":0,\"ticks\":\"\"},\"colorscale\":[[0.0,\"#0d0887\"],[0.1111111111111111,\"#46039f\"],[0.2222222222222222,\"#7201a8\"],[0.3333333333333333,\"#9c179e\"],[0.4444444444444444,\"#bd3786\"],[0.5555555555555556,\"#d8576b\"],[0.6666666666666666,\"#ed7953\"],[0.7777777777777778,\"#fb9f3a\"],[0.8888888888888888,\"#fdca26\"],[1.0,\"#f0f921\"]],\"type\":\"histogram2dcontour\"}],\"histogram2d\":[{\"colorbar\":{\"outlinewidth\":0,\"ticks\":\"\"},\"colorscale\":[[0.0,\"#0d0887\"],[0.1111111111111111,\"#46039f\"],[0.2222222222222222,\"#7201a8\"],[0.3333333333333333,\"#9c179e\"],[0.4444444444444444,\"#bd3786\"],[0.5555555555555556,\"#d8576b\"],[0.6666666666666666,\"#ed7953\"],[0.7777777777777778,\"#fb9f3a\"],[0.8888888888888888,\"#fdca26\"],[1.0,\"#f0f921\"]],\"type\":\"histogram2d\"}],\"histogram\":[{\"marker\":{\"pattern\":{\"fillmode\":\"overlay\",\"size\":10,\"solidity\":0.2}},\"type\":\"histogram\"}],\"mesh3d\":[{\"colorbar\":{\"outlinewidth\":0,\"ticks\":\"\"},\"type\":\"mesh3d\"}],\"parcoords\":[{\"line\":{\"colorbar\":{\"outlinewidth\":0,\"ticks\":\"\"}},\"type\":\"parcoords\"}],\"pie\":[{\"automargin\":true,\"type\":\"pie\"}],\"scatter3d\":[{\"line\":{\"colorbar\":{\"outlinewidth\":0,\"ticks\":\"\"}},\"marker\":{\"colorbar\":{\"outlinewidth\":0,\"ticks\":\"\"}},\"type\":\"scatter3d\"}],\"scattercarpet\":[{\"marker\":{\"colorbar\":{\"outlinewidth\":0,\"ticks\":\"\"}},\"type\":\"scattercarpet\"}],\"scattergeo\":[{\"marker\":{\"colorbar\":{\"outlinewidth\":0,\"ticks\":\"\"}},\"type\":\"scattergeo\"}],\"scattergl\":[{\"marker\":{\"colorbar\":{\"outlinewidth\":0,\"ticks\":\"\"}},\"type\":\"scattergl\"}],\"scattermapbox\":[{\"marker\":{\"colorbar\":{\"outlinewidth\":0,\"ticks\":\"\"}},\"type\":\"scattermapbox\"}],\"scatterpolargl\":[{\"marker\":{\"colorbar\":{\"outlinewidth\":0,\"ticks\":\"\"}},\"type\":\"scatterpolargl\"}],\"scatterpolar\":[{\"marker\":{\"colorbar\":{\"outlinewidth\":0,\"ticks\":\"\"}},\"type\":\"scatterpolar\"}],\"scatter\":[{\"marker\":{\"colorbar\":{\"outlinewidth\":0,\"ticks\":\"\"}},\"type\":\"scatter\"}],\"scatterternary\":[{\"marker\":{\"colorbar\":{\"outlinewidth\":0,\"ticks\":\"\"}},\"type\":\"scatterternary\"}],\"surface\":[{\"colorbar\":{\"outlinewidth\":0,\"ticks\":\"\"},\"colorscale\":[[0.0,\"#0d0887\"],[0.1111111111111111,\"#46039f\"],[0.2222222222222222,\"#7201a8\"],[0.3333333333333333,\"#9c179e\"],[0.4444444444444444,\"#bd3786\"],[0.5555555555555556,\"#d8576b\"],[0.6666666666666666,\"#ed7953\"],[0.7777777777777778,\"#fb9f3a\"],[0.8888888888888888,\"#fdca26\"],[1.0,\"#f0f921\"]],\"type\":\"surface\"}],\"table\":[{\"cells\":{\"fill\":{\"color\":\"#EBF0F8\"},\"line\":{\"color\":\"white\"}},\"header\":{\"fill\":{\"color\":\"#C8D4E3\"},\"line\":{\"color\":\"white\"}},\"type\":\"table\"}]},\"layout\":{\"annotationdefaults\":{\"arrowcolor\":\"#2a3f5f\",\"arrowhead\":0,\"arrowwidth\":1},\"autotypenumbers\":\"strict\",\"coloraxis\":{\"colorbar\":{\"outlinewidth\":0,\"ticks\":\"\"}},\"colorscale\":{\"diverging\":[[0,\"#8e0152\"],[0.1,\"#c51b7d\"],[0.2,\"#de77ae\"],[0.3,\"#f1b6da\"],[0.4,\"#fde0ef\"],[0.5,\"#f7f7f7\"],[0.6,\"#e6f5d0\"],[0.7,\"#b8e186\"],[0.8,\"#7fbc41\"],[0.9,\"#4d9221\"],[1,\"#276419\"]],\"sequential\":[[0.0,\"#0d0887\"],[0.1111111111111111,\"#46039f\"],[0.2222222222222222,\"#7201a8\"],[0.3333333333333333,\"#9c179e\"],[0.4444444444444444,\"#bd3786\"],[0.5555555555555556,\"#d8576b\"],[0.6666666666666666,\"#ed7953\"],[0.7777777777777778,\"#fb9f3a\"],[0.8888888888888888,\"#fdca26\"],[1.0,\"#f0f921\"]],\"sequentialminus\":[[0.0,\"#0d0887\"],[0.1111111111111111,\"#46039f\"],[0.2222222222222222,\"#7201a8\"],[0.3333333333333333,\"#9c179e\"],[0.4444444444444444,\"#bd3786\"],[0.5555555555555556,\"#d8576b\"],[0.6666666666666666,\"#ed7953\"],[0.7777777777777778,\"#fb9f3a\"],[0.8888888888888888,\"#fdca26\"],[1.0,\"#f0f921\"]]},\"colorway\":[\"#636efa\",\"#EF553B\",\"#00cc96\",\"#ab63fa\",\"#FFA15A\",\"#19d3f3\",\"#FF6692\",\"#B6E880\",\"#FF97FF\",\"#FECB52\"],\"font\":{\"color\":\"#2a3f5f\"},\"geo\":{\"bgcolor\":\"white\",\"lakecolor\":\"white\",\"landcolor\":\"white\",\"showlakes\":true,\"showland\":true,\"subunitcolor\":\"#C8D4E3\"},\"hoverlabel\":{\"align\":\"left\"},\"hovermode\":\"closest\",\"mapbox\":{\"style\":\"light\"},\"paper_bgcolor\":\"white\",\"plot_bgcolor\":\"white\",\"polar\":{\"angularaxis\":{\"gridcolor\":\"#EBF0F8\",\"linecolor\":\"#EBF0F8\",\"ticks\":\"\"},\"bgcolor\":\"white\",\"radialaxis\":{\"gridcolor\":\"#EBF0F8\",\"linecolor\":\"#EBF0F8\",\"ticks\":\"\"}},\"scene\":{\"xaxis\":{\"backgroundcolor\":\"white\",\"gridcolor\":\"#DFE8F3\",\"gridwidth\":2,\"linecolor\":\"#EBF0F8\",\"showbackground\":true,\"ticks\":\"\",\"zerolinecolor\":\"#EBF0F8\"},\"yaxis\":{\"backgroundcolor\":\"white\",\"gridcolor\":\"#DFE8F3\",\"gridwidth\":2,\"linecolor\":\"#EBF0F8\",\"showbackground\":true,\"ticks\":\"\",\"zerolinecolor\":\"#EBF0F8\"},\"zaxis\":{\"backgroundcolor\":\"white\",\"gridcolor\":\"#DFE8F3\",\"gridwidth\":2,\"linecolor\":\"#EBF0F8\",\"showbackground\":true,\"ticks\":\"\",\"zerolinecolor\":\"#EBF0F8\"}},\"shapedefaults\":{\"line\":{\"color\":\"#2a3f5f\"}},\"ternary\":{\"aaxis\":{\"gridcolor\":\"#DFE8F3\",\"linecolor\":\"#A2B1C6\",\"ticks\":\"\"},\"baxis\":{\"gridcolor\":\"#DFE8F3\",\"linecolor\":\"#A2B1C6\",\"ticks\":\"\"},\"bgcolor\":\"white\",\"caxis\":{\"gridcolor\":\"#DFE8F3\",\"linecolor\":\"#A2B1C6\",\"ticks\":\"\"}},\"title\":{\"x\":0.05},\"xaxis\":{\"automargin\":true,\"gridcolor\":\"#EBF0F8\",\"linecolor\":\"#EBF0F8\",\"ticks\":\"\",\"title\":{\"standoff\":15},\"zerolinecolor\":\"#EBF0F8\",\"zerolinewidth\":2},\"yaxis\":{\"automargin\":true,\"gridcolor\":\"#EBF0F8\",\"linecolor\":\"#EBF0F8\",\"ticks\":\"\",\"title\":{\"standoff\":15},\"zerolinecolor\":\"#EBF0F8\",\"zerolinewidth\":2}}},\"xaxis\":{\"anchor\":\"y\",\"domain\":[0.0,1.0],\"title\":{\"text\":\"cumulated parity loss\"}},\"yaxis\":{\"anchor\":\"x\",\"domain\":[0.0,1.0],\"title\":{\"text\":\"label\"},\"showgrid\":false,\"zeroline\":false},\"legend\":{\"title\":{\"text\":\"metric\"},\"tracegroupgap\":0},\"margin\":{\"t\":78,\"b\":71,\"r\":30},\"barmode\":\"relative\",\"title\":{\"font\":{\"size\":25},\"text\":\"Stacked Parity Loss Metrics\",\"x\":0.5,\"y\":0.99},\"font\":{\"color\":\"#371ea3\"}},                        {\"displaylogo\": false, \"staticPlot\": false, \"toImageButtonOptions\": {\"height\": null, \"width\": null}, \"modeBarButtonsToRemove\": [\"sendDataToCloud\", \"lasso2d\", \"autoScale2d\", \"select2d\", \"zoom2d\", \"pan2d\", \"zoomIn2d\", \"zoomOut2d\", \"resetScale2d\", \"toggleSpikelines\", \"hoverCompareCartesian\", \"hoverClosestCartesian\"], \"responsive\": true}                    ).then(function(){\n",
       "                            \n",
       "var gd = document.getElementById('65868bda-e333-45fa-9ca8-a23ea56a8927');\n",
       "var x = new MutationObserver(function (mutations, observer) {{\n",
       "        var display = window.getComputedStyle(gd).display;\n",
       "        if (!display || display === 'none') {{\n",
       "            console.log([gd, 'removed!']);\n",
       "            Plotly.purge(gd);\n",
       "            observer.disconnect();\n",
       "        }}\n",
       "}});\n",
       "\n",
       "// Listen for the removal of the full notebook cells\n",
       "var notebookContainer = gd.closest('#notebook-container');\n",
       "if (notebookContainer) {{\n",
       "    x.observe(notebookContainer, {childList: true});\n",
       "}}\n",
       "\n",
       "// Listen for the clearing of the current output cell\n",
       "var outputEl = gd.closest('.output');\n",
       "if (outputEl) {{\n",
       "    x.observe(outputEl, {childList: true});\n",
       "}}\n",
       "\n",
       "                        })                };                });            </script>        </div>"
      ]
     },
     "metadata": {},
     "output_type": "display_data"
    }
   ],
   "source": [
    "mf_tree.plot(objects=[mf_tree_aware, mf_tree_more_aware], type='stacked')"
   ]
  },
  {
   "cell_type": "code",
   "execution_count": 97,
   "id": "duplicate-behavior",
   "metadata": {},
   "outputs": [
    {
     "name": "stdout",
     "output_type": "stream",
     "text": [
      "\n",
      "original test data:\n",
      "\n",
      "P(recidivism | African-American)                = 0.51465\n",
      "P(recidivism | Caucasian)                       = 0.40716\n",
      "P(recidivism | Hispanic)                        = 0.32778\n",
      "P(recidivism | Other)                           = 0.34532\n",
      "\n",
      "fairness-unaware prediction on test data:\n",
      "\n",
      "P(recidivism | African-American)                = 0.50824\n",
      "P(recidivism | African-American, recidivism)    = 0.66548\n",
      "P(recidivism | African-American, no recidivism) = 0.34151\n",
      "P(recidivism | Caucasian)                       = 0.28515\n",
      "P(recidivism | Caucasian, recidivism)           = 0.40717\n",
      "P(recidivism | Caucasian, no recidivism)        = 0.20134\n",
      "P(recidivism | Hispanic)                        = 0.25556\n",
      "P(recidivism | Hispanic, recidivism)            = 0.35593\n",
      "P(recidivism | Hispanic, no recidivism)         = 0.20661\n",
      "P(recidivism | Other)                           = 0.38129\n",
      "P(recidivism | Other, recidivism)               = 0.5625\n",
      "P(recidivism | Other, no recidivism)            = 0.28571\n",
      "\n",
      "fairness-more-aware prediction on test data:\n",
      "\n",
      "P(recidivism | African-American)                = 0.49634\n",
      "P(recidivism | African-American, recidivism)    = 0.65658\n",
      "P(recidivism | African-American, no recidivism) = 0.32642\n",
      "P(recidivism | Caucasian)                       = 0.29178\n",
      "P(recidivism | Caucasian, recidivism)           = 0.41368\n",
      "P(recidivism | Caucasian, no recidivism)        = 0.20805\n",
      "P(recidivism | Hispanic)                        = 0.22222\n",
      "P(recidivism | Hispanic, recidivism)            = 0.37288\n",
      "P(recidivism | Hispanic, no recidivism)         = 0.14876\n",
      "P(recidivism | Other)                           = 0.28058\n",
      "P(recidivism | Other, recidivism)               = 0.39583\n",
      "P(recidivism | Other, no recidivism)            = 0.21978\n"
     ]
    }
   ],
   "source": [
    "show_proportions(\n",
    "    race_test,\n",
    "    y_test,\n",
    "    description=\"original test data:\"\n",
    ")\n",
    "show_proportions(\n",
    "    race_test,\n",
    "    pd.Series(unaware_y_preds, index=y_test.index),\n",
    "    y=y_test,\n",
    "    description=\"fairness-unaware prediction on test data:\"\n",
    ")\n",
    "show_proportions(\n",
    "    race_test,\n",
    "    pd.Series(more_aware_y_preds, index=y_test.index),\n",
    "    y=y_test,\n",
    "    description=\"fairness-more-aware prediction on test data:\"\n",
    ")\n",
    "plt.show()"
   ]
  },
  {
   "cell_type": "code",
   "execution_count": 98,
   "id": "geographic-rescue",
   "metadata": {},
   "outputs": [
    {
     "name": "stdout",
     "output_type": "stream",
     "text": [
      "race\n",
      "African-American    0.514652\n",
      "Caucasian           0.407162\n",
      "Hispanic            0.327778\n",
      "Other               0.345324\n",
      "Name: two_year_recid, dtype: float64\n"
     ]
    },
    {
     "data": {
      "text/plain": [
       "race\n",
       "African-American    0.496337\n",
       "Caucasian           0.291777\n",
       "Hispanic            0.222222\n",
       "Other               0.280576\n",
       "dtype: float64"
      ]
     },
     "execution_count": 98,
     "metadata": {},
     "output_type": "execute_result"
    }
   ],
   "source": [
    "# Recidivism by race in our test set\n",
    "print(y_test.groupby(race_test).mean())\n",
    "\n",
    "# Predicted Recidivism by race in our bias-unaware model\n",
    "pd.Series(more_aware_y_preds, index=y_test.index).groupby(race_test).mean()"
   ]
  },
  {
   "cell_type": "code",
   "execution_count": null,
   "id": "structured-timeline",
   "metadata": {},
   "outputs": [],
   "source": []
  },
  {
   "cell_type": "code",
   "execution_count": 99,
   "id": "touched-median",
   "metadata": {},
   "outputs": [
    {
     "name": "stdout",
     "output_type": "stream",
     "text": [
      "Bias detected in 4 metrics: TPR, PPV, FPR, STP\n",
      "\n",
      "Conclusion: your model is not fair because 2 or more criteria exceeded acceptable limits set by epsilon.\n",
      "\n",
      "Ratios of metrics, based on 'Caucasian'. Parameter 'epsilon' was set to 0.8 and therefore metrics should be within (0.8, 1.25)\n",
      "                       TPR       ACC       PPV       FPR       STP\n",
      "African-American  1.633907  1.035994  1.160069  1.701493  1.782456\n",
      "Hispanic          0.874693  1.007825  0.769363  1.069652  0.915789\n",
      "Other             1.380835  1.035994  0.876076  1.422886  1.336842\n"
     ]
    }
   ],
   "source": [
    "mf_tree.fairness_check()  # 7 / 15 numbers out of the range of (08, 1.25)"
   ]
  },
  {
   "cell_type": "code",
   "execution_count": 100,
   "id": "adequate-metabolism",
   "metadata": {},
   "outputs": [
    {
     "name": "stdout",
     "output_type": "stream",
     "text": [
      "Bias detected in 3 metrics: TPR, FPR, STP\n",
      "\n",
      "Conclusion: your model is not fair because 2 or more criteria exceeded acceptable limits set by epsilon.\n",
      "\n",
      "Ratios of metrics, based on 'Caucasian'. Parameter 'epsilon' was set to 0.8 and therefore metrics should be within (0.8, 1.25)\n",
      "                       TPR       ACC       PPV       FPR       STP\n",
      "African-American  1.680798  1.035881  1.148464  1.779487  1.849462\n",
      "Hispanic          0.930175  1.048362  0.853242  0.933333  0.874552\n",
      "Other             1.194514  1.021841  0.853242  1.297436  1.186380\n"
     ]
    }
   ],
   "source": [
    "mf_tree_aware.fairness_check()  # 4 / 15 numbers out of the range of (08, 1.25)"
   ]
  },
  {
   "cell_type": "code",
   "execution_count": 101,
   "id": "great-inquiry",
   "metadata": {},
   "outputs": [
    {
     "name": "stdout",
     "output_type": "stream",
     "text": [
      "Bias detected in 3 metrics: TPR, FPR, STP\n",
      "\n",
      "Conclusion: your model is not fair because 2 or more criteria exceeded acceptable limits set by epsilon.\n",
      "\n",
      "Ratios of metrics, based on 'Caucasian'. Parameter 'epsilon' was set to 0.8 and therefore metrics should be within (0.8, 1.25)\n",
      "                       TPR       ACC       PPV       FPR       STP\n",
      "African-American  1.586957  1.042320  1.180243  1.567308  1.698630\n",
      "Hispanic          0.900966  1.087774  0.953206  0.716346  0.760274\n",
      "Other             0.956522  1.014107  0.844021  1.057692  0.962329\n"
     ]
    }
   ],
   "source": [
    "mf_tree_more_aware.fairness_check()  # 3 / 15 numbers out of the range of (08, 1.25)"
   ]
  },
  {
   "cell_type": "code",
   "execution_count": 102,
   "id": "tender-relations",
   "metadata": {},
   "outputs": [],
   "source": [
    "# Looking deeper, our baseline unaware model had 7 / 15 numbers out of the range of (08, 1.25)\n",
    "# Our new bias-aware model has only 4 / 15 numbers out of the range of (08, 1.25)"
   ]
  },
  {
   "cell_type": "code",
   "execution_count": 103,
   "id": "stupid-daisy",
   "metadata": {},
   "outputs": [],
   "source": [
    "# Overall selection rate = Rate of recidivism predicted overall\n",
    "# Demographic parity difference = max(STP) - min(STP)\n",
    "# Demographic parity ratio = min(STP) / max(STP) ( we want closer to 1)\n",
    "\n",
    "# Overall balanced accuracy = average recall over all response labels\n",
    "\n",
    "# False positive rate difference = max(FPR) - min(FPR)\n",
    "# False negative rate difference = max(FNR) - min(FNR)\n",
    "# Equalized odds difference = max( max(TNR) - min(TNR), max(TPR) - max(TNR) )\n",
    "\n",
    "# Overall AUC = Overall AUC of classifier\n",
    "\n",
    "from fairlearn.metrics import (\n",
    "    MetricFrame,\n",
    "    selection_rate, demographic_parity_difference, demographic_parity_ratio,\n",
    "    false_positive_rate, false_negative_rate, true_positive_rate,\n",
    "    false_positive_rate_difference, false_negative_rate_difference, equalized_odds_difference)\n",
    "from sklearn.metrics import balanced_accuracy_score, roc_auc_score\n",
    "\n",
    "# Helper functions\n",
    "def get_metrics_df(models_dict, y_true, group):\n",
    "    metrics_dict = {\n",
    "        \"Overall selection rate\": (\n",
    "            lambda x: selection_rate(y_true, x)),\n",
    "        \"Demographic parity difference\": (\n",
    "            lambda x: demographic_parity_difference(y_true, x, sensitive_features=group)),\n",
    "        \"Demographic parity ratio\": (\n",
    "            lambda x: demographic_parity_ratio(y_true, x, sensitive_features=group)),\n",
    "        \"Overall balanced accuracy\": (\n",
    "            lambda x: balanced_accuracy_score(y_true, x)),\n",
    "        \"False positive rate difference\": (\n",
    "            lambda x: false_positive_rate_difference(y_true, x, sensitive_features=group)),\n",
    "        \"False negative rate difference\": (\n",
    "            lambda x: false_negative_rate_difference(y_true, x, sensitive_features=group)),\n",
    "        \"Equalized odds difference\": (\n",
    "            lambda x: equalized_odds_difference(y_true, x, sensitive_features=group)),\n",
    "        \"Overall AUC\": (\n",
    "            lambda x: roc_auc_score(y_true, x))\n",
    "    }\n",
    "    df_dict = {}\n",
    "    for metric_name, metric_func in metrics_dict.items():\n",
    "        df_dict[metric_name] = [metric_func(preds) for model_name, preds in models_dict.items()]\n",
    "    return pd.DataFrame.from_dict(df_dict, orient=\"index\", columns=models_dict.keys())"
   ]
  },
  {
   "cell_type": "code",
   "execution_count": 104,
   "id": "violent-vertex",
   "metadata": {},
   "outputs": [
    {
     "data": {
      "text/html": [
       "<div>\n",
       "<style scoped>\n",
       "    .dataframe tbody tr th:only-of-type {\n",
       "        vertical-align: middle;\n",
       "    }\n",
       "\n",
       "    .dataframe tbody tr th {\n",
       "        vertical-align: top;\n",
       "    }\n",
       "\n",
       "    .dataframe thead th {\n",
       "        text-align: right;\n",
       "    }\n",
       "</style>\n",
       "<table border=\"1\" class=\"dataframe\">\n",
       "  <thead>\n",
       "    <tr style=\"text-align: right;\">\n",
       "      <th></th>\n",
       "      <th>Unaware</th>\n",
       "      <th>DIR</th>\n",
       "      <th>DIR + LFR</th>\n",
       "    </tr>\n",
       "  </thead>\n",
       "  <tbody>\n",
       "    <tr>\n",
       "      <th>Overall selection rate</th>\n",
       "      <td>0.401386</td>\n",
       "      <td>0.398614</td>\n",
       "      <td>0.388453</td>\n",
       "    </tr>\n",
       "    <tr>\n",
       "      <th>Demographic parity difference</th>\n",
       "      <td>0.252686</td>\n",
       "      <td>0.271123</td>\n",
       "      <td>0.274115</td>\n",
       "    </tr>\n",
       "    <tr>\n",
       "      <th>Demographic parity ratio</th>\n",
       "      <td>0.502823</td>\n",
       "      <td>0.474127</td>\n",
       "      <td>0.447724</td>\n",
       "    </tr>\n",
       "    <tr>\n",
       "      <th>Overall balanced accuracy</th>\n",
       "      <td>0.644818</td>\n",
       "      <td>0.647341</td>\n",
       "      <td>0.647264</td>\n",
       "    </tr>\n",
       "    <tr>\n",
       "      <th>False positive rate difference</th>\n",
       "      <td>0.140167</td>\n",
       "      <td>0.165352</td>\n",
       "      <td>0.177655</td>\n",
       "    </tr>\n",
       "    <tr>\n",
       "      <th>False negative rate difference</th>\n",
       "      <td>0.309548</td>\n",
       "      <td>0.301496</td>\n",
       "      <td>0.283702</td>\n",
       "    </tr>\n",
       "    <tr>\n",
       "      <th>Equalized odds difference</th>\n",
       "      <td>0.309548</td>\n",
       "      <td>0.301496</td>\n",
       "      <td>0.283702</td>\n",
       "    </tr>\n",
       "    <tr>\n",
       "      <th>Overall AUC</th>\n",
       "      <td>0.644818</td>\n",
       "      <td>0.647341</td>\n",
       "      <td>0.647264</td>\n",
       "    </tr>\n",
       "  </tbody>\n",
       "</table>\n",
       "</div>"
      ],
      "text/plain": [
       "                                 Unaware       DIR  DIR + LFR\n",
       "Overall selection rate          0.401386  0.398614   0.388453\n",
       "Demographic parity difference   0.252686  0.271123   0.274115\n",
       "Demographic parity ratio        0.502823  0.474127   0.447724\n",
       "Overall balanced accuracy       0.644818  0.647341   0.647264\n",
       "False positive rate difference  0.140167  0.165352   0.177655\n",
       "False negative rate difference  0.309548  0.301496   0.283702\n",
       "Equalized odds difference       0.309548  0.301496   0.283702\n",
       "Overall AUC                     0.644818  0.647341   0.647264"
      ]
     },
     "execution_count": 104,
     "metadata": {},
     "output_type": "execute_result"
    }
   ],
   "source": [
    "# From Unaware to DIR + LFR, we see\n",
    "\n",
    "# 1. Virtually no change in AUC and error rate (model performance)\n",
    "# 2. Better Demographic parity (both difference and ratio)\n",
    "models_dict = {\n",
    "    \"Unaware\": unaware_y_preds, \n",
    "    \"DIR\": aware_y_preds,\n",
    "    \"DIR + LFR\": more_aware_y_preds\n",
    "}\n",
    "get_metrics_df(models_dict, y_test, race_test)"
   ]
  },
  {
   "cell_type": "code",
   "execution_count": null,
   "id": "bf8c7cfb",
   "metadata": {},
   "outputs": [],
   "source": []
  }
 ],
 "metadata": {
  "kernelspec": {
   "display_name": "Python 3 (ipykernel)",
   "language": "python",
   "name": "python3"
  },
  "language_info": {
   "codemirror_mode": {
    "name": "ipython",
    "version": 3
   },
   "file_extension": ".py",
   "mimetype": "text/x-python",
   "name": "python",
   "nbconvert_exporter": "python",
   "pygments_lexer": "ipython3",
   "version": "3.9.10"
  }
 },
 "nbformat": 4,
 "nbformat_minor": 5
}
